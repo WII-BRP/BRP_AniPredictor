{
 "cells": [
  {
   "cell_type": "code",
   "execution_count": 14,
   "id": "51ef8b9a-c24a-4c93-b99d-78b2e3b0eac3",
   "metadata": {},
   "outputs": [],
   "source": [
    "import os\n",
    "import random\n",
    "import shutil"
   ]
  },
  {
   "cell_type": "code",
   "execution_count": 18,
   "id": "1e18f46b-a163-41f2-9885-49e6680a67a7",
   "metadata": {},
   "outputs": [],
   "source": [
    "data_path = r\"C:\\Users\\Hp\\Desktop\\Segregated files IDWH_JC\"\n",
    "dest_path = r\"C:\\Users\\Hp\\Desktop\\Segregated files IDWH_JC\\All Data\\train\\Others\"\n",
    "train_path = r\"\"\n",
    "test_path = r\"\"\n",
    "\n",
    "if not os.path.exists(dest_path):\n",
    "    os.makedirs(dest_path)"
   ]
  },
  {
   "cell_type": "code",
   "execution_count": 4,
   "id": "9508cb55-cb31-4861-bb28-2ff942ce6e24",
   "metadata": {},
   "outputs": [],
   "source": [
    "folders = os.listdir(data_path)\n",
    "folders.remove(\"All Data\")"
   ]
  },
  {
   "cell_type": "code",
   "execution_count": 23,
   "id": "d8be1f7d-7aac-4721-8133-f43aee6217e4",
   "metadata": {},
   "outputs": [
    {
     "name": "stdout",
     "output_type": "stream",
     "text": [
      "36\n",
      "50\n"
     ]
    },
    {
     "ename": "FileNotFoundError",
     "evalue": "[WinError 3] The system cannot find the path specified: 'C:\\\\Users\\\\Hp\\\\Desktop\\\\Segregated files IDWH_JC\\\\3_SG57\\\\Others'",
     "output_type": "error",
     "traceback": [
      "\u001b[1;31m---------------------------------------------------------------------------\u001b[0m",
      "\u001b[1;31mFileNotFoundError\u001b[0m                         Traceback (most recent call last)",
      "Cell \u001b[1;32mIn[23], line 3\u001b[0m\n\u001b[0;32m      1\u001b[0m \u001b[38;5;28;01mfor\u001b[39;00m folder \u001b[38;5;129;01min\u001b[39;00m folders:\n\u001b[0;32m      2\u001b[0m     stone_path \u001b[38;5;241m=\u001b[39m os\u001b[38;5;241m.\u001b[39mpath\u001b[38;5;241m.\u001b[39mjoin(data_path, folder, \u001b[38;5;124m\"\u001b[39m\u001b[38;5;124mOthers\u001b[39m\u001b[38;5;124m\"\u001b[39m)\n\u001b[1;32m----> 3\u001b[0m     images \u001b[38;5;241m=\u001b[39m \u001b[43mos\u001b[49m\u001b[38;5;241;43m.\u001b[39;49m\u001b[43mlistdir\u001b[49m\u001b[43m(\u001b[49m\u001b[43mstone_path\u001b[49m\u001b[43m)\u001b[49m\n\u001b[0;32m      4\u001b[0m     num \u001b[38;5;241m=\u001b[39m \u001b[38;5;28mlen\u001b[39m(images)\n\u001b[0;32m      5\u001b[0m     selected_images \u001b[38;5;241m=\u001b[39m random\u001b[38;5;241m.\u001b[39msample(images, num)\n",
      "\u001b[1;31mFileNotFoundError\u001b[0m: [WinError 3] The system cannot find the path specified: 'C:\\\\Users\\\\Hp\\\\Desktop\\\\Segregated files IDWH_JC\\\\3_SG57\\\\Others'"
     ]
    }
   ],
   "source": [
    "for folder in folders:\n",
    "    stone_path = os.path.join(data_path, folder, \"Others\")\n",
    "    images = os.listdir(stone_path)\n",
    "    num = len(images)\n",
    "    selected_images = random.sample(images, num)\n",
    "    print(len(selected_images))\n",
    "    for image in selected_images:\n",
    "        image_path = os.path.join(stone_path, image)\n",
    "        shutil.copy(image_path, dest_path)"
   ]
  },
  {
   "cell_type": "code",
   "execution_count": 16,
   "id": "2acf42d4-33ae-4428-9387-ee413ccad296",
   "metadata": {},
   "outputs": [
    {
     "data": {
      "text/plain": [
       "4178"
      ]
     },
     "execution_count": 16,
     "metadata": {},
     "output_type": "execute_result"
    }
   ],
   "source": [
    "len(os.listdir(dest_path))"
   ]
  },
  {
   "cell_type": "markdown",
   "id": "1a99a5e6-2714-4d00-b287-ca19bf2e94d8",
   "metadata": {},
   "source": [
    "## Split train and test"
   ]
  },
  {
   "cell_type": "code",
   "execution_count": 24,
   "id": "b82d3e30-5736-4864-bcbc-d1feeb02a4f3",
   "metadata": {},
   "outputs": [],
   "source": [
    "test_dir = r\"C:\\Users\\Hp\\Desktop\\Segregated files IDWH_JC\\All Data\\test\"\n",
    "train_dir = r\"C:\\Users\\Hp\\Desktop\\Segregated files IDWH_JC\\All Data\\train\""
   ]
  },
  {
   "cell_type": "code",
   "execution_count": 29,
   "id": "730b4ebd-32eb-4b3a-b46b-a08dbfd83561",
   "metadata": {},
   "outputs": [
    {
     "ename": "PermissionError",
     "evalue": "[Errno 13] Permission denied: 'C:\\\\Users\\\\Hp\\\\Desktop\\\\Segregated files IDWH_JC\\\\All Data\\\\train\\\\Animal'",
     "output_type": "error",
     "traceback": [
      "\u001b[1;31m---------------------------------------------------------------------------\u001b[0m",
      "\u001b[1;31mPermissionError\u001b[0m                           Traceback (most recent call last)",
      "Cell \u001b[1;32mIn[29], line 10\u001b[0m\n\u001b[0;32m      8\u001b[0m \u001b[38;5;28;01mfor\u001b[39;00m image \u001b[38;5;129;01min\u001b[39;00m test_images:\n\u001b[0;32m      9\u001b[0m     image_path \u001b[38;5;241m=\u001b[39m os\u001b[38;5;241m.\u001b[39mpath\u001b[38;5;241m.\u001b[39mjoin(spec_path, image)\n\u001b[1;32m---> 10\u001b[0m     \u001b[43mshutil\u001b[49m\u001b[38;5;241;43m.\u001b[39;49m\u001b[43mcopy\u001b[49m\u001b[43m(\u001b[49m\u001b[43mspec_path\u001b[49m\u001b[43m,\u001b[49m\u001b[43m \u001b[49m\u001b[43mshift_path\u001b[49m\u001b[43m)\u001b[49m\n",
      "File \u001b[1;32m~\\anaconda3\\envs\\cameratraps-env\\lib\\shutil.py:418\u001b[0m, in \u001b[0;36mcopy\u001b[1;34m(src, dst, follow_symlinks)\u001b[0m\n\u001b[0;32m    416\u001b[0m \u001b[38;5;28;01mif\u001b[39;00m os\u001b[38;5;241m.\u001b[39mpath\u001b[38;5;241m.\u001b[39misdir(dst):\n\u001b[0;32m    417\u001b[0m     dst \u001b[38;5;241m=\u001b[39m os\u001b[38;5;241m.\u001b[39mpath\u001b[38;5;241m.\u001b[39mjoin(dst, os\u001b[38;5;241m.\u001b[39mpath\u001b[38;5;241m.\u001b[39mbasename(src))\n\u001b[1;32m--> 418\u001b[0m \u001b[43mcopyfile\u001b[49m\u001b[43m(\u001b[49m\u001b[43msrc\u001b[49m\u001b[43m,\u001b[49m\u001b[43m \u001b[49m\u001b[43mdst\u001b[49m\u001b[43m,\u001b[49m\u001b[43m \u001b[49m\u001b[43mfollow_symlinks\u001b[49m\u001b[38;5;241;43m=\u001b[39;49m\u001b[43mfollow_symlinks\u001b[49m\u001b[43m)\u001b[49m\n\u001b[0;32m    419\u001b[0m copymode(src, dst, follow_symlinks\u001b[38;5;241m=\u001b[39mfollow_symlinks)\n\u001b[0;32m    420\u001b[0m \u001b[38;5;28;01mreturn\u001b[39;00m dst\n",
      "File \u001b[1;32m~\\anaconda3\\envs\\cameratraps-env\\lib\\shutil.py:264\u001b[0m, in \u001b[0;36mcopyfile\u001b[1;34m(src, dst, follow_symlinks)\u001b[0m\n\u001b[0;32m    262\u001b[0m     os\u001b[38;5;241m.\u001b[39msymlink(os\u001b[38;5;241m.\u001b[39mreadlink(src), dst)\n\u001b[0;32m    263\u001b[0m \u001b[38;5;28;01melse\u001b[39;00m:\n\u001b[1;32m--> 264\u001b[0m     \u001b[38;5;28;01mwith\u001b[39;00m \u001b[38;5;28;43mopen\u001b[39;49m\u001b[43m(\u001b[49m\u001b[43msrc\u001b[49m\u001b[43m,\u001b[49m\u001b[43m \u001b[49m\u001b[38;5;124;43m'\u001b[39;49m\u001b[38;5;124;43mrb\u001b[39;49m\u001b[38;5;124;43m'\u001b[39;49m\u001b[43m)\u001b[49m \u001b[38;5;28;01mas\u001b[39;00m fsrc, \u001b[38;5;28mopen\u001b[39m(dst, \u001b[38;5;124m'\u001b[39m\u001b[38;5;124mwb\u001b[39m\u001b[38;5;124m'\u001b[39m) \u001b[38;5;28;01mas\u001b[39;00m fdst:\n\u001b[0;32m    265\u001b[0m         \u001b[38;5;66;03m# macOS\u001b[39;00m\n\u001b[0;32m    266\u001b[0m         \u001b[38;5;28;01mif\u001b[39;00m _HAS_FCOPYFILE:\n\u001b[0;32m    267\u001b[0m             \u001b[38;5;28;01mtry\u001b[39;00m:\n",
      "\u001b[1;31mPermissionError\u001b[0m: [Errno 13] Permission denied: 'C:\\\\Users\\\\Hp\\\\Desktop\\\\Segregated files IDWH_JC\\\\All Data\\\\train\\\\Animal'"
     ]
    }
   ],
   "source": [
    "classes = os.listdir(train_dir)\n",
    "for spec in classes:\n",
    "    spec_path = os.path.join(train_dir, spec)\n",
    "    shift_path = os.path.join(test_dir, spec)\n",
    "    images = os.listdir(spec_path)\n",
    "    num = int(0.2*(len(images)))\n",
    "    test_images = random.sample(images, num)\n",
    "    for image in test_images:\n",
    "        image_path = os.path.join(spec_path, image)\n",
    "        shutil.copy(spec_path, shift_path)"
   ]
  },
  {
   "cell_type": "code",
   "execution_count": null,
   "id": "79e7e9c7-d2ed-407c-902b-0306e97db821",
   "metadata": {},
   "outputs": [],
   "source": []
  },
  {
   "cell_type": "markdown",
   "id": "2317884c-b982-4744-9dd8-60944ae48f87",
   "metadata": {},
   "source": [
    "## Train Model\n"
   ]
  },
  {
   "cell_type": "code",
   "execution_count": null,
   "id": "bef46c0d-4b07-44ff-b8fa-021216164e2d",
   "metadata": {},
   "outputs": [],
   "source": []
  }
 ],
 "metadata": {
  "kernelspec": {
   "display_name": "Python [conda env:cameratraps-env] *",
   "language": "python",
   "name": "conda-env-cameratraps-env-py"
  },
  "language_info": {
   "codemirror_mode": {
    "name": "ipython",
    "version": 3
   },
   "file_extension": ".py",
   "mimetype": "text/x-python",
   "name": "python",
   "nbconvert_exporter": "python",
   "pygments_lexer": "ipython3",
   "version": "3.8.15"
  }
 },
 "nbformat": 4,
 "nbformat_minor": 5
}
