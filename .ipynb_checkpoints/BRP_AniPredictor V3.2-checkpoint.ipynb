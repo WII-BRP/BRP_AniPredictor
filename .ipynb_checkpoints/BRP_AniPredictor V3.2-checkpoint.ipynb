{
 "cells": [
  {
   "cell_type": "code",
   "execution_count": 1,
   "id": "a168f95f-82a3-408d-9984-05215135e3e0",
   "metadata": {},
   "outputs": [],
   "source": [
    "exiftool_path = r\"C:\\Windows\\exiftool.exe\"\n",
    "input_dir = r\"D:\\Trial\\Sudasari B\\Sudasari B2\\Test_14022024\"\n",
    "dest_dir = r\"G:\\Guzzler_data\\Sorted_guzzler_data\\2020\\SudasariACD\\A\\20200321_165610__to__20200505_124728\"\n",
    "Station = \"SudasariACD\"\n",
    "Camera = \"B\"\n",
    "latitude = 26.723574  # Replace with your latitude\n",
    "longitude = 70.634269  # Replace with your longitude"
   ]
  },
  {
   "cell_type": "code",
   "execution_count": 2,
   "id": "31da0b8d-53f7-4bbf-98e0-3f2a7f1105c3",
   "metadata": {},
   "outputs": [],
   "source": [
    "#### Function for find corrupt files\n",
    "import os\n",
    "\n",
    "def list_corrupt_files_in_directory(directory):\n",
    "    corrupt_files=[]\n",
    "    for root, dirs, files in os.walk(directory):\n",
    "        for file in files:\n",
    "            file_path = os.path.join(root, file)\n",
    "            try:\n",
    "                # Use the os.path.getsize() method to check if the file is empty or very small\n",
    "                file_size = os.path.getsize(file_path)\n",
    "                if file_size < 10:  # Adjust the threshold as needed\n",
    "                    corrupt_files.append(file_path)\n",
    "                    print(f\"Corrupt file: {file_path}\")\n",
    "                else:\n",
    "                    continue\n",
    "            except Exception as e:\n",
    "                # Handle other exceptions that might occur\n",
    "                print(f\"Error processing file {file_path}: {e}\")\n",
    "    return corrupt_files"
   ]
  },
  {
   "cell_type": "code",
   "execution_count": 3,
   "id": "c60bbf3a-f3f4-425d-9095-80ef09db4144",
   "metadata": {},
   "outputs": [
    {
     "name": "stdout",
     "output_type": "stream",
     "text": [
      "Corrupt files : 0 images removed\n"
     ]
    }
   ],
   "source": [
    "#### Find and delete corrupt photos\n",
    "\n",
    "corrupt_files=list_corrupt_files_in_directory(input_dir)\n",
    "if len(corrupt_files) > 0:\n",
    "    for c in corrupt_files:\n",
    "        os.remove(c)\n",
    "print(f\"Corrupt files : {len(corrupt_files)} images removed\")"
   ]
  },
  {
   "cell_type": "code",
   "execution_count": 3,
   "id": "e2664b67-e088-4de1-bc97-1df76be3de7b",
   "metadata": {},
   "outputs": [
    {
     "data": {
      "text/plain": [
       "['F:\\\\Pred_Estimation_2023\\\\PPC\\\\331_117_3_4298\\\\1_13_2024\\\\100CUDDY\\\\I_00035b.JPG',\n",
       " 'F:\\\\Pred_Estimation_2023\\\\PPC\\\\331_117_3_4298\\\\1_13_2024\\\\100CUDDY\\\\I_00035c.JPG',\n",
       " 'F:\\\\Pred_Estimation_2023\\\\PPC\\\\331_117_3_4298\\\\1_13_2024\\\\100CUDDY\\\\I_00035d.JPG',\n",
       " 'F:\\\\Pred_Estimation_2023\\\\PPC\\\\331_117_3_4298\\\\1_13_2024\\\\100CUDDY\\\\I_00035e.JPG',\n",
       " 'F:\\\\Pred_Estimation_2023\\\\PPC\\\\331_117_3_4298\\\\1_13_2024\\\\100CUDDY\\\\I_00137c.JPG',\n",
       " 'F:\\\\Pred_Estimation_2023\\\\PPC\\\\331_117_3_4298\\\\1_13_2024\\\\100CUDDY\\\\I_00138b.JPG',\n",
       " 'F:\\\\Pred_Estimation_2023\\\\PPC\\\\331_117_3_4298\\\\1_13_2024\\\\100CUDDY\\\\I_00138c.JPG',\n",
       " 'F:\\\\Pred_Estimation_2023\\\\PPC\\\\331_117_3_4298\\\\1_13_2024\\\\100CUDDY\\\\I_00138d.JPG',\n",
       " 'F:\\\\Pred_Estimation_2023\\\\PPC\\\\331_117_3_4298\\\\1_13_2024\\\\100CUDDY\\\\I_00138e.JPG',\n",
       " 'F:\\\\Pred_Estimation_2023\\\\PPC\\\\331_117_3_4298\\\\1_13_2024\\\\100CUDDY\\\\I_00140c.JPG',\n",
       " 'F:\\\\Pred_Estimation_2023\\\\PPC\\\\331_117_3_4298\\\\1_13_2024\\\\100CUDDY\\\\I_00140d.JPG',\n",
       " 'F:\\\\Pred_Estimation_2023\\\\PPC\\\\331_117_3_4298\\\\1_13_2024\\\\100CUDDY\\\\I_00140e.JPG',\n",
       " 'F:\\\\Pred_Estimation_2023\\\\PPC\\\\331_117_3_4298\\\\1_13_2024\\\\100CUDDY\\\\I_00152e.JPG',\n",
       " 'F:\\\\Pred_Estimation_2023\\\\PPC\\\\331_117_3_4298\\\\1_13_2024\\\\100CUDDY\\\\Cropped_images\\\\Human\\\\3_0.908_0.9900000095367432_I__00000.JPG',\n",
       " 'F:\\\\Pred_Estimation_2023\\\\PPC\\\\331_117_3_4298\\\\1_13_2024\\\\100CUDDY\\\\Cropped_images\\\\Human\\\\4_0.949_1.0_I__00000.JPG',\n",
       " 'F:\\\\Pred_Estimation_2023\\\\PPC\\\\331_117_3_4298\\\\1_13_2024\\\\100CUDDY\\\\Cropped_images\\\\Human\\\\5_0.871_0.9900000095367432_I__00001.JPG',\n",
       " 'F:\\\\Pred_Estimation_2023\\\\PPC\\\\331_117_3_4298\\\\1_13_2024\\\\100CUDDY\\\\Cropped_images\\\\Human\\\\6_0.949_0.9900000095367432_I__00001.JPG',\n",
       " 'F:\\\\Pred_Estimation_2023\\\\PPC\\\\331_117_3_4298\\\\1_13_2024\\\\100CUDDY\\\\Cropped_images\\\\Human\\\\2_0.909_0.9800000190734863_I__00002.JPG',\n",
       " 'F:\\\\Pred_Estimation_2023\\\\PPC\\\\331_117_3_4298\\\\1_13_2024\\\\100CUDDY\\\\Cropped_images\\\\Human\\\\3_0.951_0.9599999785423279_I__00002.JPG',\n",
       " 'F:\\\\Pred_Estimation_2023\\\\PPC\\\\331_117_3_4298\\\\1_13_2024\\\\100CUDDY\\\\Cropped_images\\\\Human\\\\5_0.908_0.9900000095367432_I__00003.JPG',\n",
       " 'F:\\\\Pred_Estimation_2023\\\\PPC\\\\331_117_3_4298\\\\1_13_2024\\\\100CUDDY\\\\Cropped_images\\\\Human\\\\6_0.95_0.9900000095367432_I__00003.JPG',\n",
       " 'F:\\\\Pred_Estimation_2023\\\\PPC\\\\331_117_3_4298\\\\1_13_2024\\\\100CUDDY\\\\Cropped_images\\\\Human\\\\2_0.842_1.0_I__00004.JPG',\n",
       " 'F:\\\\Pred_Estimation_2023\\\\PPC\\\\331_117_3_4298\\\\1_13_2024\\\\100CUDDY\\\\Cropped_images\\\\Human\\\\3_0.954_0.949999988079071_I__00004.JPG',\n",
       " 'F:\\\\Pred_Estimation_2023\\\\PPC\\\\331_117_3_4298\\\\1_13_2024\\\\100CUDDY\\\\Cropped_images\\\\Human\\\\5_0.827_0.9800000190734863_I__00005.JPG',\n",
       " 'F:\\\\Pred_Estimation_2023\\\\PPC\\\\331_117_3_4298\\\\1_13_2024\\\\100CUDDY\\\\Cropped_images\\\\Human\\\\6_0.921_0.9300000071525574_I__00005.JPG',\n",
       " 'F:\\\\Pred_Estimation_2023\\\\PPC\\\\331_117_3_4298\\\\1_13_2024\\\\100CUDDY\\\\Cropped_images\\\\Human\\\\4_0.904_0.9900000095367432_I__00006.JPG',\n",
       " 'F:\\\\Pred_Estimation_2023\\\\PPC\\\\331_117_3_4298\\\\1_13_2024\\\\100CUDDY\\\\Cropped_images\\\\Human\\\\5_0.956_0.9900000095367432_I__00006.JPG',\n",
       " 'F:\\\\Pred_Estimation_2023\\\\PPC\\\\331_117_3_4298\\\\1_13_2024\\\\100CUDDY\\\\Cropped_images\\\\Human\\\\4_0.915_1.0_I__00007.JPG',\n",
       " 'F:\\\\Pred_Estimation_2023\\\\PPC\\\\331_117_3_4298\\\\1_13_2024\\\\100CUDDY\\\\Cropped_images\\\\Human\\\\5_0.945_0.9800000190734863_I__00007.JPG',\n",
       " 'F:\\\\Pred_Estimation_2023\\\\PPC\\\\331_117_3_4298\\\\1_13_2024\\\\100CUDDY\\\\Cropped_images\\\\Human\\\\3_0.907_1.0_I__00008.JPG',\n",
       " 'F:\\\\Pred_Estimation_2023\\\\PPC\\\\331_117_3_4298\\\\1_13_2024\\\\100CUDDY\\\\Cropped_images\\\\Human\\\\4_0.949_1.0_I__00008.JPG',\n",
       " 'F:\\\\Pred_Estimation_2023\\\\PPC\\\\331_117_3_4298\\\\1_13_2024\\\\100CUDDY\\\\Cropped_images\\\\Human\\\\3_0.908_0.9900000095367432_I__00009.JPG',\n",
       " 'F:\\\\Pred_Estimation_2023\\\\PPC\\\\331_117_3_4298\\\\1_13_2024\\\\100CUDDY\\\\Cropped_images\\\\Human\\\\4_0.949_1.0_I__00009.JPG',\n",
       " 'F:\\\\Pred_Estimation_2023\\\\PPC\\\\331_117_3_4298\\\\1_13_2024\\\\100CUDDY\\\\Cropped_images\\\\Human\\\\5_0.871_0.9900000095367432_I__00010.JPG',\n",
       " 'F:\\\\Pred_Estimation_2023\\\\PPC\\\\331_117_3_4298\\\\1_13_2024\\\\100CUDDY\\\\Cropped_images\\\\Human\\\\6_0.949_0.9900000095367432_I__00010.JPG',\n",
       " 'F:\\\\Pred_Estimation_2023\\\\PPC\\\\331_117_3_4298\\\\1_13_2024\\\\100CUDDY\\\\Cropped_images\\\\Human\\\\2_0.909_0.9800000190734863_I__00011.JPG',\n",
       " 'F:\\\\Pred_Estimation_2023\\\\PPC\\\\331_117_3_4298\\\\1_13_2024\\\\100CUDDY\\\\Cropped_images\\\\Human\\\\3_0.951_0.9599999785423279_I__00011.JPG',\n",
       " 'F:\\\\Pred_Estimation_2023\\\\PPC\\\\331_117_3_4298\\\\1_13_2024\\\\100CUDDY\\\\Cropped_images\\\\Human\\\\5_0.908_0.9900000095367432_I__00012.JPG',\n",
       " 'F:\\\\Pred_Estimation_2023\\\\PPC\\\\331_117_3_4298\\\\1_13_2024\\\\100CUDDY\\\\Cropped_images\\\\Human\\\\6_0.95_0.9900000095367432_I__00012.JPG',\n",
       " 'F:\\\\Pred_Estimation_2023\\\\PPC\\\\331_117_3_4298\\\\1_13_2024\\\\100CUDDY\\\\Cropped_images\\\\Human\\\\2_0.842_1.0_I__00013.JPG',\n",
       " 'F:\\\\Pred_Estimation_2023\\\\PPC\\\\331_117_3_4298\\\\1_13_2024\\\\100CUDDY\\\\Cropped_images\\\\Human\\\\3_0.954_0.949999988079071_I__00013.JPG',\n",
       " 'F:\\\\Pred_Estimation_2023\\\\PPC\\\\331_117_3_4298\\\\1_13_2024\\\\100CUDDY\\\\Cropped_images\\\\Human\\\\5_0.827_0.9800000190734863_I__00014.JPG',\n",
       " 'F:\\\\Pred_Estimation_2023\\\\PPC\\\\331_117_3_4298\\\\1_13_2024\\\\100CUDDY\\\\Cropped_images\\\\Human\\\\6_0.921_0.9300000071525574_I__00014.JPG',\n",
       " 'F:\\\\Pred_Estimation_2023\\\\PPC\\\\331_117_3_4298\\\\1_13_2024\\\\100CUDDY\\\\Cropped_images\\\\Human\\\\4_0.904_0.9900000095367432_I__00015.JPG',\n",
       " 'F:\\\\Pred_Estimation_2023\\\\PPC\\\\331_117_3_4298\\\\1_13_2024\\\\100CUDDY\\\\Cropped_images\\\\Human\\\\5_0.956_0.9900000095367432_I__00015.JPG',\n",
       " 'F:\\\\Pred_Estimation_2023\\\\PPC\\\\331_117_3_4298\\\\1_13_2024\\\\100CUDDY\\\\Cropped_images\\\\Human\\\\4_0.915_1.0_I__00016.JPG',\n",
       " 'F:\\\\Pred_Estimation_2023\\\\PPC\\\\331_117_3_4298\\\\1_13_2024\\\\100CUDDY\\\\Cropped_images\\\\Human\\\\5_0.945_0.9800000190734863_I__00016.JPG',\n",
       " 'F:\\\\Pred_Estimation_2023\\\\PPC\\\\331_117_3_4298\\\\1_13_2024\\\\100CUDDY\\\\Cropped_images\\\\Human\\\\3_0.907_1.0_I__00017.JPG',\n",
       " 'F:\\\\Pred_Estimation_2023\\\\PPC\\\\331_117_3_4298\\\\1_13_2024\\\\100CUDDY\\\\Cropped_images\\\\Human\\\\4_0.949_1.0_I__00017.JPG',\n",
       " 'F:\\\\Pred_Estimation_2023\\\\PPC\\\\331_117_3_4298\\\\1_13_2024\\\\100CUDDY\\\\Cropped_images\\\\Human\\\\3_0.917_1.0_I__00018.JPG',\n",
       " 'F:\\\\Pred_Estimation_2023\\\\PPC\\\\331_117_3_4298\\\\1_13_2024\\\\100CUDDY\\\\Cropped_images\\\\Human\\\\4_0.947_1.0_I__00018.JPG',\n",
       " 'F:\\\\Pred_Estimation_2023\\\\PPC\\\\331_117_3_4298\\\\1_13_2024\\\\100CUDDY\\\\Cropped_images\\\\Human\\\\3_0.935_1.0_I__00019.JPG',\n",
       " 'F:\\\\Pred_Estimation_2023\\\\PPC\\\\331_117_3_4298\\\\1_13_2024\\\\100CUDDY\\\\Cropped_images\\\\Human\\\\4_0.94_1.0_I__00019.JPG',\n",
       " 'F:\\\\Pred_Estimation_2023\\\\PPC\\\\331_117_3_4298\\\\1_13_2024\\\\100CUDDY\\\\Cropped_images\\\\Human\\\\2_0.93_1.0_I__00020.JPG',\n",
       " 'F:\\\\Pred_Estimation_2023\\\\PPC\\\\331_117_3_4298\\\\1_13_2024\\\\100CUDDY\\\\Cropped_images\\\\Human\\\\3_0.951_1.0_I__00020.JPG',\n",
       " 'F:\\\\Pred_Estimation_2023\\\\PPC\\\\331_117_3_4298\\\\1_13_2024\\\\100CUDDY\\\\Cropped_images\\\\Human\\\\3_0.921_1.0_I__00021.JPG',\n",
       " 'F:\\\\Pred_Estimation_2023\\\\PPC\\\\331_117_3_4298\\\\1_13_2024\\\\100CUDDY\\\\Cropped_images\\\\Human\\\\4_0.948_1.0_I__00021.JPG',\n",
       " 'F:\\\\Pred_Estimation_2023\\\\PPC\\\\331_117_3_4298\\\\1_13_2024\\\\100CUDDY\\\\Cropped_images\\\\Human\\\\3_0.871_0.9800000190734863_I__00022.JPG',\n",
       " 'F:\\\\Pred_Estimation_2023\\\\PPC\\\\331_117_3_4298\\\\1_13_2024\\\\100CUDDY\\\\Cropped_images\\\\Human\\\\4_0.947_1.0_I__00022.JPG',\n",
       " 'F:\\\\Pred_Estimation_2023\\\\PPC\\\\331_117_3_4298\\\\1_13_2024\\\\100CUDDY\\\\Cropped_images\\\\Human\\\\3_0.877_0.9900000095367432_I__00023.JPG',\n",
       " 'F:\\\\Pred_Estimation_2023\\\\PPC\\\\331_117_3_4298\\\\1_13_2024\\\\100CUDDY\\\\Cropped_images\\\\Human\\\\4_0.948_1.0_I__00023.JPG',\n",
       " 'F:\\\\Pred_Estimation_2023\\\\PPC\\\\331_117_3_4298\\\\1_13_2024\\\\100CUDDY\\\\Cropped_images\\\\Human\\\\5_0.471_1.0_I__00024.JPG',\n",
       " 'F:\\\\Pred_Estimation_2023\\\\PPC\\\\331_117_3_4298\\\\1_13_2024\\\\100CUDDY\\\\Cropped_images\\\\Human\\\\6_0.931_0.9900000095367432_I__00024.JPG',\n",
       " 'F:\\\\Pred_Estimation_2023\\\\PPC\\\\331_117_3_4298\\\\1_13_2024\\\\100CUDDY\\\\Cropped_images\\\\Human\\\\5_0.899_0.9900000095367432_I__00025.JPG',\n",
       " 'F:\\\\Pred_Estimation_2023\\\\PPC\\\\331_117_3_4298\\\\1_13_2024\\\\100CUDDY\\\\Cropped_images\\\\Human\\\\6_0.926_0.9900000095367432_I__00025.JPG',\n",
       " 'F:\\\\Pred_Estimation_2023\\\\PPC\\\\331_117_3_4298\\\\1_13_2024\\\\100CUDDY\\\\Cropped_images\\\\Human\\\\4_0.924_1.0_I__00026.JPG',\n",
       " 'F:\\\\Pred_Estimation_2023\\\\PPC\\\\331_117_3_4298\\\\1_13_2024\\\\100CUDDY\\\\Cropped_images\\\\Human\\\\5_0.926_1.0_I__00026.JPG',\n",
       " 'F:\\\\Pred_Estimation_2023\\\\PPC\\\\331_117_3_4298\\\\1_13_2024\\\\100CUDDY\\\\Cropped_images\\\\Human\\\\3_0.91_1.0_I__00027.JPG',\n",
       " 'F:\\\\Pred_Estimation_2023\\\\PPC\\\\331_117_3_4298\\\\1_13_2024\\\\100CUDDY\\\\Cropped_images\\\\Human\\\\4_0.925_1.0_I__00027.JPG',\n",
       " 'F:\\\\Pred_Estimation_2023\\\\PPC\\\\331_117_3_4298\\\\1_13_2024\\\\100CUDDY\\\\Cropped_images\\\\Human\\\\5_0.918_1.0_I__00028.JPG',\n",
       " 'F:\\\\Pred_Estimation_2023\\\\PPC\\\\331_117_3_4298\\\\1_13_2024\\\\100CUDDY\\\\Cropped_images\\\\Human\\\\6_0.92_1.0_I__00028.JPG',\n",
       " 'F:\\\\Pred_Estimation_2023\\\\PPC\\\\331_117_3_4298\\\\1_13_2024\\\\100CUDDY\\\\Cropped_images\\\\Human\\\\7_0.893_1.0_I_00029a.JPG',\n",
       " 'F:\\\\Pred_Estimation_2023\\\\PPC\\\\331_117_3_4298\\\\1_13_2024\\\\100CUDDY\\\\Cropped_images\\\\Human\\\\8_0.932_1.0_I_00029a.JPG',\n",
       " 'F:\\\\Pred_Estimation_2023\\\\PPC\\\\331_117_3_4298\\\\1_13_2024\\\\100CUDDY\\\\Cropped_images\\\\Human\\\\7_0.893_1.0_I_00029b.JPG',\n",
       " 'F:\\\\Pred_Estimation_2023\\\\PPC\\\\331_117_3_4298\\\\1_13_2024\\\\100CUDDY\\\\Cropped_images\\\\Human\\\\7_0.885_1.0_I_00029c.JPG',\n",
       " 'F:\\\\Pred_Estimation_2023\\\\PPC\\\\331_117_3_4298\\\\1_13_2024\\\\100CUDDY\\\\Cropped_images\\\\Human\\\\8_0.948_1.0_I_00029d.JPG',\n",
       " 'F:\\\\Pred_Estimation_2023\\\\PPC\\\\331_117_3_4298\\\\1_13_2024\\\\100CUDDY\\\\Cropped_images\\\\Human\\\\6_0.909_0.9700000286102295_I_00029e.JPG',\n",
       " 'F:\\\\Pred_Estimation_2023\\\\PPC\\\\331_117_3_4298\\\\1_13_2024\\\\100CUDDY\\\\Cropped_images\\\\Human\\\\7_0.918_1.0_I_00029e.JPG',\n",
       " 'F:\\\\Pred_Estimation_2023\\\\PPC\\\\331_117_3_4298\\\\1_13_2024\\\\100CUDDY\\\\Cropped_images\\\\Human\\\\5_0.911_0.9900000095367432_I_00030a.JPG',\n",
       " 'F:\\\\Pred_Estimation_2023\\\\PPC\\\\331_117_3_4298\\\\1_13_2024\\\\100CUDDY\\\\Cropped_images\\\\Human\\\\6_0.937_1.0_I_00030a.JPG',\n",
       " 'F:\\\\Pred_Estimation_2023\\\\PPC\\\\331_117_3_4298\\\\1_13_2024\\\\100CUDDY\\\\Cropped_images\\\\Human\\\\6_0.896_1.0_I_00030b.JPG',\n",
       " 'F:\\\\Pred_Estimation_2023\\\\PPC\\\\331_117_3_4298\\\\1_13_2024\\\\100CUDDY\\\\Cropped_images\\\\Human\\\\7_0.933_1.0_I_00030b.JPG',\n",
       " 'F:\\\\Pred_Estimation_2023\\\\PPC\\\\331_117_3_4298\\\\1_13_2024\\\\100CUDDY\\\\Cropped_images\\\\Human\\\\7_0.892_1.0_I_00030c.JPG',\n",
       " 'F:\\\\Pred_Estimation_2023\\\\PPC\\\\331_117_3_4298\\\\1_13_2024\\\\100CUDDY\\\\Cropped_images\\\\Human\\\\8_0.919_1.0_I_00030c.JPG',\n",
       " 'F:\\\\Pred_Estimation_2023\\\\PPC\\\\331_117_3_4298\\\\1_13_2024\\\\100CUDDY\\\\Cropped_images\\\\Human\\\\8_0.906_1.0_I_00030d.JPG',\n",
       " 'F:\\\\Pred_Estimation_2023\\\\PPC\\\\331_117_3_4298\\\\1_13_2024\\\\100CUDDY\\\\Cropped_images\\\\Human\\\\9_0.924_1.0_I_00030d.JPG',\n",
       " 'F:\\\\Pred_Estimation_2023\\\\PPC\\\\331_117_3_4298\\\\1_13_2024\\\\100CUDDY\\\\Cropped_images\\\\Human\\\\2_0.87_1.0_I_00030e.JPG',\n",
       " 'F:\\\\Pred_Estimation_2023\\\\PPC\\\\331_117_3_4298\\\\1_13_2024\\\\100CUDDY\\\\Cropped_images\\\\Human\\\\3_0.892_0.8299999833106995_I_00030e.JPG',\n",
       " 'F:\\\\Pred_Estimation_2023\\\\PPC\\\\331_117_3_4298\\\\1_13_2024\\\\100CUDDY\\\\Cropped_images\\\\Human\\\\4_0.898_0.9900000095367432_I_00031a.JPG',\n",
       " 'F:\\\\Pred_Estimation_2023\\\\PPC\\\\331_117_3_4298\\\\1_13_2024\\\\100CUDDY\\\\Cropped_images\\\\Human\\\\4_0.832_1.0_I_00031b.JPG',\n",
       " 'F:\\\\Pred_Estimation_2023\\\\PPC\\\\331_117_3_4298\\\\1_13_2024\\\\100CUDDY\\\\Cropped_images\\\\Human\\\\5_0.921_0.9900000095367432_I_00031c.JPG',\n",
       " 'F:\\\\Pred_Estimation_2023\\\\PPC\\\\331_117_3_4298\\\\1_13_2024\\\\100CUDDY\\\\Cropped_images\\\\Human\\\\6_0.935_1.0_I_00031c.JPG',\n",
       " 'F:\\\\Pred_Estimation_2023\\\\PPC\\\\331_117_3_4298\\\\1_13_2024\\\\100CUDDY\\\\Cropped_images\\\\Human\\\\4_0.328_1.0_I_00031d.JPG',\n",
       " 'F:\\\\Pred_Estimation_2023\\\\PPC\\\\331_117_3_4298\\\\1_13_2024\\\\100CUDDY\\\\Cropped_images\\\\Human\\\\5_0.659_1.0_I_00031d.JPG',\n",
       " 'F:\\\\Pred_Estimation_2023\\\\PPC\\\\331_117_3_4298\\\\1_13_2024\\\\100CUDDY\\\\Cropped_images\\\\Human\\\\6_0.929_1.0_I_00031d.JPG',\n",
       " 'F:\\\\Pred_Estimation_2023\\\\PPC\\\\331_117_3_4298\\\\1_13_2024\\\\100CUDDY\\\\Cropped_images\\\\Human\\\\6_0.911_1.0_I_00031e.JPG',\n",
       " 'F:\\\\Pred_Estimation_2023\\\\PPC\\\\331_117_3_4298\\\\1_13_2024\\\\100CUDDY\\\\Cropped_images\\\\Human\\\\7_0.932_0.9800000190734863_I_00031e.JPG',\n",
       " 'F:\\\\Pred_Estimation_2023\\\\PPC\\\\331_117_3_4298\\\\1_13_2024\\\\100CUDDY\\\\Cropped_images\\\\Human\\\\4_0.303_1.0_I_00032a.JPG',\n",
       " 'F:\\\\Pred_Estimation_2023\\\\PPC\\\\331_117_3_4298\\\\1_13_2024\\\\100CUDDY\\\\Cropped_images\\\\Human\\\\5_0.388_1.0_I_00032a.JPG',\n",
       " 'F:\\\\Pred_Estimation_2023\\\\PPC\\\\331_117_3_4298\\\\1_13_2024\\\\100CUDDY\\\\Cropped_images\\\\Human\\\\4_0.394_1.0_I_00032b.JPG',\n",
       " 'F:\\\\Pred_Estimation_2023\\\\PPC\\\\331_117_3_4298\\\\1_13_2024\\\\100CUDDY\\\\Cropped_images\\\\Human\\\\5_0.47_1.0_I_00032b.JPG',\n",
       " 'F:\\\\Pred_Estimation_2023\\\\PPC\\\\331_117_3_4298\\\\1_13_2024\\\\100CUDDY\\\\Cropped_images\\\\Human\\\\6_0.842_0.8199999928474426_I_00032b.JPG',\n",
       " 'F:\\\\Pred_Estimation_2023\\\\PPC\\\\331_117_3_4298\\\\1_13_2024\\\\100CUDDY\\\\Cropped_images\\\\Human\\\\3_0.121_0.8700000047683716_I_00032c.JPG',\n",
       " 'F:\\\\Pred_Estimation_2023\\\\PPC\\\\331_117_3_4298\\\\1_13_2024\\\\100CUDDY\\\\Cropped_images\\\\Human\\\\4_0.709_0.9599999785423279_I_00032c.JPG',\n",
       " 'F:\\\\Pred_Estimation_2023\\\\PPC\\\\331_117_3_4298\\\\1_13_2024\\\\100CUDDY\\\\Cropped_images\\\\Human\\\\5_0.926_1.0_I_00032c.JPG',\n",
       " 'F:\\\\Pred_Estimation_2023\\\\PPC\\\\331_117_3_4298\\\\1_13_2024\\\\100CUDDY\\\\Cropped_images\\\\Human\\\\4_0.402_0.9700000286102295_I_00032d.JPG',\n",
       " 'F:\\\\Pred_Estimation_2023\\\\PPC\\\\331_117_3_4298\\\\1_13_2024\\\\100CUDDY\\\\Cropped_images\\\\Human\\\\5_0.502_0.8700000047683716_I_00032d.JPG',\n",
       " 'F:\\\\Pred_Estimation_2023\\\\PPC\\\\331_117_3_4298\\\\1_13_2024\\\\100CUDDY\\\\Cropped_images\\\\Human\\\\2_0.892_0.9599999785423279_I_00032e.JPG',\n",
       " 'F:\\\\Pred_Estimation_2023\\\\PPC\\\\331_117_3_4298\\\\1_13_2024\\\\100CUDDY\\\\Cropped_images\\\\Human\\\\5_0.922_1.0_I_00033a.JPG',\n",
       " 'F:\\\\Pred_Estimation_2023\\\\PPC\\\\331_117_3_4298\\\\1_13_2024\\\\100CUDDY\\\\Cropped_images\\\\Human\\\\6_0.933_0.9800000190734863_I_00033a.JPG',\n",
       " 'F:\\\\Pred_Estimation_2023\\\\PPC\\\\331_117_3_4298\\\\1_13_2024\\\\100CUDDY\\\\Cropped_images\\\\Human\\\\3_0.92_0.9900000095367432_I_00033b.JPG',\n",
       " 'F:\\\\Pred_Estimation_2023\\\\PPC\\\\331_117_3_4298\\\\1_13_2024\\\\100CUDDY\\\\Cropped_images\\\\Human\\\\4_0.951_0.9700000286102295_I_00033b.JPG',\n",
       " 'F:\\\\Pred_Estimation_2023\\\\PPC\\\\331_117_3_4298\\\\1_13_2024\\\\100CUDDY\\\\Cropped_images\\\\Human\\\\6_0.926_1.0_I_00033c.JPG',\n",
       " 'F:\\\\Pred_Estimation_2023\\\\PPC\\\\331_117_3_4298\\\\1_13_2024\\\\100CUDDY\\\\Cropped_images\\\\Human\\\\7_0.931_1.0_I_00033c.JPG',\n",
       " 'F:\\\\Pred_Estimation_2023\\\\PPC\\\\331_117_3_4298\\\\1_13_2024\\\\100CUDDY\\\\Cropped_images\\\\Human\\\\4_0.941_1.0_I_00033d.JPG',\n",
       " 'F:\\\\Pred_Estimation_2023\\\\PPC\\\\331_117_3_4298\\\\1_13_2024\\\\100CUDDY\\\\Cropped_images\\\\Human\\\\5_0.945_1.0_I_00033d.JPG',\n",
       " 'F:\\\\Pred_Estimation_2023\\\\PPC\\\\331_117_3_4298\\\\1_13_2024\\\\100CUDDY\\\\Cropped_images\\\\Human\\\\3_0.929_0.9900000095367432_I_00033e.JPG',\n",
       " 'F:\\\\Pred_Estimation_2023\\\\PPC\\\\331_117_3_4298\\\\1_13_2024\\\\100CUDDY\\\\Cropped_images\\\\Human\\\\4_0.937_0.9900000095367432_I_00033e.JPG',\n",
       " 'F:\\\\Pred_Estimation_2023\\\\PPC\\\\331_117_3_4298\\\\1_13_2024\\\\100CUDDY\\\\Cropped_images\\\\Human\\\\2_0.906_1.0_I_00034a.JPG',\n",
       " 'F:\\\\Pred_Estimation_2023\\\\PPC\\\\331_117_3_4298\\\\1_13_2024\\\\100CUDDY\\\\Cropped_images\\\\Human\\\\3_0.953_1.0_I_00034a.JPG',\n",
       " 'F:\\\\Pred_Estimation_2023\\\\PPC\\\\331_117_3_4298\\\\1_13_2024\\\\100CUDDY\\\\Cropped_images\\\\Human\\\\4_0.954_1.0_I_00034b.JPG',\n",
       " 'F:\\\\Pred_Estimation_2023\\\\PPC\\\\331_117_3_4298\\\\1_13_2024\\\\100CUDDY\\\\Cropped_images\\\\Human\\\\2_0.959_1.0_I_00034c.JPG',\n",
       " 'F:\\\\Pred_Estimation_2023\\\\PPC\\\\331_117_3_4298\\\\1_13_2024\\\\100CUDDY\\\\Cropped_images\\\\Human\\\\2_0.963_1.0_I_00034d.JPG',\n",
       " 'F:\\\\Pred_Estimation_2023\\\\PPC\\\\331_117_3_4298\\\\1_13_2024\\\\100CUDDY\\\\Cropped_images\\\\Human\\\\4_0.958_1.0_I_00034e.JPG',\n",
       " 'F:\\\\Pred_Estimation_2023\\\\PPC\\\\331_117_3_4298\\\\1_13_2024\\\\100CUDDY\\\\Cropped_images\\\\Human\\\\1_0.902_1.0_I_00035a.JPG',\n",
       " 'F:\\\\Pred_Estimation_2023\\\\PPC\\\\331_117_3_4298\\\\1_13_2024\\\\100CUDDY\\\\Cropped_images\\\\Human\\\\1_0.72_0.9900000095367432_I_00036a.JPG',\n",
       " 'F:\\\\Pred_Estimation_2023\\\\PPC\\\\331_117_3_4298\\\\1_13_2024\\\\100CUDDY\\\\Cropped_images\\\\Human\\\\1_0.559_0.8100000023841858_I_00036b.JPG',\n",
       " 'F:\\\\Pred_Estimation_2023\\\\PPC\\\\331_117_3_4298\\\\1_13_2024\\\\100CUDDY\\\\Cropped_images\\\\Human\\\\4_0.622_0.9700000286102295_I_00036d.JPG',\n",
       " 'F:\\\\Pred_Estimation_2023\\\\PPC\\\\331_117_3_4298\\\\1_13_2024\\\\100CUDDY\\\\Cropped_images\\\\Human\\\\4_0.662_0.9300000071525574_I_00036e.JPG',\n",
       " 'F:\\\\Pred_Estimation_2023\\\\PPC\\\\331_117_3_4298\\\\1_13_2024\\\\100CUDDY\\\\Cropped_images\\\\Human\\\\2_0.861_0.9900000095367432_I_00037a.JPG',\n",
       " 'F:\\\\Pred_Estimation_2023\\\\PPC\\\\331_117_3_4298\\\\1_13_2024\\\\100CUDDY\\\\Cropped_images\\\\Human\\\\2_0.965_0.8700000047683716_I_00037b.JPG',\n",
       " 'F:\\\\Pred_Estimation_2023\\\\PPC\\\\331_117_3_4298\\\\1_13_2024\\\\100CUDDY\\\\Cropped_images\\\\Human\\\\2_0.931_1.0_I_00037c.JPG',\n",
       " 'F:\\\\Pred_Estimation_2023\\\\PPC\\\\331_117_3_4298\\\\1_13_2024\\\\100CUDDY\\\\Cropped_images\\\\Human\\\\1_0.838_1.0_I_00037d.JPG',\n",
       " 'F:\\\\Pred_Estimation_2023\\\\PPC\\\\331_117_3_4298\\\\1_13_2024\\\\100CUDDY\\\\Cropped_images\\\\Human\\\\1_0.517_0.9599999785423279_I_00037e.JPG',\n",
       " 'F:\\\\Pred_Estimation_2023\\\\PPC\\\\331_117_3_4298\\\\1_13_2024\\\\100CUDDY\\\\Cropped_images\\\\Human\\\\2_0.844_0.9900000095367432_I_00037e.JPG',\n",
       " 'F:\\\\Pred_Estimation_2023\\\\PPC\\\\331_117_3_4298\\\\1_13_2024\\\\100CUDDY\\\\Cropped_images\\\\Human\\\\2_0.782_1.0_I_00038a.JPG',\n",
       " 'F:\\\\Pred_Estimation_2023\\\\PPC\\\\331_117_3_4298\\\\1_13_2024\\\\100CUDDY\\\\Cropped_images\\\\Human\\\\3_0.927_1.0_I_00038a.JPG',\n",
       " 'F:\\\\Pred_Estimation_2023\\\\PPC\\\\331_117_3_4298\\\\1_13_2024\\\\100CUDDY\\\\Cropped_images\\\\Human\\\\2_0.824_1.0_I_00038b.JPG',\n",
       " 'F:\\\\Pred_Estimation_2023\\\\PPC\\\\331_117_3_4298\\\\1_13_2024\\\\100CUDDY\\\\Cropped_images\\\\Human\\\\3_0.911_1.0_I_00038b.JPG',\n",
       " 'F:\\\\Pred_Estimation_2023\\\\PPC\\\\331_117_3_4298\\\\1_13_2024\\\\100CUDDY\\\\Cropped_images\\\\Human\\\\13_0.915_1.0_I_00038c.JPG',\n",
       " 'F:\\\\Pred_Estimation_2023\\\\PPC\\\\331_117_3_4298\\\\1_13_2024\\\\100CUDDY\\\\Cropped_images\\\\Human\\\\14_0.936_1.0_I_00038c.JPG',\n",
       " 'F:\\\\Pred_Estimation_2023\\\\PPC\\\\331_117_3_4298\\\\1_13_2024\\\\100CUDDY\\\\Cropped_images\\\\Human\\\\7_0.104_0.9800000190734863_I_00038d.JPG',\n",
       " 'F:\\\\Pred_Estimation_2023\\\\PPC\\\\331_117_3_4298\\\\1_13_2024\\\\100CUDDY\\\\Cropped_images\\\\Human\\\\8_0.562_0.9300000071525574_I_00038d.JPG',\n",
       " 'F:\\\\Pred_Estimation_2023\\\\PPC\\\\331_117_3_4298\\\\1_13_2024\\\\100CUDDY\\\\Cropped_images\\\\Human\\\\9_0.908_1.0_I_00038d.JPG',\n",
       " 'F:\\\\Pred_Estimation_2023\\\\PPC\\\\331_117_3_4298\\\\1_13_2024\\\\100CUDDY\\\\Cropped_images\\\\Human\\\\10_0.917_0.9900000095367432_I_00038d.JPG',\n",
       " 'F:\\\\Pred_Estimation_2023\\\\PPC\\\\331_117_3_4298\\\\1_13_2024\\\\100CUDDY\\\\Cropped_images\\\\Human\\\\6_0.267_1.0_I_00038e.JPG',\n",
       " 'F:\\\\Pred_Estimation_2023\\\\PPC\\\\331_117_3_4298\\\\1_13_2024\\\\100CUDDY\\\\Cropped_images\\\\Human\\\\7_0.894_1.0_I_00038e.JPG',\n",
       " 'F:\\\\Pred_Estimation_2023\\\\PPC\\\\331_117_3_4298\\\\1_13_2024\\\\100CUDDY\\\\Cropped_images\\\\Human\\\\8_0.908_0.9900000095367432_I_00038e.JPG',\n",
       " 'F:\\\\Pred_Estimation_2023\\\\PPC\\\\331_117_3_4298\\\\1_13_2024\\\\100CUDDY\\\\Cropped_images\\\\Human\\\\4_0.234_1.0_I_00039a.JPG',\n",
       " 'F:\\\\Pred_Estimation_2023\\\\PPC\\\\331_117_3_4298\\\\1_13_2024\\\\100CUDDY\\\\Cropped_images\\\\Human\\\\5_0.909_0.8600000143051147_I_00039a.JPG',\n",
       " 'F:\\\\Pred_Estimation_2023\\\\PPC\\\\331_117_3_4298\\\\1_13_2024\\\\100CUDDY\\\\Cropped_images\\\\Human\\\\6_0.941_1.0_I_00039a.JPG',\n",
       " 'F:\\\\Pred_Estimation_2023\\\\PPC\\\\331_117_3_4298\\\\1_13_2024\\\\100CUDDY\\\\Cropped_images\\\\Human\\\\4_0.132_1.0_I_00039b.JPG',\n",
       " 'F:\\\\Pred_Estimation_2023\\\\PPC\\\\331_117_3_4298\\\\1_13_2024\\\\100CUDDY\\\\Cropped_images\\\\Human\\\\5_0.183_1.0_I_00039b.JPG',\n",
       " 'F:\\\\Pred_Estimation_2023\\\\PPC\\\\331_117_3_4298\\\\1_13_2024\\\\100CUDDY\\\\Cropped_images\\\\Human\\\\6_0.859_1.0_I_00039b.JPG',\n",
       " 'F:\\\\Pred_Estimation_2023\\\\PPC\\\\331_117_3_4298\\\\1_13_2024\\\\100CUDDY\\\\Cropped_images\\\\Human\\\\7_0.932_1.0_I_00039b.JPG',\n",
       " 'F:\\\\Pred_Estimation_2023\\\\PPC\\\\331_117_3_4298\\\\1_13_2024\\\\100CUDDY\\\\Cropped_images\\\\Human\\\\7_0.103_0.9900000095367432_I_00039c.JPG',\n",
       " 'F:\\\\Pred_Estimation_2023\\\\PPC\\\\331_117_3_4298\\\\1_13_2024\\\\100CUDDY\\\\Cropped_images\\\\Human\\\\8_0.893_1.0_I_00039c.JPG',\n",
       " 'F:\\\\Pred_Estimation_2023\\\\PPC\\\\331_117_3_4298\\\\1_13_2024\\\\100CUDDY\\\\Cropped_images\\\\Human\\\\9_0.912_1.0_I_00039c.JPG',\n",
       " 'F:\\\\Pred_Estimation_2023\\\\PPC\\\\331_117_3_4298\\\\1_13_2024\\\\100CUDDY\\\\Cropped_images\\\\Human\\\\1_0.825_1.0_I_00039d.JPG',\n",
       " 'F:\\\\Pred_Estimation_2023\\\\PPC\\\\331_117_3_4298\\\\1_13_2024\\\\100CUDDY\\\\Cropped_images\\\\Human\\\\2_0.894_1.0_I_00039d.JPG',\n",
       " 'F:\\\\Pred_Estimation_2023\\\\PPC\\\\331_117_3_4298\\\\1_13_2024\\\\100CUDDY\\\\Cropped_images\\\\Human\\\\2_0.864_1.0_I_00039e.JPG',\n",
       " 'F:\\\\Pred_Estimation_2023\\\\PPC\\\\331_117_3_4298\\\\1_13_2024\\\\100CUDDY\\\\Cropped_images\\\\Human\\\\3_0.934_1.0_I_00039e.JPG',\n",
       " 'F:\\\\Pred_Estimation_2023\\\\PPC\\\\331_117_3_4298\\\\1_13_2024\\\\100CUDDY\\\\Cropped_images\\\\Human\\\\4_0.877_1.0_I_00040a.JPG',\n",
       " 'F:\\\\Pred_Estimation_2023\\\\PPC\\\\331_117_3_4298\\\\1_13_2024\\\\100CUDDY\\\\Cropped_images\\\\Human\\\\5_0.907_1.0_I_00040a.JPG',\n",
       " 'F:\\\\Pred_Estimation_2023\\\\PPC\\\\331_117_3_4298\\\\1_13_2024\\\\100CUDDY\\\\Cropped_images\\\\Human\\\\4_0.881_0.8700000047683716_I_00040b.JPG',\n",
       " 'F:\\\\Pred_Estimation_2023\\\\PPC\\\\331_117_3_4298\\\\1_13_2024\\\\100CUDDY\\\\Cropped_images\\\\Human\\\\5_0.915_1.0_I_00040b.JPG',\n",
       " 'F:\\\\Pred_Estimation_2023\\\\PPC\\\\331_117_3_4298\\\\1_13_2024\\\\100CUDDY\\\\Cropped_images\\\\Human\\\\2_0.862_1.0_I_00040c.JPG',\n",
       " 'F:\\\\Pred_Estimation_2023\\\\PPC\\\\331_117_3_4298\\\\1_13_2024\\\\100CUDDY\\\\Cropped_images\\\\Human\\\\3_0.937_1.0_I_00040c.JPG',\n",
       " 'F:\\\\Pred_Estimation_2023\\\\PPC\\\\331_117_3_4298\\\\1_13_2024\\\\100CUDDY\\\\Cropped_images\\\\Human\\\\2_0.721_0.9900000095367432_I_00040d.JPG',\n",
       " 'F:\\\\Pred_Estimation_2023\\\\PPC\\\\331_117_3_4298\\\\1_13_2024\\\\100CUDDY\\\\Cropped_images\\\\Human\\\\3_0.951_1.0_I_00040d.JPG',\n",
       " 'F:\\\\Pred_Estimation_2023\\\\PPC\\\\331_117_3_4298\\\\1_13_2024\\\\100CUDDY\\\\Cropped_images\\\\Human\\\\3_0.777_1.0_I_00040e.JPG',\n",
       " 'F:\\\\Pred_Estimation_2023\\\\PPC\\\\331_117_3_4298\\\\1_13_2024\\\\100CUDDY\\\\Cropped_images\\\\Human\\\\4_0.946_1.0_I_00040e.JPG',\n",
       " 'F:\\\\Pred_Estimation_2023\\\\PPC\\\\331_117_3_4298\\\\1_13_2024\\\\100CUDDY\\\\Cropped_images\\\\Human\\\\1_0.195_1.0_I_00041a.JPG',\n",
       " 'F:\\\\Pred_Estimation_2023\\\\PPC\\\\331_117_3_4298\\\\1_13_2024\\\\100CUDDY\\\\Cropped_images\\\\Human\\\\2_0.729_1.0_I_00041a.JPG',\n",
       " 'F:\\\\Pred_Estimation_2023\\\\PPC\\\\331_117_3_4298\\\\1_13_2024\\\\100CUDDY\\\\Cropped_images\\\\Human\\\\3_0.934_1.0_I_00041a.JPG',\n",
       " 'F:\\\\Pred_Estimation_2023\\\\PPC\\\\331_117_3_4298\\\\1_13_2024\\\\100CUDDY\\\\Cropped_images\\\\Human\\\\2_0.868_1.0_I_00041b.JPG',\n",
       " 'F:\\\\Pred_Estimation_2023\\\\PPC\\\\331_117_3_4298\\\\1_13_2024\\\\100CUDDY\\\\Cropped_images\\\\Human\\\\3_0.905_1.0_I_00041b.JPG',\n",
       " 'F:\\\\Pred_Estimation_2023\\\\PPC\\\\331_117_3_4298\\\\1_13_2024\\\\100CUDDY\\\\Cropped_images\\\\Human\\\\3_0.726_1.0_I_00041c.JPG',\n",
       " 'F:\\\\Pred_Estimation_2023\\\\PPC\\\\331_117_3_4298\\\\1_13_2024\\\\100CUDDY\\\\Cropped_images\\\\Human\\\\4_0.803_1.0_I_00041c.JPG',\n",
       " 'F:\\\\Pred_Estimation_2023\\\\PPC\\\\331_117_3_4298\\\\1_13_2024\\\\100CUDDY\\\\Cropped_images\\\\Human\\\\1_0.816_1.0_I_00041d.JPG',\n",
       " 'F:\\\\Pred_Estimation_2023\\\\PPC\\\\331_117_3_4298\\\\1_13_2024\\\\100CUDDY\\\\Cropped_images\\\\Human\\\\2_0.839_1.0_I_00041d.JPG',\n",
       " 'F:\\\\Pred_Estimation_2023\\\\PPC\\\\331_117_3_4298\\\\1_13_2024\\\\100CUDDY\\\\Cropped_images\\\\Human\\\\1_0.81_0.9900000095367432_I_00041e.JPG',\n",
       " 'F:\\\\Pred_Estimation_2023\\\\PPC\\\\331_117_3_4298\\\\1_13_2024\\\\100CUDDY\\\\Cropped_images\\\\Human\\\\2_0.901_1.0_I_00041e.JPG',\n",
       " 'F:\\\\Pred_Estimation_2023\\\\PPC\\\\331_117_3_4298\\\\1_13_2024\\\\100CUDDY\\\\Cropped_images\\\\Human\\\\1_0.475_0.9700000286102295_I_00042a.JPG',\n",
       " 'F:\\\\Pred_Estimation_2023\\\\PPC\\\\331_117_3_4298\\\\1_13_2024\\\\100CUDDY\\\\Cropped_images\\\\Human\\\\2_0.909_1.0_I_00042a.JPG',\n",
       " 'F:\\\\Pred_Estimation_2023\\\\PPC\\\\331_117_3_4298\\\\1_13_2024\\\\100CUDDY\\\\Cropped_images\\\\Human\\\\2_0.637_1.0_I_00042b.JPG',\n",
       " 'F:\\\\Pred_Estimation_2023\\\\PPC\\\\331_117_3_4298\\\\1_13_2024\\\\100CUDDY\\\\Cropped_images\\\\Human\\\\3_0.854_1.0_I_00042b.JPG',\n",
       " 'F:\\\\Pred_Estimation_2023\\\\PPC\\\\331_117_3_4298\\\\1_13_2024\\\\100CUDDY\\\\Cropped_images\\\\Human\\\\3_0.791_1.0_I_00042c.JPG',\n",
       " 'F:\\\\Pred_Estimation_2023\\\\PPC\\\\331_117_3_4298\\\\1_13_2024\\\\100CUDDY\\\\Cropped_images\\\\Human\\\\4_0.849_1.0_I_00042c.JPG',\n",
       " 'F:\\\\Pred_Estimation_2023\\\\PPC\\\\331_117_3_4298\\\\1_13_2024\\\\100CUDDY\\\\Cropped_images\\\\Human\\\\4_0.783_1.0_I_00042d.JPG',\n",
       " 'F:\\\\Pred_Estimation_2023\\\\PPC\\\\331_117_3_4298\\\\1_13_2024\\\\100CUDDY\\\\Cropped_images\\\\Human\\\\5_0.879_1.0_I_00042d.JPG',\n",
       " 'F:\\\\Pred_Estimation_2023\\\\PPC\\\\331_117_3_4298\\\\1_13_2024\\\\100CUDDY\\\\Cropped_images\\\\Human\\\\2_0.707_1.0_I_00042e.JPG',\n",
       " 'F:\\\\Pred_Estimation_2023\\\\PPC\\\\331_117_3_4298\\\\1_13_2024\\\\100CUDDY\\\\Cropped_images\\\\Human\\\\3_0.909_1.0_I_00042e.JPG',\n",
       " 'F:\\\\Pred_Estimation_2023\\\\PPC\\\\331_117_3_4298\\\\1_13_2024\\\\100CUDDY\\\\Cropped_images\\\\Human\\\\2_0.762_1.0_I_00043a.JPG',\n",
       " 'F:\\\\Pred_Estimation_2023\\\\PPC\\\\331_117_3_4298\\\\1_13_2024\\\\100CUDDY\\\\Cropped_images\\\\Human\\\\3_0.809_1.0_I_00043a.JPG',\n",
       " 'F:\\\\Pred_Estimation_2023\\\\PPC\\\\331_117_3_4298\\\\1_13_2024\\\\100CUDDY\\\\Cropped_images\\\\Human\\\\2_0.835_1.0_I_00043b.JPG',\n",
       " 'F:\\\\Pred_Estimation_2023\\\\PPC\\\\331_117_3_4298\\\\1_13_2024\\\\100CUDDY\\\\Cropped_images\\\\Human\\\\3_0.906_1.0_I_00043b.JPG',\n",
       " 'F:\\\\Pred_Estimation_2023\\\\PPC\\\\331_117_3_4298\\\\1_13_2024\\\\100CUDDY\\\\Cropped_images\\\\Human\\\\2_0.829_1.0_I_00043c.JPG',\n",
       " 'F:\\\\Pred_Estimation_2023\\\\PPC\\\\331_117_3_4298\\\\1_13_2024\\\\100CUDDY\\\\Cropped_images\\\\Human\\\\3_0.89_1.0_I_00043c.JPG',\n",
       " 'F:\\\\Pred_Estimation_2023\\\\PPC\\\\331_117_3_4298\\\\1_13_2024\\\\100CUDDY\\\\Cropped_images\\\\Human\\\\1_0.816_1.0_I_00043d.JPG',\n",
       " 'F:\\\\Pred_Estimation_2023\\\\PPC\\\\331_117_3_4298\\\\1_13_2024\\\\100CUDDY\\\\Cropped_images\\\\Human\\\\2_0.935_1.0_I_00043d.JPG',\n",
       " 'F:\\\\Pred_Estimation_2023\\\\PPC\\\\331_117_3_4298\\\\1_13_2024\\\\100CUDDY\\\\Cropped_images\\\\Human\\\\1_0.857_1.0_I_00043e.JPG',\n",
       " 'F:\\\\Pred_Estimation_2023\\\\PPC\\\\331_117_3_4298\\\\1_13_2024\\\\100CUDDY\\\\Cropped_images\\\\Human\\\\2_0.889_1.0_I_00043e.JPG',\n",
       " 'F:\\\\Pred_Estimation_2023\\\\PPC\\\\331_117_3_4298\\\\1_13_2024\\\\100CUDDY\\\\Cropped_images\\\\Human\\\\2_0.898_1.0_I_00044a.JPG',\n",
       " 'F:\\\\Pred_Estimation_2023\\\\PPC\\\\331_117_3_4298\\\\1_13_2024\\\\100CUDDY\\\\Cropped_images\\\\Human\\\\3_0.904_1.0_I_00044a.JPG',\n",
       " 'F:\\\\Pred_Estimation_2023\\\\PPC\\\\331_117_3_4298\\\\1_13_2024\\\\100CUDDY\\\\Cropped_images\\\\Human\\\\1_0.84_0.9900000095367432_I_00044b.JPG',\n",
       " 'F:\\\\Pred_Estimation_2023\\\\PPC\\\\331_117_3_4298\\\\1_13_2024\\\\100CUDDY\\\\Cropped_images\\\\Human\\\\2_0.911_1.0_I_00044b.JPG',\n",
       " 'F:\\\\Pred_Estimation_2023\\\\PPC\\\\331_117_3_4298\\\\1_13_2024\\\\100CUDDY\\\\Cropped_images\\\\Human\\\\1_0.845_0.9900000095367432_I_00044c.JPG',\n",
       " 'F:\\\\Pred_Estimation_2023\\\\PPC\\\\331_117_3_4298\\\\1_13_2024\\\\100CUDDY\\\\Cropped_images\\\\Human\\\\2_0.89_1.0_I_00044c.JPG',\n",
       " 'F:\\\\Pred_Estimation_2023\\\\PPC\\\\331_117_3_4298\\\\1_13_2024\\\\100CUDDY\\\\Cropped_images\\\\Human\\\\2_0.831_0.9900000095367432_I_00044d.JPG',\n",
       " 'F:\\\\Pred_Estimation_2023\\\\PPC\\\\331_117_3_4298\\\\1_13_2024\\\\100CUDDY\\\\Cropped_images\\\\Human\\\\3_0.897_1.0_I_00044d.JPG',\n",
       " 'F:\\\\Pred_Estimation_2023\\\\PPC\\\\331_117_3_4298\\\\1_13_2024\\\\100CUDDY\\\\Cropped_images\\\\Human\\\\2_0.844_1.0_I_00044e.JPG',\n",
       " 'F:\\\\Pred_Estimation_2023\\\\PPC\\\\331_117_3_4298\\\\1_13_2024\\\\100CUDDY\\\\Cropped_images\\\\Human\\\\3_0.918_1.0_I_00044e.JPG',\n",
       " 'F:\\\\Pred_Estimation_2023\\\\PPC\\\\331_117_3_4298\\\\1_13_2024\\\\100CUDDY\\\\Cropped_images\\\\Human\\\\1_0.851_1.0_I_00045a.JPG',\n",
       " 'F:\\\\Pred_Estimation_2023\\\\PPC\\\\331_117_3_4298\\\\1_13_2024\\\\100CUDDY\\\\Cropped_images\\\\Human\\\\2_0.943_1.0_I_00045a.JPG',\n",
       " 'F:\\\\Pred_Estimation_2023\\\\PPC\\\\331_117_3_4298\\\\1_13_2024\\\\100CUDDY\\\\Cropped_images\\\\Human\\\\2_0.806_1.0_I_00045b.JPG',\n",
       " 'F:\\\\Pred_Estimation_2023\\\\PPC\\\\331_117_3_4298\\\\1_13_2024\\\\100CUDDY\\\\Cropped_images\\\\Human\\\\3_0.937_1.0_I_00045b.JPG',\n",
       " 'F:\\\\Pred_Estimation_2023\\\\PPC\\\\331_117_3_4298\\\\1_13_2024\\\\100CUDDY\\\\Cropped_images\\\\Human\\\\2_0.868_1.0_I_00045c.JPG',\n",
       " 'F:\\\\Pred_Estimation_2023\\\\PPC\\\\331_117_3_4298\\\\1_13_2024\\\\100CUDDY\\\\Cropped_images\\\\Human\\\\3_0.934_1.0_I_00045c.JPG',\n",
       " 'F:\\\\Pred_Estimation_2023\\\\PPC\\\\331_117_3_4298\\\\1_13_2024\\\\100CUDDY\\\\Cropped_images\\\\Human\\\\2_0.852_1.0_I_00045d.JPG',\n",
       " 'F:\\\\Pred_Estimation_2023\\\\PPC\\\\331_117_3_4298\\\\1_13_2024\\\\100CUDDY\\\\Cropped_images\\\\Human\\\\3_0.934_1.0_I_00045d.JPG',\n",
       " 'F:\\\\Pred_Estimation_2023\\\\PPC\\\\331_117_3_4298\\\\1_13_2024\\\\100CUDDY\\\\Cropped_images\\\\Human\\\\3_0.843_1.0_I_00045e.JPG',\n",
       " 'F:\\\\Pred_Estimation_2023\\\\PPC\\\\331_117_3_4298\\\\1_13_2024\\\\100CUDDY\\\\Cropped_images\\\\Human\\\\4_0.91_1.0_I_00045e.JPG',\n",
       " 'F:\\\\Pred_Estimation_2023\\\\PPC\\\\331_117_3_4298\\\\1_13_2024\\\\100CUDDY\\\\Cropped_images\\\\Human\\\\3_0.79_0.9900000095367432_I_00046a.JPG',\n",
       " 'F:\\\\Pred_Estimation_2023\\\\PPC\\\\331_117_3_4298\\\\1_13_2024\\\\100CUDDY\\\\Cropped_images\\\\Human\\\\4_0.911_1.0_I_00046a.JPG',\n",
       " 'F:\\\\Pred_Estimation_2023\\\\PPC\\\\331_117_3_4298\\\\1_13_2024\\\\100CUDDY\\\\Cropped_images\\\\Human\\\\1_0.798_1.0_I_00046b.JPG',\n",
       " 'F:\\\\Pred_Estimation_2023\\\\PPC\\\\331_117_3_4298\\\\1_13_2024\\\\100CUDDY\\\\Cropped_images\\\\Human\\\\2_0.917_0.9900000095367432_I_00046b.JPG',\n",
       " 'F:\\\\Pred_Estimation_2023\\\\PPC\\\\331_117_3_4298\\\\1_13_2024\\\\100CUDDY\\\\Cropped_images\\\\Human\\\\2_0.857_1.0_I_00046c.JPG',\n",
       " 'F:\\\\Pred_Estimation_2023\\\\PPC\\\\331_117_3_4298\\\\1_13_2024\\\\100CUDDY\\\\Cropped_images\\\\Human\\\\3_0.937_1.0_I_00046c.JPG',\n",
       " 'F:\\\\Pred_Estimation_2023\\\\PPC\\\\331_117_3_4298\\\\1_13_2024\\\\100CUDDY\\\\Cropped_images\\\\Human\\\\2_0.822_1.0_I_00046d.JPG',\n",
       " 'F:\\\\Pred_Estimation_2023\\\\PPC\\\\331_117_3_4298\\\\1_13_2024\\\\100CUDDY\\\\Cropped_images\\\\Human\\\\3_0.907_1.0_I_00046d.JPG',\n",
       " 'F:\\\\Pred_Estimation_2023\\\\PPC\\\\331_117_3_4298\\\\1_13_2024\\\\100CUDDY\\\\Cropped_images\\\\Human\\\\3_0.783_1.0_I_00046e.JPG',\n",
       " 'F:\\\\Pred_Estimation_2023\\\\PPC\\\\331_117_3_4298\\\\1_13_2024\\\\100CUDDY\\\\Cropped_images\\\\Human\\\\4_0.907_1.0_I_00046e.JPG',\n",
       " 'F:\\\\Pred_Estimation_2023\\\\PPC\\\\331_117_3_4298\\\\1_13_2024\\\\100CUDDY\\\\Cropped_images\\\\Human\\\\3_0.653_1.0_I_00047a.JPG',\n",
       " 'F:\\\\Pred_Estimation_2023\\\\PPC\\\\331_117_3_4298\\\\1_13_2024\\\\100CUDDY\\\\Cropped_images\\\\Human\\\\4_0.856_1.0_I_00047a.JPG',\n",
       " 'F:\\\\Pred_Estimation_2023\\\\PPC\\\\331_117_3_4298\\\\1_13_2024\\\\100CUDDY\\\\Cropped_images\\\\Human\\\\1_0.677_1.0_I_00047b.JPG',\n",
       " 'F:\\\\Pred_Estimation_2023\\\\PPC\\\\331_117_3_4298\\\\1_13_2024\\\\100CUDDY\\\\Cropped_images\\\\Human\\\\2_0.875_1.0_I_00047b.JPG',\n",
       " 'F:\\\\Pred_Estimation_2023\\\\PPC\\\\331_117_3_4298\\\\1_13_2024\\\\100CUDDY\\\\Cropped_images\\\\Human\\\\2_0.677_1.0_I_00047c.JPG',\n",
       " 'F:\\\\Pred_Estimation_2023\\\\PPC\\\\331_117_3_4298\\\\1_13_2024\\\\100CUDDY\\\\Cropped_images\\\\Human\\\\3_0.861_1.0_I_00047c.JPG',\n",
       " 'F:\\\\Pred_Estimation_2023\\\\PPC\\\\331_117_3_4298\\\\1_13_2024\\\\100CUDDY\\\\Cropped_images\\\\Human\\\\2_0.714_1.0_I_00047d.JPG',\n",
       " 'F:\\\\Pred_Estimation_2023\\\\PPC\\\\331_117_3_4298\\\\1_13_2024\\\\100CUDDY\\\\Cropped_images\\\\Human\\\\3_0.931_1.0_I_00047d.JPG',\n",
       " 'F:\\\\Pred_Estimation_2023\\\\PPC\\\\331_117_3_4298\\\\1_13_2024\\\\100CUDDY\\\\Cropped_images\\\\Human\\\\2_0.724_1.0_I_00047e.JPG',\n",
       " 'F:\\\\Pred_Estimation_2023\\\\PPC\\\\331_117_3_4298\\\\1_13_2024\\\\100CUDDY\\\\Cropped_images\\\\Human\\\\3_0.929_1.0_I_00047e.JPG',\n",
       " 'F:\\\\Pred_Estimation_2023\\\\PPC\\\\331_117_3_4298\\\\1_13_2024\\\\100CUDDY\\\\Cropped_images\\\\Human\\\\2_0.757_1.0_I_00048a.JPG',\n",
       " 'F:\\\\Pred_Estimation_2023\\\\PPC\\\\331_117_3_4298\\\\1_13_2024\\\\100CUDDY\\\\Cropped_images\\\\Human\\\\3_0.845_1.0_I_00048a.JPG',\n",
       " 'F:\\\\Pred_Estimation_2023\\\\PPC\\\\331_117_3_4298\\\\1_13_2024\\\\100CUDDY\\\\Cropped_images\\\\Human\\\\3_0.798_1.0_I_00048b.JPG',\n",
       " 'F:\\\\Pred_Estimation_2023\\\\PPC\\\\331_117_3_4298\\\\1_13_2024\\\\100CUDDY\\\\Cropped_images\\\\Human\\\\4_0.866_1.0_I_00048b.JPG',\n",
       " 'F:\\\\Pred_Estimation_2023\\\\PPC\\\\331_117_3_4298\\\\1_13_2024\\\\100CUDDY\\\\Cropped_images\\\\Human\\\\3_0.812_1.0_I_00048c.JPG',\n",
       " 'F:\\\\Pred_Estimation_2023\\\\PPC\\\\331_117_3_4298\\\\1_13_2024\\\\100CUDDY\\\\Cropped_images\\\\Human\\\\4_0.873_0.9900000095367432_I_00048c.JPG',\n",
       " 'F:\\\\Pred_Estimation_2023\\\\PPC\\\\331_117_3_4298\\\\1_13_2024\\\\100CUDDY\\\\Cropped_images\\\\Human\\\\3_0.766_1.0_I_00048d.JPG',\n",
       " 'F:\\\\Pred_Estimation_2023\\\\PPC\\\\331_117_3_4298\\\\1_13_2024\\\\100CUDDY\\\\Cropped_images\\\\Human\\\\4_0.873_0.9700000286102295_I_00048d.JPG',\n",
       " 'F:\\\\Pred_Estimation_2023\\\\PPC\\\\331_117_3_4298\\\\1_13_2024\\\\100CUDDY\\\\Cropped_images\\\\Human\\\\3_0.733_1.0_I_00048e.JPG',\n",
       " 'F:\\\\Pred_Estimation_2023\\\\PPC\\\\331_117_3_4298\\\\1_13_2024\\\\100CUDDY\\\\Cropped_images\\\\Human\\\\4_0.856_0.9900000095367432_I_00048e.JPG',\n",
       " 'F:\\\\Pred_Estimation_2023\\\\PPC\\\\331_117_3_4298\\\\1_13_2024\\\\100CUDDY\\\\Cropped_images\\\\Human\\\\2_0.72_1.0_I_00049a.JPG',\n",
       " 'F:\\\\Pred_Estimation_2023\\\\PPC\\\\331_117_3_4298\\\\1_13_2024\\\\100CUDDY\\\\Cropped_images\\\\Human\\\\3_0.809_1.0_I_00049a.JPG',\n",
       " 'F:\\\\Pred_Estimation_2023\\\\PPC\\\\331_117_3_4298\\\\1_13_2024\\\\100CUDDY\\\\Cropped_images\\\\Human\\\\3_0.849_1.0_I_00049b.JPG',\n",
       " 'F:\\\\Pred_Estimation_2023\\\\PPC\\\\331_117_3_4298\\\\1_13_2024\\\\100CUDDY\\\\Cropped_images\\\\Human\\\\4_0.879_1.0_I_00049b.JPG',\n",
       " 'F:\\\\Pred_Estimation_2023\\\\PPC\\\\331_117_3_4298\\\\1_13_2024\\\\100CUDDY\\\\Cropped_images\\\\Human\\\\4_0.818_1.0_I_00049c.JPG',\n",
       " 'F:\\\\Pred_Estimation_2023\\\\PPC\\\\331_117_3_4298\\\\1_13_2024\\\\100CUDDY\\\\Cropped_images\\\\Human\\\\5_0.821_1.0_I_00049c.JPG',\n",
       " 'F:\\\\Pred_Estimation_2023\\\\PPC\\\\331_117_3_4298\\\\1_13_2024\\\\100CUDDY\\\\Cropped_images\\\\Human\\\\3_0.814_1.0_I_00049d.JPG',\n",
       " 'F:\\\\Pred_Estimation_2023\\\\PPC\\\\331_117_3_4298\\\\1_13_2024\\\\100CUDDY\\\\Cropped_images\\\\Human\\\\4_0.906_1.0_I_00049d.JPG',\n",
       " 'F:\\\\Pred_Estimation_2023\\\\PPC\\\\331_117_3_4298\\\\1_13_2024\\\\100CUDDY\\\\Cropped_images\\\\Human\\\\3_0.813_1.0_I_00049e.JPG',\n",
       " 'F:\\\\Pred_Estimation_2023\\\\PPC\\\\331_117_3_4298\\\\1_13_2024\\\\100CUDDY\\\\Cropped_images\\\\Human\\\\4_0.921_1.0_I_00049e.JPG',\n",
       " 'F:\\\\Pred_Estimation_2023\\\\PPC\\\\331_117_3_4298\\\\1_13_2024\\\\100CUDDY\\\\Cropped_images\\\\Human\\\\4_0.784_1.0_I_00050a.JPG',\n",
       " 'F:\\\\Pred_Estimation_2023\\\\PPC\\\\331_117_3_4298\\\\1_13_2024\\\\100CUDDY\\\\Cropped_images\\\\Human\\\\5_0.915_1.0_I_00050a.JPG',\n",
       " 'F:\\\\Pred_Estimation_2023\\\\PPC\\\\331_117_3_4298\\\\1_13_2024\\\\100CUDDY\\\\Cropped_images\\\\Human\\\\4_0.839_1.0_I_00050b.JPG',\n",
       " 'F:\\\\Pred_Estimation_2023\\\\PPC\\\\331_117_3_4298\\\\1_13_2024\\\\100CUDDY\\\\Cropped_images\\\\Human\\\\5_0.906_1.0_I_00050b.JPG',\n",
       " 'F:\\\\Pred_Estimation_2023\\\\PPC\\\\331_117_3_4298\\\\1_13_2024\\\\100CUDDY\\\\Cropped_images\\\\Human\\\\3_0.827_1.0_I_00050c.JPG',\n",
       " 'F:\\\\Pred_Estimation_2023\\\\PPC\\\\331_117_3_4298\\\\1_13_2024\\\\100CUDDY\\\\Cropped_images\\\\Human\\\\4_0.922_1.0_I_00050c.JPG',\n",
       " 'F:\\\\Pred_Estimation_2023\\\\PPC\\\\331_117_3_4298\\\\1_13_2024\\\\100CUDDY\\\\Cropped_images\\\\Human\\\\3_0.809_1.0_I_00050d.JPG',\n",
       " 'F:\\\\Pred_Estimation_2023\\\\PPC\\\\331_117_3_4298\\\\1_13_2024\\\\100CUDDY\\\\Cropped_images\\\\Human\\\\4_0.918_1.0_I_00050d.JPG',\n",
       " 'F:\\\\Pred_Estimation_2023\\\\PPC\\\\331_117_3_4298\\\\1_13_2024\\\\100CUDDY\\\\Cropped_images\\\\Human\\\\2_0.626_1.0_I_00050e.JPG',\n",
       " 'F:\\\\Pred_Estimation_2023\\\\PPC\\\\331_117_3_4298\\\\1_13_2024\\\\100CUDDY\\\\Cropped_images\\\\Human\\\\3_0.919_1.0_I_00050e.JPG',\n",
       " 'F:\\\\Pred_Estimation_2023\\\\PPC\\\\331_117_3_4298\\\\1_13_2024\\\\100CUDDY\\\\Cropped_images\\\\Human\\\\3_0.68_1.0_I_00051a.JPG',\n",
       " 'F:\\\\Pred_Estimation_2023\\\\PPC\\\\331_117_3_4298\\\\1_13_2024\\\\100CUDDY\\\\Cropped_images\\\\Human\\\\4_0.862_1.0_I_00051a.JPG',\n",
       " 'F:\\\\Pred_Estimation_2023\\\\PPC\\\\331_117_3_4298\\\\1_13_2024\\\\100CUDDY\\\\Cropped_images\\\\Human\\\\6_0.743_1.0_I_00051b.JPG',\n",
       " 'F:\\\\Pred_Estimation_2023\\\\PPC\\\\331_117_3_4298\\\\1_13_2024\\\\100CUDDY\\\\Cropped_images\\\\Human\\\\7_0.922_1.0_I_00051b.JPG',\n",
       " 'F:\\\\Pred_Estimation_2023\\\\PPC\\\\331_117_3_4298\\\\1_13_2024\\\\100CUDDY\\\\Cropped_images\\\\Human\\\\4_0.68_1.0_I_00051c.JPG',\n",
       " 'F:\\\\Pred_Estimation_2023\\\\PPC\\\\331_117_3_4298\\\\1_13_2024\\\\100CUDDY\\\\Cropped_images\\\\Human\\\\5_0.932_1.0_I_00051c.JPG',\n",
       " 'F:\\\\Pred_Estimation_2023\\\\PPC\\\\331_117_3_4298\\\\1_13_2024\\\\100CUDDY\\\\Cropped_images\\\\Human\\\\4_0.662_1.0_I_00051d.JPG',\n",
       " 'F:\\\\Pred_Estimation_2023\\\\PPC\\\\331_117_3_4298\\\\1_13_2024\\\\100CUDDY\\\\Cropped_images\\\\Human\\\\5_0.933_1.0_I_00051d.JPG',\n",
       " 'F:\\\\Pred_Estimation_2023\\\\PPC\\\\331_117_3_4298\\\\1_13_2024\\\\100CUDDY\\\\Cropped_images\\\\Human\\\\2_0.722_1.0_I_00051e.JPG',\n",
       " 'F:\\\\Pred_Estimation_2023\\\\PPC\\\\331_117_3_4298\\\\1_13_2024\\\\100CUDDY\\\\Cropped_images\\\\Human\\\\3_0.891_1.0_I_00051e.JPG',\n",
       " 'F:\\\\Pred_Estimation_2023\\\\PPC\\\\331_117_3_4298\\\\1_13_2024\\\\100CUDDY\\\\Cropped_images\\\\Human\\\\2_0.794_1.0_I_00052a.JPG',\n",
       " 'F:\\\\Pred_Estimation_2023\\\\PPC\\\\331_117_3_4298\\\\1_13_2024\\\\100CUDDY\\\\Cropped_images\\\\Human\\\\3_0.877_0.9900000095367432_I_00052a.JPG',\n",
       " 'F:\\\\Pred_Estimation_2023\\\\PPC\\\\331_117_3_4298\\\\1_13_2024\\\\100CUDDY\\\\Cropped_images\\\\Human\\\\3_0.827_1.0_I_00052b.JPG',\n",
       " 'F:\\\\Pred_Estimation_2023\\\\PPC\\\\331_117_3_4298\\\\1_13_2024\\\\100CUDDY\\\\Cropped_images\\\\Human\\\\4_0.895_0.949999988079071_I_00052b.JPG',\n",
       " 'F:\\\\Pred_Estimation_2023\\\\PPC\\\\331_117_3_4298\\\\1_13_2024\\\\100CUDDY\\\\Cropped_images\\\\Human\\\\2_0.826_1.0_I_00052c.JPG',\n",
       " 'F:\\\\Pred_Estimation_2023\\\\PPC\\\\331_117_3_4298\\\\1_13_2024\\\\100CUDDY\\\\Cropped_images\\\\Human\\\\3_0.879_0.949999988079071_I_00052c.JPG',\n",
       " 'F:\\\\Pred_Estimation_2023\\\\PPC\\\\331_117_3_4298\\\\1_13_2024\\\\100CUDDY\\\\Cropped_images\\\\Human\\\\5_0.815_1.0_I_00052d.JPG',\n",
       " 'F:\\\\Pred_Estimation_2023\\\\PPC\\\\331_117_3_4298\\\\1_13_2024\\\\100CUDDY\\\\Cropped_images\\\\Human\\\\6_0.881_0.9100000262260437_I_00052d.JPG',\n",
       " 'F:\\\\Pred_Estimation_2023\\\\PPC\\\\331_117_3_4298\\\\1_13_2024\\\\100CUDDY\\\\Cropped_images\\\\Human\\\\5_0.818_1.0_I_00052e.JPG',\n",
       " 'F:\\\\Pred_Estimation_2023\\\\PPC\\\\331_117_3_4298\\\\1_13_2024\\\\100CUDDY\\\\Cropped_images\\\\Human\\\\6_0.895_0.9900000095367432_I_00052e.JPG',\n",
       " 'F:\\\\Pred_Estimation_2023\\\\PPC\\\\331_117_3_4298\\\\1_13_2024\\\\100CUDDY\\\\Cropped_images\\\\Human\\\\1_0.859_0.9800000190734863_I_00053a.JPG',\n",
       " 'F:\\\\Pred_Estimation_2023\\\\PPC\\\\331_117_3_4298\\\\1_13_2024\\\\100CUDDY\\\\Cropped_images\\\\Human\\\\2_0.895_1.0_I_00053a.JPG',\n",
       " 'F:\\\\Pred_Estimation_2023\\\\PPC\\\\331_117_3_4298\\\\1_13_2024\\\\100CUDDY\\\\Cropped_images\\\\Human\\\\3_0.757_0.9599999785423279_I_00053b.JPG',\n",
       " 'F:\\\\Pred_Estimation_2023\\\\PPC\\\\331_117_3_4298\\\\1_13_2024\\\\100CUDDY\\\\Cropped_images\\\\Human\\\\4_0.843_1.0_I_00053b.JPG',\n",
       " 'F:\\\\Pred_Estimation_2023\\\\PPC\\\\331_117_3_4298\\\\1_13_2024\\\\100CUDDY\\\\Cropped_images\\\\Human\\\\3_0.805_1.0_I_00053c.JPG',\n",
       " 'F:\\\\Pred_Estimation_2023\\\\PPC\\\\331_117_3_4298\\\\1_13_2024\\\\100CUDDY\\\\Cropped_images\\\\Human\\\\4_0.863_1.0_I_00053c.JPG',\n",
       " 'F:\\\\Pred_Estimation_2023\\\\PPC\\\\331_117_3_4298\\\\1_13_2024\\\\100CUDDY\\\\Cropped_images\\\\Human\\\\4_0.807_1.0_I_00053d.JPG',\n",
       " 'F:\\\\Pred_Estimation_2023\\\\PPC\\\\331_117_3_4298\\\\1_13_2024\\\\100CUDDY\\\\Cropped_images\\\\Human\\\\5_0.926_1.0_I_00053d.JPG',\n",
       " 'F:\\\\Pred_Estimation_2023\\\\PPC\\\\331_117_3_4298\\\\1_13_2024\\\\100CUDDY\\\\Cropped_images\\\\Human\\\\4_0.818_1.0_I_00053e.JPG',\n",
       " 'F:\\\\Pred_Estimation_2023\\\\PPC\\\\331_117_3_4298\\\\1_13_2024\\\\100CUDDY\\\\Cropped_images\\\\Human\\\\5_0.903_1.0_I_00053e.JPG',\n",
       " 'F:\\\\Pred_Estimation_2023\\\\PPC\\\\331_117_3_4298\\\\1_13_2024\\\\100CUDDY\\\\Cropped_images\\\\Human\\\\3_0.773_1.0_I_00054a.JPG',\n",
       " 'F:\\\\Pred_Estimation_2023\\\\PPC\\\\331_117_3_4298\\\\1_13_2024\\\\100CUDDY\\\\Cropped_images\\\\Human\\\\4_0.882_1.0_I_00054a.JPG',\n",
       " 'F:\\\\Pred_Estimation_2023\\\\PPC\\\\331_117_3_4298\\\\1_13_2024\\\\100CUDDY\\\\Cropped_images\\\\Human\\\\3_0.816_1.0_I_00054b.JPG',\n",
       " 'F:\\\\Pred_Estimation_2023\\\\PPC\\\\331_117_3_4298\\\\1_13_2024\\\\100CUDDY\\\\Cropped_images\\\\Human\\\\4_0.869_0.9800000190734863_I_00054b.JPG',\n",
       " 'F:\\\\Pred_Estimation_2023\\\\PPC\\\\331_117_3_4298\\\\1_13_2024\\\\100CUDDY\\\\Cropped_images\\\\Human\\\\3_0.828_1.0_I_00054c.JPG',\n",
       " 'F:\\\\Pred_Estimation_2023\\\\PPC\\\\331_117_3_4298\\\\1_13_2024\\\\100CUDDY\\\\Cropped_images\\\\Human\\\\4_0.858_0.9599999785423279_I_00054c.JPG',\n",
       " 'F:\\\\Pred_Estimation_2023\\\\PPC\\\\331_117_3_4298\\\\1_13_2024\\\\100CUDDY\\\\Cropped_images\\\\Human\\\\2_0.889_1.0_I_00054d.JPG',\n",
       " 'F:\\\\Pred_Estimation_2023\\\\PPC\\\\331_117_3_4298\\\\1_13_2024\\\\100CUDDY\\\\Cropped_images\\\\Human\\\\3_0.916_1.0_I_00054d.JPG',\n",
       " 'F:\\\\Pred_Estimation_2023\\\\PPC\\\\331_117_3_4298\\\\1_13_2024\\\\100CUDDY\\\\Cropped_images\\\\Human\\\\3_0.805_0.9900000095367432_I_00054e.JPG',\n",
       " 'F:\\\\Pred_Estimation_2023\\\\PPC\\\\331_117_3_4298\\\\1_13_2024\\\\100CUDDY\\\\Cropped_images\\\\Human\\\\4_0.875_1.0_I_00054e.JPG',\n",
       " 'F:\\\\Pred_Estimation_2023\\\\PPC\\\\331_117_3_4298\\\\1_13_2024\\\\100CUDDY\\\\Cropped_images\\\\Human\\\\2_0.661_1.0_I_00055a.JPG',\n",
       " 'F:\\\\Pred_Estimation_2023\\\\PPC\\\\331_117_3_4298\\\\1_13_2024\\\\100CUDDY\\\\Cropped_images\\\\Human\\\\3_0.883_0.9900000095367432_I_00055a.JPG',\n",
       " 'F:\\\\Pred_Estimation_2023\\\\PPC\\\\331_117_3_4298\\\\1_13_2024\\\\100CUDDY\\\\Cropped_images\\\\Human\\\\4_0.648_1.0_I_00055b.JPG',\n",
       " 'F:\\\\Pred_Estimation_2023\\\\PPC\\\\331_117_3_4298\\\\1_13_2024\\\\100CUDDY\\\\Cropped_images\\\\Human\\\\5_0.89_1.0_I_00055b.JPG',\n",
       " 'F:\\\\Pred_Estimation_2023\\\\PPC\\\\331_117_3_4298\\\\1_13_2024\\\\100CUDDY\\\\Cropped_images\\\\Human\\\\4_0.706_1.0_I_00055c.JPG',\n",
       " 'F:\\\\Pred_Estimation_2023\\\\PPC\\\\331_117_3_4298\\\\1_13_2024\\\\100CUDDY\\\\Cropped_images\\\\Human\\\\5_0.889_1.0_I_00055c.JPG',\n",
       " 'F:\\\\Pred_Estimation_2023\\\\PPC\\\\331_117_3_4298\\\\1_13_2024\\\\100CUDDY\\\\Cropped_images\\\\Human\\\\3_0.802_1.0_I_00055d.JPG',\n",
       " 'F:\\\\Pred_Estimation_2023\\\\PPC\\\\331_117_3_4298\\\\1_13_2024\\\\100CUDDY\\\\Cropped_images\\\\Human\\\\4_0.894_0.9900000095367432_I_00055d.JPG',\n",
       " 'F:\\\\Pred_Estimation_2023\\\\PPC\\\\331_117_3_4298\\\\1_13_2024\\\\100CUDDY\\\\Cropped_images\\\\Human\\\\2_0.814_1.0_I_00055e.JPG',\n",
       " 'F:\\\\Pred_Estimation_2023\\\\PPC\\\\331_117_3_4298\\\\1_13_2024\\\\100CUDDY\\\\Cropped_images\\\\Human\\\\3_0.891_1.0_I_00055e.JPG',\n",
       " 'F:\\\\Pred_Estimation_2023\\\\PPC\\\\331_117_3_4298\\\\1_13_2024\\\\100CUDDY\\\\Cropped_images\\\\Human\\\\1_0.75_1.0_I_00056a.JPG',\n",
       " 'F:\\\\Pred_Estimation_2023\\\\PPC\\\\331_117_3_4298\\\\1_13_2024\\\\100CUDDY\\\\Cropped_images\\\\Human\\\\2_0.853_1.0_I_00056a.JPG',\n",
       " 'F:\\\\Pred_Estimation_2023\\\\PPC\\\\331_117_3_4298\\\\1_13_2024\\\\100CUDDY\\\\Cropped_images\\\\Human\\\\2_0.713_1.0_I_00056b.JPG',\n",
       " 'F:\\\\Pred_Estimation_2023\\\\PPC\\\\331_117_3_4298\\\\1_13_2024\\\\100CUDDY\\\\Cropped_images\\\\Human\\\\3_0.9_1.0_I_00056b.JPG',\n",
       " 'F:\\\\Pred_Estimation_2023\\\\PPC\\\\331_117_3_4298\\\\1_13_2024\\\\100CUDDY\\\\Cropped_images\\\\Human\\\\3_0.722_1.0_I_00056c.JPG',\n",
       " 'F:\\\\Pred_Estimation_2023\\\\PPC\\\\331_117_3_4298\\\\1_13_2024\\\\100CUDDY\\\\Cropped_images\\\\Human\\\\4_0.903_1.0_I_00056c.JPG',\n",
       " 'F:\\\\Pred_Estimation_2023\\\\PPC\\\\331_117_3_4298\\\\1_13_2024\\\\100CUDDY\\\\Cropped_images\\\\Human\\\\2_0.747_1.0_I_00056d.JPG',\n",
       " 'F:\\\\Pred_Estimation_2023\\\\PPC\\\\331_117_3_4298\\\\1_13_2024\\\\100CUDDY\\\\Cropped_images\\\\Human\\\\3_0.865_0.9800000190734863_I_00056d.JPG',\n",
       " 'F:\\\\Pred_Estimation_2023\\\\PPC\\\\331_117_3_4298\\\\1_13_2024\\\\100CUDDY\\\\Cropped_images\\\\Human\\\\2_0.786_1.0_I_00056e.JPG',\n",
       " 'F:\\\\Pred_Estimation_2023\\\\PPC\\\\331_117_3_4298\\\\1_13_2024\\\\100CUDDY\\\\Cropped_images\\\\Human\\\\3_0.877_0.9900000095367432_I_00056e.JPG',\n",
       " 'F:\\\\Pred_Estimation_2023\\\\PPC\\\\331_117_3_4298\\\\1_13_2024\\\\100CUDDY\\\\Cropped_images\\\\Human\\\\4_0.766_1.0_I_00057a.JPG',\n",
       " 'F:\\\\Pred_Estimation_2023\\\\PPC\\\\331_117_3_4298\\\\1_13_2024\\\\100CUDDY\\\\Cropped_images\\\\Human\\\\5_0.892_0.9900000095367432_I_00057a.JPG',\n",
       " 'F:\\\\Pred_Estimation_2023\\\\PPC\\\\331_117_3_4298\\\\1_13_2024\\\\100CUDDY\\\\Cropped_images\\\\Human\\\\5_0.752_1.0_I_00057b.JPG',\n",
       " 'F:\\\\Pred_Estimation_2023\\\\PPC\\\\331_117_3_4298\\\\1_13_2024\\\\100CUDDY\\\\Cropped_images\\\\Human\\\\6_0.874_0.9800000190734863_I_00057b.JPG',\n",
       " 'F:\\\\Pred_Estimation_2023\\\\PPC\\\\331_117_3_4298\\\\1_13_2024\\\\100CUDDY\\\\Cropped_images\\\\Human\\\\4_0.839_1.0_I_00057c.JPG',\n",
       " 'F:\\\\Pred_Estimation_2023\\\\PPC\\\\331_117_3_4298\\\\1_13_2024\\\\100CUDDY\\\\Cropped_images\\\\Human\\\\5_0.874_0.9900000095367432_I_00057c.JPG',\n",
       " 'F:\\\\Pred_Estimation_2023\\\\PPC\\\\331_117_3_4298\\\\1_13_2024\\\\100CUDDY\\\\Cropped_images\\\\Human\\\\6_0.793_1.0_I_00057d.JPG',\n",
       " 'F:\\\\Pred_Estimation_2023\\\\PPC\\\\331_117_3_4298\\\\1_13_2024\\\\100CUDDY\\\\Cropped_images\\\\Human\\\\7_0.851_1.0_I_00057d.JPG',\n",
       " 'F:\\\\Pred_Estimation_2023\\\\PPC\\\\331_117_3_4298\\\\1_13_2024\\\\100CUDDY\\\\Cropped_images\\\\Human\\\\4_0.549_1.0_I_00057e.JPG',\n",
       " 'F:\\\\Pred_Estimation_2023\\\\PPC\\\\331_117_3_4298\\\\1_13_2024\\\\100CUDDY\\\\Cropped_images\\\\Human\\\\5_0.84_1.0_I_00057e.JPG',\n",
       " 'F:\\\\Pred_Estimation_2023\\\\PPC\\\\331_117_3_4298\\\\1_13_2024\\\\100CUDDY\\\\Cropped_images\\\\Human\\\\2_0.856_1.0_I_00058a.JPG',\n",
       " 'F:\\\\Pred_Estimation_2023\\\\PPC\\\\331_117_3_4298\\\\1_13_2024\\\\100CUDDY\\\\Cropped_images\\\\Human\\\\3_0.892_1.0_I_00058a.JPG',\n",
       " 'F:\\\\Pred_Estimation_2023\\\\PPC\\\\331_117_3_4298\\\\1_13_2024\\\\100CUDDY\\\\Cropped_images\\\\Human\\\\4_0.808_1.0_I_00058b.JPG',\n",
       " 'F:\\\\Pred_Estimation_2023\\\\PPC\\\\331_117_3_4298\\\\1_13_2024\\\\100CUDDY\\\\Cropped_images\\\\Human\\\\5_0.851_1.0_I_00058b.JPG',\n",
       " 'F:\\\\Pred_Estimation_2023\\\\PPC\\\\331_117_3_4298\\\\1_13_2024\\\\100CUDDY\\\\Cropped_images\\\\Human\\\\3_0.701_1.0_I_00058c.JPG',\n",
       " 'F:\\\\Pred_Estimation_2023\\\\PPC\\\\331_117_3_4298\\\\1_13_2024\\\\100CUDDY\\\\Cropped_images\\\\Human\\\\4_0.772_1.0_I_00058c.JPG',\n",
       " 'F:\\\\Pred_Estimation_2023\\\\PPC\\\\331_117_3_4298\\\\1_13_2024\\\\100CUDDY\\\\Cropped_images\\\\Human\\\\4_0.647_0.9900000095367432_I_00058d.JPG',\n",
       " 'F:\\\\Pred_Estimation_2023\\\\PPC\\\\331_117_3_4298\\\\1_13_2024\\\\100CUDDY\\\\Cropped_images\\\\Human\\\\5_0.802_0.9900000095367432_I_00058d.JPG',\n",
       " 'F:\\\\Pred_Estimation_2023\\\\PPC\\\\331_117_3_4298\\\\1_13_2024\\\\100CUDDY\\\\Cropped_images\\\\Human\\\\3_0.737_0.9900000095367432_I_00058e.JPG',\n",
       " 'F:\\\\Pred_Estimation_2023\\\\PPC\\\\331_117_3_4298\\\\1_13_2024\\\\100CUDDY\\\\Cropped_images\\\\Human\\\\4_0.864_0.9900000095367432_I_00058e.JPG',\n",
       " 'F:\\\\Pred_Estimation_2023\\\\PPC\\\\331_117_3_4298\\\\1_13_2024\\\\100CUDDY\\\\Cropped_images\\\\Human\\\\5_0.836_0.9700000286102295_I_00059a.JPG',\n",
       " 'F:\\\\Pred_Estimation_2023\\\\PPC\\\\331_117_3_4298\\\\1_13_2024\\\\100CUDDY\\\\Cropped_images\\\\Human\\\\6_0.867_0.9900000095367432_I_00059a.JPG',\n",
       " 'F:\\\\Pred_Estimation_2023\\\\PPC\\\\331_117_3_4298\\\\1_13_2024\\\\100CUDDY\\\\Cropped_images\\\\Human\\\\7_0.944_1.0_I_00059a.JPG',\n",
       " 'F:\\\\Pred_Estimation_2023\\\\PPC\\\\331_117_3_4298\\\\1_13_2024\\\\100CUDDY\\\\Cropped_images\\\\Human\\\\4_0.699_1.0_I_00059b.JPG',\n",
       " 'F:\\\\Pred_Estimation_2023\\\\PPC\\\\331_117_3_4298\\\\1_13_2024\\\\100CUDDY\\\\Cropped_images\\\\Human\\\\5_0.724_0.9900000095367432_I_00059b.JPG',\n",
       " 'F:\\\\Pred_Estimation_2023\\\\PPC\\\\331_117_3_4298\\\\1_13_2024\\\\100CUDDY\\\\Cropped_images\\\\Human\\\\6_0.948_1.0_I_00059b.JPG',\n",
       " 'F:\\\\Pred_Estimation_2023\\\\PPC\\\\331_117_3_4298\\\\1_13_2024\\\\100CUDDY\\\\Cropped_images\\\\Human\\\\2_0.753_1.0_I_00059c.JPG',\n",
       " 'F:\\\\Pred_Estimation_2023\\\\PPC\\\\331_117_3_4298\\\\1_13_2024\\\\100CUDDY\\\\Cropped_images\\\\Human\\\\3_0.879_1.0_I_00059c.JPG',\n",
       " 'F:\\\\Pred_Estimation_2023\\\\PPC\\\\331_117_3_4298\\\\1_13_2024\\\\100CUDDY\\\\Cropped_images\\\\Human\\\\4_0.897_0.9900000095367432_I_00059c.JPG',\n",
       " 'F:\\\\Pred_Estimation_2023\\\\PPC\\\\331_117_3_4298\\\\1_13_2024\\\\100CUDDY\\\\Cropped_images\\\\Human\\\\2_0.737_1.0_I_00059d.JPG',\n",
       " 'F:\\\\Pred_Estimation_2023\\\\PPC\\\\331_117_3_4298\\\\1_13_2024\\\\100CUDDY\\\\Cropped_images\\\\Human\\\\3_0.808_1.0_I_00059d.JPG',\n",
       " 'F:\\\\Pred_Estimation_2023\\\\PPC\\\\331_117_3_4298\\\\1_13_2024\\\\100CUDDY\\\\Cropped_images\\\\Human\\\\4_0.813_1.0_I_00059d.JPG',\n",
       " 'F:\\\\Pred_Estimation_2023\\\\PPC\\\\331_117_3_4298\\\\1_13_2024\\\\100CUDDY\\\\Cropped_images\\\\Human\\\\3_0.645_1.0_I_00059e.JPG',\n",
       " 'F:\\\\Pred_Estimation_2023\\\\PPC\\\\331_117_3_4298\\\\1_13_2024\\\\100CUDDY\\\\Cropped_images\\\\Human\\\\4_0.865_1.0_I_00059e.JPG',\n",
       " 'F:\\\\Pred_Estimation_2023\\\\PPC\\\\331_117_3_4298\\\\1_13_2024\\\\100CUDDY\\\\Cropped_images\\\\Human\\\\5_0.89_0.9700000286102295_I_00059e.JPG',\n",
       " 'F:\\\\Pred_Estimation_2023\\\\PPC\\\\331_117_3_4298\\\\1_13_2024\\\\100CUDDY\\\\Cropped_images\\\\Human\\\\6_0.365_0.949999988079071_I_00060a.JPG',\n",
       " 'F:\\\\Pred_Estimation_2023\\\\PPC\\\\331_117_3_4298\\\\1_13_2024\\\\100CUDDY\\\\Cropped_images\\\\Human\\\\7_0.772_1.0_I_00060a.JPG',\n",
       " 'F:\\\\Pred_Estimation_2023\\\\PPC\\\\331_117_3_4298\\\\1_13_2024\\\\100CUDDY\\\\Cropped_images\\\\Human\\\\8_0.886_1.0_I_00060a.JPG',\n",
       " 'F:\\\\Pred_Estimation_2023\\\\PPC\\\\331_117_3_4298\\\\1_13_2024\\\\100CUDDY\\\\Cropped_images\\\\Human\\\\4_0.315_0.9200000166893005_I_00060b.JPG',\n",
       " 'F:\\\\Pred_Estimation_2023\\\\PPC\\\\331_117_3_4298\\\\1_13_2024\\\\100CUDDY\\\\Cropped_images\\\\Human\\\\5_0.674_1.0_I_00060b.JPG',\n",
       " 'F:\\\\Pred_Estimation_2023\\\\PPC\\\\331_117_3_4298\\\\1_13_2024\\\\100CUDDY\\\\Cropped_images\\\\Human\\\\6_0.875_0.9900000095367432_I_00060b.JPG',\n",
       " 'F:\\\\Pred_Estimation_2023\\\\PPC\\\\331_117_3_4298\\\\1_13_2024\\\\100CUDDY\\\\Cropped_images\\\\Human\\\\3_0.119_0.9100000262260437_I_00060c.JPG',\n",
       " 'F:\\\\Pred_Estimation_2023\\\\PPC\\\\331_117_3_4298\\\\1_13_2024\\\\100CUDDY\\\\Cropped_images\\\\Human\\\\5_0.565_1.0_I_00060c.JPG',\n",
       " 'F:\\\\Pred_Estimation_2023\\\\PPC\\\\331_117_3_4298\\\\1_13_2024\\\\100CUDDY\\\\Cropped_images\\\\Human\\\\6_0.882_1.0_I_00060c.JPG',\n",
       " 'F:\\\\Pred_Estimation_2023\\\\PPC\\\\331_117_3_4298\\\\1_13_2024\\\\100CUDDY\\\\Cropped_images\\\\Human\\\\2_0.626_0.9100000262260437_I_00060d.JPG',\n",
       " 'F:\\\\Pred_Estimation_2023\\\\PPC\\\\331_117_3_4298\\\\1_13_2024\\\\100CUDDY\\\\Cropped_images\\\\Human\\\\3_0.799_1.0_I_00060d.JPG',\n",
       " 'F:\\\\Pred_Estimation_2023\\\\PPC\\\\331_117_3_4298\\\\1_13_2024\\\\100CUDDY\\\\Cropped_images\\\\Human\\\\4_0.869_0.9900000095367432_I_00060d.JPG',\n",
       " 'F:\\\\Pred_Estimation_2023\\\\PPC\\\\331_117_3_4298\\\\1_13_2024\\\\100CUDDY\\\\Cropped_images\\\\Human\\\\4_0.782_0.9900000095367432_I_00060e.JPG',\n",
       " 'F:\\\\Pred_Estimation_2023\\\\PPC\\\\331_117_3_4298\\\\1_13_2024\\\\100CUDDY\\\\Cropped_images\\\\Human\\\\5_0.839_1.0_I_00060e.JPG',\n",
       " 'F:\\\\Pred_Estimation_2023\\\\PPC\\\\331_117_3_4298\\\\1_13_2024\\\\100CUDDY\\\\Cropped_images\\\\Human\\\\6_0.879_1.0_I_00060e.JPG',\n",
       " 'F:\\\\Pred_Estimation_2023\\\\PPC\\\\331_117_3_4298\\\\1_13_2024\\\\100CUDDY\\\\Cropped_images\\\\Human\\\\3_0.816_0.949999988079071_I_00061a.JPG',\n",
       " 'F:\\\\Pred_Estimation_2023\\\\PPC\\\\331_117_3_4298\\\\1_13_2024\\\\100CUDDY\\\\Cropped_images\\\\Human\\\\4_0.888_1.0_I_00061a.JPG',\n",
       " 'F:\\\\Pred_Estimation_2023\\\\PPC\\\\331_117_3_4298\\\\1_13_2024\\\\100CUDDY\\\\Cropped_images\\\\Human\\\\5_0.951_1.0_I_00061a.JPG',\n",
       " 'F:\\\\Pred_Estimation_2023\\\\PPC\\\\331_117_3_4298\\\\1_13_2024\\\\100CUDDY\\\\Cropped_images\\\\Human\\\\4_0.828_0.9599999785423279_I_00061b.JPG',\n",
       " 'F:\\\\Pred_Estimation_2023\\\\PPC\\\\331_117_3_4298\\\\1_13_2024\\\\100CUDDY\\\\Cropped_images\\\\Human\\\\5_0.855_1.0_I_00061b.JPG',\n",
       " 'F:\\\\Pred_Estimation_2023\\\\PPC\\\\331_117_3_4298\\\\1_13_2024\\\\100CUDDY\\\\Cropped_images\\\\Human\\\\6_0.96_0.9900000095367432_I_00061b.JPG',\n",
       " 'F:\\\\Pred_Estimation_2023\\\\PPC\\\\331_117_3_4298\\\\1_13_2024\\\\100CUDDY\\\\Cropped_images\\\\Human\\\\5_0.42_0.8600000143051147_I_00061c.JPG',\n",
       " 'F:\\\\Pred_Estimation_2023\\\\PPC\\\\331_117_3_4298\\\\1_13_2024\\\\100CUDDY\\\\Cropped_images\\\\Human\\\\6_0.856_1.0_I_00061c.JPG',\n",
       " 'F:\\\\Pred_Estimation_2023\\\\PPC\\\\331_117_3_4298\\\\1_13_2024\\\\100CUDDY\\\\Cropped_images\\\\Human\\\\7_0.953_0.9900000095367432_I_00061c.JPG',\n",
       " 'F:\\\\Pred_Estimation_2023\\\\PPC\\\\331_117_3_4298\\\\1_13_2024\\\\100CUDDY\\\\Cropped_images\\\\Human\\\\7_0.254_0.8600000143051147_I_00061d.JPG',\n",
       " 'F:\\\\Pred_Estimation_2023\\\\PPC\\\\331_117_3_4298\\\\1_13_2024\\\\100CUDDY\\\\Cropped_images\\\\Human\\\\9_0.847_1.0_I_00061d.JPG',\n",
       " 'F:\\\\Pred_Estimation_2023\\\\PPC\\\\331_117_3_4298\\\\1_13_2024\\\\100CUDDY\\\\Cropped_images\\\\Human\\\\10_0.967_1.0_I_00061d.JPG',\n",
       " 'F:\\\\Pred_Estimation_2023\\\\PPC\\\\331_117_3_4298\\\\1_13_2024\\\\100CUDDY\\\\Cropped_images\\\\Human\\\\4_0.213_0.9900000095367432_I_00061e.JPG',\n",
       " 'F:\\\\Pred_Estimation_2023\\\\PPC\\\\331_117_3_4298\\\\1_13_2024\\\\100CUDDY\\\\Cropped_images\\\\Human\\\\5_0.311_0.9900000095367432_I_00061e.JPG',\n",
       " 'F:\\\\Pred_Estimation_2023\\\\PPC\\\\331_117_3_4298\\\\1_13_2024\\\\100CUDDY\\\\Cropped_images\\\\Human\\\\6_0.796_1.0_I_00061e.JPG',\n",
       " 'F:\\\\Pred_Estimation_2023\\\\PPC\\\\331_117_3_4298\\\\1_13_2024\\\\100CUDDY\\\\Cropped_images\\\\Human\\\\7_0.866_1.0_I_00061e.JPG',\n",
       " 'F:\\\\Pred_Estimation_2023\\\\PPC\\\\331_117_3_4298\\\\1_13_2024\\\\100CUDDY\\\\Cropped_images\\\\Human\\\\6_0.819_0.9800000190734863_I_00062a.JPG',\n",
       " 'F:\\\\Pred_Estimation_2023\\\\PPC\\\\331_117_3_4298\\\\1_13_2024\\\\100CUDDY\\\\Cropped_images\\\\Human\\\\7_0.849_0.9900000095367432_I_00062a.JPG',\n",
       " 'F:\\\\Pred_Estimation_2023\\\\PPC\\\\331_117_3_4298\\\\1_13_2024\\\\100CUDDY\\\\Cropped_images\\\\Human\\\\8_0.923_1.0_I_00062a.JPG',\n",
       " 'F:\\\\Pred_Estimation_2023\\\\PPC\\\\331_117_3_4298\\\\1_13_2024\\\\100CUDDY\\\\Cropped_images\\\\Human\\\\5_0.431_1.0_I_00062b.JPG',\n",
       " 'F:\\\\Pred_Estimation_2023\\\\PPC\\\\331_117_3_4298\\\\1_13_2024\\\\100CUDDY\\\\Cropped_images\\\\Human\\\\7_0.882_0.9900000095367432_I_00062b.JPG',\n",
       " 'F:\\\\Pred_Estimation_2023\\\\PPC\\\\331_117_3_4298\\\\1_13_2024\\\\100CUDDY\\\\Cropped_images\\\\Human\\\\8_0.899_0.9900000095367432_I_00062b.JPG',\n",
       " 'F:\\\\Pred_Estimation_2023\\\\PPC\\\\331_117_3_4298\\\\1_13_2024\\\\100CUDDY\\\\Cropped_images\\\\Human\\\\3_0.828_0.9900000095367432_I_00062c.JPG',\n",
       " 'F:\\\\Pred_Estimation_2023\\\\PPC\\\\331_117_3_4298\\\\1_13_2024\\\\100CUDDY\\\\Cropped_images\\\\Human\\\\4_0.877_0.9900000095367432_I_00062c.JPG',\n",
       " 'F:\\\\Pred_Estimation_2023\\\\PPC\\\\331_117_3_4298\\\\1_13_2024\\\\100CUDDY\\\\Cropped_images\\\\Human\\\\5_0.941_1.0_I_00062c.JPG',\n",
       " 'F:\\\\Pred_Estimation_2023\\\\PPC\\\\331_117_3_4298\\\\1_13_2024\\\\100CUDDY\\\\Cropped_images\\\\Human\\\\3_0.868_0.949999988079071_I_00062d.JPG',\n",
       " 'F:\\\\Pred_Estimation_2023\\\\PPC\\\\331_117_3_4298\\\\1_13_2024\\\\100CUDDY\\\\Cropped_images\\\\Human\\\\4_0.877_1.0_I_00062d.JPG',\n",
       " 'F:\\\\Pred_Estimation_2023\\\\PPC\\\\331_117_3_4298\\\\1_13_2024\\\\100CUDDY\\\\Cropped_images\\\\Human\\\\5_0.886_1.0_I_00062d.JPG',\n",
       " 'F:\\\\Pred_Estimation_2023\\\\PPC\\\\331_117_3_4298\\\\1_13_2024\\\\100CUDDY\\\\Cropped_images\\\\Human\\\\5_0.832_1.0_I_00062e.JPG',\n",
       " 'F:\\\\Pred_Estimation_2023\\\\PPC\\\\331_117_3_4298\\\\1_13_2024\\\\100CUDDY\\\\Cropped_images\\\\Human\\\\6_0.834_1.0_I_00062e.JPG',\n",
       " 'F:\\\\Pred_Estimation_2023\\\\PPC\\\\331_117_3_4298\\\\1_13_2024\\\\100CUDDY\\\\Cropped_images\\\\Human\\\\7_0.901_0.8199999928474426_I_00062e.JPG',\n",
       " 'F:\\\\Pred_Estimation_2023\\\\PPC\\\\331_117_3_4298\\\\1_13_2024\\\\100CUDDY\\\\Cropped_images\\\\Human\\\\3_0.107_0.9700000286102295_I_00063a.JPG',\n",
       " 'F:\\\\Pred_Estimation_2023\\\\PPC\\\\331_117_3_4298\\\\1_13_2024\\\\100CUDDY\\\\Cropped_images\\\\Human\\\\4_0.684_0.9700000286102295_I_00063a.JPG',\n",
       " 'F:\\\\Pred_Estimation_2023\\\\PPC\\\\331_117_3_4298\\\\1_13_2024\\\\100CUDDY\\\\Cropped_images\\\\Human\\\\5_0.78_1.0_I_00063a.JPG',\n",
       " 'F:\\\\Pred_Estimation_2023\\\\PPC\\\\331_117_3_4298\\\\1_13_2024\\\\100CUDDY\\\\Cropped_images\\\\Human\\\\6_0.81_0.9599999785423279_I_00063a.JPG',\n",
       " 'F:\\\\Pred_Estimation_2023\\\\PPC\\\\331_117_3_4298\\\\1_13_2024\\\\100CUDDY\\\\Cropped_images\\\\Human\\\\4_0.577_0.9900000095367432_I_00063b.JPG',\n",
       " 'F:\\\\Pred_Estimation_2023\\\\PPC\\\\331_117_3_4298\\\\1_13_2024\\\\100CUDDY\\\\Cropped_images\\\\Human\\\\5_0.778_1.0_I_00063b.JPG',\n",
       " 'F:\\\\Pred_Estimation_2023\\\\PPC\\\\331_117_3_4298\\\\1_13_2024\\\\100CUDDY\\\\Cropped_images\\\\Human\\\\1_0.775_1.0_I_00063c.JPG',\n",
       " 'F:\\\\Pred_Estimation_2023\\\\PPC\\\\331_117_3_4298\\\\1_13_2024\\\\100CUDDY\\\\Cropped_images\\\\Human\\\\2_0.934_0.9900000095367432_I_00063c.JPG',\n",
       " 'F:\\\\Pred_Estimation_2023\\\\PPC\\\\331_117_3_4298\\\\1_13_2024\\\\100CUDDY\\\\Cropped_images\\\\Human\\\\2_0.782_0.9900000095367432_I_00063d.JPG',\n",
       " 'F:\\\\Pred_Estimation_2023\\\\PPC\\\\331_117_3_4298\\\\1_13_2024\\\\100CUDDY\\\\Cropped_images\\\\Human\\\\3_0.825_1.0_I_00063d.JPG',\n",
       " 'F:\\\\Pred_Estimation_2023\\\\PPC\\\\331_117_3_4298\\\\1_13_2024\\\\100CUDDY\\\\Cropped_images\\\\Human\\\\2_0.785_1.0_I_00063e.JPG',\n",
       " 'F:\\\\Pred_Estimation_2023\\\\PPC\\\\331_117_3_4298\\\\1_13_2024\\\\100CUDDY\\\\Cropped_images\\\\Human\\\\3_0.825_0.9800000190734863_I_00063e.JPG',\n",
       " 'F:\\\\Pred_Estimation_2023\\\\PPC\\\\331_117_3_4298\\\\1_13_2024\\\\100CUDDY\\\\Cropped_images\\\\Human\\\\2_0.884_1.0_I_00064a.JPG',\n",
       " 'F:\\\\Pred_Estimation_2023\\\\PPC\\\\331_117_3_4298\\\\1_13_2024\\\\100CUDDY\\\\Cropped_images\\\\Human\\\\3_0.921_0.9900000095367432_I_00064a.JPG',\n",
       " 'F:\\\\Pred_Estimation_2023\\\\PPC\\\\331_117_3_4298\\\\1_13_2024\\\\100CUDDY\\\\Cropped_images\\\\Human\\\\2_0.894_1.0_I_00064b.JPG',\n",
       " 'F:\\\\Pred_Estimation_2023\\\\PPC\\\\331_117_3_4298\\\\1_13_2024\\\\100CUDDY\\\\Cropped_images\\\\Human\\\\5_0.644_1.0_I_00064c.JPG',\n",
       " 'F:\\\\Pred_Estimation_2023\\\\PPC\\\\331_117_3_4298\\\\1_13_2024\\\\100CUDDY\\\\Cropped_images\\\\Human\\\\6_0.791_0.8899999856948853_I_00064c.JPG',\n",
       " 'F:\\\\Pred_Estimation_2023\\\\PPC\\\\331_117_3_4298\\\\1_13_2024\\\\100CUDDY\\\\Cropped_images\\\\Human\\\\8_0.386_1.0_I_00064d.JPG',\n",
       " 'F:\\\\Pred_Estimation_2023\\\\PPC\\\\331_117_3_4298\\\\1_13_2024\\\\100CUDDY\\\\Cropped_images\\\\Human\\\\9_0.788_1.0_I_00064d.JPG',\n",
       " 'F:\\\\Pred_Estimation_2023\\\\PPC\\\\331_117_3_4298\\\\1_13_2024\\\\100CUDDY\\\\Cropped_images\\\\Human\\\\10_0.837_1.0_I_00064d.JPG',\n",
       " 'F:\\\\Pred_Estimation_2023\\\\PPC\\\\331_117_3_4298\\\\1_13_2024\\\\100CUDDY\\\\Cropped_images\\\\Human\\\\4_0.163_1.0_I_00064e.JPG',\n",
       " 'F:\\\\Pred_Estimation_2023\\\\PPC\\\\331_117_3_4298\\\\1_13_2024\\\\100CUDDY\\\\Cropped_images\\\\Human\\\\5_0.768_1.0_I_00064e.JPG',\n",
       " 'F:\\\\Pred_Estimation_2023\\\\PPC\\\\331_117_3_4298\\\\1_13_2024\\\\100CUDDY\\\\Cropped_images\\\\Human\\\\6_0.882_0.9800000190734863_I_00064e.JPG',\n",
       " 'F:\\\\Pred_Estimation_2023\\\\PPC\\\\331_117_3_4298\\\\1_13_2024\\\\100CUDDY\\\\Cropped_images\\\\Human\\\\2_0.591_1.0_I_00065a.JPG',\n",
       " 'F:\\\\Pred_Estimation_2023\\\\PPC\\\\331_117_3_4298\\\\1_13_2024\\\\100CUDDY\\\\Cropped_images\\\\Human\\\\3_0.857_0.9900000095367432_I_00065a.JPG',\n",
       " 'F:\\\\Pred_Estimation_2023\\\\PPC\\\\331_117_3_4298\\\\1_13_2024\\\\100CUDDY\\\\Cropped_images\\\\Human\\\\1_0.777_1.0_I_00065b.JPG',\n",
       " 'F:\\\\Pred_Estimation_2023\\\\PPC\\\\331_117_3_4298\\\\1_13_2024\\\\100CUDDY\\\\Cropped_images\\\\Human\\\\2_0.928_0.9900000095367432_I_00065b.JPG',\n",
       " 'F:\\\\Pred_Estimation_2023\\\\PPC\\\\331_117_3_4298\\\\1_13_2024\\\\100CUDDY\\\\Cropped_images\\\\Human\\\\7_0.723_1.0_I_00065c.JPG',\n",
       " 'F:\\\\Pred_Estimation_2023\\\\PPC\\\\331_117_3_4298\\\\1_13_2024\\\\100CUDDY\\\\Cropped_images\\\\Human\\\\8_0.87_0.9800000190734863_I_00065c.JPG',\n",
       " 'F:\\\\Pred_Estimation_2023\\\\PPC\\\\331_117_3_4298\\\\1_13_2024\\\\100CUDDY\\\\Cropped_images\\\\Human\\\\2_0.785_1.0_I_00065d.JPG',\n",
       " 'F:\\\\Pred_Estimation_2023\\\\PPC\\\\331_117_3_4298\\\\1_13_2024\\\\100CUDDY\\\\Cropped_images\\\\Human\\\\3_0.857_0.9399999976158142_I_00065d.JPG',\n",
       " 'F:\\\\Pred_Estimation_2023\\\\PPC\\\\331_117_3_4298\\\\1_13_2024\\\\100CUDDY\\\\Cropped_images\\\\Human\\\\4_0.868_1.0_I_00065d.JPG',\n",
       " 'F:\\\\Pred_Estimation_2023\\\\PPC\\\\331_117_3_4298\\\\1_13_2024\\\\100CUDDY\\\\Cropped_images\\\\Human\\\\2_0.771_1.0_I_00065e.JPG',\n",
       " 'F:\\\\Pred_Estimation_2023\\\\PPC\\\\331_117_3_4298\\\\1_13_2024\\\\100CUDDY\\\\Cropped_images\\\\Human\\\\3_0.773_1.0_I_00065e.JPG',\n",
       " 'F:\\\\Pred_Estimation_2023\\\\PPC\\\\331_117_3_4298\\\\1_13_2024\\\\100CUDDY\\\\Cropped_images\\\\Human\\\\4_0.9_1.0_I_00065e.JPG',\n",
       " 'F:\\\\Pred_Estimation_2023\\\\PPC\\\\331_117_3_4298\\\\1_13_2024\\\\100CUDDY\\\\Cropped_images\\\\Human\\\\5_0.811_1.0_I_00066a.JPG',\n",
       " 'F:\\\\Pred_Estimation_2023\\\\PPC\\\\331_117_3_4298\\\\1_13_2024\\\\100CUDDY\\\\Cropped_images\\\\Human\\\\6_0.897_1.0_I_00066a.JPG',\n",
       " 'F:\\\\Pred_Estimation_2023\\\\PPC\\\\331_117_3_4298\\\\1_13_2024\\\\100CUDDY\\\\Cropped_images\\\\Human\\\\4_0.108_0.9599999785423279_I_00066b.JPG',\n",
       " 'F:\\\\Pred_Estimation_2023\\\\PPC\\\\331_117_3_4298\\\\1_13_2024\\\\100CUDDY\\\\Cropped_images\\\\Human\\\\6_0.827_1.0_I_00066b.JPG',\n",
       " 'F:\\\\Pred_Estimation_2023\\\\PPC\\\\331_117_3_4298\\\\1_13_2024\\\\100CUDDY\\\\Cropped_images\\\\Human\\\\7_0.902_1.0_I_00066b.JPG',\n",
       " 'F:\\\\Pred_Estimation_2023\\\\PPC\\\\331_117_3_4298\\\\1_13_2024\\\\100CUDDY\\\\Cropped_images\\\\Human\\\\3_0.124_0.949999988079071_I_00066c.JPG',\n",
       " 'F:\\\\Pred_Estimation_2023\\\\PPC\\\\331_117_3_4298\\\\1_13_2024\\\\100CUDDY\\\\Cropped_images\\\\Human\\\\5_0.806_1.0_I_00066c.JPG',\n",
       " 'F:\\\\Pred_Estimation_2023\\\\PPC\\\\331_117_3_4298\\\\1_13_2024\\\\100CUDDY\\\\Cropped_images\\\\Human\\\\6_0.907_1.0_I_00066c.JPG',\n",
       " 'F:\\\\Pred_Estimation_2023\\\\PPC\\\\331_117_3_4298\\\\1_13_2024\\\\100CUDDY\\\\Cropped_images\\\\Human\\\\2_0.762_1.0_I_00066d.JPG',\n",
       " 'F:\\\\Pred_Estimation_2023\\\\PPC\\\\331_117_3_4298\\\\1_13_2024\\\\100CUDDY\\\\Cropped_images\\\\Human\\\\3_0.913_1.0_I_00066d.JPG',\n",
       " 'F:\\\\Pred_Estimation_2023\\\\PPC\\\\331_117_3_4298\\\\1_13_2024\\\\100CUDDY\\\\Cropped_images\\\\Human\\\\2_0.647_1.0_I_00066e.JPG',\n",
       " 'F:\\\\Pred_Estimation_2023\\\\PPC\\\\331_117_3_4298\\\\1_13_2024\\\\100CUDDY\\\\Cropped_images\\\\Human\\\\3_0.858_1.0_I_00066e.JPG',\n",
       " 'F:\\\\Pred_Estimation_2023\\\\PPC\\\\331_117_3_4298\\\\1_13_2024\\\\100CUDDY\\\\Cropped_images\\\\Human\\\\5_0.51_0.9100000262260437_I_00067a.JPG',\n",
       " 'F:\\\\Pred_Estimation_2023\\\\PPC\\\\331_117_3_4298\\\\1_13_2024\\\\100CUDDY\\\\Cropped_images\\\\Human\\\\6_0.831_1.0_I_00067a.JPG',\n",
       " 'F:\\\\Pred_Estimation_2023\\\\PPC\\\\331_117_3_4298\\\\1_13_2024\\\\100CUDDY\\\\Cropped_images\\\\Human\\\\7_0.903_0.9800000190734863_I_00067a.JPG',\n",
       " 'F:\\\\Pred_Estimation_2023\\\\PPC\\\\331_117_3_4298\\\\1_13_2024\\\\100CUDDY\\\\Cropped_images\\\\Human\\\\4_0.736_0.9700000286102295_I_00067b.JPG',\n",
       " 'F:\\\\Pred_Estimation_2023\\\\PPC\\\\331_117_3_4298\\\\1_13_2024\\\\100CUDDY\\\\Cropped_images\\\\Human\\\\5_0.848_0.9900000095367432_I_00067b.JPG',\n",
       " 'F:\\\\Pred_Estimation_2023\\\\PPC\\\\331_117_3_4298\\\\1_13_2024\\\\100CUDDY\\\\Cropped_images\\\\Human\\\\6_0.874_1.0_I_00067b.JPG',\n",
       " 'F:\\\\Pred_Estimation_2023\\\\PPC\\\\331_117_3_4298\\\\1_13_2024\\\\100CUDDY\\\\Cropped_images\\\\Human\\\\8_0.637_1.0_I_00067c.JPG',\n",
       " 'F:\\\\Pred_Estimation_2023\\\\PPC\\\\331_117_3_4298\\\\1_13_2024\\\\100CUDDY\\\\Cropped_images\\\\Human\\\\9_0.826_1.0_I_00067c.JPG',\n",
       " 'F:\\\\Pred_Estimation_2023\\\\PPC\\\\331_117_3_4298\\\\1_13_2024\\\\100CUDDY\\\\Cropped_images\\\\Human\\\\10_0.837_1.0_I_00067c.JPG',\n",
       " 'F:\\\\Pred_Estimation_2023\\\\PPC\\\\331_117_3_4298\\\\1_13_2024\\\\100CUDDY\\\\Cropped_images\\\\Human\\\\8_0.752_1.0_I_00067d.JPG',\n",
       " 'F:\\\\Pred_Estimation_2023\\\\PPC\\\\331_117_3_4298\\\\1_13_2024\\\\100CUDDY\\\\Cropped_images\\\\Human\\\\9_0.802_1.0_I_00067d.JPG',\n",
       " 'F:\\\\Pred_Estimation_2023\\\\PPC\\\\331_117_3_4298\\\\1_13_2024\\\\100CUDDY\\\\Cropped_images\\\\Human\\\\10_0.897_0.9100000262260437_I_00067d.JPG',\n",
       " 'F:\\\\Pred_Estimation_2023\\\\PPC\\\\331_117_3_4298\\\\1_13_2024\\\\100CUDDY\\\\Cropped_images\\\\Human\\\\6_0.764_1.0_I_00067e.JPG',\n",
       " 'F:\\\\Pred_Estimation_2023\\\\PPC\\\\331_117_3_4298\\\\1_13_2024\\\\100CUDDY\\\\Cropped_images\\\\Human\\\\7_0.813_1.0_I_00067e.JPG',\n",
       " 'F:\\\\Pred_Estimation_2023\\\\PPC\\\\331_117_3_4298\\\\1_13_2024\\\\100CUDDY\\\\Cropped_images\\\\Human\\\\8_0.839_1.0_I_00067e.JPG',\n",
       " 'F:\\\\Pred_Estimation_2023\\\\PPC\\\\331_117_3_4298\\\\1_13_2024\\\\100CUDDY\\\\Cropped_images\\\\Human\\\\6_0.789_1.0_I_00068a.JPG',\n",
       " 'F:\\\\Pred_Estimation_2023\\\\PPC\\\\331_117_3_4298\\\\1_13_2024\\\\100CUDDY\\\\Cropped_images\\\\Human\\\\7_0.849_1.0_I_00068a.JPG',\n",
       " 'F:\\\\Pred_Estimation_2023\\\\PPC\\\\331_117_3_4298\\\\1_13_2024\\\\100CUDDY\\\\Cropped_images\\\\Human\\\\5_0.78_1.0_I_00068b.JPG',\n",
       " 'F:\\\\Pred_Estimation_2023\\\\PPC\\\\331_117_3_4298\\\\1_13_2024\\\\100CUDDY\\\\Cropped_images\\\\Human\\\\6_0.833_1.0_I_00068b.JPG',\n",
       " 'F:\\\\Pred_Estimation_2023\\\\PPC\\\\331_117_3_4298\\\\1_13_2024\\\\100CUDDY\\\\Cropped_images\\\\Human\\\\7_0.897_1.0_I_00068b.JPG',\n",
       " 'F:\\\\Pred_Estimation_2023\\\\PPC\\\\331_117_3_4298\\\\1_13_2024\\\\100CUDDY\\\\Cropped_images\\\\Human\\\\6_0.548_0.9599999785423279_I_00068c.JPG',\n",
       " 'F:\\\\Pred_Estimation_2023\\\\PPC\\\\331_117_3_4298\\\\1_13_2024\\\\100CUDDY\\\\Cropped_images\\\\Human\\\\7_0.636_0.9599999785423279_I_00068c.JPG',\n",
       " 'F:\\\\Pred_Estimation_2023\\\\PPC\\\\331_117_3_4298\\\\1_13_2024\\\\100CUDDY\\\\Cropped_images\\\\Human\\\\8_0.811_1.0_I_00068c.JPG',\n",
       " 'F:\\\\Pred_Estimation_2023\\\\PPC\\\\331_117_3_4298\\\\1_13_2024\\\\100CUDDY\\\\Cropped_images\\\\Human\\\\9_0.843_1.0_I_00068c.JPG',\n",
       " 'F:\\\\Pred_Estimation_2023\\\\PPC\\\\331_117_3_4298\\\\1_13_2024\\\\100CUDDY\\\\Cropped_images\\\\Human\\\\5_0.844_0.9800000190734863_I_00068d.JPG',\n",
       " 'F:\\\\Pred_Estimation_2023\\\\PPC\\\\331_117_3_4298\\\\1_13_2024\\\\100CUDDY\\\\Cropped_images\\\\Human\\\\6_0.883_0.9900000095367432_I_00068d.JPG',\n",
       " 'F:\\\\Pred_Estimation_2023\\\\PPC\\\\331_117_3_4298\\\\1_13_2024\\\\100CUDDY\\\\Cropped_images\\\\Human\\\\5_0.814_1.0_I_00068e.JPG',\n",
       " 'F:\\\\Pred_Estimation_2023\\\\PPC\\\\331_117_3_4298\\\\1_13_2024\\\\100CUDDY\\\\Cropped_images\\\\Human\\\\6_0.866_1.0_I_00068e.JPG',\n",
       " 'F:\\\\Pred_Estimation_2023\\\\PPC\\\\331_117_3_4298\\\\1_13_2024\\\\100CUDDY\\\\Cropped_images\\\\Human\\\\7_0.885_0.8199999928474426_I_00068e.JPG',\n",
       " 'F:\\\\Pred_Estimation_2023\\\\PPC\\\\331_117_3_4298\\\\1_13_2024\\\\100CUDDY\\\\Cropped_images\\\\Human\\\\5_0.769_1.0_I_00069a.JPG',\n",
       " 'F:\\\\Pred_Estimation_2023\\\\PPC\\\\331_117_3_4298\\\\1_13_2024\\\\100CUDDY\\\\Cropped_images\\\\Human\\\\6_0.904_1.0_I_00069a.JPG',\n",
       " 'F:\\\\Pred_Estimation_2023\\\\PPC\\\\331_117_3_4298\\\\1_13_2024\\\\100CUDDY\\\\Cropped_images\\\\Human\\\\7_0.919_0.9700000286102295_I_00069a.JPG',\n",
       " 'F:\\\\Pred_Estimation_2023\\\\PPC\\\\331_117_3_4298\\\\1_13_2024\\\\100CUDDY\\\\Cropped_images\\\\Human\\\\2_0.849_1.0_I_00069b.JPG',\n",
       " 'F:\\\\Pred_Estimation_2023\\\\PPC\\\\331_117_3_4298\\\\1_13_2024\\\\100CUDDY\\\\Cropped_images\\\\Human\\\\3_0.913_1.0_I_00069b.JPG',\n",
       " 'F:\\\\Pred_Estimation_2023\\\\PPC\\\\331_117_3_4298\\\\1_13_2024\\\\100CUDDY\\\\Cropped_images\\\\Human\\\\4_0.937_1.0_I_00069b.JPG',\n",
       " 'F:\\\\Pred_Estimation_2023\\\\PPC\\\\331_117_3_4298\\\\1_13_2024\\\\100CUDDY\\\\Cropped_images\\\\Human\\\\4_0.16_0.9700000286102295_I_00069c.JPG',\n",
       " 'F:\\\\Pred_Estimation_2023\\\\PPC\\\\331_117_3_4298\\\\1_13_2024\\\\100CUDDY\\\\Cropped_images\\\\Human\\\\6_0.779_1.0_I_00069c.JPG',\n",
       " 'F:\\\\Pred_Estimation_2023\\\\PPC\\\\331_117_3_4298\\\\1_13_2024\\\\100CUDDY\\\\Cropped_images\\\\Human\\\\7_0.901_1.0_I_00069c.JPG',\n",
       " 'F:\\\\Pred_Estimation_2023\\\\PPC\\\\331_117_3_4298\\\\1_13_2024\\\\100CUDDY\\\\Cropped_images\\\\Human\\\\8_0.93_0.9900000095367432_I_00069c.JPG',\n",
       " 'F:\\\\Pred_Estimation_2023\\\\PPC\\\\331_117_3_4298\\\\1_13_2024\\\\100CUDDY\\\\Cropped_images\\\\Human\\\\4_0.16_1.0_I_00069d.JPG',\n",
       " 'F:\\\\Pred_Estimation_2023\\\\PPC\\\\331_117_3_4298\\\\1_13_2024\\\\100CUDDY\\\\Cropped_images\\\\Human\\\\5_0.668_1.0_I_00069d.JPG',\n",
       " 'F:\\\\Pred_Estimation_2023\\\\PPC\\\\331_117_3_4298\\\\1_13_2024\\\\100CUDDY\\\\Cropped_images\\\\Human\\\\6_0.88_1.0_I_00069d.JPG',\n",
       " 'F:\\\\Pred_Estimation_2023\\\\PPC\\\\331_117_3_4298\\\\1_13_2024\\\\100CUDDY\\\\Cropped_images\\\\Human\\\\7_0.965_1.0_I_00069d.JPG',\n",
       " 'F:\\\\Pred_Estimation_2023\\\\PPC\\\\331_117_3_4298\\\\1_13_2024\\\\100CUDDY\\\\Cropped_images\\\\Human\\\\5_0.145_1.0_I_00069e.JPG',\n",
       " 'F:\\\\Pred_Estimation_2023\\\\PPC\\\\331_117_3_4298\\\\1_13_2024\\\\100CUDDY\\\\Cropped_images\\\\Human\\\\6_0.701_1.0_I_00069e.JPG',\n",
       " 'F:\\\\Pred_Estimation_2023\\\\PPC\\\\331_117_3_4298\\\\1_13_2024\\\\100CUDDY\\\\Cropped_images\\\\Human\\\\7_0.882_1.0_I_00069e.JPG',\n",
       " 'F:\\\\Pred_Estimation_2023\\\\PPC\\\\331_117_3_4298\\\\1_13_2024\\\\100CUDDY\\\\Cropped_images\\\\Human\\\\8_0.949_1.0_I_00069e.JPG',\n",
       " 'F:\\\\Pred_Estimation_2023\\\\PPC\\\\331_117_3_4298\\\\1_13_2024\\\\100CUDDY\\\\Cropped_images\\\\Human\\\\1_0.875_1.0_I_00070a.JPG',\n",
       " 'F:\\\\Pred_Estimation_2023\\\\PPC\\\\331_117_3_4298\\\\1_13_2024\\\\100CUDDY\\\\Cropped_images\\\\Human\\\\2_0.939_1.0_I_00070a.JPG',\n",
       " 'F:\\\\Pred_Estimation_2023\\\\PPC\\\\331_117_3_4298\\\\1_13_2024\\\\100CUDDY\\\\Cropped_images\\\\Human\\\\3_0.964_0.9800000190734863_I_00070a.JPG',\n",
       " 'F:\\\\Pred_Estimation_2023\\\\PPC\\\\331_117_3_4298\\\\1_13_2024\\\\100CUDDY\\\\Cropped_images\\\\Human\\\\5_0.852_1.0_I_00070b.JPG',\n",
       " 'F:\\\\Pred_Estimation_2023\\\\PPC\\\\331_117_3_4298\\\\1_13_2024\\\\100CUDDY\\\\Cropped_images\\\\Human\\\\6_0.921_1.0_I_00070b.JPG',\n",
       " 'F:\\\\Pred_Estimation_2023\\\\PPC\\\\331_117_3_4298\\\\1_13_2024\\\\100CUDDY\\\\Cropped_images\\\\Human\\\\7_0.963_1.0_I_00070b.JPG',\n",
       " 'F:\\\\Pred_Estimation_2023\\\\PPC\\\\331_117_3_4298\\\\1_13_2024\\\\100CUDDY\\\\Cropped_images\\\\Human\\\\4_0.846_1.0_I_00070c.JPG',\n",
       " 'F:\\\\Pred_Estimation_2023\\\\PPC\\\\331_117_3_4298\\\\1_13_2024\\\\100CUDDY\\\\Cropped_images\\\\Human\\\\5_0.934_1.0_I_00070c.JPG',\n",
       " 'F:\\\\Pred_Estimation_2023\\\\PPC\\\\331_117_3_4298\\\\1_13_2024\\\\100CUDDY\\\\Cropped_images\\\\Human\\\\6_0.963_1.0_I_00070c.JPG',\n",
       " 'F:\\\\Pred_Estimation_2023\\\\PPC\\\\331_117_3_4298\\\\1_13_2024\\\\100CUDDY\\\\Cropped_images\\\\Human\\\\3_0.862_1.0_I_00070d.JPG',\n",
       " 'F:\\\\Pred_Estimation_2023\\\\PPC\\\\331_117_3_4298\\\\1_13_2024\\\\100CUDDY\\\\Cropped_images\\\\Human\\\\4_0.904_1.0_I_00070d.JPG',\n",
       " 'F:\\\\Pred_Estimation_2023\\\\PPC\\\\331_117_3_4298\\\\1_13_2024\\\\100CUDDY\\\\Cropped_images\\\\Human\\\\5_0.964_0.9900000095367432_I_00070d.JPG',\n",
       " 'F:\\\\Pred_Estimation_2023\\\\PPC\\\\331_117_3_4298\\\\1_13_2024\\\\100CUDDY\\\\Cropped_images\\\\Human\\\\4_0.778_1.0_I_00070e.JPG',\n",
       " 'F:\\\\Pred_Estimation_2023\\\\PPC\\\\331_117_3_4298\\\\1_13_2024\\\\100CUDDY\\\\Cropped_images\\\\Human\\\\5_0.92_1.0_I_00070e.JPG',\n",
       " 'F:\\\\Pred_Estimation_2023\\\\PPC\\\\331_117_3_4298\\\\1_13_2024\\\\100CUDDY\\\\Cropped_images\\\\Human\\\\6_0.957_0.8700000047683716_I_00070e.JPG',\n",
       " 'F:\\\\Pred_Estimation_2023\\\\PPC\\\\331_117_3_4298\\\\1_13_2024\\\\100CUDDY\\\\Cropped_images\\\\Human\\\\3_0.582_1.0_I_00071a.JPG',\n",
       " 'F:\\\\Pred_Estimation_2023\\\\PPC\\\\331_117_3_4298\\\\1_13_2024\\\\100CUDDY\\\\Cropped_images\\\\Human\\\\4_0.919_1.0_I_00071a.JPG',\n",
       " 'F:\\\\Pred_Estimation_2023\\\\PPC\\\\331_117_3_4298\\\\1_13_2024\\\\100CUDDY\\\\Cropped_images\\\\Human\\\\5_0.923_0.9900000095367432_I_00071a.JPG',\n",
       " 'F:\\\\Pred_Estimation_2023\\\\PPC\\\\331_117_3_4298\\\\1_13_2024\\\\100CUDDY\\\\Cropped_images\\\\Human\\\\2_0.793_1.0_I_00071b.JPG',\n",
       " 'F:\\\\Pred_Estimation_2023\\\\PPC\\\\331_117_3_4298\\\\1_13_2024\\\\100CUDDY\\\\Cropped_images\\\\Human\\\\3_0.819_1.0_I_00071b.JPG',\n",
       " 'F:\\\\Pred_Estimation_2023\\\\PPC\\\\331_117_3_4298\\\\1_13_2024\\\\100CUDDY\\\\Cropped_images\\\\Human\\\\4_0.917_0.9900000095367432_I_00071b.JPG',\n",
       " 'F:\\\\Pred_Estimation_2023\\\\PPC\\\\331_117_3_4298\\\\1_13_2024\\\\100CUDDY\\\\Cropped_images\\\\Human\\\\5_0.792_1.0_I_00071c.JPG',\n",
       " 'F:\\\\Pred_Estimation_2023\\\\PPC\\\\331_117_3_4298\\\\1_13_2024\\\\100CUDDY\\\\Cropped_images\\\\Human\\\\6_0.839_1.0_I_00071c.JPG',\n",
       " 'F:\\\\Pred_Estimation_2023\\\\PPC\\\\331_117_3_4298\\\\1_13_2024\\\\100CUDDY\\\\Cropped_images\\\\Human\\\\7_0.921_1.0_I_00071c.JPG',\n",
       " 'F:\\\\Pred_Estimation_2023\\\\PPC\\\\331_117_3_4298\\\\1_13_2024\\\\100CUDDY\\\\Cropped_images\\\\Human\\\\5_0.715_0.9700000286102295_I_00071d.JPG',\n",
       " 'F:\\\\Pred_Estimation_2023\\\\PPC\\\\331_117_3_4298\\\\1_13_2024\\\\100CUDDY\\\\Cropped_images\\\\Human\\\\6_0.832_1.0_I_00071d.JPG',\n",
       " 'F:\\\\Pred_Estimation_2023\\\\PPC\\\\331_117_3_4298\\\\1_13_2024\\\\100CUDDY\\\\Cropped_images\\\\Human\\\\7_0.92_1.0_I_00071d.JPG',\n",
       " 'F:\\\\Pred_Estimation_2023\\\\PPC\\\\331_117_3_4298\\\\1_13_2024\\\\100CUDDY\\\\Cropped_images\\\\Human\\\\5_0.774_0.9800000190734863_I_00071e.JPG',\n",
       " 'F:\\\\Pred_Estimation_2023\\\\PPC\\\\331_117_3_4298\\\\1_13_2024\\\\100CUDDY\\\\Cropped_images\\\\Human\\\\6_0.805_1.0_I_00071e.JPG',\n",
       " 'F:\\\\Pred_Estimation_2023\\\\PPC\\\\331_117_3_4298\\\\1_13_2024\\\\100CUDDY\\\\Cropped_images\\\\Human\\\\7_0.914_1.0_I_00071e.JPG',\n",
       " 'F:\\\\Pred_Estimation_2023\\\\PPC\\\\331_117_3_4298\\\\1_13_2024\\\\100CUDDY\\\\Cropped_images\\\\Human\\\\4_0.843_1.0_I_00072a.JPG',\n",
       " 'F:\\\\Pred_Estimation_2023\\\\PPC\\\\331_117_3_4298\\\\1_13_2024\\\\100CUDDY\\\\Cropped_images\\\\Human\\\\5_0.89_0.9900000095367432_I_00072a.JPG',\n",
       " 'F:\\\\Pred_Estimation_2023\\\\PPC\\\\331_117_3_4298\\\\1_13_2024\\\\100CUDDY\\\\Cropped_images\\\\Human\\\\6_0.934_1.0_I_00072a.JPG',\n",
       " 'F:\\\\Pred_Estimation_2023\\\\PPC\\\\331_117_3_4298\\\\1_13_2024\\\\100CUDDY\\\\Cropped_images\\\\Human\\\\3_0.833_1.0_I_00072b.JPG',\n",
       " 'F:\\\\Pred_Estimation_2023\\\\PPC\\\\331_117_3_4298\\\\1_13_2024\\\\100CUDDY\\\\Cropped_images\\\\Human\\\\4_0.929_1.0_I_00072b.JPG',\n",
       " 'F:\\\\Pred_Estimation_2023\\\\PPC\\\\331_117_3_4298\\\\1_13_2024\\\\100CUDDY\\\\Cropped_images\\\\Human\\\\5_0.937_1.0_I_00072b.JPG',\n",
       " 'F:\\\\Pred_Estimation_2023\\\\PPC\\\\331_117_3_4298\\\\1_13_2024\\\\100CUDDY\\\\Cropped_images\\\\Human\\\\6_0.79_1.0_I_00072c.JPG',\n",
       " 'F:\\\\Pred_Estimation_2023\\\\PPC\\\\331_117_3_4298\\\\1_13_2024\\\\100CUDDY\\\\Cropped_images\\\\Human\\\\7_0.905_1.0_I_00072c.JPG',\n",
       " 'F:\\\\Pred_Estimation_2023\\\\PPC\\\\331_117_3_4298\\\\1_13_2024\\\\100CUDDY\\\\Cropped_images\\\\Human\\\\8_0.933_1.0_I_00072c.JPG',\n",
       " 'F:\\\\Pred_Estimation_2023\\\\PPC\\\\331_117_3_4298\\\\1_13_2024\\\\100CUDDY\\\\Cropped_images\\\\Human\\\\7_0.289_1.0_I_00072d.JPG',\n",
       " 'F:\\\\Pred_Estimation_2023\\\\PPC\\\\331_117_3_4298\\\\1_13_2024\\\\100CUDDY\\\\Cropped_images\\\\Human\\\\8_0.701_0.9900000095367432_I_00072d.JPG',\n",
       " 'F:\\\\Pred_Estimation_2023\\\\PPC\\\\331_117_3_4298\\\\1_13_2024\\\\100CUDDY\\\\Cropped_images\\\\Human\\\\9_0.89_1.0_I_00072d.JPG',\n",
       " 'F:\\\\Pred_Estimation_2023\\\\PPC\\\\331_117_3_4298\\\\1_13_2024\\\\100CUDDY\\\\Cropped_images\\\\Human\\\\10_0.942_1.0_I_00072d.JPG',\n",
       " 'F:\\\\Pred_Estimation_2023\\\\PPC\\\\331_117_3_4298\\\\1_13_2024\\\\100CUDDY\\\\Cropped_images\\\\Human\\\\11_0.503_1.0_I_00072e.JPG',\n",
       " 'F:\\\\Pred_Estimation_2023\\\\PPC\\\\331_117_3_4298\\\\1_13_2024\\\\100CUDDY\\\\Cropped_images\\\\Human\\\\12_0.843_1.0_I_00072e.JPG',\n",
       " 'F:\\\\Pred_Estimation_2023\\\\PPC\\\\331_117_3_4298\\\\1_13_2024\\\\100CUDDY\\\\Cropped_images\\\\Human\\\\5_0.593_1.0_I_00073a.JPG',\n",
       " 'F:\\\\Pred_Estimation_2023\\\\PPC\\\\331_117_3_4298\\\\1_13_2024\\\\100CUDDY\\\\Cropped_images\\\\Human\\\\6_0.898_1.0_I_00073a.JPG',\n",
       " 'F:\\\\Pred_Estimation_2023\\\\PPC\\\\331_117_3_4298\\\\1_13_2024\\\\100CUDDY\\\\Cropped_images\\\\Human\\\\7_0.945_1.0_I_00073a.JPG',\n",
       " 'F:\\\\Pred_Estimation_2023\\\\PPC\\\\331_117_3_4298\\\\1_13_2024\\\\100CUDDY\\\\Cropped_images\\\\Human\\\\7_0.802_1.0_I_00073b.JPG',\n",
       " 'F:\\\\Pred_Estimation_2023\\\\PPC\\\\331_117_3_4298\\\\1_13_2024\\\\100CUDDY\\\\Cropped_images\\\\Human\\\\8_0.837_1.0_I_00073b.JPG',\n",
       " 'F:\\\\Pred_Estimation_2023\\\\PPC\\\\331_117_3_4298\\\\1_13_2024\\\\100CUDDY\\\\Cropped_images\\\\Human\\\\7_0.16_0.9900000095367432_I_00073c.JPG',\n",
       " 'F:\\\\Pred_Estimation_2023\\\\PPC\\\\331_117_3_4298\\\\1_13_2024\\\\100CUDDY\\\\Cropped_images\\\\Human\\\\8_0.796_1.0_I_00073c.JPG',\n",
       " 'F:\\\\Pred_Estimation_2023\\\\PPC\\\\331_117_3_4298\\\\1_13_2024\\\\100CUDDY\\\\Cropped_images\\\\Human\\\\9_0.81_1.0_I_00073c.JPG',\n",
       " 'F:\\\\Pred_Estimation_2023\\\\PPC\\\\331_117_3_4298\\\\1_13_2024\\\\100CUDDY\\\\Cropped_images\\\\Human\\\\10_0.92_0.9900000095367432_I_00073c.JPG',\n",
       " 'F:\\\\Pred_Estimation_2023\\\\PPC\\\\331_117_3_4298\\\\1_13_2024\\\\100CUDDY\\\\Cropped_images\\\\Human\\\\7_0.121_1.0_I_00073d.JPG',\n",
       " 'F:\\\\Pred_Estimation_2023\\\\PPC\\\\331_117_3_4298\\\\1_13_2024\\\\100CUDDY\\\\Cropped_images\\\\Human\\\\8_0.789_1.0_I_00073d.JPG',\n",
       " 'F:\\\\Pred_Estimation_2023\\\\PPC\\\\331_117_3_4298\\\\1_13_2024\\\\100CUDDY\\\\Cropped_images\\\\Human\\\\9_0.837_0.9800000190734863_I_00073d.JPG',\n",
       " 'F:\\\\Pred_Estimation_2023\\\\PPC\\\\331_117_3_4298\\\\1_13_2024\\\\100CUDDY\\\\Cropped_images\\\\Human\\\\10_0.936_0.8500000238418579_I_00073d.JPG',\n",
       " 'F:\\\\Pred_Estimation_2023\\\\PPC\\\\331_117_3_4298\\\\1_13_2024\\\\100CUDDY\\\\Cropped_images\\\\Human\\\\5_0.286_0.8899999856948853_I_00073e.JPG',\n",
       " 'F:\\\\Pred_Estimation_2023\\\\PPC\\\\331_117_3_4298\\\\1_13_2024\\\\100CUDDY\\\\Cropped_images\\\\Human\\\\6_0.348_0.9200000166893005_I_00073e.JPG',\n",
       " 'F:\\\\Pred_Estimation_2023\\\\PPC\\\\331_117_3_4298\\\\1_13_2024\\\\100CUDDY\\\\Cropped_images\\\\Human\\\\7_0.841_1.0_I_00073e.JPG',\n",
       " 'F:\\\\Pred_Estimation_2023\\\\PPC\\\\331_117_3_4298\\\\1_13_2024\\\\100CUDDY\\\\Cropped_images\\\\Human\\\\8_0.875_1.0_I_00073e.JPG',\n",
       " 'F:\\\\Pred_Estimation_2023\\\\PPC\\\\331_117_3_4298\\\\1_13_2024\\\\100CUDDY\\\\Cropped_images\\\\Human\\\\9_0.924_0.9700000286102295_I_00073e.JPG',\n",
       " 'F:\\\\Pred_Estimation_2023\\\\PPC\\\\331_117_3_4298\\\\1_13_2024\\\\100CUDDY\\\\Cropped_images\\\\Human\\\\5_0.833_1.0_I_00074a.JPG',\n",
       " 'F:\\\\Pred_Estimation_2023\\\\PPC\\\\331_117_3_4298\\\\1_13_2024\\\\100CUDDY\\\\Cropped_images\\\\Human\\\\6_0.922_0.9800000190734863_I_00074a.JPG',\n",
       " 'F:\\\\Pred_Estimation_2023\\\\PPC\\\\331_117_3_4298\\\\1_13_2024\\\\100CUDDY\\\\Cropped_images\\\\Human\\\\7_0.941_1.0_I_00074a.JPG',\n",
       " 'F:\\\\Pred_Estimation_2023\\\\PPC\\\\331_117_3_4298\\\\1_13_2024\\\\100CUDDY\\\\Cropped_images\\\\Human\\\\2_0.792_1.0_I_00074b.JPG',\n",
       " 'F:\\\\Pred_Estimation_2023\\\\PPC\\\\331_117_3_4298\\\\1_13_2024\\\\100CUDDY\\\\Cropped_images\\\\Human\\\\3_0.906_1.0_I_00074b.JPG',\n",
       " 'F:\\\\Pred_Estimation_2023\\\\PPC\\\\331_117_3_4298\\\\1_13_2024\\\\100CUDDY\\\\Cropped_images\\\\Human\\\\4_0.951_1.0_I_00074b.JPG',\n",
       " 'F:\\\\Pred_Estimation_2023\\\\PPC\\\\331_117_3_4298\\\\1_13_2024\\\\100CUDDY\\\\Cropped_images\\\\Human\\\\2_0.821_1.0_I_00074c.JPG',\n",
       " 'F:\\\\Pred_Estimation_2023\\\\PPC\\\\331_117_3_4298\\\\1_13_2024\\\\100CUDDY\\\\Cropped_images\\\\Human\\\\3_0.871_1.0_I_00074c.JPG',\n",
       " 'F:\\\\Pred_Estimation_2023\\\\PPC\\\\331_117_3_4298\\\\1_13_2024\\\\100CUDDY\\\\Cropped_images\\\\Human\\\\4_0.938_1.0_I_00074c.JPG',\n",
       " 'F:\\\\Pred_Estimation_2023\\\\PPC\\\\331_117_3_4298\\\\1_13_2024\\\\100CUDDY\\\\Cropped_images\\\\Human\\\\2_0.795_1.0_I_00074d.JPG',\n",
       " 'F:\\\\Pred_Estimation_2023\\\\PPC\\\\331_117_3_4298\\\\1_13_2024\\\\100CUDDY\\\\Cropped_images\\\\Human\\\\3_0.887_1.0_I_00074d.JPG',\n",
       " 'F:\\\\Pred_Estimation_2023\\\\PPC\\\\331_117_3_4298\\\\1_13_2024\\\\100CUDDY\\\\Cropped_images\\\\Human\\\\4_0.946_1.0_I_00074d.JPG',\n",
       " 'F:\\\\Pred_Estimation_2023\\\\PPC\\\\331_117_3_4298\\\\1_13_2024\\\\100CUDDY\\\\Cropped_images\\\\Human\\\\3_0.771_1.0_I_00074e.JPG',\n",
       " 'F:\\\\Pred_Estimation_2023\\\\PPC\\\\331_117_3_4298\\\\1_13_2024\\\\100CUDDY\\\\Cropped_images\\\\Human\\\\4_0.798_1.0_I_00074e.JPG',\n",
       " 'F:\\\\Pred_Estimation_2023\\\\PPC\\\\331_117_3_4298\\\\1_13_2024\\\\100CUDDY\\\\Cropped_images\\\\Human\\\\5_0.941_0.9900000095367432_I_00074e.JPG',\n",
       " 'F:\\\\Pred_Estimation_2023\\\\PPC\\\\331_117_3_4298\\\\1_13_2024\\\\100CUDDY\\\\Cropped_images\\\\Human\\\\4_0.673_1.0_I_00075a.JPG',\n",
       " 'F:\\\\Pred_Estimation_2023\\\\PPC\\\\331_117_3_4298\\\\1_13_2024\\\\100CUDDY\\\\Cropped_images\\\\Human\\\\5_0.784_1.0_I_00075a.JPG',\n",
       " 'F:\\\\Pred_Estimation_2023\\\\PPC\\\\331_117_3_4298\\\\1_13_2024\\\\100CUDDY\\\\Cropped_images\\\\Human\\\\6_0.918_1.0_I_00075a.JPG',\n",
       " 'F:\\\\Pred_Estimation_2023\\\\PPC\\\\331_117_3_4298\\\\1_13_2024\\\\100CUDDY\\\\Cropped_images\\\\Human\\\\3_0.339_0.9900000095367432_I_00075b.JPG',\n",
       " 'F:\\\\Pred_Estimation_2023\\\\PPC\\\\331_117_3_4298\\\\1_13_2024\\\\100CUDDY\\\\Cropped_images\\\\Human\\\\4_0.587_0.9900000095367432_I_00075b.JPG',\n",
       " 'F:\\\\Pred_Estimation_2023\\\\PPC\\\\331_117_3_4298\\\\1_13_2024\\\\100CUDDY\\\\Cropped_images\\\\Human\\\\5_0.827_1.0_I_00075b.JPG',\n",
       " 'F:\\\\Pred_Estimation_2023\\\\PPC\\\\331_117_3_4298\\\\1_13_2024\\\\100CUDDY\\\\Cropped_images\\\\Human\\\\7_0.164_0.9800000190734863_I_00075c.JPG',\n",
       " 'F:\\\\Pred_Estimation_2023\\\\PPC\\\\331_117_3_4298\\\\1_13_2024\\\\100CUDDY\\\\Cropped_images\\\\Human\\\\8_0.438_1.0_I_00075c.JPG',\n",
       " 'F:\\\\Pred_Estimation_2023\\\\PPC\\\\331_117_3_4298\\\\1_13_2024\\\\100CUDDY\\\\Cropped_images\\\\Human\\\\9_0.863_1.0_I_00075c.JPG',\n",
       " 'F:\\\\Pred_Estimation_2023\\\\PPC\\\\331_117_3_4298\\\\1_13_2024\\\\100CUDDY\\\\Cropped_images\\\\Human\\\\8_0.309_0.9800000190734863_I_00075d.JPG',\n",
       " 'F:\\\\Pred_Estimation_2023\\\\PPC\\\\331_117_3_4298\\\\1_13_2024\\\\100CUDDY\\\\Cropped_images\\\\Human\\\\9_0.447_0.9900000095367432_I_00075d.JPG',\n",
       " 'F:\\\\Pred_Estimation_2023\\\\PPC\\\\331_117_3_4298\\\\1_13_2024\\\\100CUDDY\\\\Cropped_images\\\\Human\\\\10_0.839_1.0_I_00075d.JPG',\n",
       " 'F:\\\\Pred_Estimation_2023\\\\PPC\\\\331_117_3_4298\\\\1_13_2024\\\\100CUDDY\\\\Cropped_images\\\\Human\\\\4_0.806_0.9599999785423279_I_00075e.JPG',\n",
       " 'F:\\\\Pred_Estimation_2023\\\\PPC\\\\331_117_3_4298\\\\1_13_2024\\\\100CUDDY\\\\Cropped_images\\\\Human\\\\5_0.917_0.9900000095367432_I_00075e.JPG',\n",
       " 'F:\\\\Pred_Estimation_2023\\\\PPC\\\\331_117_3_4298\\\\1_13_2024\\\\100CUDDY\\\\Cropped_images\\\\Human\\\\6_0.945_1.0_I_00075e.JPG',\n",
       " 'F:\\\\Pred_Estimation_2023\\\\PPC\\\\331_117_3_4298\\\\1_13_2024\\\\100CUDDY\\\\Cropped_images\\\\Human\\\\3_0.809_0.9900000095367432_I_00076a.JPG',\n",
       " 'F:\\\\Pred_Estimation_2023\\\\PPC\\\\331_117_3_4298\\\\1_13_2024\\\\100CUDDY\\\\Cropped_images\\\\Human\\\\4_0.889_1.0_I_00076a.JPG',\n",
       " 'F:\\\\Pred_Estimation_2023\\\\PPC\\\\331_117_3_4298\\\\1_13_2024\\\\100CUDDY\\\\Cropped_images\\\\Human\\\\5_0.923_1.0_I_00076a.JPG',\n",
       " 'F:\\\\Pred_Estimation_2023\\\\PPC\\\\331_117_3_4298\\\\1_13_2024\\\\100CUDDY\\\\Cropped_images\\\\Human\\\\4_0.801_1.0_I_00076b.JPG',\n",
       " 'F:\\\\Pred_Estimation_2023\\\\PPC\\\\331_117_3_4298\\\\1_13_2024\\\\100CUDDY\\\\Cropped_images\\\\Human\\\\5_0.891_1.0_I_00076b.JPG',\n",
       " 'F:\\\\Pred_Estimation_2023\\\\PPC\\\\331_117_3_4298\\\\1_13_2024\\\\100CUDDY\\\\Cropped_images\\\\Human\\\\6_0.94_1.0_I_00076b.JPG',\n",
       " 'F:\\\\Pred_Estimation_2023\\\\PPC\\\\331_117_3_4298\\\\1_13_2024\\\\100CUDDY\\\\Cropped_images\\\\Human\\\\5_0.709_1.0_I_00076c.JPG',\n",
       " 'F:\\\\Pred_Estimation_2023\\\\PPC\\\\331_117_3_4298\\\\1_13_2024\\\\100CUDDY\\\\Cropped_images\\\\Human\\\\6_0.725_0.9900000095367432_I_00076c.JPG',\n",
       " 'F:\\\\Pred_Estimation_2023\\\\PPC\\\\331_117_3_4298\\\\1_13_2024\\\\100CUDDY\\\\Cropped_images\\\\Human\\\\7_0.91_1.0_I_00076c.JPG',\n",
       " 'F:\\\\Pred_Estimation_2023\\\\PPC\\\\331_117_3_4298\\\\1_13_2024\\\\100CUDDY\\\\Cropped_images\\\\Human\\\\5_0.823_1.0_I_00076d.JPG',\n",
       " 'F:\\\\Pred_Estimation_2023\\\\PPC\\\\331_117_3_4298\\\\1_13_2024\\\\100CUDDY\\\\Cropped_images\\\\Human\\\\6_0.825_0.9800000190734863_I_00076d.JPG',\n",
       " 'F:\\\\Pred_Estimation_2023\\\\PPC\\\\331_117_3_4298\\\\1_13_2024\\\\100CUDDY\\\\Cropped_images\\\\Human\\\\7_0.939_1.0_I_00076d.JPG',\n",
       " 'F:\\\\Pred_Estimation_2023\\\\PPC\\\\331_117_3_4298\\\\1_13_2024\\\\100CUDDY\\\\Cropped_images\\\\Human\\\\6_0.766_1.0_I_00076e.JPG',\n",
       " 'F:\\\\Pred_Estimation_2023\\\\PPC\\\\331_117_3_4298\\\\1_13_2024\\\\100CUDDY\\\\Cropped_images\\\\Human\\\\7_0.796_0.9900000095367432_I_00076e.JPG',\n",
       " 'F:\\\\Pred_Estimation_2023\\\\PPC\\\\331_117_3_4298\\\\1_13_2024\\\\100CUDDY\\\\Cropped_images\\\\Human\\\\8_0.929_1.0_I_00076e.JPG',\n",
       " 'F:\\\\Pred_Estimation_2023\\\\PPC\\\\331_117_3_4298\\\\1_13_2024\\\\100CUDDY\\\\Cropped_images\\\\Human\\\\7_0.707_1.0_I_00077a.JPG',\n",
       " 'F:\\\\Pred_Estimation_2023\\\\PPC\\\\331_117_3_4298\\\\1_13_2024\\\\100CUDDY\\\\Cropped_images\\\\Human\\\\8_0.818_0.9800000190734863_I_00077a.JPG',\n",
       " 'F:\\\\Pred_Estimation_2023\\\\PPC\\\\331_117_3_4298\\\\1_13_2024\\\\100CUDDY\\\\Cropped_images\\\\Human\\\\9_0.942_1.0_I_00077a.JPG',\n",
       " 'F:\\\\Pred_Estimation_2023\\\\PPC\\\\331_117_3_4298\\\\1_13_2024\\\\100CUDDY\\\\Cropped_images\\\\Human\\\\2_0.801_0.9800000190734863_I_00077b.JPG',\n",
       " 'F:\\\\Pred_Estimation_2023\\\\PPC\\\\331_117_3_4298\\\\1_13_2024\\\\100CUDDY\\\\Cropped_images\\\\Human\\\\3_0.877_1.0_I_00077b.JPG',\n",
       " 'F:\\\\Pred_Estimation_2023\\\\PPC\\\\331_117_3_4298\\\\1_13_2024\\\\100CUDDY\\\\Cropped_images\\\\Human\\\\4_0.952_1.0_I_00077b.JPG',\n",
       " 'F:\\\\Pred_Estimation_2023\\\\PPC\\\\331_117_3_4298\\\\1_13_2024\\\\100CUDDY\\\\Cropped_images\\\\Human\\\\3_0.863_1.0_I_00077c.JPG',\n",
       " 'F:\\\\Pred_Estimation_2023\\\\PPC\\\\331_117_3_4298\\\\1_13_2024\\\\100CUDDY\\\\Cropped_images\\\\Human\\\\4_0.893_1.0_I_00077c.JPG',\n",
       " 'F:\\\\Pred_Estimation_2023\\\\PPC\\\\331_117_3_4298\\\\1_13_2024\\\\100CUDDY\\\\Cropped_images\\\\Human\\\\5_0.958_1.0_I_00077c.JPG',\n",
       " 'F:\\\\Pred_Estimation_2023\\\\PPC\\\\331_117_3_4298\\\\1_13_2024\\\\100CUDDY\\\\Cropped_images\\\\Human\\\\4_0.861_1.0_I_00077d.JPG',\n",
       " 'F:\\\\Pred_Estimation_2023\\\\PPC\\\\331_117_3_4298\\\\1_13_2024\\\\100CUDDY\\\\Cropped_images\\\\Human\\\\5_0.901_1.0_I_00077d.JPG',\n",
       " 'F:\\\\Pred_Estimation_2023\\\\PPC\\\\331_117_3_4298\\\\1_13_2024\\\\100CUDDY\\\\Cropped_images\\\\Human\\\\6_0.954_1.0_I_00077d.JPG',\n",
       " 'F:\\\\Pred_Estimation_2023\\\\PPC\\\\331_117_3_4298\\\\1_13_2024\\\\100CUDDY\\\\Cropped_images\\\\Human\\\\5_0.786_1.0_I_00077e.JPG',\n",
       " 'F:\\\\Pred_Estimation_2023\\\\PPC\\\\331_117_3_4298\\\\1_13_2024\\\\100CUDDY\\\\Cropped_images\\\\Human\\\\6_0.901_1.0_I_00077e.JPG',\n",
       " 'F:\\\\Pred_Estimation_2023\\\\PPC\\\\331_117_3_4298\\\\1_13_2024\\\\100CUDDY\\\\Cropped_images\\\\Human\\\\7_0.906_1.0_I_00077e.JPG',\n",
       " 'F:\\\\Pred_Estimation_2023\\\\PPC\\\\331_117_3_4298\\\\1_13_2024\\\\100CUDDY\\\\Cropped_images\\\\Human\\\\4_0.786_1.0_I_00078a.JPG',\n",
       " 'F:\\\\Pred_Estimation_2023\\\\PPC\\\\331_117_3_4298\\\\1_13_2024\\\\100CUDDY\\\\Cropped_images\\\\Human\\\\5_0.842_1.0_I_00078a.JPG',\n",
       " 'F:\\\\Pred_Estimation_2023\\\\PPC\\\\331_117_3_4298\\\\1_13_2024\\\\100CUDDY\\\\Cropped_images\\\\Human\\\\6_0.941_1.0_I_00078a.JPG',\n",
       " 'F:\\\\Pred_Estimation_2023\\\\PPC\\\\331_117_3_4298\\\\1_13_2024\\\\100CUDDY\\\\Cropped_images\\\\Human\\\\8_0.778_1.0_I_00078b.JPG',\n",
       " 'F:\\\\Pred_Estimation_2023\\\\PPC\\\\331_117_3_4298\\\\1_13_2024\\\\100CUDDY\\\\Cropped_images\\\\Human\\\\9_0.87_1.0_I_00078b.JPG',\n",
       " 'F:\\\\Pred_Estimation_2023\\\\PPC\\\\331_117_3_4298\\\\1_13_2024\\\\100CUDDY\\\\Cropped_images\\\\Human\\\\1_0.102_0.9200000166893005_I_00078c.JPG',\n",
       " 'F:\\\\Pred_Estimation_2023\\\\PPC\\\\331_117_3_4298\\\\1_13_2024\\\\100CUDDY\\\\Cropped_images\\\\Human\\\\2_0.795_1.0_I_00078c.JPG',\n",
       " 'F:\\\\Pred_Estimation_2023\\\\PPC\\\\331_117_3_4298\\\\1_13_2024\\\\100CUDDY\\\\Cropped_images\\\\Human\\\\3_0.83_1.0_I_00078c.JPG',\n",
       " 'F:\\\\Pred_Estimation_2023\\\\PPC\\\\331_117_3_4298\\\\1_13_2024\\\\100CUDDY\\\\Cropped_images\\\\Human\\\\2_0.771_1.0_I_00078d.JPG',\n",
       " 'F:\\\\Pred_Estimation_2023\\\\PPC\\\\331_117_3_4298\\\\1_13_2024\\\\100CUDDY\\\\Cropped_images\\\\Human\\\\3_0.889_1.0_I_00078d.JPG',\n",
       " 'F:\\\\Pred_Estimation_2023\\\\PPC\\\\331_117_3_4298\\\\1_13_2024\\\\100CUDDY\\\\Cropped_images\\\\Human\\\\2_0.829_1.0_I_00078e.JPG',\n",
       " 'F:\\\\Pred_Estimation_2023\\\\PPC\\\\331_117_3_4298\\\\1_13_2024\\\\100CUDDY\\\\Cropped_images\\\\Human\\\\3_0.896_1.0_I_00078e.JPG',\n",
       " 'F:\\\\Pred_Estimation_2023\\\\PPC\\\\331_117_3_4298\\\\1_13_2024\\\\100CUDDY\\\\Cropped_images\\\\Human\\\\4_0.932_0.9300000071525574_I_00078e.JPG',\n",
       " 'F:\\\\Pred_Estimation_2023\\\\PPC\\\\331_117_3_4298\\\\1_13_2024\\\\100CUDDY\\\\Cropped_images\\\\Human\\\\5_0.887_1.0_I_00079a.JPG',\n",
       " 'F:\\\\Pred_Estimation_2023\\\\PPC\\\\331_117_3_4298\\\\1_13_2024\\\\100CUDDY\\\\Cropped_images\\\\Human\\\\6_0.897_1.0_I_00079a.JPG',\n",
       " 'F:\\\\Pred_Estimation_2023\\\\PPC\\\\331_117_3_4298\\\\1_13_2024\\\\100CUDDY\\\\Cropped_images\\\\Human\\\\4_0.178_0.9300000071525574_I_00079b.JPG',\n",
       " 'F:\\\\Pred_Estimation_2023\\\\PPC\\\\331_117_3_4298\\\\1_13_2024\\\\100CUDDY\\\\Cropped_images\\\\Human\\\\5_0.799_1.0_I_00079b.JPG',\n",
       " 'F:\\\\Pred_Estimation_2023\\\\PPC\\\\331_117_3_4298\\\\1_13_2024\\\\100CUDDY\\\\Cropped_images\\\\Human\\\\6_0.868_1.0_I_00079b.JPG',\n",
       " 'F:\\\\Pred_Estimation_2023\\\\PPC\\\\331_117_3_4298\\\\1_13_2024\\\\100CUDDY\\\\Cropped_images\\\\Human\\\\3_0.835_1.0_I_00079c.JPG',\n",
       " 'F:\\\\Pred_Estimation_2023\\\\PPC\\\\331_117_3_4298\\\\1_13_2024\\\\100CUDDY\\\\Cropped_images\\\\Human\\\\4_0.856_1.0_I_00079c.JPG',\n",
       " 'F:\\\\Pred_Estimation_2023\\\\PPC\\\\331_117_3_4298\\\\1_13_2024\\\\100CUDDY\\\\Cropped_images\\\\Human\\\\5_0.928_1.0_I_00079c.JPG',\n",
       " 'F:\\\\Pred_Estimation_2023\\\\PPC\\\\331_117_3_4298\\\\1_13_2024\\\\100CUDDY\\\\Cropped_images\\\\Human\\\\6_0.826_1.0_I_00079d.JPG',\n",
       " 'F:\\\\Pred_Estimation_2023\\\\PPC\\\\331_117_3_4298\\\\1_13_2024\\\\100CUDDY\\\\Cropped_images\\\\Human\\\\7_0.843_1.0_I_00079d.JPG',\n",
       " 'F:\\\\Pred_Estimation_2023\\\\PPC\\\\331_117_3_4298\\\\1_13_2024\\\\100CUDDY\\\\Cropped_images\\\\Human\\\\8_0.935_1.0_I_00079d.JPG',\n",
       " 'F:\\\\Pred_Estimation_2023\\\\PPC\\\\331_117_3_4298\\\\1_13_2024\\\\100CUDDY\\\\Cropped_images\\\\Human\\\\10_0.846_1.0_I_00079e.JPG',\n",
       " 'F:\\\\Pred_Estimation_2023\\\\PPC\\\\331_117_3_4298\\\\1_13_2024\\\\100CUDDY\\\\Cropped_images\\\\Human\\\\11_0.861_1.0_I_00079e.JPG',\n",
       " 'F:\\\\Pred_Estimation_2023\\\\PPC\\\\331_117_3_4298\\\\1_13_2024\\\\100CUDDY\\\\Cropped_images\\\\Human\\\\12_0.944_0.9900000095367432_I_00079e.JPG',\n",
       " 'F:\\\\Pred_Estimation_2023\\\\PPC\\\\331_117_3_4298\\\\1_13_2024\\\\100CUDDY\\\\Cropped_images\\\\Human\\\\4_0.802_0.9800000190734863_I_00080a.JPG',\n",
       " 'F:\\\\Pred_Estimation_2023\\\\PPC\\\\331_117_3_4298\\\\1_13_2024\\\\100CUDDY\\\\Cropped_images\\\\Human\\\\5_0.862_1.0_I_00080a.JPG',\n",
       " 'F:\\\\Pred_Estimation_2023\\\\PPC\\\\331_117_3_4298\\\\1_13_2024\\\\100CUDDY\\\\Cropped_images\\\\Human\\\\6_0.922_0.9300000071525574_I_00080a.JPG',\n",
       " 'F:\\\\Pred_Estimation_2023\\\\PPC\\\\331_117_3_4298\\\\1_13_2024\\\\100CUDDY\\\\Cropped_images\\\\Human\\\\4_0.263_0.9800000190734863_I_00080b.JPG',\n",
       " 'F:\\\\Pred_Estimation_2023\\\\PPC\\\\331_117_3_4298\\\\1_13_2024\\\\100CUDDY\\\\Cropped_images\\\\Human\\\\5_0.92_0.9900000095367432_I_00080b.JPG',\n",
       " 'F:\\\\Pred_Estimation_2023\\\\PPC\\\\331_117_3_4298\\\\1_13_2024\\\\100CUDDY\\\\Cropped_images\\\\Human\\\\6_0.939_1.0_I_00080b.JPG',\n",
       " 'F:\\\\Pred_Estimation_2023\\\\PPC\\\\331_117_3_4298\\\\1_13_2024\\\\100CUDDY\\\\Cropped_images\\\\Human\\\\3_0.909_0.9900000095367432_I_00080c.JPG',\n",
       " 'F:\\\\Pred_Estimation_2023\\\\PPC\\\\331_117_3_4298\\\\1_13_2024\\\\100CUDDY\\\\Cropped_images\\\\Human\\\\4_0.922_1.0_I_00080c.JPG',\n",
       " 'F:\\\\Pred_Estimation_2023\\\\PPC\\\\331_117_3_4298\\\\1_13_2024\\\\100CUDDY\\\\Cropped_images\\\\Human\\\\4_0.457_1.0_I_00080d.JPG',\n",
       " 'F:\\\\Pred_Estimation_2023\\\\PPC\\\\331_117_3_4298\\\\1_13_2024\\\\100CUDDY\\\\Cropped_images\\\\Human\\\\5_0.908_1.0_I_00080d.JPG',\n",
       " 'F:\\\\Pred_Estimation_2023\\\\PPC\\\\331_117_3_4298\\\\1_13_2024\\\\100CUDDY\\\\Cropped_images\\\\Human\\\\6_0.936_0.949999988079071_I_00080d.JPG',\n",
       " 'F:\\\\Pred_Estimation_2023\\\\PPC\\\\331_117_3_4298\\\\1_13_2024\\\\100CUDDY\\\\Cropped_images\\\\Human\\\\3_0.974_1.0_I_00080e.JPG',\n",
       " 'F:\\\\Pred_Estimation_2023\\\\PPC\\\\331_117_3_4298\\\\1_13_2024\\\\100CUDDY\\\\Cropped_images\\\\Human\\\\3_0.803_0.800000011920929_I_00081a.JPG',\n",
       " 'F:\\\\Pred_Estimation_2023\\\\PPC\\\\331_117_3_4298\\\\1_13_2024\\\\100CUDDY\\\\Cropped_images\\\\Human\\\\5_0.92_1.0_I_00081a.JPG',\n",
       " 'F:\\\\Pred_Estimation_2023\\\\PPC\\\\331_117_3_4298\\\\1_13_2024\\\\100CUDDY\\\\Cropped_images\\\\Human\\\\3_0.806_1.0_I_00081b.JPG',\n",
       " 'F:\\\\Pred_Estimation_2023\\\\PPC\\\\331_117_3_4298\\\\1_13_2024\\\\100CUDDY\\\\Cropped_images\\\\Human\\\\4_0.847_1.0_I_00081b.JPG',\n",
       " 'F:\\\\Pred_Estimation_2023\\\\PPC\\\\331_117_3_4298\\\\1_13_2024\\\\100CUDDY\\\\Cropped_images\\\\Human\\\\5_0.91_0.9900000095367432_I_00081b.JPG',\n",
       " 'F:\\\\Pred_Estimation_2023\\\\PPC\\\\331_117_3_4298\\\\1_13_2024\\\\100CUDDY\\\\Cropped_images\\\\Human\\\\6_0.911_0.9700000286102295_I_00081c.JPG',\n",
       " 'F:\\\\Pred_Estimation_2023\\\\PPC\\\\331_117_3_4298\\\\1_13_2024\\\\100CUDDY\\\\Cropped_images\\\\Human\\\\7_0.913_1.0_I_00081c.JPG',\n",
       " 'F:\\\\Pred_Estimation_2023\\\\PPC\\\\331_117_3_4298\\\\1_13_2024\\\\100CUDDY\\\\Cropped_images\\\\Human\\\\3_0.192_1.0_I_00081d.JPG',\n",
       " 'F:\\\\Pred_Estimation_2023\\\\PPC\\\\331_117_3_4298\\\\1_13_2024\\\\100CUDDY\\\\Cropped_images\\\\Human\\\\4_0.873_1.0_I_00081d.JPG',\n",
       " 'F:\\\\Pred_Estimation_2023\\\\PPC\\\\331_117_3_4298\\\\1_13_2024\\\\100CUDDY\\\\Cropped_images\\\\Human\\\\5_0.889_1.0_I_00081d.JPG',\n",
       " 'F:\\\\Pred_Estimation_2023\\\\PPC\\\\331_117_3_4298\\\\1_13_2024\\\\100CUDDY\\\\Cropped_images\\\\Human\\\\6_0.911_0.9800000190734863_I_00081d.JPG',\n",
       " 'F:\\\\Pred_Estimation_2023\\\\PPC\\\\331_117_3_4298\\\\1_13_2024\\\\100CUDDY\\\\Cropped_images\\\\Human\\\\2_0.232_1.0_I_00081e.JPG',\n",
       " 'F:\\\\Pred_Estimation_2023\\\\PPC\\\\331_117_3_4298\\\\1_13_2024\\\\100CUDDY\\\\Cropped_images\\\\Human\\\\3_0.67_1.0_I_00081e.JPG',\n",
       " 'F:\\\\Pred_Estimation_2023\\\\PPC\\\\331_117_3_4298\\\\1_13_2024\\\\100CUDDY\\\\Cropped_images\\\\Human\\\\4_0.708_0.9800000190734863_I_00081e.JPG',\n",
       " 'F:\\\\Pred_Estimation_2023\\\\PPC\\\\331_117_3_4298\\\\1_13_2024\\\\100CUDDY\\\\Cropped_images\\\\Human\\\\5_0.909_1.0_I_00081e.JPG',\n",
       " 'F:\\\\Pred_Estimation_2023\\\\PPC\\\\331_117_3_4298\\\\1_13_2024\\\\100CUDDY\\\\Cropped_images\\\\Human\\\\6_0.942_1.0_I_00081e.JPG',\n",
       " 'F:\\\\Pred_Estimation_2023\\\\PPC\\\\331_117_3_4298\\\\1_13_2024\\\\100CUDDY\\\\Cropped_images\\\\Human\\\\6_0.554_1.0_I_00082a.JPG',\n",
       " 'F:\\\\Pred_Estimation_2023\\\\PPC\\\\331_117_3_4298\\\\1_13_2024\\\\100CUDDY\\\\Cropped_images\\\\Human\\\\7_0.924_1.0_I_00082a.JPG',\n",
       " 'F:\\\\Pred_Estimation_2023\\\\PPC\\\\331_117_3_4298\\\\1_13_2024\\\\100CUDDY\\\\Cropped_images\\\\Human\\\\5_0.122_1.0_I_00082b.JPG',\n",
       " 'F:\\\\Pred_Estimation_2023\\\\PPC\\\\331_117_3_4298\\\\1_13_2024\\\\100CUDDY\\\\Cropped_images\\\\Human\\\\6_0.639_1.0_I_00082b.JPG',\n",
       " 'F:\\\\Pred_Estimation_2023\\\\PPC\\\\331_117_3_4298\\\\1_13_2024\\\\100CUDDY\\\\Cropped_images\\\\Human\\\\7_0.923_1.0_I_00082b.JPG',\n",
       " 'F:\\\\Pred_Estimation_2023\\\\PPC\\\\331_117_3_4298\\\\1_13_2024\\\\100CUDDY\\\\Cropped_images\\\\Human\\\\4_0.309_1.0_I_00082c.JPG',\n",
       " 'F:\\\\Pred_Estimation_2023\\\\PPC\\\\331_117_3_4298\\\\1_13_2024\\\\100CUDDY\\\\Cropped_images\\\\Human\\\\5_0.675_1.0_I_00082c.JPG',\n",
       " 'F:\\\\Pred_Estimation_2023\\\\PPC\\\\331_117_3_4298\\\\1_13_2024\\\\100CUDDY\\\\Cropped_images\\\\Human\\\\6_0.918_1.0_I_00082c.JPG',\n",
       " 'F:\\\\Pred_Estimation_2023\\\\PPC\\\\331_117_3_4298\\\\1_13_2024\\\\100CUDDY\\\\Cropped_images\\\\Human\\\\4_0.628_1.0_I_00082d.JPG',\n",
       " 'F:\\\\Pred_Estimation_2023\\\\PPC\\\\331_117_3_4298\\\\1_13_2024\\\\100CUDDY\\\\Cropped_images\\\\Human\\\\5_0.921_1.0_I_00082d.JPG',\n",
       " 'F:\\\\Pred_Estimation_2023\\\\PPC\\\\331_117_3_4298\\\\1_13_2024\\\\100CUDDY\\\\Cropped_images\\\\Human\\\\3_0.597_1.0_I_00082e.JPG',\n",
       " 'F:\\\\Pred_Estimation_2023\\\\PPC\\\\331_117_3_4298\\\\1_13_2024\\\\100CUDDY\\\\Cropped_images\\\\Human\\\\4_0.916_1.0_I_00082e.JPG',\n",
       " 'F:\\\\Pred_Estimation_2023\\\\PPC\\\\331_117_3_4298\\\\1_13_2024\\\\100CUDDY\\\\Cropped_images\\\\Human\\\\7_0.676_1.0_I_00083a.JPG',\n",
       " 'F:\\\\Pred_Estimation_2023\\\\PPC\\\\331_117_3_4298\\\\1_13_2024\\\\100CUDDY\\\\Cropped_images\\\\Human\\\\8_0.924_0.9900000095367432_I_00083a.JPG',\n",
       " 'F:\\\\Pred_Estimation_2023\\\\PPC\\\\331_117_3_4298\\\\1_13_2024\\\\100CUDDY\\\\Cropped_images\\\\Human\\\\2_0.759_1.0_I_00083b.JPG',\n",
       " 'F:\\\\Pred_Estimation_2023\\\\PPC\\\\331_117_3_4298\\\\1_13_2024\\\\100CUDDY\\\\Cropped_images\\\\Human\\\\3_0.919_1.0_I_00083b.JPG',\n",
       " 'F:\\\\Pred_Estimation_2023\\\\PPC\\\\331_117_3_4298\\\\1_13_2024\\\\100CUDDY\\\\Cropped_images\\\\Human\\\\3_0.81_1.0_I_00083c.JPG',\n",
       " 'F:\\\\Pred_Estimation_2023\\\\PPC\\\\331_117_3_4298\\\\1_13_2024\\\\100CUDDY\\\\Cropped_images\\\\Human\\\\4_0.925_0.9900000095367432_I_00083c.JPG',\n",
       " 'F:\\\\Pred_Estimation_2023\\\\PPC\\\\331_117_3_4298\\\\1_13_2024\\\\100CUDDY\\\\Cropped_images\\\\Human\\\\3_0.786_1.0_I_00083d.JPG',\n",
       " 'F:\\\\Pred_Estimation_2023\\\\PPC\\\\331_117_3_4298\\\\1_13_2024\\\\100CUDDY\\\\Cropped_images\\\\Human\\\\4_0.926_1.0_I_00083d.JPG',\n",
       " 'F:\\\\Pred_Estimation_2023\\\\PPC\\\\331_117_3_4298\\\\1_13_2024\\\\100CUDDY\\\\Cropped_images\\\\Human\\\\6_0.771_1.0_I_00083e.JPG',\n",
       " 'F:\\\\Pred_Estimation_2023\\\\PPC\\\\331_117_3_4298\\\\1_13_2024\\\\100CUDDY\\\\Cropped_images\\\\Human\\\\7_0.889_1.0_I_00083e.JPG',\n",
       " 'F:\\\\Pred_Estimation_2023\\\\PPC\\\\331_117_3_4298\\\\1_13_2024\\\\100CUDDY\\\\Cropped_images\\\\Human\\\\3_0.92_1.0_I_00084a.JPG',\n",
       " 'F:\\\\Pred_Estimation_2023\\\\PPC\\\\331_117_3_4298\\\\1_13_2024\\\\100CUDDY\\\\Cropped_images\\\\Human\\\\4_0.932_1.0_I_00084a.JPG',\n",
       " 'F:\\\\Pred_Estimation_2023\\\\PPC\\\\331_117_3_4298\\\\1_13_2024\\\\100CUDDY\\\\Cropped_images\\\\Human\\\\5_0.938_1.0_I_00084a.JPG',\n",
       " 'F:\\\\Pred_Estimation_2023\\\\PPC\\\\331_117_3_4298\\\\1_13_2024\\\\100CUDDY\\\\Cropped_images\\\\Human\\\\3_0.886_0.9900000095367432_I_00084b.JPG',\n",
       " 'F:\\\\Pred_Estimation_2023\\\\PPC\\\\331_117_3_4298\\\\1_13_2024\\\\100CUDDY\\\\Cropped_images\\\\Human\\\\4_0.932_0.949999988079071_I_00084b.JPG',\n",
       " 'F:\\\\Pred_Estimation_2023\\\\PPC\\\\331_117_3_4298\\\\1_13_2024\\\\100CUDDY\\\\Cropped_images\\\\Human\\\\5_0.948_1.0_I_00084b.JPG',\n",
       " 'F:\\\\Pred_Estimation_2023\\\\PPC\\\\331_117_3_4298\\\\1_13_2024\\\\100CUDDY\\\\Cropped_images\\\\Human\\\\5_0.914_1.0_I_00084c.JPG',\n",
       " 'F:\\\\Pred_Estimation_2023\\\\PPC\\\\331_117_3_4298\\\\1_13_2024\\\\100CUDDY\\\\Cropped_images\\\\Human\\\\6_0.942_1.0_I_00084c.JPG',\n",
       " 'F:\\\\Pred_Estimation_2023\\\\PPC\\\\331_117_3_4298\\\\1_13_2024\\\\100CUDDY\\\\Cropped_images\\\\Human\\\\7_0.942_1.0_I_00084c.JPG',\n",
       " 'F:\\\\Pred_Estimation_2023\\\\PPC\\\\331_117_3_4298\\\\1_13_2024\\\\100CUDDY\\\\Cropped_images\\\\Human\\\\6_0.886_1.0_I_00084d.JPG',\n",
       " 'F:\\\\Pred_Estimation_2023\\\\PPC\\\\331_117_3_4298\\\\1_13_2024\\\\100CUDDY\\\\Cropped_images\\\\Human\\\\7_0.907_1.0_I_00084d.JPG',\n",
       " 'F:\\\\Pred_Estimation_2023\\\\PPC\\\\331_117_3_4298\\\\1_13_2024\\\\100CUDDY\\\\Cropped_images\\\\Human\\\\8_0.942_0.9900000095367432_I_00084d.JPG',\n",
       " 'F:\\\\Pred_Estimation_2023\\\\PPC\\\\331_117_3_4298\\\\1_13_2024\\\\100CUDDY\\\\Cropped_images\\\\Human\\\\6_0.88_1.0_I_00084e.JPG',\n",
       " 'F:\\\\Pred_Estimation_2023\\\\PPC\\\\331_117_3_4298\\\\1_13_2024\\\\100CUDDY\\\\Cropped_images\\\\Human\\\\7_0.912_1.0_I_00084e.JPG',\n",
       " 'F:\\\\Pred_Estimation_2023\\\\PPC\\\\331_117_3_4298\\\\1_13_2024\\\\100CUDDY\\\\Cropped_images\\\\Human\\\\8_0.928_1.0_I_00084e.JPG',\n",
       " 'F:\\\\Pred_Estimation_2023\\\\PPC\\\\331_117_3_4298\\\\1_13_2024\\\\100CUDDY\\\\Cropped_images\\\\Human\\\\4_0.922_0.9800000190734863_I_00085a.JPG',\n",
       " 'F:\\\\Pred_Estimation_2023\\\\PPC\\\\331_117_3_4298\\\\1_13_2024\\\\100CUDDY\\\\Cropped_images\\\\Human\\\\5_0.923_1.0_I_00085a.JPG',\n",
       " 'F:\\\\Pred_Estimation_2023\\\\PPC\\\\331_117_3_4298\\\\1_13_2024\\\\100CUDDY\\\\Cropped_images\\\\Human\\\\6_0.924_1.0_I_00085a.JPG',\n",
       " 'F:\\\\Pred_Estimation_2023\\\\PPC\\\\331_117_3_4298\\\\1_13_2024\\\\100CUDDY\\\\Cropped_images\\\\Human\\\\4_0.862_1.0_I_00085b.JPG',\n",
       " 'F:\\\\Pred_Estimation_2023\\\\PPC\\\\331_117_3_4298\\\\1_13_2024\\\\100CUDDY\\\\Cropped_images\\\\Human\\\\5_0.901_1.0_I_00085b.JPG',\n",
       " 'F:\\\\Pred_Estimation_2023\\\\PPC\\\\331_117_3_4298\\\\1_13_2024\\\\100CUDDY\\\\Cropped_images\\\\Human\\\\6_0.913_0.9599999785423279_I_00085b.JPG',\n",
       " 'F:\\\\Pred_Estimation_2023\\\\PPC\\\\331_117_3_4298\\\\1_13_2024\\\\100CUDDY\\\\Cropped_images\\\\Human\\\\6_0.887_1.0_I_00085c.JPG',\n",
       " 'F:\\\\Pred_Estimation_2023\\\\PPC\\\\331_117_3_4298\\\\1_13_2024\\\\100CUDDY\\\\Cropped_images\\\\Human\\\\7_0.888_1.0_I_00085c.JPG',\n",
       " 'F:\\\\Pred_Estimation_2023\\\\PPC\\\\331_117_3_4298\\\\1_13_2024\\\\100CUDDY\\\\Cropped_images\\\\Human\\\\8_0.892_0.9900000095367432_I_00085c.JPG',\n",
       " 'F:\\\\Pred_Estimation_2023\\\\PPC\\\\331_117_3_4298\\\\1_13_2024\\\\100CUDDY\\\\Cropped_images\\\\Human\\\\3_0.914_0.9900000095367432_I_00085d.JPG',\n",
       " 'F:\\\\Pred_Estimation_2023\\\\PPC\\\\331_117_3_4298\\\\1_13_2024\\\\100CUDDY\\\\Cropped_images\\\\Human\\\\4_0.917_1.0_I_00085d.JPG',\n",
       " 'F:\\\\Pred_Estimation_2023\\\\PPC\\\\331_117_3_4298\\\\1_13_2024\\\\100CUDDY\\\\Cropped_images\\\\Human\\\\5_0.918_1.0_I_00085d.JPG',\n",
       " 'F:\\\\Pred_Estimation_2023\\\\PPC\\\\331_117_3_4298\\\\1_13_2024\\\\100CUDDY\\\\Cropped_images\\\\Human\\\\5_0.915_0.9599999785423279_I_00085e.JPG',\n",
       " 'F:\\\\Pred_Estimation_2023\\\\PPC\\\\331_117_3_4298\\\\1_13_2024\\\\100CUDDY\\\\Cropped_images\\\\Human\\\\6_0.925_1.0_I_00085e.JPG',\n",
       " 'F:\\\\Pred_Estimation_2023\\\\PPC\\\\331_117_3_4298\\\\1_13_2024\\\\100CUDDY\\\\Cropped_images\\\\Human\\\\4_0.823_1.0_I_00086a.JPG',\n",
       " 'F:\\\\Pred_Estimation_2023\\\\PPC\\\\331_117_3_4298\\\\1_13_2024\\\\100CUDDY\\\\Cropped_images\\\\Human\\\\5_0.872_0.9900000095367432_I_00086a.JPG',\n",
       " 'F:\\\\Pred_Estimation_2023\\\\PPC\\\\331_117_3_4298\\\\1_13_2024\\\\100CUDDY\\\\Cropped_images\\\\Human\\\\6_0.876_1.0_I_00086a.JPG',\n",
       " 'F:\\\\Pred_Estimation_2023\\\\PPC\\\\331_117_3_4298\\\\1_13_2024\\\\100CUDDY\\\\Cropped_images\\\\Human\\\\7_0.806_1.0_I_00086b.JPG',\n",
       " 'F:\\\\Pred_Estimation_2023\\\\PPC\\\\331_117_3_4298\\\\1_13_2024\\\\100CUDDY\\\\Cropped_images\\\\Human\\\\8_0.876_1.0_I_00086b.JPG',\n",
       " 'F:\\\\Pred_Estimation_2023\\\\PPC\\\\331_117_3_4298\\\\1_13_2024\\\\100CUDDY\\\\Cropped_images\\\\Human\\\\9_0.882_1.0_I_00086b.JPG',\n",
       " 'F:\\\\Pred_Estimation_2023\\\\PPC\\\\331_117_3_4298\\\\1_13_2024\\\\100CUDDY\\\\Cropped_images\\\\Human\\\\7_0.844_1.0_I_00086c.JPG',\n",
       " 'F:\\\\Pred_Estimation_2023\\\\PPC\\\\331_117_3_4298\\\\1_13_2024\\\\100CUDDY\\\\Cropped_images\\\\Human\\\\8_0.849_1.0_I_00086c.JPG',\n",
       " 'F:\\\\Pred_Estimation_2023\\\\PPC\\\\331_117_3_4298\\\\1_13_2024\\\\100CUDDY\\\\Cropped_images\\\\Human\\\\9_0.9_1.0_I_00086c.JPG',\n",
       " 'F:\\\\Pred_Estimation_2023\\\\PPC\\\\331_117_3_4298\\\\1_13_2024\\\\100CUDDY\\\\Cropped_images\\\\Human\\\\5_0.782_1.0_I_00086d.JPG',\n",
       " 'F:\\\\Pred_Estimation_2023\\\\PPC\\\\331_117_3_4298\\\\1_13_2024\\\\100CUDDY\\\\Cropped_images\\\\Human\\\\6_0.887_0.9900000095367432_I_00086d.JPG',\n",
       " 'F:\\\\Pred_Estimation_2023\\\\PPC\\\\331_117_3_4298\\\\1_13_2024\\\\100CUDDY\\\\Cropped_images\\\\Human\\\\7_0.893_1.0_I_00086d.JPG',\n",
       " 'F:\\\\Pred_Estimation_2023\\\\PPC\\\\331_117_3_4298\\\\1_13_2024\\\\100CUDDY\\\\Cropped_images\\\\Human\\\\5_0.579_1.0_I_00086e.JPG',\n",
       " 'F:\\\\Pred_Estimation_2023\\\\PPC\\\\331_117_3_4298\\\\1_13_2024\\\\100CUDDY\\\\Cropped_images\\\\Human\\\\6_0.871_1.0_I_00086e.JPG',\n",
       " 'F:\\\\Pred_Estimation_2023\\\\PPC\\\\331_117_3_4298\\\\1_13_2024\\\\100CUDDY\\\\Cropped_images\\\\Human\\\\4_0.813_1.0_I_00087a.JPG',\n",
       " 'F:\\\\Pred_Estimation_2023\\\\PPC\\\\331_117_3_4298\\\\1_13_2024\\\\100CUDDY\\\\Cropped_images\\\\Human\\\\5_0.892_1.0_I_00087a.JPG',\n",
       " 'F:\\\\Pred_Estimation_2023\\\\PPC\\\\331_117_3_4298\\\\1_13_2024\\\\100CUDDY\\\\Cropped_images\\\\Human\\\\6_0.905_0.9900000095367432_I_00087a.JPG',\n",
       " 'F:\\\\Pred_Estimation_2023\\\\PPC\\\\331_117_3_4298\\\\1_13_2024\\\\100CUDDY\\\\Cropped_images\\\\Human\\\\3_0.766_1.0_I_00087b.JPG',\n",
       " 'F:\\\\Pred_Estimation_2023\\\\PPC\\\\331_117_3_4298\\\\1_13_2024\\\\100CUDDY\\\\Cropped_images\\\\Human\\\\4_0.913_0.9900000095367432_I_00087b.JPG',\n",
       " 'F:\\\\Pred_Estimation_2023\\\\PPC\\\\331_117_3_4298\\\\1_13_2024\\\\100CUDDY\\\\Cropped_images\\\\Human\\\\5_0.931_1.0_I_00087b.JPG',\n",
       " 'F:\\\\Pred_Estimation_2023\\\\PPC\\\\331_117_3_4298\\\\1_13_2024\\\\100CUDDY\\\\Cropped_images\\\\Human\\\\1_0.764_0.9700000286102295_I_00087c.JPG',\n",
       " 'F:\\\\Pred_Estimation_2023\\\\PPC\\\\331_117_3_4298\\\\1_13_2024\\\\100CUDDY\\\\Cropped_images\\\\Human\\\\2_0.914_1.0_I_00087c.JPG',\n",
       " 'F:\\\\Pred_Estimation_2023\\\\PPC\\\\331_117_3_4298\\\\1_13_2024\\\\100CUDDY\\\\Cropped_images\\\\Human\\\\3_0.929_1.0_I_00087c.JPG',\n",
       " 'F:\\\\Pred_Estimation_2023\\\\PPC\\\\331_117_3_4298\\\\1_13_2024\\\\100CUDDY\\\\Cropped_images\\\\Human\\\\3_0.632_0.9900000095367432_I_00087d.JPG',\n",
       " 'F:\\\\Pred_Estimation_2023\\\\PPC\\\\331_117_3_4298\\\\1_13_2024\\\\100CUDDY\\\\Cropped_images\\\\Human\\\\4_0.871_1.0_I_00087d.JPG',\n",
       " 'F:\\\\Pred_Estimation_2023\\\\PPC\\\\331_117_3_4298\\\\1_13_2024\\\\100CUDDY\\\\Cropped_images\\\\Human\\\\5_0.919_1.0_I_00087d.JPG',\n",
       " 'F:\\\\Pred_Estimation_2023\\\\PPC\\\\331_117_3_4298\\\\1_13_2024\\\\100CUDDY\\\\Cropped_images\\\\Human\\\\4_0.696_1.0_I_00087e.JPG',\n",
       " 'F:\\\\Pred_Estimation_2023\\\\PPC\\\\331_117_3_4298\\\\1_13_2024\\\\100CUDDY\\\\Cropped_images\\\\Human\\\\5_0.817_1.0_I_00087e.JPG',\n",
       " 'F:\\\\Pred_Estimation_2023\\\\PPC\\\\331_117_3_4298\\\\1_13_2024\\\\100CUDDY\\\\Cropped_images\\\\Human\\\\6_0.94_1.0_I_00087e.JPG',\n",
       " 'F:\\\\Pred_Estimation_2023\\\\PPC\\\\331_117_3_4298\\\\1_13_2024\\\\100CUDDY\\\\Cropped_images\\\\Human\\\\5_0.451_1.0_I_00088a.JPG',\n",
       " 'F:\\\\Pred_Estimation_2023\\\\PPC\\\\331_117_3_4298\\\\1_13_2024\\\\100CUDDY\\\\Cropped_images\\\\Human\\\\6_0.891_1.0_I_00088a.JPG',\n",
       " 'F:\\\\Pred_Estimation_2023\\\\PPC\\\\331_117_3_4298\\\\1_13_2024\\\\100CUDDY\\\\Cropped_images\\\\Human\\\\7_0.921_1.0_I_00088a.JPG',\n",
       " 'F:\\\\Pred_Estimation_2023\\\\PPC\\\\331_117_3_4298\\\\1_13_2024\\\\100CUDDY\\\\Cropped_images\\\\Human\\\\4_0.195_1.0_I_00088b.JPG',\n",
       " 'F:\\\\Pred_Estimation_2023\\\\PPC\\\\331_117_3_4298\\\\1_13_2024\\\\100CUDDY\\\\Cropped_images\\\\Human\\\\5_0.373_1.0_I_00088b.JPG',\n",
       " 'F:\\\\Pred_Estimation_2023\\\\PPC\\\\331_117_3_4298\\\\1_13_2024\\\\100CUDDY\\\\Cropped_images\\\\Human\\\\6_0.855_1.0_I_00088b.JPG',\n",
       " 'F:\\\\Pred_Estimation_2023\\\\PPC\\\\331_117_3_4298\\\\1_13_2024\\\\100CUDDY\\\\Cropped_images\\\\Human\\\\7_0.921_0.9900000095367432_I_00088b.JPG',\n",
       " 'F:\\\\Pred_Estimation_2023\\\\PPC\\\\331_117_3_4298\\\\1_13_2024\\\\100CUDDY\\\\Cropped_images\\\\Human\\\\6_0.555_1.0_I_00088c.JPG',\n",
       " 'F:\\\\Pred_Estimation_2023\\\\PPC\\\\331_117_3_4298\\\\1_13_2024\\\\100CUDDY\\\\Cropped_images\\\\Human\\\\7_0.824_1.0_I_00088c.JPG',\n",
       " 'F:\\\\Pred_Estimation_2023\\\\PPC\\\\331_117_3_4298\\\\1_13_2024\\\\100CUDDY\\\\Cropped_images\\\\Human\\\\8_0.915_0.9800000190734863_I_00088c.JPG',\n",
       " 'F:\\\\Pred_Estimation_2023\\\\PPC\\\\331_117_3_4298\\\\1_13_2024\\\\100CUDDY\\\\Cropped_images\\\\Human\\\\7_0.688_0.9800000190734863_I_00088d.JPG',\n",
       " 'F:\\\\Pred_Estimation_2023\\\\PPC\\\\331_117_3_4298\\\\1_13_2024\\\\100CUDDY\\\\Cropped_images\\\\Human\\\\8_0.863_1.0_I_00088d.JPG',\n",
       " 'F:\\\\Pred_Estimation_2023\\\\PPC\\\\331_117_3_4298\\\\1_13_2024\\\\100CUDDY\\\\Cropped_images\\\\Human\\\\9_0.884_0.9900000095367432_I_00088d.JPG',\n",
       " 'F:\\\\Pred_Estimation_2023\\\\PPC\\\\331_117_3_4298\\\\1_13_2024\\\\100CUDDY\\\\Cropped_images\\\\Human\\\\2_0.844_0.9900000095367432_I_00088e.JPG',\n",
       " 'F:\\\\Pred_Estimation_2023\\\\PPC\\\\331_117_3_4298\\\\1_13_2024\\\\100CUDDY\\\\Cropped_images\\\\Human\\\\3_0.872_0.9300000071525574_I_00088e.JPG',\n",
       " 'F:\\\\Pred_Estimation_2023\\\\PPC\\\\331_117_3_4298\\\\1_13_2024\\\\100CUDDY\\\\Cropped_images\\\\Human\\\\4_0.909_1.0_I_00088e.JPG',\n",
       " 'F:\\\\Pred_Estimation_2023\\\\PPC\\\\331_117_3_4298\\\\1_13_2024\\\\100CUDDY\\\\Cropped_images\\\\Human\\\\6_0.784_1.0_I_00089a.JPG',\n",
       " 'F:\\\\Pred_Estimation_2023\\\\PPC\\\\331_117_3_4298\\\\1_13_2024\\\\100CUDDY\\\\Cropped_images\\\\Human\\\\7_0.882_1.0_I_00089a.JPG',\n",
       " 'F:\\\\Pred_Estimation_2023\\\\PPC\\\\331_117_3_4298\\\\1_13_2024\\\\100CUDDY\\\\Cropped_images\\\\Human\\\\6_0.64_1.0_I_00089b.JPG',\n",
       " 'F:\\\\Pred_Estimation_2023\\\\PPC\\\\331_117_3_4298\\\\1_13_2024\\\\100CUDDY\\\\Cropped_images\\\\Human\\\\7_0.721_1.0_I_00089b.JPG',\n",
       " 'F:\\\\Pred_Estimation_2023\\\\PPC\\\\331_117_3_4298\\\\1_13_2024\\\\100CUDDY\\\\Cropped_images\\\\Human\\\\8_0.798_1.0_I_00089b.JPG',\n",
       " 'F:\\\\Pred_Estimation_2023\\\\PPC\\\\331_117_3_4298\\\\1_13_2024\\\\100CUDDY\\\\Cropped_images\\\\Human\\\\4_0.919_0.9800000190734863_I_00089c.JPG',\n",
       " 'F:\\\\Pred_Estimation_2023\\\\PPC\\\\331_117_3_4298\\\\1_13_2024\\\\100CUDDY\\\\Cropped_images\\\\Human\\\\5_0.946_1.0_I_00089c.JPG',\n",
       " 'F:\\\\Pred_Estimation_2023\\\\PPC\\\\331_117_3_4298\\\\1_13_2024\\\\100CUDDY\\\\Cropped_images\\\\Human\\\\3_0.89_1.0_I_00089d.JPG',\n",
       " 'F:\\\\Pred_Estimation_2023\\\\PPC\\\\331_117_3_4298\\\\1_13_2024\\\\100CUDDY\\\\Cropped_images\\\\Human\\\\4_0.922_1.0_I_00089d.JPG',\n",
       " 'F:\\\\Pred_Estimation_2023\\\\PPC\\\\331_117_3_4298\\\\1_13_2024\\\\100CUDDY\\\\Cropped_images\\\\Human\\\\4_0.649_0.9599999785423279_I_00089e.JPG',\n",
       " 'F:\\\\Pred_Estimation_2023\\\\PPC\\\\331_117_3_4298\\\\1_13_2024\\\\100CUDDY\\\\Cropped_images\\\\Human\\\\5_0.817_1.0_I_00089e.JPG',\n",
       " 'F:\\\\Pred_Estimation_2023\\\\PPC\\\\331_117_3_4298\\\\1_13_2024\\\\100CUDDY\\\\Cropped_images\\\\Human\\\\6_0.899_1.0_I_00089e.JPG',\n",
       " 'F:\\\\Pred_Estimation_2023\\\\PPC\\\\331_117_3_4298\\\\1_13_2024\\\\100CUDDY\\\\Cropped_images\\\\Human\\\\3_0.196_1.0_I_00090a.JPG',\n",
       " 'F:\\\\Pred_Estimation_2023\\\\PPC\\\\331_117_3_4298\\\\1_13_2024\\\\100CUDDY\\\\Cropped_images\\\\Human\\\\4_0.33_1.0_I_00090a.JPG',\n",
       " 'F:\\\\Pred_Estimation_2023\\\\PPC\\\\331_117_3_4298\\\\1_13_2024\\\\100CUDDY\\\\Cropped_images\\\\Human\\\\6_0.916_0.9900000095367432_I_00090a.JPG',\n",
       " 'F:\\\\Pred_Estimation_2023\\\\PPC\\\\331_117_3_4298\\\\1_13_2024\\\\100CUDDY\\\\Cropped_images\\\\Human\\\\4_0.351_1.0_I_00090b.JPG',\n",
       " 'F:\\\\Pred_Estimation_2023\\\\PPC\\\\331_117_3_4298\\\\1_13_2024\\\\100CUDDY\\\\Cropped_images\\\\Human\\\\6_0.919_1.0_I_00090b.JPG',\n",
       " 'F:\\\\Pred_Estimation_2023\\\\PPC\\\\331_117_3_4298\\\\1_13_2024\\\\100CUDDY\\\\Cropped_images\\\\Human\\\\9_0.631_0.9900000095367432_I_00090c.JPG',\n",
       " 'F:\\\\Pred_Estimation_2023\\\\PPC\\\\331_117_3_4298\\\\1_13_2024\\\\100CUDDY\\\\Cropped_images\\\\Human\\\\10_0.914_1.0_I_00090c.JPG',\n",
       " 'F:\\\\Pred_Estimation_2023\\\\PPC\\\\331_117_3_4298\\\\1_13_2024\\\\100CUDDY\\\\Cropped_images\\\\Human\\\\11_0.949_1.0_I_00090c.JPG',\n",
       " 'F:\\\\Pred_Estimation_2023\\\\PPC\\\\331_117_3_4298\\\\1_13_2024\\\\100CUDDY\\\\Cropped_images\\\\Human\\\\10_0.938_1.0_I_00090d.JPG',\n",
       " 'F:\\\\Pred_Estimation_2023\\\\PPC\\\\331_117_3_4298\\\\1_13_2024\\\\100CUDDY\\\\Cropped_images\\\\Human\\\\11_0.939_1.0_I_00090d.JPG',\n",
       " 'F:\\\\Pred_Estimation_2023\\\\PPC\\\\331_117_3_4298\\\\1_13_2024\\\\100CUDDY\\\\Cropped_images\\\\Human\\\\7_0.268_1.0_I_00090e.JPG',\n",
       " 'F:\\\\Pred_Estimation_2023\\\\PPC\\\\331_117_3_4298\\\\1_13_2024\\\\100CUDDY\\\\Cropped_images\\\\Human\\\\8_0.784_0.8999999761581421_I_00090e.JPG',\n",
       " 'F:\\\\Pred_Estimation_2023\\\\PPC\\\\331_117_3_4298\\\\1_13_2024\\\\100CUDDY\\\\Cropped_images\\\\Human\\\\9_0.928_1.0_I_00090e.JPG',\n",
       " 'F:\\\\Pred_Estimation_2023\\\\PPC\\\\331_117_3_4298\\\\1_13_2024\\\\100CUDDY\\\\Cropped_images\\\\Human\\\\8_0.705_0.9300000071525574_I_00091a.JPG',\n",
       " 'F:\\\\Pred_Estimation_2023\\\\PPC\\\\331_117_3_4298\\\\1_13_2024\\\\100CUDDY\\\\Cropped_images\\\\Human\\\\9_0.907_0.8700000047683716_I_00091a.JPG',\n",
       " 'F:\\\\Pred_Estimation_2023\\\\PPC\\\\331_117_3_4298\\\\1_13_2024\\\\100CUDDY\\\\Cropped_images\\\\Human\\\\10_0.932_1.0_I_00091a.JPG',\n",
       " 'F:\\\\Pred_Estimation_2023\\\\PPC\\\\331_117_3_4298\\\\1_13_2024\\\\100CUDDY\\\\Cropped_images\\\\Human\\\\4_0.573_0.9900000095367432_I_00091b.JPG',\n",
       " 'F:\\\\Pred_Estimation_2023\\\\PPC\\\\331_117_3_4298\\\\1_13_2024\\\\100CUDDY\\\\Cropped_images\\\\Human\\\\5_0.903_1.0_I_00091b.JPG',\n",
       " 'F:\\\\Pred_Estimation_2023\\\\PPC\\\\331_117_3_4298\\\\1_13_2024\\\\100CUDDY\\\\Cropped_images\\\\Human\\\\6_0.95_1.0_I_00091b.JPG',\n",
       " 'F:\\\\Pred_Estimation_2023\\\\PPC\\\\331_117_3_4298\\\\1_13_2024\\\\100CUDDY\\\\Cropped_images\\\\Human\\\\5_0.648_0.949999988079071_I_00091c.JPG',\n",
       " 'F:\\\\Pred_Estimation_2023\\\\PPC\\\\331_117_3_4298\\\\1_13_2024\\\\100CUDDY\\\\Cropped_images\\\\Human\\\\6_0.919_1.0_I_00091c.JPG',\n",
       " 'F:\\\\Pred_Estimation_2023\\\\PPC\\\\331_117_3_4298\\\\1_13_2024\\\\100CUDDY\\\\Cropped_images\\\\Human\\\\7_0.94_1.0_I_00091c.JPG',\n",
       " 'F:\\\\Pred_Estimation_2023\\\\PPC\\\\331_117_3_4298\\\\1_13_2024\\\\100CUDDY\\\\Cropped_images\\\\Human\\\\4_0.652_0.8199999928474426_I_00091d.JPG',\n",
       " 'F:\\\\Pred_Estimation_2023\\\\PPC\\\\331_117_3_4298\\\\1_13_2024\\\\100CUDDY\\\\Cropped_images\\\\Human\\\\5_0.926_1.0_I_00091d.JPG',\n",
       " 'F:\\\\Pred_Estimation_2023\\\\PPC\\\\331_117_3_4298\\\\1_13_2024\\\\100CUDDY\\\\Cropped_images\\\\Human\\\\6_0.931_1.0_I_00091d.JPG',\n",
       " 'F:\\\\Pred_Estimation_2023\\\\PPC\\\\331_117_3_4298\\\\1_13_2024\\\\100CUDDY\\\\Cropped_images\\\\Human\\\\5_0.539_0.9700000286102295_I_00091e.JPG',\n",
       " 'F:\\\\Pred_Estimation_2023\\\\PPC\\\\331_117_3_4298\\\\1_13_2024\\\\100CUDDY\\\\Cropped_images\\\\Human\\\\6_0.888_1.0_I_00091e.JPG',\n",
       " 'F:\\\\Pred_Estimation_2023\\\\PPC\\\\331_117_3_4298\\\\1_13_2024\\\\100CUDDY\\\\Cropped_images\\\\Human\\\\7_0.928_1.0_I_00091e.JPG',\n",
       " 'F:\\\\Pred_Estimation_2023\\\\PPC\\\\331_117_3_4298\\\\1_13_2024\\\\100CUDDY\\\\Cropped_images\\\\Human\\\\1_0.92_1.0_I_00092a.JPG',\n",
       " 'F:\\\\Pred_Estimation_2023\\\\PPC\\\\331_117_3_4298\\\\1_13_2024\\\\100CUDDY\\\\Cropped_images\\\\Human\\\\2_0.925_1.0_I_00092a.JPG',\n",
       " 'F:\\\\Pred_Estimation_2023\\\\PPC\\\\331_117_3_4298\\\\1_13_2024\\\\100CUDDY\\\\Cropped_images\\\\Human\\\\3_0.926_0.9900000095367432_I_00092a.JPG',\n",
       " 'F:\\\\Pred_Estimation_2023\\\\PPC\\\\331_117_3_4298\\\\1_13_2024\\\\100CUDDY\\\\Cropped_images\\\\Human\\\\2_0.309_1.0_I_00092b.JPG',\n",
       " 'F:\\\\Pred_Estimation_2023\\\\PPC\\\\331_117_3_4298\\\\1_13_2024\\\\100CUDDY\\\\Cropped_images\\\\Human\\\\3_0.627_1.0_I_00092b.JPG',\n",
       " 'F:\\\\Pred_Estimation_2023\\\\PPC\\\\331_117_3_4298\\\\1_13_2024\\\\100CUDDY\\\\Cropped_images\\\\Human\\\\4_0.819_0.9700000286102295_I_00092b.JPG',\n",
       " 'F:\\\\Pred_Estimation_2023\\\\PPC\\\\331_117_3_4298\\\\1_13_2024\\\\100CUDDY\\\\Cropped_images\\\\Human\\\\5_0.918_0.9800000190734863_I_00092b.JPG',\n",
       " 'F:\\\\Pred_Estimation_2023\\\\PPC\\\\331_117_3_4298\\\\1_13_2024\\\\100CUDDY\\\\Cropped_images\\\\Human\\\\4_0.765_0.8799999952316284_I_00092c.JPG',\n",
       " 'F:\\\\Pred_Estimation_2023\\\\PPC\\\\331_117_3_4298\\\\1_13_2024\\\\100CUDDY\\\\Cropped_images\\\\Human\\\\5_0.767_1.0_I_00092c.JPG',\n",
       " 'F:\\\\Pred_Estimation_2023\\\\PPC\\\\331_117_3_4298\\\\1_13_2024\\\\100CUDDY\\\\Cropped_images\\\\Human\\\\6_0.912_0.9900000095367432_I_00092c.JPG',\n",
       " 'F:\\\\Pred_Estimation_2023\\\\PPC\\\\331_117_3_4298\\\\1_13_2024\\\\100CUDDY\\\\Cropped_images\\\\Human\\\\6_0.743_0.9700000286102295_I_00092d.JPG',\n",
       " 'F:\\\\Pred_Estimation_2023\\\\PPC\\\\331_117_3_4298\\\\1_13_2024\\\\100CUDDY\\\\Cropped_images\\\\Human\\\\7_0.774_1.0_I_00092d.JPG',\n",
       " 'F:\\\\Pred_Estimation_2023\\\\PPC\\\\331_117_3_4298\\\\1_13_2024\\\\100CUDDY\\\\Cropped_images\\\\Human\\\\8_0.909_0.9900000095367432_I_00092d.JPG',\n",
       " 'F:\\\\Pred_Estimation_2023\\\\PPC\\\\331_117_3_4298\\\\1_13_2024\\\\100CUDDY\\\\Cropped_images\\\\Human\\\\8_0.722_0.9700000286102295_I_00092e.JPG',\n",
       " 'F:\\\\Pred_Estimation_2023\\\\PPC\\\\331_117_3_4298\\\\1_13_2024\\\\100CUDDY\\\\Cropped_images\\\\Human\\\\9_0.8_1.0_I_00092e.JPG',\n",
       " 'F:\\\\Pred_Estimation_2023\\\\PPC\\\\331_117_3_4298\\\\1_13_2024\\\\100CUDDY\\\\Cropped_images\\\\Human\\\\10_0.9_0.9800000190734863_I_00092e.JPG',\n",
       " 'F:\\\\Pred_Estimation_2023\\\\PPC\\\\331_117_3_4298\\\\1_13_2024\\\\100CUDDY\\\\Cropped_images\\\\Human\\\\5_0.727_0.9900000095367432_I_00093a.JPG',\n",
       " 'F:\\\\Pred_Estimation_2023\\\\PPC\\\\331_117_3_4298\\\\1_13_2024\\\\100CUDDY\\\\Cropped_images\\\\Human\\\\6_0.848_1.0_I_00093a.JPG',\n",
       " 'F:\\\\Pred_Estimation_2023\\\\PPC\\\\331_117_3_4298\\\\1_13_2024\\\\100CUDDY\\\\Cropped_images\\\\Human\\\\7_0.93_1.0_I_00093a.JPG',\n",
       " 'F:\\\\Pred_Estimation_2023\\\\PPC\\\\331_117_3_4298\\\\1_13_2024\\\\100CUDDY\\\\Cropped_images\\\\Human\\\\8_0.719_0.9700000286102295_I_00093b.JPG',\n",
       " 'F:\\\\Pred_Estimation_2023\\\\PPC\\\\331_117_3_4298\\\\1_13_2024\\\\100CUDDY\\\\Cropped_images\\\\Human\\\\9_0.874_1.0_I_00093b.JPG',\n",
       " 'F:\\\\Pred_Estimation_2023\\\\PPC\\\\331_117_3_4298\\\\1_13_2024\\\\100CUDDY\\\\Cropped_images\\\\Human\\\\10_0.93_1.0_I_00093b.JPG',\n",
       " 'F:\\\\Pred_Estimation_2023\\\\PPC\\\\331_117_3_4298\\\\1_13_2024\\\\100CUDDY\\\\Cropped_images\\\\Human\\\\7_0.624_0.9900000095367432_I_00093c.JPG',\n",
       " 'F:\\\\Pred_Estimation_2023\\\\PPC\\\\331_117_3_4298\\\\1_13_2024\\\\100CUDDY\\\\Cropped_images\\\\Human\\\\8_0.859_1.0_I_00093c.JPG',\n",
       " 'F:\\\\Pred_Estimation_2023\\\\PPC\\\\331_117_3_4298\\\\1_13_2024\\\\100CUDDY\\\\Cropped_images\\\\Human\\\\9_0.92_1.0_I_00093c.JPG',\n",
       " 'F:\\\\Pred_Estimation_2023\\\\PPC\\\\331_117_3_4298\\\\1_13_2024\\\\100CUDDY\\\\Cropped_images\\\\Human\\\\9_0.699_1.0_I_00093d.JPG',\n",
       " 'F:\\\\Pred_Estimation_2023\\\\PPC\\\\331_117_3_4298\\\\1_13_2024\\\\100CUDDY\\\\Cropped_images\\\\Human\\\\10_0.814_1.0_I_00093d.JPG',\n",
       " 'F:\\\\Pred_Estimation_2023\\\\PPC\\\\331_117_3_4298\\\\1_13_2024\\\\100CUDDY\\\\Cropped_images\\\\Human\\\\11_0.926_1.0_I_00093d.JPG',\n",
       " 'F:\\\\Pred_Estimation_2023\\\\PPC\\\\331_117_3_4298\\\\1_13_2024\\\\100CUDDY\\\\Cropped_images\\\\Human\\\\11_0.68_0.9900000095367432_I_00093e.JPG',\n",
       " 'F:\\\\Pred_Estimation_2023\\\\PPC\\\\331_117_3_4298\\\\1_13_2024\\\\100CUDDY\\\\Cropped_images\\\\Human\\\\12_0.821_1.0_I_00093e.JPG',\n",
       " 'F:\\\\Pred_Estimation_2023\\\\PPC\\\\331_117_3_4298\\\\1_13_2024\\\\100CUDDY\\\\Cropped_images\\\\Human\\\\13_0.925_1.0_I_00093e.JPG',\n",
       " 'F:\\\\Pred_Estimation_2023\\\\PPC\\\\331_117_3_4298\\\\1_13_2024\\\\100CUDDY\\\\Cropped_images\\\\Human\\\\4_0.851_0.9900000095367432_I_00094a.JPG',\n",
       " 'F:\\\\Pred_Estimation_2023\\\\PPC\\\\331_117_3_4298\\\\1_13_2024\\\\100CUDDY\\\\Cropped_images\\\\Human\\\\5_0.918_0.9300000071525574_I_00094a.JPG',\n",
       " 'F:\\\\Pred_Estimation_2023\\\\PPC\\\\331_117_3_4298\\\\1_13_2024\\\\100CUDDY\\\\Cropped_images\\\\Human\\\\6_0.936_1.0_I_00094a.JPG',\n",
       " 'F:\\\\Pred_Estimation_2023\\\\PPC\\\\331_117_3_4298\\\\1_13_2024\\\\100CUDDY\\\\Cropped_images\\\\Human\\\\3_0.85_0.9900000095367432_I_00094b.JPG',\n",
       " 'F:\\\\Pred_Estimation_2023\\\\PPC\\\\331_117_3_4298\\\\1_13_2024\\\\100CUDDY\\\\Cropped_images\\\\Human\\\\4_0.891_1.0_I_00094b.JPG',\n",
       " 'F:\\\\Pred_Estimation_2023\\\\PPC\\\\331_117_3_4298\\\\1_13_2024\\\\100CUDDY\\\\Cropped_images\\\\Human\\\\5_0.937_1.0_I_00094b.JPG',\n",
       " 'F:\\\\Pred_Estimation_2023\\\\PPC\\\\331_117_3_4298\\\\1_13_2024\\\\100CUDDY\\\\Cropped_images\\\\Human\\\\7_0.718_1.0_I_00094c.JPG',\n",
       " 'F:\\\\Pred_Estimation_2023\\\\PPC\\\\331_117_3_4298\\\\1_13_2024\\\\100CUDDY\\\\Cropped_images\\\\Human\\\\8_0.934_1.0_I_00094c.JPG',\n",
       " 'F:\\\\Pred_Estimation_2023\\\\PPC\\\\331_117_3_4298\\\\1_13_2024\\\\100CUDDY\\\\Cropped_images\\\\Human\\\\9_0.945_0.9900000095367432_I_00094c.JPG',\n",
       " 'F:\\\\Pred_Estimation_2023\\\\PPC\\\\331_117_3_4298\\\\1_13_2024\\\\100CUDDY\\\\Cropped_images\\\\Human\\\\10_0.766_0.8299999833106995_I_00094d.JPG',\n",
       " 'F:\\\\Pred_Estimation_2023\\\\PPC\\\\331_117_3_4298\\\\1_13_2024\\\\100CUDDY\\\\Cropped_images\\\\Human\\\\11_0.88_1.0_I_00094d.JPG',\n",
       " 'F:\\\\Pred_Estimation_2023\\\\PPC\\\\331_117_3_4298\\\\1_13_2024\\\\100CUDDY\\\\Cropped_images\\\\Human\\\\12_0.927_0.9200000166893005_I_00094d.JPG',\n",
       " 'F:\\\\Pred_Estimation_2023\\\\PPC\\\\331_117_3_4298\\\\1_13_2024\\\\100CUDDY\\\\Cropped_images\\\\Human\\\\5_0.737_0.9300000071525574_I_00094e.JPG',\n",
       " 'F:\\\\Pred_Estimation_2023\\\\PPC\\\\331_117_3_4298\\\\1_13_2024\\\\100CUDDY\\\\Cropped_images\\\\Human\\\\6_0.918_1.0_I_00094e.JPG',\n",
       " 'F:\\\\Pred_Estimation_2023\\\\PPC\\\\331_117_3_4298\\\\1_13_2024\\\\100CUDDY\\\\Cropped_images\\\\Human\\\\7_0.93_0.9900000095367432_I_00094e.JPG',\n",
       " 'F:\\\\Pred_Estimation_2023\\\\PPC\\\\331_117_3_4298\\\\1_13_2024\\\\100CUDDY\\\\Cropped_images\\\\Human\\\\8_0.795_0.9599999785423279_I_00095a.JPG',\n",
       " 'F:\\\\Pred_Estimation_2023\\\\PPC\\\\331_117_3_4298\\\\1_13_2024\\\\100CUDDY\\\\Cropped_images\\\\Human\\\\9_0.897_1.0_I_00095a.JPG',\n",
       " 'F:\\\\Pred_Estimation_2023\\\\PPC\\\\331_117_3_4298\\\\1_13_2024\\\\100CUDDY\\\\Cropped_images\\\\Human\\\\10_0.916_1.0_I_00095a.JPG',\n",
       " 'F:\\\\Pred_Estimation_2023\\\\PPC\\\\331_117_3_4298\\\\1_13_2024\\\\100CUDDY\\\\Cropped_images\\\\Human\\\\6_0.735_0.9200000166893005_I_00095b.JPG',\n",
       " 'F:\\\\Pred_Estimation_2023\\\\PPC\\\\331_117_3_4298\\\\1_13_2024\\\\100CUDDY\\\\Cropped_images\\\\Human\\\\7_0.915_1.0_I_00095b.JPG',\n",
       " 'F:\\\\Pred_Estimation_2023\\\\PPC\\\\331_117_3_4298\\\\1_13_2024\\\\100CUDDY\\\\Cropped_images\\\\Human\\\\8_0.929_1.0_I_00095b.JPG',\n",
       " 'F:\\\\Pred_Estimation_2023\\\\PPC\\\\331_117_3_4298\\\\1_13_2024\\\\100CUDDY\\\\Cropped_images\\\\Human\\\\5_0.736_0.9399999976158142_I_00095c.JPG',\n",
       " 'F:\\\\Pred_Estimation_2023\\\\PPC\\\\331_117_3_4298\\\\1_13_2024\\\\100CUDDY\\\\Cropped_images\\\\Human\\\\6_0.891_1.0_I_00095c.JPG',\n",
       " 'F:\\\\Pred_Estimation_2023\\\\PPC\\\\331_117_3_4298\\\\1_13_2024\\\\100CUDDY\\\\Cropped_images\\\\Human\\\\7_0.93_1.0_I_00095c.JPG',\n",
       " 'F:\\\\Pred_Estimation_2023\\\\PPC\\\\331_117_3_4298\\\\1_13_2024\\\\100CUDDY\\\\Cropped_images\\\\Human\\\\7_0.705_0.9200000166893005_I_00095d.JPG',\n",
       " 'F:\\\\Pred_Estimation_2023\\\\PPC\\\\331_117_3_4298\\\\1_13_2024\\\\100CUDDY\\\\Cropped_images\\\\Human\\\\8_0.905_1.0_I_00095d.JPG',\n",
       " 'F:\\\\Pred_Estimation_2023\\\\PPC\\\\331_117_3_4298\\\\1_13_2024\\\\100CUDDY\\\\Cropped_images\\\\Human\\\\9_0.925_0.9800000190734863_I_00095d.JPG',\n",
       " 'F:\\\\Pred_Estimation_2023\\\\PPC\\\\331_117_3_4298\\\\1_13_2024\\\\100CUDDY\\\\Cropped_images\\\\Human\\\\8_0.781_0.8899999856948853_I_00095e.JPG',\n",
       " 'F:\\\\Pred_Estimation_2023\\\\PPC\\\\331_117_3_4298\\\\1_13_2024\\\\100CUDDY\\\\Cropped_images\\\\Human\\\\9_0.875_1.0_I_00095e.JPG',\n",
       " 'F:\\\\Pred_Estimation_2023\\\\PPC\\\\331_117_3_4298\\\\1_13_2024\\\\100CUDDY\\\\Cropped_images\\\\Human\\\\10_0.936_1.0_I_00095e.JPG',\n",
       " 'F:\\\\Pred_Estimation_2023\\\\PPC\\\\331_117_3_4298\\\\1_13_2024\\\\100CUDDY\\\\Cropped_images\\\\Human\\\\10_0.223_0.9100000262260437_I_00096a.JPG',\n",
       " 'F:\\\\Pred_Estimation_2023\\\\PPC\\\\331_117_3_4298\\\\1_13_2024\\\\100CUDDY\\\\Cropped_images\\\\Human\\\\12_0.654_0.8999999761581421_I_00096a.JPG',\n",
       " 'F:\\\\Pred_Estimation_2023\\\\PPC\\\\331_117_3_4298\\\\1_13_2024\\\\100CUDDY\\\\Cropped_images\\\\Human\\\\13_0.916_0.9900000095367432_I_00096a.JPG',\n",
       " 'F:\\\\Pred_Estimation_2023\\\\PPC\\\\331_117_3_4298\\\\1_13_2024\\\\100CUDDY\\\\Cropped_images\\\\Human\\\\14_0.919_1.0_I_00096a.JPG',\n",
       " 'F:\\\\Pred_Estimation_2023\\\\PPC\\\\331_117_3_4298\\\\1_13_2024\\\\100CUDDY\\\\Cropped_images\\\\Human\\\\9_0.771_0.8799999952316284_I_00096b.JPG',\n",
       " 'F:\\\\Pred_Estimation_2023\\\\PPC\\\\331_117_3_4298\\\\1_13_2024\\\\100CUDDY\\\\Cropped_images\\\\Human\\\\10_0.92_1.0_I_00096b.JPG',\n",
       " 'F:\\\\Pred_Estimation_2023\\\\PPC\\\\331_117_3_4298\\\\1_13_2024\\\\100CUDDY\\\\Cropped_images\\\\Human\\\\11_0.924_1.0_I_00096b.JPG',\n",
       " 'F:\\\\Pred_Estimation_2023\\\\PPC\\\\331_117_3_4298\\\\1_13_2024\\\\100CUDDY\\\\Cropped_images\\\\Human\\\\8_0.773_0.8899999856948853_I_00096c.JPG',\n",
       " 'F:\\\\Pred_Estimation_2023\\\\PPC\\\\331_117_3_4298\\\\1_13_2024\\\\100CUDDY\\\\Cropped_images\\\\Human\\\\9_0.925_1.0_I_00096c.JPG',\n",
       " 'F:\\\\Pred_Estimation_2023\\\\PPC\\\\331_117_3_4298\\\\1_13_2024\\\\100CUDDY\\\\Cropped_images\\\\Human\\\\10_0.931_1.0_I_00096c.JPG',\n",
       " 'F:\\\\Pred_Estimation_2023\\\\PPC\\\\331_117_3_4298\\\\1_13_2024\\\\100CUDDY\\\\Cropped_images\\\\Human\\\\7_0.768_0.8799999952316284_I_00096d.JPG',\n",
       " 'F:\\\\Pred_Estimation_2023\\\\PPC\\\\331_117_3_4298\\\\1_13_2024\\\\100CUDDY\\\\Cropped_images\\\\Human\\\\8_0.926_1.0_I_00096d.JPG',\n",
       " 'F:\\\\Pred_Estimation_2023\\\\PPC\\\\331_117_3_4298\\\\1_13_2024\\\\100CUDDY\\\\Cropped_images\\\\Human\\\\9_0.933_1.0_I_00096d.JPG',\n",
       " 'F:\\\\Pred_Estimation_2023\\\\PPC\\\\331_117_3_4298\\\\1_13_2024\\\\100CUDDY\\\\Cropped_images\\\\Human\\\\6_0.799_0.9200000166893005_I_00096e.JPG',\n",
       " 'F:\\\\Pred_Estimation_2023\\\\PPC\\\\331_117_3_4298\\\\1_13_2024\\\\100CUDDY\\\\Cropped_images\\\\Human\\\\7_0.936_1.0_I_00096e.JPG',\n",
       " 'F:\\\\Pred_Estimation_2023\\\\PPC\\\\331_117_3_4298\\\\1_13_2024\\\\100CUDDY\\\\Cropped_images\\\\Human\\\\8_0.937_1.0_I_00096e.JPG',\n",
       " 'F:\\\\Pred_Estimation_2023\\\\PPC\\\\331_117_3_4298\\\\1_13_2024\\\\100CUDDY\\\\Cropped_images\\\\Human\\\\6_0.109_0.9900000095367432_I_00097a.JPG',\n",
       " 'F:\\\\Pred_Estimation_2023\\\\PPC\\\\331_117_3_4298\\\\1_13_2024\\\\100CUDDY\\\\Cropped_images\\\\Human\\\\8_0.898_1.0_I_00097a.JPG',\n",
       " 'F:\\\\Pred_Estimation_2023\\\\PPC\\\\331_117_3_4298\\\\1_13_2024\\\\100CUDDY\\\\Cropped_images\\\\Human\\\\9_0.91_1.0_I_00097a.JPG',\n",
       " 'F:\\\\Pred_Estimation_2023\\\\PPC\\\\331_117_3_4298\\\\1_13_2024\\\\100CUDDY\\\\Cropped_images\\\\Human\\\\10_0.948_1.0_I_00097a.JPG',\n",
       " 'F:\\\\Pred_Estimation_2023\\\\PPC\\\\331_117_3_4298\\\\1_13_2024\\\\100CUDDY\\\\Cropped_images\\\\Human\\\\8_0.847_1.0_I_00097b.JPG',\n",
       " 'F:\\\\Pred_Estimation_2023\\\\PPC\\\\331_117_3_4298\\\\1_13_2024\\\\100CUDDY\\\\Cropped_images\\\\Human\\\\9_0.941_1.0_I_00097b.JPG',\n",
       " 'F:\\\\Pred_Estimation_2023\\\\PPC\\\\331_117_3_4298\\\\1_13_2024\\\\100CUDDY\\\\Cropped_images\\\\Human\\\\10_0.95_1.0_I_00097b.JPG',\n",
       " 'F:\\\\Pred_Estimation_2023\\\\PPC\\\\331_117_3_4298\\\\1_13_2024\\\\100CUDDY\\\\Cropped_images\\\\Human\\\\6_0.868_1.0_I_00097c.JPG',\n",
       " 'F:\\\\Pred_Estimation_2023\\\\PPC\\\\331_117_3_4298\\\\1_13_2024\\\\100CUDDY\\\\Cropped_images\\\\Human\\\\7_0.896_1.0_I_00097c.JPG',\n",
       " 'F:\\\\Pred_Estimation_2023\\\\PPC\\\\331_117_3_4298\\\\1_13_2024\\\\100CUDDY\\\\Cropped_images\\\\Human\\\\8_0.933_1.0_I_00097c.JPG',\n",
       " 'F:\\\\Pred_Estimation_2023\\\\PPC\\\\331_117_3_4298\\\\1_13_2024\\\\100CUDDY\\\\Cropped_images\\\\Human\\\\3_0.865_1.0_I_00097d.JPG',\n",
       " 'F:\\\\Pred_Estimation_2023\\\\PPC\\\\331_117_3_4298\\\\1_13_2024\\\\100CUDDY\\\\Cropped_images\\\\Human\\\\4_0.883_1.0_I_00097d.JPG',\n",
       " 'F:\\\\Pred_Estimation_2023\\\\PPC\\\\331_117_3_4298\\\\1_13_2024\\\\100CUDDY\\\\Cropped_images\\\\Human\\\\5_0.952_1.0_I_00097d.JPG',\n",
       " 'F:\\\\Pred_Estimation_2023\\\\PPC\\\\331_117_3_4298\\\\1_13_2024\\\\100CUDDY\\\\Cropped_images\\\\Human\\\\11_0.727_0.8700000047683716_I_00097e.JPG',\n",
       " 'F:\\\\Pred_Estimation_2023\\\\PPC\\\\331_117_3_4298\\\\1_13_2024\\\\100CUDDY\\\\Cropped_images\\\\Human\\\\12_0.888_1.0_I_00097e.JPG',\n",
       " 'F:\\\\Pred_Estimation_2023\\\\PPC\\\\331_117_3_4298\\\\1_13_2024\\\\100CUDDY\\\\Cropped_images\\\\Human\\\\13_0.961_1.0_I_00097e.JPG',\n",
       " 'F:\\\\Pred_Estimation_2023\\\\PPC\\\\331_117_3_4298\\\\1_13_2024\\\\100CUDDY\\\\Cropped_images\\\\Human\\\\9_0.711_0.8100000023841858_I_00098a.JPG',\n",
       " 'F:\\\\Pred_Estimation_2023\\\\PPC\\\\331_117_3_4298\\\\1_13_2024\\\\100CUDDY\\\\Cropped_images\\\\Human\\\\10_0.889_1.0_I_00098a.JPG',\n",
       " 'F:\\\\Pred_Estimation_2023\\\\PPC\\\\331_117_3_4298\\\\1_13_2024\\\\100CUDDY\\\\Cropped_images\\\\Human\\\\11_0.95_1.0_I_00098a.JPG',\n",
       " 'F:\\\\Pred_Estimation_2023\\\\PPC\\\\331_117_3_4298\\\\1_13_2024\\\\100CUDDY\\\\Cropped_images\\\\Human\\\\9_0.219_0.9599999785423279_I_00098b.JPG',\n",
       " 'F:\\\\Pred_Estimation_2023\\\\PPC\\\\331_117_3_4298\\\\1_13_2024\\\\100CUDDY\\\\Cropped_images\\\\Human\\\\10_0.759_0.8700000047683716_I_00098b.JPG',\n",
       " 'F:\\\\Pred_Estimation_2023\\\\PPC\\\\331_117_3_4298\\\\1_13_2024\\\\100CUDDY\\\\Cropped_images\\\\Human\\\\11_0.899_1.0_I_00098b.JPG',\n",
       " 'F:\\\\Pred_Estimation_2023\\\\PPC\\\\331_117_3_4298\\\\1_13_2024\\\\100CUDDY\\\\Cropped_images\\\\Human\\\\6_0.241_0.9800000190734863_I_00098c.JPG',\n",
       " 'F:\\\\Pred_Estimation_2023\\\\PPC\\\\331_117_3_4298\\\\1_13_2024\\\\100CUDDY\\\\Cropped_images\\\\Human\\\\8_0.893_1.0_I_00098c.JPG',\n",
       " 'F:\\\\Pred_Estimation_2023\\\\PPC\\\\331_117_3_4298\\\\1_13_2024\\\\100CUDDY\\\\Cropped_images\\\\Human\\\\7_0.632_0.9800000190734863_I_00098d.JPG',\n",
       " 'F:\\\\Pred_Estimation_2023\\\\PPC\\\\331_117_3_4298\\\\1_13_2024\\\\100CUDDY\\\\Cropped_images\\\\Human\\\\9_0.846_0.9700000286102295_I_00098d.JPG',\n",
       " 'F:\\\\Pred_Estimation_2023\\\\PPC\\\\331_117_3_4298\\\\1_13_2024\\\\100CUDDY\\\\Cropped_images\\\\Human\\\\10_0.891_1.0_I_00098d.JPG',\n",
       " 'F:\\\\Pred_Estimation_2023\\\\PPC\\\\331_117_3_4298\\\\1_13_2024\\\\100CUDDY\\\\Cropped_images\\\\Human\\\\6_0.332_1.0_I_00098e.JPG',\n",
       " 'F:\\\\Pred_Estimation_2023\\\\PPC\\\\331_117_3_4298\\\\1_13_2024\\\\100CUDDY\\\\Cropped_images\\\\Human\\\\7_0.821_1.0_I_00098e.JPG',\n",
       " 'F:\\\\Pred_Estimation_2023\\\\PPC\\\\331_117_3_4298\\\\1_13_2024\\\\100CUDDY\\\\Cropped_images\\\\Human\\\\8_0.835_0.9599999785423279_I_00098e.JPG',\n",
       " 'F:\\\\Pred_Estimation_2023\\\\PPC\\\\331_117_3_4298\\\\1_13_2024\\\\100CUDDY\\\\Cropped_images\\\\Human\\\\9_0.873_1.0_I_00098e.JPG',\n",
       " 'F:\\\\Pred_Estimation_2023\\\\PPC\\\\331_117_3_4298\\\\1_13_2024\\\\100CUDDY\\\\Cropped_images\\\\Human\\\\9_0.529_0.9700000286102295_I_00099a.JPG',\n",
       " 'F:\\\\Pred_Estimation_2023\\\\PPC\\\\331_117_3_4298\\\\1_13_2024\\\\100CUDDY\\\\Cropped_images\\\\Human\\\\10_0.836_1.0_I_00099a.JPG',\n",
       " 'F:\\\\Pred_Estimation_2023\\\\PPC\\\\331_117_3_4298\\\\1_13_2024\\\\100CUDDY\\\\Cropped_images\\\\Human\\\\11_0.9_0.9900000095367432_I_00099a.JPG',\n",
       " 'F:\\\\Pred_Estimation_2023\\\\PPC\\\\331_117_3_4298\\\\1_13_2024\\\\100CUDDY\\\\Cropped_images\\\\Human\\\\4_0.754_0.9200000166893005_I_00099b.JPG',\n",
       " 'F:\\\\Pred_Estimation_2023\\\\PPC\\\\331_117_3_4298\\\\1_13_2024\\\\100CUDDY\\\\Cropped_images\\\\Human\\\\5_0.898_1.0_I_00099b.JPG',\n",
       " 'F:\\\\Pred_Estimation_2023\\\\PPC\\\\331_117_3_4298\\\\1_13_2024\\\\100CUDDY\\\\Cropped_images\\\\Human\\\\3_0.747_0.9399999976158142_I_00099c.JPG',\n",
       " 'F:\\\\Pred_Estimation_2023\\\\PPC\\\\331_117_3_4298\\\\1_13_2024\\\\100CUDDY\\\\Cropped_images\\\\Human\\\\4_0.904_1.0_I_00099c.JPG',\n",
       " 'F:\\\\Pred_Estimation_2023\\\\PPC\\\\331_117_3_4298\\\\1_13_2024\\\\100CUDDY\\\\Cropped_images\\\\Human\\\\4_0.692_0.9100000262260437_I_00099d.JPG',\n",
       " 'F:\\\\Pred_Estimation_2023\\\\PPC\\\\331_117_3_4298\\\\1_13_2024\\\\100CUDDY\\\\Cropped_images\\\\Human\\\\5_0.908_1.0_I_00099d.JPG',\n",
       " 'F:\\\\Pred_Estimation_2023\\\\PPC\\\\331_117_3_4298\\\\1_13_2024\\\\100CUDDY\\\\Cropped_images\\\\Human\\\\4_0.755_0.949999988079071_I_00099e.JPG',\n",
       " 'F:\\\\Pred_Estimation_2023\\\\PPC\\\\331_117_3_4298\\\\1_13_2024\\\\100CUDDY\\\\Cropped_images\\\\Human\\\\5_0.891_1.0_I_00099e.JPG',\n",
       " 'F:\\\\Pred_Estimation_2023\\\\PPC\\\\331_117_3_4298\\\\1_13_2024\\\\100CUDDY\\\\Cropped_images\\\\Human\\\\4_0.811_0.9900000095367432_I_00100a.JPG',\n",
       " 'F:\\\\Pred_Estimation_2023\\\\PPC\\\\331_117_3_4298\\\\1_13_2024\\\\100CUDDY\\\\Cropped_images\\\\Human\\\\5_0.882_1.0_I_00100a.JPG',\n",
       " 'F:\\\\Pred_Estimation_2023\\\\PPC\\\\331_117_3_4298\\\\1_13_2024\\\\100CUDDY\\\\Cropped_images\\\\Human\\\\5_0.667_0.949999988079071_I_00100b.JPG',\n",
       " 'F:\\\\Pred_Estimation_2023\\\\PPC\\\\331_117_3_4298\\\\1_13_2024\\\\100CUDDY\\\\Cropped_images\\\\Human\\\\6_0.902_1.0_I_00100b.JPG',\n",
       " 'F:\\\\Pred_Estimation_2023\\\\PPC\\\\331_117_3_4298\\\\1_13_2024\\\\100CUDDY\\\\Cropped_images\\\\Human\\\\3_0.671_0.9800000190734863_I_00100c.JPG',\n",
       " 'F:\\\\Pred_Estimation_2023\\\\PPC\\\\331_117_3_4298\\\\1_13_2024\\\\100CUDDY\\\\Cropped_images\\\\Human\\\\4_0.909_1.0_I_00100c.JPG',\n",
       " 'F:\\\\Pred_Estimation_2023\\\\PPC\\\\331_117_3_4298\\\\1_13_2024\\\\100CUDDY\\\\Cropped_images\\\\Human\\\\5_0.638_0.9700000286102295_I_00100d.JPG',\n",
       " 'F:\\\\Pred_Estimation_2023\\\\PPC\\\\331_117_3_4298\\\\1_13_2024\\\\100CUDDY\\\\Cropped_images\\\\Human\\\\6_0.904_1.0_I_00100d.JPG',\n",
       " 'F:\\\\Pred_Estimation_2023\\\\PPC\\\\331_117_3_4298\\\\1_13_2024\\\\100CUDDY\\\\Cropped_images\\\\Human\\\\4_0.805_0.9900000095367432_I_00100e.JPG',\n",
       " 'F:\\\\Pred_Estimation_2023\\\\PPC\\\\331_117_3_4298\\\\1_13_2024\\\\100CUDDY\\\\Cropped_images\\\\Human\\\\5_0.868_1.0_I_00100e.JPG',\n",
       " 'F:\\\\Pred_Estimation_2023\\\\PPC\\\\331_117_3_4298\\\\1_13_2024\\\\100CUDDY\\\\Cropped_images\\\\Human\\\\5_0.597_0.949999988079071_I_00101a.JPG',\n",
       " 'F:\\\\Pred_Estimation_2023\\\\PPC\\\\331_117_3_4298\\\\1_13_2024\\\\100CUDDY\\\\Cropped_images\\\\Human\\\\6_0.816_1.0_I_00101a.JPG',\n",
       " 'F:\\\\Pred_Estimation_2023\\\\PPC\\\\331_117_3_4298\\\\1_13_2024\\\\100CUDDY\\\\Cropped_images\\\\Human\\\\9_0.793_1.0_I_00101b.JPG',\n",
       " 'F:\\\\Pred_Estimation_2023\\\\PPC\\\\331_117_3_4298\\\\1_13_2024\\\\100CUDDY\\\\Cropped_images\\\\Human\\\\8_0.827_1.0_I_00101c.JPG',\n",
       " 'F:\\\\Pred_Estimation_2023\\\\PPC\\\\331_117_3_4298\\\\1_13_2024\\\\100CUDDY\\\\Cropped_images\\\\Human\\\\4_0.643_0.9900000095367432_I_00101d.JPG',\n",
       " 'F:\\\\Pred_Estimation_2023\\\\PPC\\\\331_117_3_4298\\\\1_13_2024\\\\100CUDDY\\\\Cropped_images\\\\Human\\\\5_0.796_1.0_I_00101d.JPG',\n",
       " 'F:\\\\Pred_Estimation_2023\\\\PPC\\\\331_117_3_4298\\\\1_13_2024\\\\100CUDDY\\\\Cropped_images\\\\Human\\\\4_0.68_0.9700000286102295_I_00101e.JPG',\n",
       " 'F:\\\\Pred_Estimation_2023\\\\PPC\\\\331_117_3_4298\\\\1_13_2024\\\\100CUDDY\\\\Cropped_images\\\\Human\\\\5_0.81_1.0_I_00101e.JPG',\n",
       " 'F:\\\\Pred_Estimation_2023\\\\PPC\\\\331_117_3_4298\\\\1_13_2024\\\\100CUDDY\\\\Cropped_images\\\\Human\\\\7_0.592_0.9100000262260437_I_00102a.JPG',\n",
       " 'F:\\\\Pred_Estimation_2023\\\\PPC\\\\331_117_3_4298\\\\1_13_2024\\\\100CUDDY\\\\Cropped_images\\\\Human\\\\8_0.806_1.0_I_00102a.JPG',\n",
       " 'F:\\\\Pred_Estimation_2023\\\\PPC\\\\331_117_3_4298\\\\1_13_2024\\\\100CUDDY\\\\Cropped_images\\\\Human\\\\7_0.556_1.0_I_00102b.JPG',\n",
       " 'F:\\\\Pred_Estimation_2023\\\\PPC\\\\331_117_3_4298\\\\1_13_2024\\\\100CUDDY\\\\Cropped_images\\\\Human\\\\8_0.871_1.0_I_00102b.JPG',\n",
       " 'F:\\\\Pred_Estimation_2023\\\\PPC\\\\331_117_3_4298\\\\1_13_2024\\\\100CUDDY\\\\Cropped_images\\\\Human\\\\5_0.55_0.9900000095367432_I_00102c.JPG',\n",
       " 'F:\\\\Pred_Estimation_2023\\\\PPC\\\\331_117_3_4298\\\\1_13_2024\\\\100CUDDY\\\\Cropped_images\\\\Human\\\\6_0.843_1.0_I_00102c.JPG',\n",
       " 'F:\\\\Pred_Estimation_2023\\\\PPC\\\\331_117_3_4298\\\\1_13_2024\\\\100CUDDY\\\\Cropped_images\\\\Human\\\\5_0.571_0.9900000095367432_I_00102d.JPG',\n",
       " 'F:\\\\Pred_Estimation_2023\\\\PPC\\\\331_117_3_4298\\\\1_13_2024\\\\100CUDDY\\\\Cropped_images\\\\Human\\\\6_0.853_1.0_I_00102d.JPG',\n",
       " 'F:\\\\Pred_Estimation_2023\\\\PPC\\\\331_117_3_4298\\\\1_13_2024\\\\100CUDDY\\\\Cropped_images\\\\Human\\\\4_0.75_0.9100000262260437_I_00102e.JPG',\n",
       " 'F:\\\\Pred_Estimation_2023\\\\PPC\\\\331_117_3_4298\\\\1_13_2024\\\\100CUDDY\\\\Cropped_images\\\\Human\\\\5_0.85_1.0_I_00102e.JPG',\n",
       " 'F:\\\\Pred_Estimation_2023\\\\PPC\\\\331_117_3_4298\\\\1_13_2024\\\\100CUDDY\\\\Cropped_images\\\\Human\\\\1_0.671_1.0_I_00103a.JPG',\n",
       " 'F:\\\\Pred_Estimation_2023\\\\PPC\\\\331_117_3_4298\\\\1_13_2024\\\\100CUDDY\\\\Cropped_images\\\\Human\\\\2_0.91_1.0_I_00103a.JPG',\n",
       " 'F:\\\\Pred_Estimation_2023\\\\PPC\\\\331_117_3_4298\\\\1_13_2024\\\\100CUDDY\\\\Cropped_images\\\\Human\\\\4_0.589_1.0_I_00103b.JPG',\n",
       " 'F:\\\\Pred_Estimation_2023\\\\PPC\\\\331_117_3_4298\\\\1_13_2024\\\\100CUDDY\\\\Cropped_images\\\\Human\\\\5_0.896_1.0_I_00103b.JPG',\n",
       " 'F:\\\\Pred_Estimation_2023\\\\PPC\\\\331_117_3_4298\\\\1_13_2024\\\\100CUDDY\\\\Cropped_images\\\\Human\\\\4_0.654_0.9800000190734863_I_00103c.JPG',\n",
       " 'F:\\\\Pred_Estimation_2023\\\\PPC\\\\331_117_3_4298\\\\1_13_2024\\\\100CUDDY\\\\Cropped_images\\\\Human\\\\5_0.887_1.0_I_00103c.JPG',\n",
       " 'F:\\\\Pred_Estimation_2023\\\\PPC\\\\331_117_3_4298\\\\1_13_2024\\\\100CUDDY\\\\Cropped_images\\\\Human\\\\3_0.74_0.9399999976158142_I_00103d.JPG',\n",
       " 'F:\\\\Pred_Estimation_2023\\\\PPC\\\\331_117_3_4298\\\\1_13_2024\\\\100CUDDY\\\\Cropped_images\\\\Human\\\\4_0.88_1.0_I_00103d.JPG',\n",
       " 'F:\\\\Pred_Estimation_2023\\\\PPC\\\\331_117_3_4298\\\\1_13_2024\\\\100CUDDY\\\\Cropped_images\\\\Human\\\\3_0.627_0.9800000190734863_I_00103e.JPG',\n",
       " 'F:\\\\Pred_Estimation_2023\\\\PPC\\\\331_117_3_4298\\\\1_13_2024\\\\100CUDDY\\\\Cropped_images\\\\Human\\\\4_0.883_1.0_I_00103e.JPG',\n",
       " 'F:\\\\Pred_Estimation_2023\\\\PPC\\\\331_117_3_4298\\\\1_13_2024\\\\100CUDDY\\\\Cropped_images\\\\Human\\\\3_0.747_0.949999988079071_I_00104a.JPG',\n",
       " 'F:\\\\Pred_Estimation_2023\\\\PPC\\\\331_117_3_4298\\\\1_13_2024\\\\100CUDDY\\\\Cropped_images\\\\Human\\\\4_0.878_1.0_I_00104a.JPG',\n",
       " 'F:\\\\Pred_Estimation_2023\\\\PPC\\\\331_117_3_4298\\\\1_13_2024\\\\100CUDDY\\\\Cropped_images\\\\Human\\\\4_0.153_0.8799999952316284_I_00104b.JPG',\n",
       " 'F:\\\\Pred_Estimation_2023\\\\PPC\\\\331_117_3_4298\\\\1_13_2024\\\\100CUDDY\\\\Cropped_images\\\\Human\\\\5_0.595_0.9399999976158142_I_00104b.JPG',\n",
       " 'F:\\\\Pred_Estimation_2023\\\\PPC\\\\331_117_3_4298\\\\1_13_2024\\\\100CUDDY\\\\Cropped_images\\\\Human\\\\6_0.735_0.800000011920929_I_00104b.JPG',\n",
       " 'F:\\\\Pred_Estimation_2023\\\\PPC\\\\331_117_3_4298\\\\1_13_2024\\\\100CUDDY\\\\Cropped_images\\\\Human\\\\7_0.903_1.0_I_00104b.JPG',\n",
       " 'F:\\\\Pred_Estimation_2023\\\\PPC\\\\331_117_3_4298\\\\1_13_2024\\\\100CUDDY\\\\Cropped_images\\\\Human\\\\8_0.899_1.0_I_00104c.JPG',\n",
       " 'F:\\\\Pred_Estimation_2023\\\\PPC\\\\331_117_3_4298\\\\1_13_2024\\\\100CUDDY\\\\Cropped_images\\\\Human\\\\9_0.906_1.0_I_00104c.JPG',\n",
       " 'F:\\\\Pred_Estimation_2023\\\\PPC\\\\331_117_3_4298\\\\1_13_2024\\\\100CUDDY\\\\Cropped_images\\\\Human\\\\10_0.846_1.0_I_00104d.JPG',\n",
       " 'F:\\\\Pred_Estimation_2023\\\\PPC\\\\331_117_3_4298\\\\1_13_2024\\\\100CUDDY\\\\Cropped_images\\\\Human\\\\11_0.925_1.0_I_00104d.JPG',\n",
       " 'F:\\\\Pred_Estimation_2023\\\\PPC\\\\331_117_3_4298\\\\1_13_2024\\\\100CUDDY\\\\Cropped_images\\\\Human\\\\6_0.569_0.9200000166893005_I_00104e.JPG',\n",
       " 'F:\\\\Pred_Estimation_2023\\\\PPC\\\\331_117_3_4298\\\\1_13_2024\\\\100CUDDY\\\\Cropped_images\\\\Human\\\\7_0.861_1.0_I_00104e.JPG',\n",
       " 'F:\\\\Pred_Estimation_2023\\\\PPC\\\\331_117_3_4298\\\\1_13_2024\\\\100CUDDY\\\\Cropped_images\\\\Human\\\\8_0.925_0.9399999976158142_I_00104e.JPG',\n",
       " 'F:\\\\Pred_Estimation_2023\\\\PPC\\\\331_117_3_4298\\\\1_13_2024\\\\100CUDDY\\\\Cropped_images\\\\Human\\\\11_0.784_1.0_I_00105a.JPG',\n",
       " 'F:\\\\Pred_Estimation_2023\\\\PPC\\\\331_117_3_4298\\\\1_13_2024\\\\100CUDDY\\\\Cropped_images\\\\Human\\\\12_0.864_0.8399999737739563_I_00105a.JPG',\n",
       " 'F:\\\\Pred_Estimation_2023\\\\PPC\\\\331_117_3_4298\\\\1_13_2024\\\\100CUDDY\\\\Cropped_images\\\\Human\\\\13_0.868_1.0_I_00105a.JPG',\n",
       " 'F:\\\\Pred_Estimation_2023\\\\PPC\\\\331_117_3_4298\\\\1_13_2024\\\\100CUDDY\\\\Cropped_images\\\\Human\\\\7_0.837_1.0_I_00105b.JPG',\n",
       " 'F:\\\\Pred_Estimation_2023\\\\PPC\\\\331_117_3_4298\\\\1_13_2024\\\\100CUDDY\\\\Cropped_images\\\\Human\\\\8_0.844_0.9700000286102295_I_00105b.JPG',\n",
       " 'F:\\\\Pred_Estimation_2023\\\\PPC\\\\331_117_3_4298\\\\1_13_2024\\\\100CUDDY\\\\Cropped_images\\\\Human\\\\9_0.896_1.0_I_00105b.JPG',\n",
       " 'F:\\\\Pred_Estimation_2023\\\\PPC\\\\331_117_3_4298\\\\1_13_2024\\\\100CUDDY\\\\Cropped_images\\\\Human\\\\9_0.659_0.9900000095367432_I_00105c.JPG',\n",
       " 'F:\\\\Pred_Estimation_2023\\\\PPC\\\\331_117_3_4298\\\\1_13_2024\\\\100CUDDY\\\\Cropped_images\\\\Human\\\\11_0.879_1.0_I_00105c.JPG',\n",
       " ...]"
      ]
     },
     "execution_count": 3,
     "metadata": {},
     "output_type": "execute_result"
    }
   ],
   "source": []
  },
  {
   "cell_type": "code",
   "execution_count": 1,
   "id": "bf5ca0e6-b6e0-4d72-8349-bd9511af1d9d",
   "metadata": {},
   "outputs": [],
   "source": [
    "#### Fucntions for fast renaming and copying\n",
    "\n",
    "import datetime\n",
    "import pandas as pd\n",
    "import exifread\n",
    "import os\n",
    "from datetime import timedelta\n",
    "import shutil\n",
    "from concurrent.futures import ThreadPoolExecutor\n",
    "import math\n",
    "import pyfastcopy\n",
    "import gc\n",
    "\n",
    "def list_files_in_directory(directory):\n",
    "    file_paths = []\n",
    "    for root, dirs, files in os.walk(directory):\n",
    "        for file in files:\n",
    "            if file.lower().endswith(('.jpg', '.jpeg','.csv','.json')):\n",
    "                file_path = os.path.join(root, file)\n",
    "                file_paths.append(file_path)\n",
    "            else:\n",
    "                continue\n",
    "    return file_paths\n",
    "\n",
    "def convert_datetime(dt):\n",
    "    try:\n",
    "        dt = pd.to_datetime(dt, format='%Y-%m-%d %H-%M-%S')\n",
    "        return dt.strftime('%Y%m%d_%H%M%S')\n",
    "    except pd.errors.OutOfBoundsDatetime:\n",
    "        return 'OutOfBoundsDatetime'\n",
    "\n",
    "def clean_path(path):\n",
    "    return os.path.normpath(path)\n",
    "\n",
    "def process_image(image_path):\n",
    "    with open(image_path, 'rb') as image_file:\n",
    "        tags = exifread.process_file(image_file, details=False)\n",
    "        \n",
    "        directory = os.path.dirname(image_path)\n",
    "        filename = os.path.basename(image_path)\n",
    "        filetype_extension = os.path.splitext(filename)[1]\n",
    "        make = tags.get('Image Make', 'N/A')\n",
    "        model = tags.get('Image Model', 'N/A')\n",
    "        datetime_original = tags.get('EXIF DateTimeOriginal', 'N/A')\n",
    "        \n",
    "        return {\n",
    "            'SourceFile': image_path,\n",
    "            'Directory': directory,\n",
    "            'FileName': filename,\n",
    "            'FileTypeExtension': filetype_extension,\n",
    "            'Make': make,\n",
    "            'Model': model,\n",
    "            'DateTimeOriginal': datetime_original\n",
    "        }\n",
    "\n",
    "def read_exif(image_dir):\n",
    "    file_paths = list_files_in_directory(image_dir)\n",
    "    print(len(file_paths))\n",
    "    with ThreadPoolExecutor(20) as executor:  # Adjust max_workers as needed\n",
    "        image_metadata_list = list(executor.map(process_image, file_paths))\n",
    "    exif_info = pd.DataFrame(image_metadata_list)\n",
    "    return exif_info\n",
    "\n",
    "def create_new_filenames(exif_info):\n",
    "    exif_info = exif_info[exif_info[\"DateTimeOriginal\"] != \"N/A\"]\n",
    "    highest_subfolder_number = get_highest_subfolder_number(dest_dir)\n",
    "    exif_info['Station'] = Station\n",
    "    exif_info['Camera'] = Camera\n",
    "    exif_info['DateTimeOriginal'] = pd.to_datetime(exif_info['DateTimeOriginal'], format='%Y:%m:%d %H:%M:%S')\n",
    "    exif_info['FormattedDateTime'] = exif_info['DateTimeOriginal'].apply(convert_datetime)\n",
    "    exif_info = exif_info.sort_values(by=['Station', 'Camera', 'DateTimeOriginal']).reset_index(drop=True)\n",
    "    exif_info['diff'] = exif_info.groupby(['Station', 'Camera'])['DateTimeOriginal'].diff()\n",
    "    exif_info['image_number']=exif_info.groupby(['Station','Camera']).cumcount()+1\n",
    "    exif_info['Directory'] = exif_info['Directory'].apply(clean_path)\n",
    "    exif_info['SourceFile'] = exif_info['SourceFile'].apply(clean_path)\n",
    "    exif_info['Dest_subfolder_number'] = (highest_subfolder_number + exif_info['image_number'].apply(lambda x: math.ceil(x / 10000))).astype(str)\n",
    "    \n",
    "    subfolders=[]\n",
    "    min_dates=[]\n",
    "    max_dates=[]\n",
    "    for d in exif_info[\"Dest_subfolder_number\"].unique():\n",
    "        subfolders.append(d)\n",
    "        temp_renaming_table = exif_info.loc[exif_info[\"Dest_subfolder_number\"] == d]  \n",
    "        min_date = datetime.datetime.strftime(min(temp_renaming_table.FormattedDateTime.apply(lambda x: datetime.datetime.strptime(x,'%Y%m%d_%H%M%S'))),'%Y%m%d_%H%M%S')\n",
    "        min_dates.append(min_date)\n",
    "        max_date = datetime.datetime.strftime(max(temp_renaming_table.FormattedDateTime.apply(lambda x: datetime.datetime.strptime(x,'%Y%m%d_%H%M%S'))),'%Y%m%d_%H%M%S')\n",
    "        max_dates.append(max_date)\n",
    "    subfolder_intervals_df = pd.DataFrame({\"Dest_subfolder_number\" : subfolders, \"min_date\" : min_dates, \"max_date\" : max_dates})\n",
    "    exif_info = exif_info.merge(subfolder_intervals_df, how = \"left\")\n",
    "    exif_info['Dest_Directory'] = (dest_dir + \"\\\\\" + exif_info['min_date'] + \"__to__\" + exif_info[\"max_date\"]).apply(clean_path)\n",
    "    #exif_info['Dest_Directory'] = (dest_dir + \"\\\\\" + exif_info[\"Dest_subfolder_number\"]).apply(clean_path)\n",
    "\n",
    "    ### Add sequence number\n",
    "    threshold = timedelta(seconds=1)\n",
    "    Sequence = []\n",
    "    for i in range(len(exif_info)):\n",
    "        diff = exif_info['diff'][i]\n",
    "        if pd.isna(diff) or diff > threshold:\n",
    "            sequence = 1\n",
    "        else:\n",
    "            sequence = Sequence[i - 1] + 1\n",
    "        Sequence.append(sequence)\n",
    "    exif_info['Sequence'] = Sequence\n",
    "\n",
    "    ### Construct new filename\n",
    "    exif_info['FileNameNew'] = exif_info['Station'] + '_' + exif_info['Camera'] + '_' + exif_info['FormattedDateTime'] + '(' + exif_info['Sequence'].astype(str) + ')' + exif_info['FileTypeExtension']\n",
    "    exif_info['DestFile'] = (exif_info['Dest_Directory'] + \"\\\\\" + exif_info['FileNameNew']).apply(clean_path)\n",
    "    \n",
    "    return exif_info\n",
    "\n",
    "def get_highest_subfolder_number(dest_dir):\n",
    "    # Get existing subdirectories\n",
    "    if os.path.isdir(dest_dir):\n",
    "        existing_subdirs = [d for d in os.listdir(dest_dir) if os.path.isdir(os.path.join(dest_dir, d))]\n",
    "        subfolder_numbers = [int(dir) for dir in existing_subdirs]\n",
    "        try:\n",
    "            max_number = max(subfolder_numbers)\n",
    "        except:\n",
    "            max_number = 0\n",
    "    else:\n",
    "        max_number = 0\n",
    "    # Return the highest subfolder number or 0 if none exist\n",
    "    return max_number\n",
    "\n",
    "def copy_images_batch(table, batch_size=1000):\n",
    "    src_files=table['SourceFile']\n",
    "    dest_files=table['DestFile']\n",
    "    with ThreadPoolExecutor(20) as exe:\n",
    "        for i in range(0, len(src_files), batch_size):\n",
    "            src_batch = src_files[i:i + batch_size]\n",
    "            dest_batch = dest_files[i:i + batch_size]\n",
    "            \n",
    "            batch_tasks = [exe.submit(shutil.copy, src, dest) for src, dest in zip(src_batch, dest_batch)]\n",
    "            # Wait for all tasks in the batch to complete before proceeding to the next batch\n",
    "            _ = [task.result() for task in batch_tasks]\n",
    "            print(f\"First {i+1 * 1000} images copied at {datetime.datetime.now()}\")\n",
    "            gc.collect()"
   ]
  },
  {
   "cell_type": "code",
   "execution_count": 5,
   "id": "a5922ebe-79df-4a01-8423-474b9439463d",
   "metadata": {},
   "outputs": [
    {
     "name": "stdout",
     "output_type": "stream",
     "text": [
      "147\n",
      "Renaming table created in 0:00:00.459744\n",
      "First 1000 images copied at 2024-03-02 17:10:54.876656\n",
      "Renaming and copying completed in 0:00:01.082353\n"
     ]
    }
   ],
   "source": [
    "start = datetime.datetime.now()\n",
    "###Create Renaming Table\n",
    "exif = read_exif(input_dir)\n",
    "renaming_table=create_new_filenames(exif)\n",
    "print(f\"Renaming table created in {datetime.datetime.now() - start}\")\n",
    "\n",
    "### Copy and rename in batches, based on renaming table\n",
    "unique_directories = set(renaming_table['Dest_Directory'])\n",
    "for d in unique_directories:\n",
    "    if not os.path.exists(d):\n",
    "        os.makedirs(d)\n",
    "copy_images_batch(renaming_table)\n",
    "print(f\"Renaming and copying completed in {datetime.datetime.now() - start}\")"
   ]
  },
  {
   "cell_type": "code",
   "execution_count": 6,
   "id": "017e3055-9dc0-47c2-a2a9-d75ebd8056a2",
   "metadata": {
    "scrolled": true
   },
   "outputs": [
    {
     "data": {
      "text/html": [
       "<div>\n",
       "<style scoped>\n",
       "    .dataframe tbody tr th:only-of-type {\n",
       "        vertical-align: middle;\n",
       "    }\n",
       "\n",
       "    .dataframe tbody tr th {\n",
       "        vertical-align: top;\n",
       "    }\n",
       "\n",
       "    .dataframe thead th {\n",
       "        text-align: right;\n",
       "    }\n",
       "</style>\n",
       "<table border=\"1\" class=\"dataframe\">\n",
       "  <thead>\n",
       "    <tr style=\"text-align: right;\">\n",
       "      <th></th>\n",
       "      <th>SourceFile</th>\n",
       "      <th>Directory</th>\n",
       "      <th>FileName</th>\n",
       "      <th>FileTypeExtension</th>\n",
       "      <th>Make</th>\n",
       "      <th>Model</th>\n",
       "      <th>DateTimeOriginal</th>\n",
       "    </tr>\n",
       "  </thead>\n",
       "  <tbody>\n",
       "    <tr>\n",
       "      <th>0</th>\n",
       "      <td>D:\\Trial\\Sudasari B\\Sudasari B2\\Test_14022024\\...</td>\n",
       "      <td>D:\\Trial\\Sudasari B\\Sudasari B2\\Test_14022024\\A</td>\n",
       "      <td>IMG_0001.JPG</td>\n",
       "      <td>.JPG</td>\n",
       "      <td>RECONYX</td>\n",
       "      <td>HC500 HYPERFIRE</td>\n",
       "      <td>2023:05:23 19:35:00</td>\n",
       "    </tr>\n",
       "    <tr>\n",
       "      <th>1</th>\n",
       "      <td>D:\\Trial\\Sudasari B\\Sudasari B2\\Test_14022024\\...</td>\n",
       "      <td>D:\\Trial\\Sudasari B\\Sudasari B2\\Test_14022024\\A</td>\n",
       "      <td>IMG_0002.JPG</td>\n",
       "      <td>.JPG</td>\n",
       "      <td>RECONYX</td>\n",
       "      <td>HC500 HYPERFIRE</td>\n",
       "      <td>2023:05:23 19:36:00</td>\n",
       "    </tr>\n",
       "    <tr>\n",
       "      <th>2</th>\n",
       "      <td>D:\\Trial\\Sudasari B\\Sudasari B2\\Test_14022024\\...</td>\n",
       "      <td>D:\\Trial\\Sudasari B\\Sudasari B2\\Test_14022024\\A</td>\n",
       "      <td>IMG_0003.JPG</td>\n",
       "      <td>.JPG</td>\n",
       "      <td>RECONYX</td>\n",
       "      <td>HC500 HYPERFIRE</td>\n",
       "      <td>2023:05:23 19:37:00</td>\n",
       "    </tr>\n",
       "    <tr>\n",
       "      <th>3</th>\n",
       "      <td>D:\\Trial\\Sudasari B\\Sudasari B2\\Test_14022024\\...</td>\n",
       "      <td>D:\\Trial\\Sudasari B\\Sudasari B2\\Test_14022024\\A</td>\n",
       "      <td>IMG_0004.JPG</td>\n",
       "      <td>.JPG</td>\n",
       "      <td>RECONYX</td>\n",
       "      <td>HC500 HYPERFIRE</td>\n",
       "      <td>2023:05:23 19:38:00</td>\n",
       "    </tr>\n",
       "    <tr>\n",
       "      <th>4</th>\n",
       "      <td>D:\\Trial\\Sudasari B\\Sudasari B2\\Test_14022024\\...</td>\n",
       "      <td>D:\\Trial\\Sudasari B\\Sudasari B2\\Test_14022024\\A</td>\n",
       "      <td>IMG_0005.JPG</td>\n",
       "      <td>.JPG</td>\n",
       "      <td>RECONYX</td>\n",
       "      <td>HC500 HYPERFIRE</td>\n",
       "      <td>2023:05:23 19:39:00</td>\n",
       "    </tr>\n",
       "    <tr>\n",
       "      <th>...</th>\n",
       "      <td>...</td>\n",
       "      <td>...</td>\n",
       "      <td>...</td>\n",
       "      <td>...</td>\n",
       "      <td>...</td>\n",
       "      <td>...</td>\n",
       "      <td>...</td>\n",
       "    </tr>\n",
       "    <tr>\n",
       "      <th>142</th>\n",
       "      <td>D:\\Trial\\Sudasari B\\Sudasari B2\\Test_14022024\\...</td>\n",
       "      <td>D:\\Trial\\Sudasari B\\Sudasari B2\\Test_14022024\\B</td>\n",
       "      <td>IMG_0225.JPG</td>\n",
       "      <td>.JPG</td>\n",
       "      <td>RECONYX</td>\n",
       "      <td>HC500 HYPERFIRE</td>\n",
       "      <td>2023:01:29 11:18:48</td>\n",
       "    </tr>\n",
       "    <tr>\n",
       "      <th>143</th>\n",
       "      <td>D:\\Trial\\Sudasari B\\Sudasari B2\\Test_14022024\\...</td>\n",
       "      <td>D:\\Trial\\Sudasari B\\Sudasari B2\\Test_14022024\\B</td>\n",
       "      <td>IMG_0226.JPG</td>\n",
       "      <td>.JPG</td>\n",
       "      <td>RECONYX</td>\n",
       "      <td>HC500 HYPERFIRE</td>\n",
       "      <td>2023:01:29 11:18:48</td>\n",
       "    </tr>\n",
       "    <tr>\n",
       "      <th>144</th>\n",
       "      <td>D:\\Trial\\Sudasari B\\Sudasari B2\\Test_14022024\\...</td>\n",
       "      <td>D:\\Trial\\Sudasari B\\Sudasari B2\\Test_14022024\\B</td>\n",
       "      <td>IMG_0227.JPG</td>\n",
       "      <td>.JPG</td>\n",
       "      <td>RECONYX</td>\n",
       "      <td>HC500 HYPERFIRE</td>\n",
       "      <td>2023:01:29 11:18:59</td>\n",
       "    </tr>\n",
       "    <tr>\n",
       "      <th>145</th>\n",
       "      <td>D:\\Trial\\Sudasari B\\Sudasari B2\\Test_14022024\\...</td>\n",
       "      <td>D:\\Trial\\Sudasari B\\Sudasari B2\\Test_14022024\\B</td>\n",
       "      <td>IMG_0228.JPG</td>\n",
       "      <td>.JPG</td>\n",
       "      <td>RECONYX</td>\n",
       "      <td>HC500 HYPERFIRE</td>\n",
       "      <td>2023:01:29 11:19:00</td>\n",
       "    </tr>\n",
       "    <tr>\n",
       "      <th>146</th>\n",
       "      <td>D:\\Trial\\Sudasari B\\Sudasari B2\\Test_14022024\\...</td>\n",
       "      <td>D:\\Trial\\Sudasari B\\Sudasari B2\\Test_14022024\\B</td>\n",
       "      <td>IMG_0229.JPG</td>\n",
       "      <td>.JPG</td>\n",
       "      <td>RECONYX</td>\n",
       "      <td>HC500 HYPERFIRE</td>\n",
       "      <td>2023:01:29 11:19:01</td>\n",
       "    </tr>\n",
       "  </tbody>\n",
       "</table>\n",
       "<p>147 rows × 7 columns</p>\n",
       "</div>"
      ],
      "text/plain": [
       "                                            SourceFile  \\\n",
       "0    D:\\Trial\\Sudasari B\\Sudasari B2\\Test_14022024\\...   \n",
       "1    D:\\Trial\\Sudasari B\\Sudasari B2\\Test_14022024\\...   \n",
       "2    D:\\Trial\\Sudasari B\\Sudasari B2\\Test_14022024\\...   \n",
       "3    D:\\Trial\\Sudasari B\\Sudasari B2\\Test_14022024\\...   \n",
       "4    D:\\Trial\\Sudasari B\\Sudasari B2\\Test_14022024\\...   \n",
       "..                                                 ...   \n",
       "142  D:\\Trial\\Sudasari B\\Sudasari B2\\Test_14022024\\...   \n",
       "143  D:\\Trial\\Sudasari B\\Sudasari B2\\Test_14022024\\...   \n",
       "144  D:\\Trial\\Sudasari B\\Sudasari B2\\Test_14022024\\...   \n",
       "145  D:\\Trial\\Sudasari B\\Sudasari B2\\Test_14022024\\...   \n",
       "146  D:\\Trial\\Sudasari B\\Sudasari B2\\Test_14022024\\...   \n",
       "\n",
       "                                           Directory      FileName  \\\n",
       "0    D:\\Trial\\Sudasari B\\Sudasari B2\\Test_14022024\\A  IMG_0001.JPG   \n",
       "1    D:\\Trial\\Sudasari B\\Sudasari B2\\Test_14022024\\A  IMG_0002.JPG   \n",
       "2    D:\\Trial\\Sudasari B\\Sudasari B2\\Test_14022024\\A  IMG_0003.JPG   \n",
       "3    D:\\Trial\\Sudasari B\\Sudasari B2\\Test_14022024\\A  IMG_0004.JPG   \n",
       "4    D:\\Trial\\Sudasari B\\Sudasari B2\\Test_14022024\\A  IMG_0005.JPG   \n",
       "..                                               ...           ...   \n",
       "142  D:\\Trial\\Sudasari B\\Sudasari B2\\Test_14022024\\B  IMG_0225.JPG   \n",
       "143  D:\\Trial\\Sudasari B\\Sudasari B2\\Test_14022024\\B  IMG_0226.JPG   \n",
       "144  D:\\Trial\\Sudasari B\\Sudasari B2\\Test_14022024\\B  IMG_0227.JPG   \n",
       "145  D:\\Trial\\Sudasari B\\Sudasari B2\\Test_14022024\\B  IMG_0228.JPG   \n",
       "146  D:\\Trial\\Sudasari B\\Sudasari B2\\Test_14022024\\B  IMG_0229.JPG   \n",
       "\n",
       "    FileTypeExtension     Make            Model     DateTimeOriginal  \n",
       "0                .JPG  RECONYX  HC500 HYPERFIRE  2023:05:23 19:35:00  \n",
       "1                .JPG  RECONYX  HC500 HYPERFIRE  2023:05:23 19:36:00  \n",
       "2                .JPG  RECONYX  HC500 HYPERFIRE  2023:05:23 19:37:00  \n",
       "3                .JPG  RECONYX  HC500 HYPERFIRE  2023:05:23 19:38:00  \n",
       "4                .JPG  RECONYX  HC500 HYPERFIRE  2023:05:23 19:39:00  \n",
       "..                ...      ...              ...                  ...  \n",
       "142              .JPG  RECONYX  HC500 HYPERFIRE  2023:01:29 11:18:48  \n",
       "143              .JPG  RECONYX  HC500 HYPERFIRE  2023:01:29 11:18:48  \n",
       "144              .JPG  RECONYX  HC500 HYPERFIRE  2023:01:29 11:18:59  \n",
       "145              .JPG  RECONYX  HC500 HYPERFIRE  2023:01:29 11:19:00  \n",
       "146              .JPG  RECONYX  HC500 HYPERFIRE  2023:01:29 11:19:01  \n",
       "\n",
       "[147 rows x 7 columns]"
      ]
     },
     "execution_count": 6,
     "metadata": {},
     "output_type": "execute_result"
    }
   ],
   "source": [
    "exif"
   ]
  },
  {
   "cell_type": "code",
   "execution_count": null,
   "id": "395a8362-e26d-4286-9f79-e88bd35760a1",
   "metadata": {},
   "outputs": [],
   "source": []
  },
  {
   "cell_type": "code",
   "execution_count": 7,
   "id": "784d761f-2cd9-43c7-a689-2cbbef8f0c73",
   "metadata": {},
   "outputs": [],
   "source": [
    "#### Functions for geotagging\n",
    "\n",
    "import subprocess\n",
    "import exiftool\n",
    "import datetime\n",
    "\n",
    "def add_gps_info(image_dir):\n",
    "    command = [exiftool_path, '-GPSLatitude=' + str(latitude), '-GPSLongitude=' + str(longitude), '-overwrite_original','-r',image_dir]\n",
    "    try:\n",
    "        subprocess.run(command, check=True)\n",
    "        print(f\"GPS information added to {image_dir} successfully.\")\n",
    "    except subprocess.CalledProcessError as e:\n",
    "        print(f\"Error while processing {image_dir}: {e}\")"
   ]
  },
  {
   "cell_type": "code",
   "execution_count": 8,
   "id": "051c8d66-4039-4a29-b219-6114deb2a2fa",
   "metadata": {},
   "outputs": [
    {
     "name": "stdout",
     "output_type": "stream",
     "text": [
      "GPS information added to D:\\Trial\\Sudasari B\\Sudasari B2\\Test_Dest_14022024\\20230129_111729__to__20230523_222702 successfully.\n",
      "Geotagging completed in 0:00:03.621962\n"
     ]
    }
   ],
   "source": [
    "### Geotag\n",
    "start = datetime.datetime.now()\n",
    "for d in unique_directories:\n",
    "    add_gps_info(d)\n",
    "end= datetime.datetime.now()\n",
    "print(f\"Geotagging completed in {end-start}\")"
   ]
  },
  {
   "cell_type": "code",
   "execution_count": null,
   "id": "a0920113-634d-4031-b853-c2d2c6dfe1ea",
   "metadata": {},
   "outputs": [],
   "source": []
  },
  {
   "cell_type": "code",
   "execution_count": 8,
   "id": "ce86546d-0618-4f5e-b9f2-96fa02adddc1",
   "metadata": {},
   "outputs": [
    {
     "name": "stdout",
     "output_type": "stream",
     "text": [
      "Models loaded : True\n",
      "GPU available\n",
      "G:\\Guzzler_data\\Sorted_guzzler_data\\2023\\2023_1\\CameraTrapPhotos_2023_1\\RKVY\\GIB\\20230129_113814__to__20230201_090348\n",
      "G:\\Guzzler_data\\Sorted_guzzler_data\\2023\\2023_1\\CameraTrapPhotos_2023_1\\RKVY\\GIB\\20230201_090351__to__20230201_152711\n",
      "G:\\Guzzler_data\\Sorted_guzzler_data\\2023\\2023_1\\CameraTrapPhotos_2023_1\\RKVY\\GIB\\20230201_152713__to__20230203_130946\n",
      "G:\\Guzzler_data\\Sorted_guzzler_data\\2023\\2023_1\\CameraTrapPhotos_2023_1\\RKVY\\GIB\\20230203_130947__to__20230203_232908\n",
      "G:\\Guzzler_data\\Sorted_guzzler_data\\2023\\2023_1\\CameraTrapPhotos_2023_1\\RKVY\\GIB\\20230203_232909__to__20230219_122053\n",
      "G:\\Guzzler_data\\Sorted_guzzler_data\\2023\\2023_1\\CameraTrapPhotos_2023_1\\RKVY\\GIB\\20230219_122053__to__20230219_214647\n",
      "G:\\Guzzler_data\\Sorted_guzzler_data\\2023\\2023_1\\CameraTrapPhotos_2023_1\\RKVY\\GIB\\20230219_214648__to__20230222_002453\n",
      "G:\\Guzzler_data\\Sorted_guzzler_data\\2023\\2023_1\\CameraTrapPhotos_2023_1\\RKVY\\GIB\\20230222_002454__to__20230222_125227\n",
      "G:\\Guzzler_data\\Sorted_guzzler_data\\2023\\2023_1\\CameraTrapPhotos_2023_1\\RKVY\\GIB\\20230222_125227__to__20230325_170900\n",
      "G:\\Guzzler_data\\Sorted_guzzler_data\\2023\\2023_1\\CameraTrapPhotos_2023_1\\RKVY\\GIB\\20230325_171000__to__20230328_185432\n",
      "G:\\Guzzler_data\\Sorted_guzzler_data\\2023\\2023_1\\CameraTrapPhotos_2023_1\\RKVY\\GIB\\20230328_185433__to__20230516_135549\n",
      "G:\\Guzzler_data\\Sorted_guzzler_data\\2023\\2023_1\\CameraTrapPhotos_2023_1\\RKVY\\GIB\\20230516_135550__to__20230519_103600\n",
      "G:\\Guzzler_data\\Sorted_guzzler_data\\2023\\2023_1\\CameraTrapPhotos_2023_1\\RKVY\\GIB\\20230519_103700__to__20230614_155944\n",
      "G:\\Guzzler_data\\Sorted_guzzler_data\\2023\\2023_1\\CameraTrapPhotos_2023_1\\RKVY\\GIB\\20230614_155945__to__20230618_094640\n",
      "G:\\Guzzler_data\\Sorted_guzzler_data\\2023\\2023_1\\CameraTrapPhotos_2023_1\\RKVY\\GIB\\20230618_094640__to__20230618_120955\n",
      "G:\\Guzzler_data\\Sorted_guzzler_data\\2023\\2023_1\\CameraTrapPhotos_2023_1\\RKVY\\GIB\\20230618_120956__to__20230618_143414\n",
      "G:\\Guzzler_data\\Sorted_guzzler_data\\2023\\2023_1\\CameraTrapPhotos_2023_1\\RKVY\\GIB\\20230618_143415__to__20230618_223905\n",
      "G:\\Guzzler_data\\Sorted_guzzler_data\\2023\\2023_1\\CameraTrapPhotos_2023_1\\RKVY\\GIB\\20230618_223906__to__20230702_093743\n",
      "G:\\Guzzler_data\\Sorted_guzzler_data\\2023\\2023_1\\CameraTrapPhotos_2023_1\\RKVY\\GIB\\20230702_093745__to__20230702_121426\n",
      "G:\\Guzzler_data\\Sorted_guzzler_data\\2023\\2023_1\\CameraTrapPhotos_2023_1\\RKVY\\GIB\\20230702_121428__to__20230702_150131\n",
      "G:\\Guzzler_data\\Sorted_guzzler_data\\2023\\2023_1\\CameraTrapPhotos_2023_1\\RKVY\\GIB\\20230702_150132__to__20230711_102126\n",
      "G:\\Guzzler_data\\Sorted_guzzler_data\\2023\\2023_1\\CameraTrapPhotos_2023_1\\RKVY\\GIB\\20230711_102127__to__20230711_131057\n",
      "G:\\Guzzler_data\\Sorted_guzzler_data\\2023\\2023_1\\CameraTrapPhotos_2023_1\\RKVY\\GIB\\20230711_131057__to__20230712_053655\n",
      "G:\\Guzzler_data\\Sorted_guzzler_data\\2023\\2023_1\\CameraTrapPhotos_2023_1\\RKVY\\GIB\\20230712_053656__to__20230712_081538\n",
      "G:\\Guzzler_data\\Sorted_guzzler_data\\2023\\2023_1\\CameraTrapPhotos_2023_1\\RKVY\\GIB\\20230712_081538__to__20230712_111524\n",
      "G:\\Guzzler_data\\Sorted_guzzler_data\\2023\\2023_1\\CameraTrapPhotos_2023_1\\RKVY\\GIB\\20230712_111524__to__20230716_102814\n",
      "G:\\Guzzler_data\\Sorted_guzzler_data\\2023\\2023_1\\CameraTrapPhotos_2023_1\\RKVY\\GIB\\20230716_102815__to__20230722_225838\n",
      "G:\\Guzzler_data\\Sorted_guzzler_data\\2023\\2023_1\\CameraTrapPhotos_2023_1\\RKVY\\GIB\\20230722_225838__to__20230816_095104\n",
      "G:\\Guzzler_data\\Sorted_guzzler_data\\2023\\2023_1\\CameraTrapPhotos_2023_1\\RKVY\\GIB\\20230816_095105__to__20230816_123328\n",
      "G:\\Guzzler_data\\Sorted_guzzler_data\\2023\\2023_1\\CameraTrapPhotos_2023_1\\RKVY\\GIB\\20230816_123329__to__20230816_165708\n",
      "G:\\Guzzler_data\\Sorted_guzzler_data\\2023\\2023_1\\CameraTrapPhotos_2023_1\\RKVY\\GIB\\20230816_165709__to__20230822_143447\n",
      "G:\\Guzzler_data\\Sorted_guzzler_data\\2023\\2023_1\\CameraTrapPhotos_2023_1\\RKVY\\GIB\\20230822_143457__to__20230906_070213\n",
      "Loading Models...\n",
      "0:00:00\n",
      "\n",
      "G:\\Guzzler_data\\Sorted_guzzler_data\\2023\\2023_1\\CameraTrapPhotos_2023_1\\RKVY\\GIB\\20230129_113814__to__20230201_090348\n",
      "10000\n",
      "Megadetector model\n",
      "Megadetector output file already exists.. Going for species classification\n",
      "Saving detections at G:\\Guzzler_data\\Sorted_guzzler_data\\2023\\2023_1\\CameraTrapPhotos_2023_1\\RKVY\\GIB\\20230129_113814__to__20230201_090348\\RKVY_GIB_20230129_113814__to__20230201_090348_megadetector.json...\n",
      "Generating detections.csv...\n",
      "Images already cropped...\n",
      "Order level classification already complete\n",
      "Predicting Small Carnivores...\n",
      "8/8 [==============================] - 3s 435ms/step\n",
      "Moving Ungulates and Small Carnivores...\n"
     ]
    },
    {
     "name": "stderr",
     "output_type": "stream",
     "text": [
      "Copying images: 0it [00:04, ?it/s]\n",
      "Removing source images: 0it [00:01, ?it/s]"
     ]
    },
    {
     "name": "stdout",
     "output_type": "stream",
     "text": [
      "All 0 images copied and removed at 2024-03-07 12:49:19.991630\n"
     ]
    },
    {
     "name": "stderr",
     "output_type": "stream",
     "text": [
      "\n"
     ]
    },
    {
     "name": "stdout",
     "output_type": "stream",
     "text": [
      "Saving Logs\n",
      "\n",
      "G:\\Guzzler_data\\Sorted_guzzler_data\\2023\\2023_1\\CameraTrapPhotos_2023_1\\RKVY\\GIB\\20230201_090351__to__20230201_152711\n",
      "10000\n",
      "Megadetector model\n",
      "Megadetector output file already exists.. Going for species classification\n",
      "Saving detections at G:\\Guzzler_data\\Sorted_guzzler_data\\2023\\2023_1\\CameraTrapPhotos_2023_1\\RKVY\\GIB\\20230201_090351__to__20230201_152711\\RKVY_GIB_20230201_090351__to__20230201_152711_megadetector.json...\n",
      "Generating detections.csv...\n",
      "Images already cropped...\n",
      "Order level classification already complete\n",
      "Predicting Small Carnivores...\n",
      "5/5 [==============================] - 3s 771ms/step\n",
      "Moving Ungulates and Small Carnivores...\n"
     ]
    },
    {
     "name": "stderr",
     "output_type": "stream",
     "text": [
      "Copying images: 0it [00:01, ?it/s]\n",
      "Removing source images: 0it [00:01, ?it/s]"
     ]
    },
    {
     "name": "stdout",
     "output_type": "stream",
     "text": [
      "All 0 images copied and removed at 2024-03-07 12:49:40.789743\n"
     ]
    },
    {
     "name": "stderr",
     "output_type": "stream",
     "text": [
      "\n"
     ]
    },
    {
     "name": "stdout",
     "output_type": "stream",
     "text": [
      "Saving Logs\n",
      "\n",
      "G:\\Guzzler_data\\Sorted_guzzler_data\\2023\\2023_1\\CameraTrapPhotos_2023_1\\RKVY\\GIB\\20230201_152713__to__20230203_130946\n",
      "10000\n",
      "Megadetector model\n",
      "Megadetector output file already exists.. Going for species classification\n",
      "Saving detections at G:\\Guzzler_data\\Sorted_guzzler_data\\2023\\2023_1\\CameraTrapPhotos_2023_1\\RKVY\\GIB\\20230201_152713__to__20230203_130946\\RKVY_GIB_20230201_152713__to__20230203_130946_megadetector.json...\n",
      "Generating detections.csv...\n",
      "Images already cropped...\n",
      "Order level classification already complete\n",
      "Predicting Small Carnivores...\n",
      "12/12 [==============================] - 4s 346ms/step\n",
      "Moving Ungulates and Small Carnivores...\n"
     ]
    },
    {
     "name": "stderr",
     "output_type": "stream",
     "text": [
      "Copying images: 0it [00:01, ?it/s]\n",
      "Removing source images: 0it [00:01, ?it/s]"
     ]
    },
    {
     "name": "stdout",
     "output_type": "stream",
     "text": [
      "All 0 images copied and removed at 2024-03-07 12:50:00.605861\n"
     ]
    },
    {
     "name": "stderr",
     "output_type": "stream",
     "text": [
      "\n"
     ]
    },
    {
     "name": "stdout",
     "output_type": "stream",
     "text": [
      "Saving Logs\n",
      "\n",
      "G:\\Guzzler_data\\Sorted_guzzler_data\\2023\\2023_1\\CameraTrapPhotos_2023_1\\RKVY\\GIB\\20230203_130947__to__20230203_232908\n",
      "10000\n",
      "Megadetector model\n",
      "Megadetector output file already exists.. Going for species classification\n",
      "Saving detections at G:\\Guzzler_data\\Sorted_guzzler_data\\2023\\2023_1\\CameraTrapPhotos_2023_1\\RKVY\\GIB\\20230203_130947__to__20230203_232908\\RKVY_GIB_20230203_130947__to__20230203_232908_megadetector.json...\n",
      "Generating detections.csv...\n",
      "Images already cropped...\n",
      "Order level classification already complete\n",
      "Predicting Small Carnivores...\n",
      "10/10 [==============================] - 4s 369ms/step\n",
      "Moving Ungulates and Small Carnivores...\n"
     ]
    },
    {
     "name": "stderr",
     "output_type": "stream",
     "text": [
      "Copying images: 0it [00:01, ?it/s]\n",
      "Removing source images: 0it [00:01, ?it/s]"
     ]
    },
    {
     "name": "stdout",
     "output_type": "stream",
     "text": [
      "All 0 images copied and removed at 2024-03-07 12:50:16.999710\n"
     ]
    },
    {
     "name": "stderr",
     "output_type": "stream",
     "text": [
      "\n"
     ]
    },
    {
     "name": "stdout",
     "output_type": "stream",
     "text": [
      "Saving Logs\n",
      "\n",
      "G:\\Guzzler_data\\Sorted_guzzler_data\\2023\\2023_1\\CameraTrapPhotos_2023_1\\RKVY\\GIB\\20230203_232909__to__20230219_122053\n",
      "10000\n",
      "Megadetector model\n",
      "Megadetector output file already exists.. Going for species classification\n",
      "Saving detections at G:\\Guzzler_data\\Sorted_guzzler_data\\2023\\2023_1\\CameraTrapPhotos_2023_1\\RKVY\\GIB\\20230203_232909__to__20230219_122053\\RKVY_GIB_20230203_232909__to__20230219_122053_megadetector.json...\n",
      "Generating detections.csv...\n",
      "Images already cropped...\n",
      "Order level classification already complete\n",
      "Predicting Small Carnivores...\n",
      "6/6 [==============================] - 3s 549ms/step\n",
      "Moving Ungulates and Small Carnivores...\n"
     ]
    },
    {
     "name": "stderr",
     "output_type": "stream",
     "text": [
      "Copying images: 0it [00:01, ?it/s]\n",
      "Removing source images: 0it [00:01, ?it/s]"
     ]
    },
    {
     "name": "stdout",
     "output_type": "stream",
     "text": [
      "All 0 images copied and removed at 2024-03-07 12:50:32.123876\n"
     ]
    },
    {
     "name": "stderr",
     "output_type": "stream",
     "text": [
      "\n"
     ]
    },
    {
     "name": "stdout",
     "output_type": "stream",
     "text": [
      "Saving Logs\n",
      "\n",
      "G:\\Guzzler_data\\Sorted_guzzler_data\\2023\\2023_1\\CameraTrapPhotos_2023_1\\RKVY\\GIB\\20230219_122053__to__20230219_214647\n",
      "10000\n",
      "Megadetector model\n",
      "Megadetector output file already exists.. Going for species classification\n",
      "Saving detections at G:\\Guzzler_data\\Sorted_guzzler_data\\2023\\2023_1\\CameraTrapPhotos_2023_1\\RKVY\\GIB\\20230219_122053__to__20230219_214647\\RKVY_GIB_20230219_122053__to__20230219_214647_megadetector.json...\n",
      "Generating detections.csv...\n",
      "Images already cropped...\n",
      "Order level classification already complete\n",
      "Predicting Small Carnivores...\n",
      "3/3 [==============================] - 1s 401ms/step\n",
      "Moving Ungulates and Small Carnivores...\n"
     ]
    },
    {
     "name": "stderr",
     "output_type": "stream",
     "text": [
      "Copying images: 0it [00:01, ?it/s]\n",
      "Removing source images: 0it [00:01, ?it/s]"
     ]
    },
    {
     "name": "stdout",
     "output_type": "stream",
     "text": [
      "All 0 images copied and removed at 2024-03-07 12:50:44.859170\n"
     ]
    },
    {
     "name": "stderr",
     "output_type": "stream",
     "text": [
      "\n"
     ]
    },
    {
     "name": "stdout",
     "output_type": "stream",
     "text": [
      "Saving Logs\n",
      "\n",
      "G:\\Guzzler_data\\Sorted_guzzler_data\\2023\\2023_1\\CameraTrapPhotos_2023_1\\RKVY\\GIB\\20230219_214648__to__20230222_002453\n",
      "10000\n",
      "Megadetector model\n",
      "Megadetector output file already exists.. Going for species classification\n",
      "Saving detections at G:\\Guzzler_data\\Sorted_guzzler_data\\2023\\2023_1\\CameraTrapPhotos_2023_1\\RKVY\\GIB\\20230219_214648__to__20230222_002453\\RKVY_GIB_20230219_214648__to__20230222_002453_megadetector.json...\n",
      "Generating detections.csv...\n",
      "Images already cropped...\n",
      "Order level classification already complete\n",
      "Predicting Small Carnivores...\n",
      "10/10 [==============================] - 2s 243ms/step\n",
      "Moving Ungulates and Small Carnivores...\n"
     ]
    },
    {
     "name": "stderr",
     "output_type": "stream",
     "text": [
      "Copying images: 0it [00:01, ?it/s]\n",
      "Removing source images: 0it [00:01, ?it/s]"
     ]
    },
    {
     "name": "stdout",
     "output_type": "stream",
     "text": [
      "All 0 images copied and removed at 2024-03-07 12:50:58.823763\n"
     ]
    },
    {
     "name": "stderr",
     "output_type": "stream",
     "text": [
      "\n"
     ]
    },
    {
     "name": "stdout",
     "output_type": "stream",
     "text": [
      "Saving Logs\n",
      "\n",
      "G:\\Guzzler_data\\Sorted_guzzler_data\\2023\\2023_1\\CameraTrapPhotos_2023_1\\RKVY\\GIB\\20230222_002454__to__20230222_125227\n",
      "10000\n",
      "Megadetector model\n",
      "Megadetector output file already exists.. Going for species classification\n",
      "Saving detections at G:\\Guzzler_data\\Sorted_guzzler_data\\2023\\2023_1\\CameraTrapPhotos_2023_1\\RKVY\\GIB\\20230222_002454__to__20230222_125227\\RKVY_GIB_20230222_002454__to__20230222_125227_megadetector.json...\n",
      "Generating detections.csv...\n",
      "Images already cropped...\n",
      "Order level classification already complete\n",
      "Predicting Small Carnivores...\n",
      "6/6 [==============================] - 3s 642ms/step\n",
      "Moving Ungulates and Small Carnivores...\n"
     ]
    },
    {
     "name": "stderr",
     "output_type": "stream",
     "text": [
      "Copying images: 0it [00:01, ?it/s]\n",
      "Removing source images: 0it [00:01, ?it/s]"
     ]
    },
    {
     "name": "stdout",
     "output_type": "stream",
     "text": [
      "All 0 images copied and removed at 2024-03-07 12:51:16.353367\n"
     ]
    },
    {
     "name": "stderr",
     "output_type": "stream",
     "text": [
      "\n"
     ]
    },
    {
     "name": "stdout",
     "output_type": "stream",
     "text": [
      "Saving Logs\n",
      "\n",
      "G:\\Guzzler_data\\Sorted_guzzler_data\\2023\\2023_1\\CameraTrapPhotos_2023_1\\RKVY\\GIB\\20230222_125227__to__20230325_170900\n",
      "10000\n",
      "Megadetector model\n",
      "Megadetector output file already exists.. Going for species classification\n",
      "Saving detections at G:\\Guzzler_data\\Sorted_guzzler_data\\2023\\2023_1\\CameraTrapPhotos_2023_1\\RKVY\\GIB\\20230222_125227__to__20230325_170900\\RKVY_GIB_20230222_125227__to__20230325_170900_megadetector.json...\n",
      "Generating detections.csv...\n",
      "Images already cropped...\n",
      "Order level classification already complete\n",
      "Predicting Small Carnivores...\n",
      "3/3 [==============================] - 1s 398ms/step\n",
      "Moving Ungulates and Small Carnivores...\n"
     ]
    },
    {
     "name": "stderr",
     "output_type": "stream",
     "text": [
      "Copying images: 0it [00:01, ?it/s]\n",
      "Removing source images: 0it [00:01, ?it/s]"
     ]
    },
    {
     "name": "stdout",
     "output_type": "stream",
     "text": [
      "All 0 images copied and removed at 2024-03-07 12:51:30.605877\n"
     ]
    },
    {
     "name": "stderr",
     "output_type": "stream",
     "text": [
      "\n"
     ]
    },
    {
     "name": "stdout",
     "output_type": "stream",
     "text": [
      "Saving Logs\n",
      "\n",
      "G:\\Guzzler_data\\Sorted_guzzler_data\\2023\\2023_1\\CameraTrapPhotos_2023_1\\RKVY\\GIB\\20230325_171000__to__20230328_185432\n",
      "10000\n",
      "Megadetector model\n",
      "Megadetector output file already exists.. Going for species classification\n",
      "Saving detections at G:\\Guzzler_data\\Sorted_guzzler_data\\2023\\2023_1\\CameraTrapPhotos_2023_1\\RKVY\\GIB\\20230325_171000__to__20230328_185432\\RKVY_GIB_20230325_171000__to__20230328_185432_megadetector.json...\n",
      "Generating detections.csv...\n",
      "Images already cropped...\n",
      "Order level classification already complete\n",
      "Predicting Small Carnivores...\n",
      "7/7 [==============================] - 3s 500ms/step\n",
      "Moving Ungulates and Small Carnivores...\n"
     ]
    },
    {
     "name": "stderr",
     "output_type": "stream",
     "text": [
      "Copying images: 0it [00:01, ?it/s]\n",
      "Removing source images: 0it [00:01, ?it/s]"
     ]
    },
    {
     "name": "stdout",
     "output_type": "stream",
     "text": [
      "All 0 images copied and removed at 2024-03-07 12:51:47.473350\n"
     ]
    },
    {
     "name": "stderr",
     "output_type": "stream",
     "text": [
      "\n"
     ]
    },
    {
     "name": "stdout",
     "output_type": "stream",
     "text": [
      "Saving Logs\n",
      "\n",
      "G:\\Guzzler_data\\Sorted_guzzler_data\\2023\\2023_1\\CameraTrapPhotos_2023_1\\RKVY\\GIB\\20230328_185433__to__20230516_135549\n",
      "10000\n",
      "Megadetector model\n",
      "Megadetector output file already exists.. Going for species classification\n",
      "Saving detections at G:\\Guzzler_data\\Sorted_guzzler_data\\2023\\2023_1\\CameraTrapPhotos_2023_1\\RKVY\\GIB\\20230328_185433__to__20230516_135549\\RKVY_GIB_20230328_185433__to__20230516_135549_megadetector.json...\n",
      "Generating detections.csv...\n",
      "Images already cropped...\n",
      "Order level classification already complete\n",
      "Predicting Small Carnivores...\n",
      "2/2 [==============================] - 1s 599ms/step\n",
      "Moving Ungulates and Small Carnivores...\n"
     ]
    },
    {
     "name": "stderr",
     "output_type": "stream",
     "text": [
      "Copying images: 0it [00:01, ?it/s]\n",
      "Removing source images: 0it [00:01, ?it/s]"
     ]
    },
    {
     "name": "stdout",
     "output_type": "stream",
     "text": [
      "All 0 images copied and removed at 2024-03-07 12:51:59.259929\n"
     ]
    },
    {
     "name": "stderr",
     "output_type": "stream",
     "text": [
      "\n"
     ]
    },
    {
     "name": "stdout",
     "output_type": "stream",
     "text": [
      "Saving Logs\n",
      "\n",
      "G:\\Guzzler_data\\Sorted_guzzler_data\\2023\\2023_1\\CameraTrapPhotos_2023_1\\RKVY\\GIB\\20230516_135550__to__20230519_103600\n",
      "10000\n",
      "Megadetector model\n",
      "Megadetector output file already exists.. Going for species classification\n",
      "Saving detections at G:\\Guzzler_data\\Sorted_guzzler_data\\2023\\2023_1\\CameraTrapPhotos_2023_1\\RKVY\\GIB\\20230516_135550__to__20230519_103600\\RKVY_GIB_20230516_135550__to__20230519_103600_megadetector.json...\n",
      "Generating detections.csv...\n",
      "Images already cropped...\n",
      "Order level classification already complete\n",
      "Predicting Small Carnivores...\n",
      "2/2 [==============================] - 2s 2s/step\n",
      "Moving Ungulates and Small Carnivores...\n"
     ]
    },
    {
     "name": "stderr",
     "output_type": "stream",
     "text": [
      "Copying images: 0it [00:01, ?it/s]\n",
      "Removing source images: 0it [00:01, ?it/s]"
     ]
    },
    {
     "name": "stdout",
     "output_type": "stream",
     "text": [
      "All 0 images copied and removed at 2024-03-07 12:52:12.019451\n"
     ]
    },
    {
     "name": "stderr",
     "output_type": "stream",
     "text": [
      "\n"
     ]
    },
    {
     "name": "stdout",
     "output_type": "stream",
     "text": [
      "Saving Logs\n",
      "\n",
      "G:\\Guzzler_data\\Sorted_guzzler_data\\2023\\2023_1\\CameraTrapPhotos_2023_1\\RKVY\\GIB\\20230519_103700__to__20230614_155944\n",
      "10000\n",
      "Megadetector model\n",
      "Megadetector output file already exists.. Going for species classification\n",
      "Saving detections at G:\\Guzzler_data\\Sorted_guzzler_data\\2023\\2023_1\\CameraTrapPhotos_2023_1\\RKVY\\GIB\\20230519_103700__to__20230614_155944\\RKVY_GIB_20230519_103700__to__20230614_155944_megadetector.json...\n",
      "Generating detections.csv...\n",
      "Images already cropped...\n",
      "Order level classification already complete\n",
      "Predicting Small Carnivores...\n",
      "2/2 [==============================] - 1s 450ms/step\n",
      "Moving Ungulates and Small Carnivores...\n"
     ]
    },
    {
     "name": "stderr",
     "output_type": "stream",
     "text": [
      "Copying images: 0it [00:01, ?it/s]\n",
      "Removing source images: 0it [00:01, ?it/s]"
     ]
    },
    {
     "name": "stdout",
     "output_type": "stream",
     "text": [
      "All 0 images copied and removed at 2024-03-07 12:52:23.255358\n"
     ]
    },
    {
     "name": "stderr",
     "output_type": "stream",
     "text": [
      "\n"
     ]
    },
    {
     "name": "stdout",
     "output_type": "stream",
     "text": [
      "Saving Logs\n",
      "\n",
      "G:\\Guzzler_data\\Sorted_guzzler_data\\2023\\2023_1\\CameraTrapPhotos_2023_1\\RKVY\\GIB\\20230614_155945__to__20230618_094640\n",
      "10000\n",
      "Megadetector model\n",
      "Megadetector output file already exists.. Going for species classification\n",
      "Saving detections at G:\\Guzzler_data\\Sorted_guzzler_data\\2023\\2023_1\\CameraTrapPhotos_2023_1\\RKVY\\GIB\\20230614_155945__to__20230618_094640\\RKVY_GIB_20230614_155945__to__20230618_094640_megadetector.json...\n",
      "Generating detections.csv...\n",
      "Images already cropped...\n",
      "Order level classification already complete\n",
      "Predicting Small Carnivores...\n",
      "2/2 [==============================] - 3s 2s/step\n",
      "Moving Ungulates and Small Carnivores...\n"
     ]
    },
    {
     "name": "stderr",
     "output_type": "stream",
     "text": [
      "Copying images: 0it [00:01, ?it/s]\n",
      "Removing source images: 0it [00:01, ?it/s]"
     ]
    },
    {
     "name": "stdout",
     "output_type": "stream",
     "text": [
      "All 0 images copied and removed at 2024-03-07 12:52:37.820588\n"
     ]
    },
    {
     "name": "stderr",
     "output_type": "stream",
     "text": [
      "\n"
     ]
    },
    {
     "name": "stdout",
     "output_type": "stream",
     "text": [
      "Saving Logs\n",
      "\n",
      "G:\\Guzzler_data\\Sorted_guzzler_data\\2023\\2023_1\\CameraTrapPhotos_2023_1\\RKVY\\GIB\\20230618_094640__to__20230618_120955\n",
      "10000\n",
      "Megadetector model\n",
      "Megadetector output file already exists.. Going for species classification\n",
      "Saving detections at G:\\Guzzler_data\\Sorted_guzzler_data\\2023\\2023_1\\CameraTrapPhotos_2023_1\\RKVY\\GIB\\20230618_094640__to__20230618_120955\\RKVY_GIB_20230618_094640__to__20230618_120955_megadetector.json...\n",
      "Generating detections.csv...\n",
      "Images already cropped...\n",
      "Order level classification already complete\n",
      "Predicting Small Carnivores...\n",
      "3/3 [==============================] - 1s 380ms/step\n",
      "Moving Ungulates and Small Carnivores...\n"
     ]
    },
    {
     "name": "stderr",
     "output_type": "stream",
     "text": [
      "Copying images: 0it [00:01, ?it/s]\n",
      "Removing source images: 0it [00:01, ?it/s]"
     ]
    },
    {
     "name": "stdout",
     "output_type": "stream",
     "text": [
      "All 0 images copied and removed at 2024-03-07 12:52:51.099499\n"
     ]
    },
    {
     "name": "stderr",
     "output_type": "stream",
     "text": [
      "\n"
     ]
    },
    {
     "name": "stdout",
     "output_type": "stream",
     "text": [
      "Saving Logs\n",
      "\n",
      "G:\\Guzzler_data\\Sorted_guzzler_data\\2023\\2023_1\\CameraTrapPhotos_2023_1\\RKVY\\GIB\\20230618_120956__to__20230618_143414\n",
      "10000\n",
      "Megadetector model\n",
      "Megadetector output file already exists.. Going for species classification\n",
      "Saving detections at G:\\Guzzler_data\\Sorted_guzzler_data\\2023\\2023_1\\CameraTrapPhotos_2023_1\\RKVY\\GIB\\20230618_120956__to__20230618_143414\\RKVY_GIB_20230618_120956__to__20230618_143414_megadetector.json...\n",
      "Generating detections.csv...\n",
      "Images already cropped...\n",
      "Order level classification already complete\n",
      "Predicting Small Carnivores...\n",
      "1/1 [==============================] - 2s 2s/step\n",
      "Moving Ungulates and Small Carnivores...\n"
     ]
    },
    {
     "name": "stderr",
     "output_type": "stream",
     "text": [
      "Copying images: 0it [00:01, ?it/s]\n",
      "Removing source images: 0it [00:01, ?it/s]"
     ]
    },
    {
     "name": "stdout",
     "output_type": "stream",
     "text": [
      "All 0 images copied and removed at 2024-03-07 12:53:02.809877\n"
     ]
    },
    {
     "name": "stderr",
     "output_type": "stream",
     "text": [
      "\n"
     ]
    },
    {
     "name": "stdout",
     "output_type": "stream",
     "text": [
      "Saving Logs\n",
      "\n",
      "G:\\Guzzler_data\\Sorted_guzzler_data\\2023\\2023_1\\CameraTrapPhotos_2023_1\\RKVY\\GIB\\20230618_143415__to__20230618_223905\n",
      "10000\n",
      "Megadetector model\n",
      "Megadetector output file already exists.. Going for species classification\n",
      "Saving detections at G:\\Guzzler_data\\Sorted_guzzler_data\\2023\\2023_1\\CameraTrapPhotos_2023_1\\RKVY\\GIB\\20230618_143415__to__20230618_223905\\RKVY_GIB_20230618_143415__to__20230618_223905_megadetector.json...\n",
      "Generating detections.csv...\n",
      "Images already cropped...\n",
      "Order level classification already complete\n",
      "Predicting Small Carnivores...\n",
      "8/8 [==============================] - 4s 497ms/step\n",
      "Moving Ungulates and Small Carnivores...\n"
     ]
    },
    {
     "name": "stderr",
     "output_type": "stream",
     "text": [
      "Copying images: 0it [00:01, ?it/s]\n",
      "Removing source images: 0it [00:01, ?it/s]"
     ]
    },
    {
     "name": "stdout",
     "output_type": "stream",
     "text": [
      "All 0 images copied and removed at 2024-03-07 12:53:17.831783\n"
     ]
    },
    {
     "name": "stderr",
     "output_type": "stream",
     "text": [
      "\n"
     ]
    },
    {
     "name": "stdout",
     "output_type": "stream",
     "text": [
      "Saving Logs\n",
      "\n",
      "G:\\Guzzler_data\\Sorted_guzzler_data\\2023\\2023_1\\CameraTrapPhotos_2023_1\\RKVY\\GIB\\20230618_223906__to__20230702_093743\n",
      "10000\n",
      "Megadetector model\n",
      "Megadetector output file already exists.. Going for species classification\n",
      "Saving detections at G:\\Guzzler_data\\Sorted_guzzler_data\\2023\\2023_1\\CameraTrapPhotos_2023_1\\RKVY\\GIB\\20230618_223906__to__20230702_093743\\RKVY_GIB_20230618_223906__to__20230702_093743_megadetector.json...\n",
      "Generating detections.csv...\n",
      "Images already cropped...\n",
      "Order level classification already complete\n",
      "Predicting Small Carnivores...\n",
      "2/2 [==============================] - 3s 2s/step\n",
      "Moving Ungulates and Small Carnivores...\n"
     ]
    },
    {
     "name": "stderr",
     "output_type": "stream",
     "text": [
      "Copying images: 0it [00:01, ?it/s]\n",
      "Removing source images: 0it [00:01, ?it/s]"
     ]
    },
    {
     "name": "stdout",
     "output_type": "stream",
     "text": [
      "All 0 images copied and removed at 2024-03-07 12:53:29.827857\n"
     ]
    },
    {
     "name": "stderr",
     "output_type": "stream",
     "text": [
      "\n"
     ]
    },
    {
     "name": "stdout",
     "output_type": "stream",
     "text": [
      "Saving Logs\n",
      "\n",
      "G:\\Guzzler_data\\Sorted_guzzler_data\\2023\\2023_1\\CameraTrapPhotos_2023_1\\RKVY\\GIB\\20230702_093745__to__20230702_121426\n",
      "10000\n",
      "Megadetector model\n",
      "Megadetector output file already exists.. Going for species classification\n",
      "Saving detections at G:\\Guzzler_data\\Sorted_guzzler_data\\2023\\2023_1\\CameraTrapPhotos_2023_1\\RKVY\\GIB\\20230702_093745__to__20230702_121426\\RKVY_GIB_20230702_093745__to__20230702_121426_megadetector.json...\n",
      "Generating detections.csv...\n",
      "Images already cropped...\n",
      "Order level classification already complete\n",
      "Predicting Small Carnivores...\n",
      "1/1 [==============================] - 1s 1s/step\n",
      "Moving Ungulates and Small Carnivores...\n"
     ]
    },
    {
     "name": "stderr",
     "output_type": "stream",
     "text": [
      "Copying images: 0it [00:01, ?it/s]\n",
      "Removing source images: 0it [00:01, ?it/s]"
     ]
    },
    {
     "name": "stdout",
     "output_type": "stream",
     "text": [
      "All 0 images copied and removed at 2024-03-07 12:53:38.756536\n"
     ]
    },
    {
     "name": "stderr",
     "output_type": "stream",
     "text": [
      "\n"
     ]
    },
    {
     "name": "stdout",
     "output_type": "stream",
     "text": [
      "Saving Logs\n",
      "\n",
      "G:\\Guzzler_data\\Sorted_guzzler_data\\2023\\2023_1\\CameraTrapPhotos_2023_1\\RKVY\\GIB\\20230702_121428__to__20230702_150131\n",
      "10000\n",
      "Megadetector model\n",
      "Megadetector output file already exists.. Going for species classification\n",
      "Saving detections at G:\\Guzzler_data\\Sorted_guzzler_data\\2023\\2023_1\\CameraTrapPhotos_2023_1\\RKVY\\GIB\\20230702_121428__to__20230702_150131\\RKVY_GIB_20230702_121428__to__20230702_150131_megadetector.json...\n",
      "Generating detections.csv...\n",
      "Images already cropped...\n",
      "Order level classification already complete\n",
      "Predicting Small Carnivores...\n",
      "1/1 [==============================] - 1s 1s/step\n",
      "Moving Ungulates and Small Carnivores...\n"
     ]
    },
    {
     "name": "stderr",
     "output_type": "stream",
     "text": [
      "Copying images: 0it [00:01, ?it/s]\n",
      "Removing source images: 0it [00:01, ?it/s]"
     ]
    },
    {
     "name": "stdout",
     "output_type": "stream",
     "text": [
      "All 0 images copied and removed at 2024-03-07 12:53:48.172658\n"
     ]
    },
    {
     "name": "stderr",
     "output_type": "stream",
     "text": [
      "\n"
     ]
    },
    {
     "name": "stdout",
     "output_type": "stream",
     "text": [
      "Saving Logs\n",
      "\n",
      "G:\\Guzzler_data\\Sorted_guzzler_data\\2023\\2023_1\\CameraTrapPhotos_2023_1\\RKVY\\GIB\\20230702_150132__to__20230711_102126\n",
      "10000\n",
      "Megadetector model\n",
      "Megadetector output file already exists.. Going for species classification\n",
      "Saving detections at G:\\Guzzler_data\\Sorted_guzzler_data\\2023\\2023_1\\CameraTrapPhotos_2023_1\\RKVY\\GIB\\20230702_150132__to__20230711_102126\\RKVY_GIB_20230702_150132__to__20230711_102126_megadetector.json...\n",
      "Generating detections.csv...\n",
      "Images already cropped...\n",
      "Order level classification already complete\n",
      "Predicting Small Carnivores...\n",
      "1/1 [==============================] - 0s 92ms/step\n",
      "Moving Ungulates and Small Carnivores...\n"
     ]
    },
    {
     "name": "stderr",
     "output_type": "stream",
     "text": [
      "Copying images: 0it [00:01, ?it/s]\n",
      "Removing source images: 0it [00:01, ?it/s]"
     ]
    },
    {
     "name": "stdout",
     "output_type": "stream",
     "text": [
      "All 0 images copied and removed at 2024-03-07 12:53:56.035711\n"
     ]
    },
    {
     "name": "stderr",
     "output_type": "stream",
     "text": [
      "\n"
     ]
    },
    {
     "name": "stdout",
     "output_type": "stream",
     "text": [
      "Saving Logs\n",
      "\n",
      "G:\\Guzzler_data\\Sorted_guzzler_data\\2023\\2023_1\\CameraTrapPhotos_2023_1\\RKVY\\GIB\\20230711_102127__to__20230711_131057\n",
      "10000\n",
      "Megadetector model\n",
      "Megadetector output file already exists.. Going for species classification\n",
      "Saving detections at G:\\Guzzler_data\\Sorted_guzzler_data\\2023\\2023_1\\CameraTrapPhotos_2023_1\\RKVY\\GIB\\20230711_102127__to__20230711_131057\\RKVY_GIB_20230711_102127__to__20230711_131057_megadetector.json...\n",
      "Generating detections.csv...\n",
      "Images already cropped...\n",
      "Order level classification already complete\n",
      "No files to move\n",
      "Saving Logs\n",
      "\n",
      "G:\\Guzzler_data\\Sorted_guzzler_data\\2023\\2023_1\\CameraTrapPhotos_2023_1\\RKVY\\GIB\\20230711_131057__to__20230712_053655\n",
      "10000\n",
      "Megadetector model\n",
      "Detecting objects in 10000 images...\n"
     ]
    },
    {
     "name": "stderr",
     "output_type": "stream",
     "text": [
      "100%|██████████████████████████████████████████████████████████████████████████████| 100/100 [1:03:37<00:00, 38.18s/it]\n"
     ]
    },
    {
     "name": "stdout",
     "output_type": "stream",
     "text": [
      "Bounding Boxes Created\n",
      "Generating detections.csv...\n",
      "Images already cropped...\n",
      "Order level classification already complete\n",
      "Predicting Small Carnivores...\n",
      "6/6 [==============================] - 3s 491ms/step\n",
      "Moving Ungulates and Small Carnivores...\n"
     ]
    },
    {
     "name": "stderr",
     "output_type": "stream",
     "text": [
      "Copying images: 100%|████████████████████████████████████████████████████████████████████| 1/1 [00:01<00:00,  1.70s/it]\n",
      "Removing source images: 100%|████████████████████████████████████████████████████████████| 1/1 [00:01<00:00,  1.86s/it]"
     ]
    },
    {
     "name": "stdout",
     "output_type": "stream",
     "text": [
      "All 1 images copied and removed at 2024-03-07 13:57:50.574319\n"
     ]
    },
    {
     "name": "stderr",
     "output_type": "stream",
     "text": [
      "\n"
     ]
    },
    {
     "name": "stdout",
     "output_type": "stream",
     "text": [
      "Saving Logs\n",
      "\n",
      "G:\\Guzzler_data\\Sorted_guzzler_data\\2023\\2023_1\\CameraTrapPhotos_2023_1\\RKVY\\GIB\\20230712_053656__to__20230712_081538\n",
      "10000\n",
      "Megadetector model\n",
      "Detecting objects in 10000 images...\n"
     ]
    },
    {
     "name": "stderr",
     "output_type": "stream",
     "text": [
      "100%|████████████████████████████████████████████████████████████████████████████████| 100/100 [53:10<00:00, 31.91s/it]\n"
     ]
    },
    {
     "name": "stdout",
     "output_type": "stream",
     "text": [
      "Bounding Boxes Created\n",
      "Generating detections.csv...\n",
      "Images already cropped...\n",
      "Order level classification already complete\n",
      "Predicting Small Carnivores...\n",
      "1/1 [==============================] - 0s 90ms/step\n",
      "Moving Ungulates and Small Carnivores...\n"
     ]
    },
    {
     "name": "stderr",
     "output_type": "stream",
     "text": [
      "Copying images: 0it [00:01, ?it/s]\n",
      "Removing source images: 0it [00:01, ?it/s]"
     ]
    },
    {
     "name": "stdout",
     "output_type": "stream",
     "text": [
      "All 0 images copied and removed at 2024-03-07 14:51:08.366177\n",
      "Saving Logs\n"
     ]
    },
    {
     "name": "stderr",
     "output_type": "stream",
     "text": [
      "\n"
     ]
    },
    {
     "name": "stdout",
     "output_type": "stream",
     "text": [
      "\n",
      "G:\\Guzzler_data\\Sorted_guzzler_data\\2023\\2023_1\\CameraTrapPhotos_2023_1\\RKVY\\GIB\\20230712_081538__to__20230712_111524\n",
      "10000\n",
      "Megadetector model\n",
      "Detecting objects in 10000 images...\n"
     ]
    },
    {
     "name": "stderr",
     "output_type": "stream",
     "text": [
      "100%|████████████████████████████████████████████████████████████████████████████████| 100/100 [52:25<00:00, 31.45s/it]\n"
     ]
    },
    {
     "name": "stdout",
     "output_type": "stream",
     "text": [
      "Bounding Boxes Created\n",
      "Generating detections.csv...\n",
      "Images already cropped...\n",
      "Order level classification already complete\n",
      "Predicting Small Carnivores...\n",
      "1/1 [==============================] - 0s 138ms/step\n",
      "Predicting Ungulates...\n",
      "3/3 [==============================] - 6s 923ms/step\n",
      "Moving Ungulates and Small Carnivores...\n"
     ]
    },
    {
     "name": "stderr",
     "output_type": "stream",
     "text": [
      "Copying images: 100%|████████████████████████████████████████████████████████████████████| 1/1 [00:01<00:00,  1.24s/it]\n",
      "Removing source images: 100%|████████████████████████████████████████████████████████████| 1/1 [00:33<00:00, 33.56s/it]"
     ]
    },
    {
     "name": "stdout",
     "output_type": "stream",
     "text": [
      "All 1 images copied and removed at 2024-03-07 15:44:18.806055\n",
      "Saving Logs\n"
     ]
    },
    {
     "name": "stderr",
     "output_type": "stream",
     "text": [
      "\n"
     ]
    },
    {
     "name": "stdout",
     "output_type": "stream",
     "text": [
      "\n",
      "G:\\Guzzler_data\\Sorted_guzzler_data\\2023\\2023_1\\CameraTrapPhotos_2023_1\\RKVY\\GIB\\20230712_111524__to__20230716_102814\n",
      "10000\n",
      "Megadetector model\n",
      "Detecting objects in 10000 images...\n"
     ]
    },
    {
     "name": "stderr",
     "output_type": "stream",
     "text": [
      "100%|██████████████████████████████████████████████████████████████████████████████| 100/100 [1:00:32<00:00, 36.32s/it]\n"
     ]
    },
    {
     "name": "stdout",
     "output_type": "stream",
     "text": [
      "Bounding Boxes Created\n",
      "Generating detections.csv...\n",
      "Images already cropped...\n",
      "Order level classification already complete\n",
      "Predicting Small Carnivores...\n",
      "1/1 [==============================] - 2s 2s/step\n",
      "Moving Ungulates and Small Carnivores...\n"
     ]
    },
    {
     "name": "stderr",
     "output_type": "stream",
     "text": [
      "Copying images: 0it [00:01, ?it/s]\n",
      "Removing source images: 0it [00:01, ?it/s]"
     ]
    },
    {
     "name": "stdout",
     "output_type": "stream",
     "text": [
      "All 0 images copied and removed at 2024-03-07 16:44:59.720323\n"
     ]
    },
    {
     "name": "stderr",
     "output_type": "stream",
     "text": [
      "\n"
     ]
    },
    {
     "name": "stdout",
     "output_type": "stream",
     "text": [
      "Saving Logs\n",
      "\n",
      "G:\\Guzzler_data\\Sorted_guzzler_data\\2023\\2023_1\\CameraTrapPhotos_2023_1\\RKVY\\GIB\\20230716_102815__to__20230722_225838\n",
      "10000\n",
      "Megadetector model\n",
      "Detecting objects in 10000 images...\n"
     ]
    },
    {
     "name": "stderr",
     "output_type": "stream",
     "text": [
      "100%|██████████████████████████████████████████████████████████████████████████████| 100/100 [1:03:06<00:00, 37.87s/it]\n"
     ]
    },
    {
     "name": "stdout",
     "output_type": "stream",
     "text": [
      "Bounding Boxes Created\n",
      "Generating detections.csv...\n",
      "Images already cropped...\n",
      "Order level classification already complete\n",
      "Predicting Small Carnivores...\n",
      "1/1 [==============================] - 0s 127ms/step\n",
      "Moving Ungulates and Small Carnivores...\n"
     ]
    },
    {
     "name": "stderr",
     "output_type": "stream",
     "text": [
      "Copying images: 0it [00:01, ?it/s]\n",
      "Removing source images: 0it [00:01, ?it/s]"
     ]
    },
    {
     "name": "stdout",
     "output_type": "stream",
     "text": [
      "All 0 images copied and removed at 2024-03-07 17:48:15.481814\n",
      "Saving Logs\n"
     ]
    },
    {
     "name": "stderr",
     "output_type": "stream",
     "text": [
      "\n"
     ]
    },
    {
     "name": "stdout",
     "output_type": "stream",
     "text": [
      "\n",
      "G:\\Guzzler_data\\Sorted_guzzler_data\\2023\\2023_1\\CameraTrapPhotos_2023_1\\RKVY\\GIB\\20230722_225838__to__20230816_095104\n",
      "10000\n",
      "Megadetector model\n",
      "Detecting objects in 10000 images...\n"
     ]
    },
    {
     "name": "stderr",
     "output_type": "stream",
     "text": [
      "100%|██████████████████████████████████████████████████████████████████████████████| 100/100 [1:02:14<00:00, 37.35s/it]\n"
     ]
    },
    {
     "name": "stdout",
     "output_type": "stream",
     "text": [
      "Bounding Boxes Created\n",
      "Generating detections.csv...\n",
      "Images already cropped...\n",
      "Order level classification already complete\n",
      "Predicting Small Carnivores...\n",
      "2/2 [==============================] - 1s 421ms/step\n",
      "Predicting Ungulates...\n",
      "1/1 [==============================] - 0s 110ms/step\n",
      "Moving Ungulates and Small Carnivores...\n"
     ]
    },
    {
     "name": "stderr",
     "output_type": "stream",
     "text": [
      "Copying images: 0it [00:01, ?it/s]\n",
      "Removing source images: 0it [00:01, ?it/s]"
     ]
    },
    {
     "name": "stdout",
     "output_type": "stream",
     "text": [
      "All 0 images copied and removed at 2024-03-07 18:50:38.500362\n",
      "Saving Logs\n"
     ]
    },
    {
     "name": "stderr",
     "output_type": "stream",
     "text": [
      "\n"
     ]
    },
    {
     "name": "stdout",
     "output_type": "stream",
     "text": [
      "\n",
      "G:\\Guzzler_data\\Sorted_guzzler_data\\2023\\2023_1\\CameraTrapPhotos_2023_1\\RKVY\\GIB\\20230816_095105__to__20230816_123328\n",
      "10000\n",
      "Megadetector model\n",
      "Detecting objects in 10000 images...\n"
     ]
    },
    {
     "name": "stderr",
     "output_type": "stream",
     "text": [
      "100%|██████████████████████████████████████████████████████████████████████████████| 100/100 [1:01:36<00:00, 36.96s/it]\n"
     ]
    },
    {
     "name": "stdout",
     "output_type": "stream",
     "text": [
      "Bounding Boxes Created\n",
      "Generating detections.csv...\n",
      "Images already cropped...\n",
      "Order level classification already complete\n",
      "Predicting Small Carnivores...\n",
      "1/1 [==============================] - 0s 102ms/step\n",
      "Moving Ungulates and Small Carnivores...\n"
     ]
    },
    {
     "name": "stderr",
     "output_type": "stream",
     "text": [
      "Copying images: 0it [00:01, ?it/s]\n",
      "Removing source images: 0it [00:01, ?it/s]"
     ]
    },
    {
     "name": "stdout",
     "output_type": "stream",
     "text": [
      "All 0 images copied and removed at 2024-03-07 19:52:20.963527\n",
      "Saving Logs\n"
     ]
    },
    {
     "name": "stderr",
     "output_type": "stream",
     "text": [
      "\n"
     ]
    },
    {
     "name": "stdout",
     "output_type": "stream",
     "text": [
      "\n",
      "G:\\Guzzler_data\\Sorted_guzzler_data\\2023\\2023_1\\CameraTrapPhotos_2023_1\\RKVY\\GIB\\20230816_123329__to__20230816_165708\n",
      "10000\n",
      "Megadetector model\n",
      "Detecting objects in 10000 images...\n"
     ]
    },
    {
     "name": "stderr",
     "output_type": "stream",
     "text": [
      "100%|██████████████████████████████████████████████████████████████████████████████| 100/100 [1:00:22<00:00, 36.22s/it]\n"
     ]
    },
    {
     "name": "stdout",
     "output_type": "stream",
     "text": [
      "Bounding Boxes Created\n",
      "Generating detections.csv...\n",
      "Images already cropped...\n",
      "Order level classification already complete\n",
      "No files to move\n",
      "Saving Logs\n",
      "\n",
      "G:\\Guzzler_data\\Sorted_guzzler_data\\2023\\2023_1\\CameraTrapPhotos_2023_1\\RKVY\\GIB\\20230816_165709__to__20230822_143447\n",
      "10000\n",
      "Megadetector model\n",
      "Detecting objects in 10000 images...\n"
     ]
    },
    {
     "name": "stderr",
     "output_type": "stream",
     "text": [
      "100%|██████████████████████████████████████████████████████████████████████████████| 100/100 [1:09:56<00:00, 41.96s/it]\n"
     ]
    },
    {
     "name": "stdout",
     "output_type": "stream",
     "text": [
      "Bounding Boxes Created\n",
      "Generating detections.csv...\n",
      "Images already cropped...\n",
      "Order level classification already complete\n",
      "Predicting Small Carnivores...\n",
      "1/1 [==============================] - 0s 158ms/step\n",
      "Moving Ungulates and Small Carnivores...\n"
     ]
    },
    {
     "name": "stderr",
     "output_type": "stream",
     "text": [
      "Copying images: 0it [00:01, ?it/s]\n",
      "Removing source images: 0it [00:01, ?it/s]"
     ]
    },
    {
     "name": "stdout",
     "output_type": "stream",
     "text": [
      "All 0 images copied and removed at 2024-03-07 22:02:49.961131\n"
     ]
    },
    {
     "name": "stderr",
     "output_type": "stream",
     "text": [
      "\n"
     ]
    },
    {
     "name": "stdout",
     "output_type": "stream",
     "text": [
      "Saving Logs\n",
      "\n",
      "G:\\Guzzler_data\\Sorted_guzzler_data\\2023\\2023_1\\CameraTrapPhotos_2023_1\\RKVY\\GIB\\20230822_143457__to__20230906_070213\n",
      "5510\n",
      "Megadetector model\n",
      "Detecting objects in 5510 images...\n"
     ]
    },
    {
     "name": "stderr",
     "output_type": "stream",
     "text": [
      "100%|████████████████████████████████████████████████████████████████████████████████| 100/100 [35:17<00:00, 21.17s/it]\n"
     ]
    },
    {
     "name": "stdout",
     "output_type": "stream",
     "text": [
      "Bounding Boxes Created\n",
      "Generating detections.csv...\n",
      "Images already cropped...\n",
      "Order level classification already complete\n",
      "Predicting Small Carnivores...\n",
      "2/2 [==============================] - 2s 2s/step\n",
      "Moving Ungulates and Small Carnivores...\n"
     ]
    },
    {
     "name": "stderr",
     "output_type": "stream",
     "text": [
      "Copying images: 0it [00:01, ?it/s]\n",
      "Removing source images: 0it [00:01, ?it/s]"
     ]
    },
    {
     "name": "stdout",
     "output_type": "stream",
     "text": [
      "All 0 images copied and removed at 2024-03-07 22:38:16.859448\n"
     ]
    },
    {
     "name": "stderr",
     "output_type": "stream",
     "text": [
      "\n"
     ]
    },
    {
     "name": "stdout",
     "output_type": "stream",
     "text": [
      "Saving Logs\n"
     ]
    }
   ],
   "source": [
    "### Run BRP_Anipredictor\n",
    "\n",
    "from PIL import Image, ImageFile\n",
    "ImageFile.LOAD_TRUNCATED_IMAGES = True\n",
    "from functions import *\n",
    "import torch\n",
    "from tqdm.notebook import tqdm\n",
    "import gc\n",
    "from Megadetector import *\n",
    "\n",
    "try:\n",
    "    print(f\"Models loaded : {areModelsLoaded}\")\n",
    "except:\n",
    "    areModelsLoaded = False\n",
    "log = {}\n",
    "now = datetime.now()\n",
    "\n",
    "inp = \"YES\"\n",
    "\n",
    "## CHECK FOR GPU\n",
    "\n",
    "gpus = tf.config.experimental.list_physical_devices('GPU')\n",
    "cpu = tf.config.experimental.list_physical_devices(\"CPU\")\n",
    "\n",
    "if gpus:\n",
    "    print(\"GPU available\")\n",
    "    gpu_name = torch.cuda.get_device_name()\n",
    "    try:\n",
    "        for gpu in gpus:\n",
    "            tf.config.experimental.set_memory_growth(gpu, True)\n",
    "            \n",
    "    except:\n",
    "        pass\n",
    "else:\n",
    "    print(\"No GPUs available.\")\n",
    "    \n",
    "## GET SUBDIRECTORIES\n",
    "\n",
    "sub_dirs = []\n",
    "for dirpath, dirnames, filenames in os.walk(dest_dir):\n",
    "    if not \"Cropped_images\" in dirpath and not dest_dir == dirpath: # 'not \"Cropped_images\" in dirnames and' at the start if required\n",
    "        if dirpath.split(\"\\\\\")[-1] not in [\"Cropped_images\",\"Chinkara\",\"Nilgai\", \"Cattle\",\"GIB\", \"Goat_Sheep\", \"Hare\", \"Human\", \"Raptor\", \"Small Bird\", \"Small Carnivore\", \"Ungulate\", \"Vehicle\", \"Wild Pig\"]:\n",
    "            sub_dirs.append(dirpath)\n",
    "        \n",
    "if sub_dirs == []:\n",
    "    sub_dirs.append(dest_dir)\n",
    "\n",
    "for i in sub_dirs:\n",
    "    print(i)\n",
    "\n",
    "if inp == \"YES\":\n",
    "    ## LOAD MODELS\n",
    "    print(\"Loading Models...\")\n",
    "    order_level_class_names = [\"GIB\", \"Goat_Sheep\", \"Hare\", \"Human\", \"Raptor\", \"Small Bird\", \"Small Carnivore\", \"Ungulate\", \"Vehicle\", \"Wild Pig\"]\n",
    "    order_level_class_names.sort()\n",
    "    ungulate_class_names = [\"Camel\", \"Chinkara\", \"Nilgai\", \"Cattle\"]\n",
    "    ungulate_class_names.sort() \n",
    "    small_carnivores_class_names = [\"Dog\", \"Desert Cat\", \"Fox\"]\n",
    "    small_carnivores_class_names.sort()\n",
    "    \n",
    "    model_load_start=time.time()\n",
    "    if areModelsLoaded == False:\n",
    "        order_level_model_path = os.path.join(os.getcwd(), r\"Models\\Refined_Hierarchical.ckpt\")\n",
    "        order_level_model = tf.keras.models.load_model(order_level_model_path)\n",
    "        \n",
    "        ungulate_model_path = os.path.join(os.getcwd(), r\"Models\\Efficient_Net_Ungulates_3.ckpt\")\n",
    "        ungulate_model = tf.keras.models.load_model(ungulate_model_path)   \n",
    "        \n",
    "        small_carnivore_model_path = os.path.join(os.getcwd(), r\"Models\\Efficient_Net_Small_Carnivores_1.ckpt\")\n",
    "        small_carnivore_model= tf.keras.models.load_model(small_carnivore_model_path)\n",
    "        \n",
    "        areModelsLoaded = True\n",
    "        \n",
    "    model_load_end = time.time()\n",
    "    model_load_time = str(timedelta(seconds=round(model_load_end - model_load_start)))\n",
    "    log.update({\"Species Model Load Time\" : model_load_time})\n",
    "    print(model_load_time)\n",
    "    \n",
    "    for data_dir in sub_dirs:\n",
    "        print()\n",
    "        print(data_dir)\n",
    "        ## CREATE LOGS\n",
    "        \n",
    "        log.update({\"Run timestamp\" : str(now)})\n",
    "        # log.update({\"GPU\" : gpus})\n",
    "        log.update({\"GPU Available for Classification : \" : gpu_name})\n",
    "        # log.update({\"CPU\" : cpu})\n",
    "        num_images = 0\n",
    "        files = os.listdir(data_dir)\n",
    "        for f in files:\n",
    "            if f.lower().endswith(\".jpg\"):\n",
    "                num_images += 1\n",
    "        log.update({\"Num images\" : num_images})\n",
    "        print(num_images)\n",
    "        \n",
    "        ## RUN MEGADETECTOR AND CREATE DETECTIONS.DF\n",
    "        \n",
    "        megadetector_start = time.time()\n",
    "        json_dir, megadetector_log = megadetector(data_dir, num_images)\n",
    "        if not megadetector_log == {}:\n",
    "            log.update(megadetector_log)\n",
    "        else:\n",
    "            megadetector_end = time.time()\n",
    "            megadetector_time = str(timedelta(seconds=round(megadetector_end - megadetector_start)))\n",
    "            log.update({\"Megadetector time\" : megadetector_time})\n",
    "            log.update({\"Megadetector Filename\" : os.path.basename(json_dir)})\n",
    "\n",
    "        df_detections = get_detection_df(data_dir, json_dir)\n",
    "        \n",
    "        ## CROP IMAGES\n",
    "        \n",
    "        cropping_start = time.time() \n",
    "        cropped_images = os.path.join(data_dir,r\"Cropped_images\\*\")\n",
    "        cropped_dir = clean_path(\"\\\\\".join(cropped_images.split(\"\\\\\")[:-1]))\n",
    "        if not os.path.exists(cropped_dir):\n",
    "            print(\"Cropping Images\")\n",
    "            df_crop = df_detections.copy()\n",
    "            df_crop[\"Cropped_image_directory\"] = cropped_dir\n",
    "            df_crop[\"Cropped_image_name\"] = df_crop[\"Filename\"] + \"_\" + df_crop[\"Detection_number\"].astype(str) + \".jpg\"\n",
    "            df_crop[\"Cropped_image_path\"] = (cropped_dir + \"\\\\\" + df_crop[\"Cropped_image_name\"]).apply(clean_path)\n",
    "            try:\n",
    "                df_crop=crop_images_batch_gpu(df_crop,512)\n",
    "            except:\n",
    "                df_crop = crop_images_batch(df_crop,512)\n",
    "                print(f\"Cropping exception occured\")\n",
    "        else:\n",
    "            df_crop = df_detections.copy()\n",
    "            df_crop[\"Cropped_image_directory\"] = cropped_dir\n",
    "            df_crop[\"Cropped_image_name\"] = df_crop[\"Filename\"] + \"_\" + df_crop[\"Detection_number\"].astype(str) + \".jpg\"\n",
    "            df_crop[\"Cropped_image_path\"] = (cropped_dir + \"\\\\\" + df_crop[\"Cropped_image_name\"]).apply(clean_path)\n",
    "            print(\"Images already cropped...\")\n",
    "        cropping_end = time.time()\n",
    "        cropping_time = str(timedelta(seconds=round(cropping_end - cropping_start)))\n",
    "        log.update({\"Cropping Time\" : cropping_time})\n",
    "        log.update({\"Number of Detections\" : len(df_detections)})\n",
    "        \n",
    "        ## ORDER LEVEL PREDICTIONS\n",
    "        \n",
    "        if os.path.exists(os.path.join(cropped_dir,r\"Ungulate\")) or os.path.exists(os.path.join(cropped_dir,r\"Small Carnivore\")) or os.path.exists(os.path.join(cropped_dir,r\"Others\")):\n",
    "            df_order = df_crop.copy()\n",
    "            df_order['Order_dir'] = np.nan\n",
    "            df_order['Order_level_path'] = np.nan\n",
    "            print(\"Order level classification already complete\")\n",
    "        else:\n",
    "            order_level_start = time.time()\n",
    "            print(\"Predicting Order Level Classes...\")\n",
    "            df_temp, num_cropped = predict_lower_level_species(data_dir, \n",
    "                                                               r\"Cropped_images\\*\", \n",
    "                                                               order_level_class_names,\n",
    "                                                               order_level_model,\n",
    "                                                               level = \"Order\")\n",
    "            \n",
    "            order_level_end = time.time()\n",
    "            df_order = pd.merge(df_crop, df_temp, on='Cropped_image_name', how='left')\n",
    "            df_order[\"Order_pred\"] = df_order[\"Order_pred\"].fillna(\"Error\")\n",
    "            df_order[\"Order_dir\"] = (cropped_dir + \"\\\\\" + df_order[\"Order_pred\"]).apply(clean_path)\n",
    "            df_order[\"Order_level_path\"] = (df_order[\"Order_dir\"] + \"\\\\\" + df_order[\"Cropped_image_name\"]).apply(clean_path)\n",
    "            \n",
    "            unique_directories = set(df_order['Order_dir'])\n",
    "            for directory in unique_directories:\n",
    "                os.makedirs(directory, exist_ok=True)\n",
    "            \n",
    "            print(\"Moving Order Level Images...\")\n",
    "            move_images_batch(df_order[\"Cropped_image_path\"], df_order[\"Order_level_path\"])\n",
    "            \n",
    "            order_shift_end = time.time()\n",
    "            order_pred_time = str(timedelta(seconds=round(order_level_end - order_level_start)))\n",
    "            order_shift_time = str(timedelta(seconds=round(order_shift_end - order_level_end)))\n",
    "            log.update({\"Order Level Prediction Time\" : order_shift_time})\n",
    "            log.update({\"Order Level Shifting Time\" : order_shift_time})\n",
    "        \n",
    "        ## SMALL CARNIVORES PREDICT\n",
    "        small_carnivores_start = time.time()\n",
    "        if os.path.exists(os.path.join(cropped_dir,r\"Small Carnivore\")) and len(os.listdir(os.path.join(cropped_dir,r\"Small Carnivore\"))) > 0:\n",
    "            print(\"Predicting Small Carnivores...\")\n",
    "            df_small_carnivore, num_small_carnivores = predict_lower_level_species(cropped_dir, \n",
    "                                                                                   r\"Small Carnivore\\*\", \n",
    "                                                                                   small_carnivores_class_names,\n",
    "                                                                                   small_carnivore_model,\n",
    "                                                                                   level = \"Species\")\n",
    "            df_small_carnivore[\"Order_pred\"] = r\"Small Carnivore\"\n",
    "            df_small_carnivore[\"Order_dir\"] = (cropped_dir + \"\\\\\" + df_small_carnivore[\"Order_pred\"]).apply(clean_path)\n",
    "            df_small_carnivore[\"Order_level_path\"] = (df_small_carnivore[\"Order_dir\"] + \"\\\\\" + df_small_carnivore[\"Cropped_image_name\"]).apply(clean_path)\n",
    "            small_carnivores_end = time.time()\n",
    "            small_carnivore_time = str(timedelta(seconds=round(small_carnivores_end - small_carnivores_start)))\n",
    "            log.update({\"Number of Small Carnivores Images\" : num_small_carnivores})\n",
    "            log.update({\"Small Carnivore Model Pred Time\" : small_carnivore_time})\n",
    "        else:\n",
    "            df_small_carnivore = pd.DataFrame(columns=['Cropped_image_name','Species_pred','Species_pred_prob'])\n",
    "       \n",
    "        ## UNGULATES PREDICT\n",
    "\n",
    "        if os.path.exists(os.path.join(cropped_dir,r\"Ungulate\")) and len(os.listdir(os.path.join(cropped_dir,r\"Ungulate\"))) > 0 and not os.path.exists(os.path.join(cropped_dir,r\"Cattle\")):\n",
    "            ungulate_start = time.time()\n",
    "            print(\"Predicting Ungulates...\")\n",
    "            df_ungulate, num_ungulates = predict_lower_level_species(cropped_dir, \n",
    "                                                                     r\"Ungulate\\*\", \n",
    "                                                                     ungulate_class_names,\n",
    "                                                                     ungulate_model,\n",
    "                                                                     level = \"Species\")\n",
    "            df_ungulate[\"Order_pred\"] = r\"Ungulate\"\n",
    "            df_ungulate[\"Order_dir\"] = (cropped_dir + \"\\\\\" + df_ungulate[\"Order_pred\"]).apply(clean_path)\n",
    "            df_ungulate[\"Order_level_path\"] = (df_ungulate[\"Order_dir\"] + \"\\\\\" + df_ungulate[\"Cropped_image_name\"]).apply(clean_path)\n",
    "            ungulate_end = time.time()\n",
    "            ungulate_time = str(timedelta(seconds=round(ungulate_end - ungulate_start)))\n",
    "            log.update({\"Number of Ungulates Images\" : num_ungulates})\n",
    "            log.update({\"Ungulate Model Pred Time\" : ungulate_time})\n",
    "        else:\n",
    "            df_ungulate = pd.DataFrame(columns=['Cropped_image_name','Species_pred','Species_pred_prob'])\n",
    "        \n",
    "        species_shift_start = time.time()\n",
    "        df_species = pd.concat([df_small_carnivore,df_ungulate])\n",
    "        df_species[\"Species_dir\"] = (cropped_dir + \"\\\\\" + df_species[\"Species_pred\"]).apply(clean_path)\n",
    "        df_species[\"Species_level_path\"] = (df_species[\"Species_dir\"] + \"\\\\\" + df_species[\"Cropped_image_name\"]).apply(clean_path)\n",
    "        \n",
    "        #df_move = pd.merge(df_species, df_order, on='Cropped_image_name', how='left')\n",
    "        try:\n",
    "            df_move = df_species[df_species[\"Order_level_path\"] != df_species[\"Species_level_path\"]]\n",
    "            unique_directories = set(df_move['Species_dir'])\n",
    "            for directory in unique_directories:\n",
    "                os.makedirs(directory, exist_ok=True)\n",
    "            print(\"Moving Ungulates and Small Carnivores...\")\n",
    "            #copy_images_batch(df_move[\"Order_level_path\"], df_move[\"Species_level_path\"])\n",
    "            #delete_images_batch(df_move[\"Order_level_path\"])\n",
    "            move_images_batch(df_move[\"Order_level_path\"], df_move[\"Species_level_path\"])\n",
    "        except:\n",
    "            print(\"No files to move\")\n",
    "            \n",
    "        species_shift_end = time.time()\n",
    "        species_shift_time = str(timedelta(seconds=round(species_shift_end - species_shift_start)))\n",
    "        species_level_time = str(timedelta(seconds=round(species_shift_end - small_carnivores_start)))\n",
    "        log.update({\"Species Level Shift Imgs Time\" : species_shift_time})\n",
    "        log.update({\"Species Level Predict and Shift\" : species_level_time})\n",
    "        \n",
    "        ## SAVE FINAL PREDICTIONS.CSV\n",
    "        if os.path.exists(os.path.join(data_dir,r\"predictions.csv\")):\n",
    "            predictions = pd.read_csv(os.path.join(data_dir,r\"predictions.csv\"))\n",
    "            preds = predictions.copy().dropna()\n",
    "            preds_all = pd.concat([preds,df_species[~df_species[\"Cropped_image_name\"].isin(preds[\"Cropped_image_name\"].tolist())]])\n",
    "            preds_all = preds_all[[\"Cropped_image_name\",\"Species_pred\",\"Species_pred_prob\",\"Species_dir\",\"Species_level_path\"]]\n",
    "            predictions.drop(columns = [\"Species_pred\",\"Species_pred_prob\",\"Species_dir\",\"Species_level_path\"], inplace = True)\n",
    "            df_final = pd.merge(predictions, preds_all, how='left', on = \"Cropped_image_name\")\n",
    "        else:\n",
    "            try:\n",
    "                df_final = pd.merge(df_order, df_species.drop(columns=['Order_pred','Order_dir', 'Order_level_path']), on='Cropped_image_name', how='left')\n",
    "            except:\n",
    "                df_final = pd.merge(df_order, df_species, on='Cropped_image_name', how='left')\n",
    "            df_final.drop(columns=['Order_dir', 'Order_level_path','Cropped_image_path'], inplace=True)\n",
    "        df_final_path = os.path.join(data_dir, \"predictions.csv\")\n",
    "        df_final.to_csv(df_final_path, index=False)\n",
    "        \n",
    "        ## SAVE LOG FILE\n",
    "        print(\"Saving Logs\")\n",
    "        log_file_name = \"_\".join(data_dir.split(\"\\\\\")[-3:])\n",
    "        log_file_path = os.path.join(data_dir, f\"{log_file_name}_log.json\")\n",
    "        with open(log_file_path, \"w\") as f:\n",
    "            json.dump(log, f, indent=2)\n",
    "        gc.collect()"
   ]
  }
 ],
 "metadata": {
  "kernelspec": {
   "display_name": "Python 3 (ipykernel)",
   "language": "python",
   "name": "python3"
  },
  "language_info": {
   "codemirror_mode": {
    "name": "ipython",
    "version": 3
   },
   "file_extension": ".py",
   "mimetype": "text/x-python",
   "name": "python",
   "nbconvert_exporter": "python",
   "pygments_lexer": "ipython3",
   "version": "3.8.15"
  }
 },
 "nbformat": 4,
 "nbformat_minor": 5
}
