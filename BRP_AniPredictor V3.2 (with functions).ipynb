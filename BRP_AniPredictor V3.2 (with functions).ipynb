{
 "cells": [
  {
   "cell_type": "code",
   "execution_count": 1,
   "metadata": {},
   "outputs": [
    {
     "name": "stdout",
     "output_type": "stream",
     "text": [
      "d:\\WII_BRP\\In_situ\\Camera_trapping\\BRP_AniPredictor\n",
      "D:\\WII_BRP\\In_situ\\Camera_trapping\\BRP_AniPredictor\n"
     ]
    }
   ],
   "source": [
    "import os\n",
    "print(os.getcwd())\n",
    "os.chdir(\"D:\\WII_BRP\\In_situ\\Camera_trapping\\BRP_AniPredictor\")\n",
    "print(os.getcwd())"
   ]
  },
  {
   "cell_type": "code",
   "execution_count": 2,
   "metadata": {},
   "outputs": [],
   "source": [
    "from dependencies import *\n",
    "\n",
    "exiftool_path = r\"C:\\Windows\\exiftool.exe\"\n",
    "input_dir = r\"G:\\Trial\\1\"\n",
    "dest_dir = r\"G:\\Trial\\2\"\n",
    "Station = \"Trial\"\n",
    "Camera = \"Images\"\n",
    "latitude = 26.723574  # Replace with your latitude\n",
    "longitude = 70.634269  # Replace with your longitude"
   ]
  },
  {
   "cell_type": "code",
   "execution_count": 15,
   "metadata": {},
   "outputs": [
    {
     "name": "stdout",
     "output_type": "stream",
     "text": [
      "Corrupt files : 0 images removed\n"
     ]
    }
   ],
   "source": [
    "from find_corrupt_files import *\n",
    "\n",
    "corrupt_files=Corrupt_Files.list_corrupt_files_in_directory(input_dir,directory=dest_dir)\n",
    "if len(corrupt_files) > 0:\n",
    "    for c in corrupt_files:\n",
    "        os.remove(c)\n",
    "print(f\"Corrupt files : {len(corrupt_files)} images removed\")"
   ]
  },
  {
   "cell_type": "code",
   "execution_count": 23,
   "metadata": {},
   "outputs": [
    {
     "ename": "TypeError",
     "evalue": "run() missing 1 required positional argument: 'self'",
     "output_type": "error",
     "traceback": [
      "\u001b[1;31m---------------------------------------------------------------------------\u001b[0m",
      "\u001b[1;31mTypeError\u001b[0m                                 Traceback (most recent call last)",
      "Cell \u001b[1;32mIn[23], line 3\u001b[0m\n\u001b[0;32m      1\u001b[0m \u001b[38;5;28;01mfrom\u001b[39;00m \u001b[38;5;21;01mrename_and_copy\u001b[39;00m \u001b[38;5;28;01mimport\u001b[39;00m \u001b[38;5;241m*\u001b[39m\n\u001b[1;32m----> 3\u001b[0m \u001b[43mRenameAndCopy\u001b[49m\u001b[38;5;241;43m.\u001b[39;49m\u001b[43mrun\u001b[49m\u001b[43m(\u001b[49m\u001b[43minput_dir\u001b[49m\u001b[43m \u001b[49m\u001b[38;5;241;43m=\u001b[39;49m\u001b[43m \u001b[49m\u001b[43minput_dir\u001b[49m\u001b[43m)\u001b[49m\n",
      "\u001b[1;31mTypeError\u001b[0m: run() missing 1 required positional argument: 'self'"
     ]
    }
   ],
   "source": [
    "from rename_and_copy import *\n",
    "\n",
    "RenameAndCopy.run(input_dir = input_dir)"
   ]
  }
 ],
 "metadata": {
  "kernelspec": {
   "display_name": "cameratraps-env",
   "language": "python",
   "name": "python3"
  },
  "language_info": {
   "codemirror_mode": {
    "name": "ipython",
    "version": 3
   },
   "file_extension": ".py",
   "mimetype": "text/x-python",
   "name": "python",
   "nbconvert_exporter": "python",
   "pygments_lexer": "ipython3",
   "version": "3.8.15"
  }
 },
 "nbformat": 4,
 "nbformat_minor": 2
}
