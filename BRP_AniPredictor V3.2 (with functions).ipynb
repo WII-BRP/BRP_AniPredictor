{
 "cells": [
  {
   "cell_type": "code",
   "execution_count": 3,
   "metadata": {},
   "outputs": [
    {
     "name": "stdout",
     "output_type": "stream",
     "text": [
      "c:\\Users\\Hp\\AppData\\Local\\Programs\\Microsoft VS Code\n",
      "D:\\WII_BRP\\In_situ\\Camera_trapping\\BRP_AniPredictor\n"
     ]
    }
   ],
   "source": [
    "import os\n",
    "print(os.getcwd())\n",
    "os.chdir(\"D:\\WII_BRP\\In_situ\\Camera_trapping\\BRP_AniPredictor\")\n",
    "print(os.getcwd())"
   ]
  },
  {
   "cell_type": "code",
   "execution_count": null,
   "metadata": {},
   "outputs": [],
   "source": [
    "from dependencies import *\n",
    "\n",
    "exiftool_path = r\"C:\\Windows\\exiftool.exe\"\n",
    "input_dir = r\"D:\\Trial\\Sudasari B\\Sudasari B2\\Test_14022024\"\n",
    "dest_dir = r\"G:\\Guzzler_data\\Sorted_guzzler_data\\2020\\SudasariACD\\A\\20200321_165610__to__20200505_124728\"\n",
    "Station = \"SudasariACD\"\n",
    "Camera = \"B\"\n",
    "latitude = 26.723574  # Replace with your latitude\n",
    "longitude = 70.634269  # Replace with your longitude"
   ]
  },
  {
   "cell_type": "code",
   "execution_count": null,
   "metadata": {},
   "outputs": [],
   "source": [
    "from find_corrupt_files import *\n",
    "\n",
    "corrupt_files=list_corrupt_files_in_directory(input_dir)\n",
    "if len(corrupt_files) > 0:\n",
    "    for c in corrupt_files:\n",
    "        os.remove(c)\n",
    "print(f\"Corrupt files : {len(corrupt_files)} images removed\")"
   ]
  },
  {
   "cell_type": "code",
   "execution_count": 4,
   "metadata": {},
   "outputs": [],
   "source": [
    "from rename_and_copy import *\n",
    "\n",
    "RenameAndCopy()"
   ]
  }
 ],
 "metadata": {
  "kernelspec": {
   "display_name": "cameratraps-env",
   "language": "python",
   "name": "python3"
  },
  "language_info": {
   "codemirror_mode": {
    "name": "ipython",
    "version": 3
   },
   "file_extension": ".py",
   "mimetype": "text/x-python",
   "name": "python",
   "nbconvert_exporter": "python",
   "pygments_lexer": "ipython3",
   "version": "3.8.15"
  }
 },
 "nbformat": 4,
 "nbformat_minor": 2
}
