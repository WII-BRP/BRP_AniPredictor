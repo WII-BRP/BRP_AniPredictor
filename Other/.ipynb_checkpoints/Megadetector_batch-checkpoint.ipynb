{
 "cells": [
  {
   "cell_type": "code",
   "execution_count": 1,
   "id": "a5949e3f-8608-4eda-a69a-367a4794b041",
   "metadata": {},
   "outputs": [],
   "source": [
    "import os\n",
    "import sys\n",
    "from pathlib import Path\n",
    "from subprocess import Popen, PIPE \n",
    "import re\n",
    "import subprocess\n",
    "from tqdm import tqdm\n",
    "import tensorflow as tf\n",
    "from datetime import datetime, timedelta\n",
    "import time\n",
    "import json\n",
    "import torch\n",
    "\n",
    "\n",
    "def megadetector(img_dir):\n",
    "    print(\"Megadetector model\")\n",
    "\n",
    "    local_detector_path = os.path.join(os.getcwd(), \"cameratraps\", \"detection\", \"run_detector_batch.py\")\n",
    "    megadetector_path = os.path.join(os.getcwd(), \"md_v5a.0.0.pt\")\n",
    "    output_file_name = \"_\".join(img_dir.split(\"\\\\\")[-3:])\n",
    "    json_dir = os.path.join(img_dir, f\"{output_file_name}_megadetector.json\")\n",
    "\n",
    "    if os.path.exists(json_dir):\n",
    "        print(\"Megadetector output file already exists.. Going for species classification\")\n",
    "        return json_dir\n",
    "    \n",
    "    print(local_detector_path, megadetector_path, json_dir)\n",
    "\n",
    "    command = [sys.executable,\n",
    "                local_detector_path,\n",
    "                megadetector_path,\n",
    "                img_dir,\n",
    "                json_dir,\n",
    "                \"--recursive\"]\n",
    "    \n",
    "    with tqdm(total = 100) as t:\n",
    "        prev_percentage = 0\n",
    "        with Popen(command,\n",
    "                stdout=subprocess.PIPE, stderr=subprocess.STDOUT, bufsize=1, shell=True,\n",
    "                universal_newlines=True) as p:\n",
    "            for line in p.stdout:\n",
    "                \n",
    "                if line.startswith(\"Loaded model in\"):\n",
    "                    pass\n",
    "                \n",
    "                elif \"%\" in line[0:4]:\n",
    "                    percentage = int(re.search(\"\\d*%\", line[0:4])[0][:-1])\n",
    "                    if percentage > prev_percentage:\n",
    "                        prev_percentage = percentage\n",
    "                        t.update(1)\n",
    " \n",
    "    print(\"Bounding Boxes Created\")\n",
    "\n",
    "    return json_dir"
   ]
  },
  {
   "cell_type": "code",
   "execution_count": 2,
   "id": "69352e31-2cac-407d-aeb8-290e442c2b0d",
   "metadata": {},
   "outputs": [
    {
     "data": {
      "text/plain": [
       "['J:\\\\Camera_Trapping\\\\Guzzler_data\\\\2023\\\\CameraTrap\\\\SudasariACD\\\\C2\\\\23',\n",
       " 'J:\\\\Camera_Trapping\\\\Guzzler_data\\\\2023\\\\CameraTrap\\\\SudasariACD\\\\C2\\\\2',\n",
       " 'J:\\\\Camera_Trapping\\\\Guzzler_data\\\\2023\\\\CameraTrap\\\\SudasariACD\\\\C2\\\\10',\n",
       " 'J:\\\\Camera_Trapping\\\\Guzzler_data\\\\2023\\\\CameraTrap\\\\SudasariACD\\\\C2\\\\9',\n",
       " 'J:\\\\Camera_Trapping\\\\Guzzler_data\\\\2023\\\\CameraTrap\\\\SudasariACD\\\\C2\\\\16',\n",
       " 'J:\\\\Camera_Trapping\\\\Guzzler_data\\\\2023\\\\CameraTrap\\\\SudasariACD\\\\C2\\\\13',\n",
       " 'J:\\\\Camera_Trapping\\\\Guzzler_data\\\\2023\\\\CameraTrap\\\\SudasariACD\\\\C2\\\\4',\n",
       " 'J:\\\\Camera_Trapping\\\\Guzzler_data\\\\2023\\\\CameraTrap\\\\SudasariACD\\\\C2\\\\25',\n",
       " 'J:\\\\Camera_Trapping\\\\Guzzler_data\\\\2023\\\\CameraTrap\\\\SudasariACD\\\\C2\\\\21',\n",
       " 'J:\\\\Camera_Trapping\\\\Guzzler_data\\\\2023\\\\CameraTrap\\\\SudasariACD\\\\C2\\\\14',\n",
       " 'J:\\\\Camera_Trapping\\\\Guzzler_data\\\\2023\\\\CameraTrap\\\\SudasariACD\\\\C2\\\\28',\n",
       " 'J:\\\\Camera_Trapping\\\\Guzzler_data\\\\2023\\\\CameraTrap\\\\SudasariACD\\\\C2\\\\27',\n",
       " 'J:\\\\Camera_Trapping\\\\Guzzler_data\\\\2023\\\\CameraTrap\\\\SudasariACD\\\\C2\\\\29',\n",
       " 'J:\\\\Camera_Trapping\\\\Guzzler_data\\\\2023\\\\CameraTrap\\\\SudasariACD\\\\C2\\\\3',\n",
       " 'J:\\\\Camera_Trapping\\\\Guzzler_data\\\\2023\\\\CameraTrap\\\\SudasariACD\\\\C2\\\\20',\n",
       " 'J:\\\\Camera_Trapping\\\\Guzzler_data\\\\2023\\\\CameraTrap\\\\SudasariACD\\\\C2\\\\22',\n",
       " 'J:\\\\Camera_Trapping\\\\Guzzler_data\\\\2023\\\\CameraTrap\\\\SudasariACD\\\\C2\\\\24',\n",
       " 'J:\\\\Camera_Trapping\\\\Guzzler_data\\\\2023\\\\CameraTrap\\\\SudasariACD\\\\C2\\\\30',\n",
       " 'J:\\\\Camera_Trapping\\\\Guzzler_data\\\\2023\\\\CameraTrap\\\\SudasariACD\\\\C2\\\\15',\n",
       " 'J:\\\\Camera_Trapping\\\\Guzzler_data\\\\2023\\\\CameraTrap\\\\SudasariACD\\\\C2\\\\17',\n",
       " 'J:\\\\Camera_Trapping\\\\Guzzler_data\\\\2023\\\\CameraTrap\\\\SudasariACD\\\\C2\\\\31',\n",
       " 'J:\\\\Camera_Trapping\\\\Guzzler_data\\\\2023\\\\CameraTrap\\\\SudasariACD\\\\C2\\\\8',\n",
       " 'J:\\\\Camera_Trapping\\\\Guzzler_data\\\\2023\\\\CameraTrap\\\\SudasariACD\\\\C2\\\\32',\n",
       " 'J:\\\\Camera_Trapping\\\\Guzzler_data\\\\2023\\\\CameraTrap\\\\SudasariACD\\\\C2\\\\19',\n",
       " 'J:\\\\Camera_Trapping\\\\Guzzler_data\\\\2023\\\\CameraTrap\\\\SudasariACD\\\\C2\\\\18',\n",
       " 'J:\\\\Camera_Trapping\\\\Guzzler_data\\\\2023\\\\CameraTrap\\\\SudasariACD\\\\C2\\\\26',\n",
       " 'J:\\\\Camera_Trapping\\\\Guzzler_data\\\\2023\\\\CameraTrap\\\\SudasariACD\\\\C2\\\\12',\n",
       " 'J:\\\\Camera_Trapping\\\\Guzzler_data\\\\2023\\\\CameraTrap\\\\SudasariACD\\\\C2\\\\1',\n",
       " 'J:\\\\Camera_Trapping\\\\Guzzler_data\\\\2023\\\\CameraTrap\\\\SudasariACD\\\\C2\\\\6',\n",
       " 'J:\\\\Camera_Trapping\\\\Guzzler_data\\\\2023\\\\CameraTrap\\\\SudasariACD\\\\C2\\\\5',\n",
       " 'J:\\\\Camera_Trapping\\\\Guzzler_data\\\\2023\\\\CameraTrap\\\\SudasariACD\\\\C2\\\\11',\n",
       " 'J:\\\\Camera_Trapping\\\\Guzzler_data\\\\2023\\\\CameraTrap\\\\SudasariACD\\\\C2\\\\7']"
      ]
     },
     "execution_count": 2,
     "metadata": {},
     "output_type": "execute_result"
    }
   ],
   "source": [
    "data_dir=r\"J:\\Camera_Trapping\\Guzzler_data\\2023\\CameraTrap\\SudasariACD\\C2\"\n",
    "import os\n",
    "sub_directories=[os.path.join(data_dir, d) for d in os.listdir(data_dir) if os.path.isdir(os.path.join(data_dir, d))]\n",
    "if not sub_directories:\n",
    "    sub_directories= [data_dir]\n",
    "sub_directories"
   ]
  },
  {
   "cell_type": "code",
   "execution_count": 3,
   "id": "706ed423-8724-4234-9720-e1e10ac0ed16",
   "metadata": {
    "scrolled": true
   },
   "outputs": [
    {
     "name": "stdout",
     "output_type": "stream",
     "text": [
      "Megadetector model\n",
      "Megadetector output file already exists.. Going for species classification\n",
      "Megadetector model\n",
      "Megadetector output file already exists.. Going for species classification\n",
      "Megadetector model\n",
      "Megadetector output file already exists.. Going for species classification\n",
      "Megadetector model\n",
      "Megadetector output file already exists.. Going for species classification\n",
      "Megadetector model\n",
      "Megadetector output file already exists.. Going for species classification\n",
      "Megadetector model\n",
      "Megadetector output file already exists.. Going for species classification\n",
      "Megadetector model\n",
      "Megadetector output file already exists.. Going for species classification\n",
      "Megadetector model\n",
      "D:\\WII_BRP\\In_situ\\Camera_trapping\\BRP_AniPredictor\\cameratraps\\detection\\run_detector_batch.py D:\\WII_BRP\\In_situ\\Camera_trapping\\BRP_AniPredictor\\md_v5a.0.0.pt J:\\Camera_Trapping\\Guzzler_data\\2023\\CameraTrap\\SudasariACD\\C2\\25\\SudasariACD_C2_25_megadetector.json\n"
     ]
    },
    {
     "name": "stderr",
     "output_type": "stream",
     "text": [
      "100%|████████████████████████████████████████████████████████████████████████████████| 100/100 [29:36<00:00, 17.77s/it]\n"
     ]
    },
    {
     "name": "stdout",
     "output_type": "stream",
     "text": [
      "Bounding Boxes Created\n",
      "Megadetector model\n",
      "D:\\WII_BRP\\In_situ\\Camera_trapping\\BRP_AniPredictor\\cameratraps\\detection\\run_detector_batch.py D:\\WII_BRP\\In_situ\\Camera_trapping\\BRP_AniPredictor\\md_v5a.0.0.pt J:\\Camera_Trapping\\Guzzler_data\\2023\\CameraTrap\\SudasariACD\\C2\\21\\SudasariACD_C2_21_megadetector.json\n"
     ]
    },
    {
     "name": "stderr",
     "output_type": "stream",
     "text": [
      "100%|████████████████████████████████████████████████████████████████████████████████| 100/100 [30:30<00:00, 18.31s/it]\n"
     ]
    },
    {
     "name": "stdout",
     "output_type": "stream",
     "text": [
      "Bounding Boxes Created\n",
      "Megadetector model\n",
      "D:\\WII_BRP\\In_situ\\Camera_trapping\\BRP_AniPredictor\\cameratraps\\detection\\run_detector_batch.py D:\\WII_BRP\\In_situ\\Camera_trapping\\BRP_AniPredictor\\md_v5a.0.0.pt J:\\Camera_Trapping\\Guzzler_data\\2023\\CameraTrap\\SudasariACD\\C2\\14\\SudasariACD_C2_14_megadetector.json\n"
     ]
    },
    {
     "name": "stderr",
     "output_type": "stream",
     "text": [
      "100%|████████████████████████████████████████████████████████████████████████████████| 100/100 [30:30<00:00, 18.31s/it]\n"
     ]
    },
    {
     "name": "stdout",
     "output_type": "stream",
     "text": [
      "Bounding Boxes Created\n",
      "Megadetector model\n",
      "D:\\WII_BRP\\In_situ\\Camera_trapping\\BRP_AniPredictor\\cameratraps\\detection\\run_detector_batch.py D:\\WII_BRP\\In_situ\\Camera_trapping\\BRP_AniPredictor\\md_v5a.0.0.pt J:\\Camera_Trapping\\Guzzler_data\\2023\\CameraTrap\\SudasariACD\\C2\\28\\SudasariACD_C2_28_megadetector.json\n"
     ]
    },
    {
     "name": "stderr",
     "output_type": "stream",
     "text": [
      "100%|████████████████████████████████████████████████████████████████████████████████| 100/100 [30:21<00:00, 18.21s/it]\n"
     ]
    },
    {
     "name": "stdout",
     "output_type": "stream",
     "text": [
      "Bounding Boxes Created\n",
      "Megadetector model\n",
      "D:\\WII_BRP\\In_situ\\Camera_trapping\\BRP_AniPredictor\\cameratraps\\detection\\run_detector_batch.py D:\\WII_BRP\\In_situ\\Camera_trapping\\BRP_AniPredictor\\md_v5a.0.0.pt J:\\Camera_Trapping\\Guzzler_data\\2023\\CameraTrap\\SudasariACD\\C2\\27\\SudasariACD_C2_27_megadetector.json\n"
     ]
    },
    {
     "name": "stderr",
     "output_type": "stream",
     "text": [
      "100%|████████████████████████████████████████████████████████████████████████████████| 100/100 [30:14<00:00, 18.15s/it]\n"
     ]
    },
    {
     "name": "stdout",
     "output_type": "stream",
     "text": [
      "Bounding Boxes Created\n",
      "Megadetector model\n",
      "D:\\WII_BRP\\In_situ\\Camera_trapping\\BRP_AniPredictor\\cameratraps\\detection\\run_detector_batch.py D:\\WII_BRP\\In_situ\\Camera_trapping\\BRP_AniPredictor\\md_v5a.0.0.pt J:\\Camera_Trapping\\Guzzler_data\\2023\\CameraTrap\\SudasariACD\\C2\\29\\SudasariACD_C2_29_megadetector.json\n"
     ]
    },
    {
     "name": "stderr",
     "output_type": "stream",
     "text": [
      "100%|████████████████████████████████████████████████████████████████████████████████| 100/100 [30:27<00:00, 18.28s/it]\n"
     ]
    },
    {
     "name": "stdout",
     "output_type": "stream",
     "text": [
      "Bounding Boxes Created\n",
      "Megadetector model\n",
      "D:\\WII_BRP\\In_situ\\Camera_trapping\\BRP_AniPredictor\\cameratraps\\detection\\run_detector_batch.py D:\\WII_BRP\\In_situ\\Camera_trapping\\BRP_AniPredictor\\md_v5a.0.0.pt J:\\Camera_Trapping\\Guzzler_data\\2023\\CameraTrap\\SudasariACD\\C2\\3\\SudasariACD_C2_3_megadetector.json\n"
     ]
    },
    {
     "name": "stderr",
     "output_type": "stream",
     "text": [
      "100%|████████████████████████████████████████████████████████████████████████████████| 100/100 [31:17<00:00, 18.77s/it]\n"
     ]
    },
    {
     "name": "stdout",
     "output_type": "stream",
     "text": [
      "Bounding Boxes Created\n",
      "Megadetector model\n",
      "D:\\WII_BRP\\In_situ\\Camera_trapping\\BRP_AniPredictor\\cameratraps\\detection\\run_detector_batch.py D:\\WII_BRP\\In_situ\\Camera_trapping\\BRP_AniPredictor\\md_v5a.0.0.pt J:\\Camera_Trapping\\Guzzler_data\\2023\\CameraTrap\\SudasariACD\\C2\\20\\SudasariACD_C2_20_megadetector.json\n"
     ]
    },
    {
     "name": "stderr",
     "output_type": "stream",
     "text": [
      "100%|████████████████████████████████████████████████████████████████████████████████| 100/100 [30:34<00:00, 18.35s/it]\n"
     ]
    },
    {
     "name": "stdout",
     "output_type": "stream",
     "text": [
      "Bounding Boxes Created\n",
      "Megadetector model\n",
      "D:\\WII_BRP\\In_situ\\Camera_trapping\\BRP_AniPredictor\\cameratraps\\detection\\run_detector_batch.py D:\\WII_BRP\\In_situ\\Camera_trapping\\BRP_AniPredictor\\md_v5a.0.0.pt J:\\Camera_Trapping\\Guzzler_data\\2023\\CameraTrap\\SudasariACD\\C2\\22\\SudasariACD_C2_22_megadetector.json\n"
     ]
    },
    {
     "name": "stderr",
     "output_type": "stream",
     "text": [
      "100%|████████████████████████████████████████████████████████████████████████████████| 100/100 [30:18<00:00, 18.19s/it]\n"
     ]
    },
    {
     "name": "stdout",
     "output_type": "stream",
     "text": [
      "Bounding Boxes Created\n",
      "Megadetector model\n",
      "D:\\WII_BRP\\In_situ\\Camera_trapping\\BRP_AniPredictor\\cameratraps\\detection\\run_detector_batch.py D:\\WII_BRP\\In_situ\\Camera_trapping\\BRP_AniPredictor\\md_v5a.0.0.pt J:\\Camera_Trapping\\Guzzler_data\\2023\\CameraTrap\\SudasariACD\\C2\\24\\SudasariACD_C2_24_megadetector.json\n"
     ]
    },
    {
     "name": "stderr",
     "output_type": "stream",
     "text": [
      "100%|████████████████████████████████████████████████████████████████████████████████| 100/100 [30:20<00:00, 18.21s/it]\n"
     ]
    },
    {
     "name": "stdout",
     "output_type": "stream",
     "text": [
      "Bounding Boxes Created\n",
      "Megadetector model\n",
      "D:\\WII_BRP\\In_situ\\Camera_trapping\\BRP_AniPredictor\\cameratraps\\detection\\run_detector_batch.py D:\\WII_BRP\\In_situ\\Camera_trapping\\BRP_AniPredictor\\md_v5a.0.0.pt J:\\Camera_Trapping\\Guzzler_data\\2023\\CameraTrap\\SudasariACD\\C2\\30\\SudasariACD_C2_30_megadetector.json\n"
     ]
    },
    {
     "name": "stderr",
     "output_type": "stream",
     "text": [
      "100%|████████████████████████████████████████████████████████████████████████████████| 100/100 [29:05<00:00, 17.45s/it]\n"
     ]
    },
    {
     "name": "stdout",
     "output_type": "stream",
     "text": [
      "Bounding Boxes Created\n",
      "Megadetector model\n",
      "D:\\WII_BRP\\In_situ\\Camera_trapping\\BRP_AniPredictor\\cameratraps\\detection\\run_detector_batch.py D:\\WII_BRP\\In_situ\\Camera_trapping\\BRP_AniPredictor\\md_v5a.0.0.pt J:\\Camera_Trapping\\Guzzler_data\\2023\\CameraTrap\\SudasariACD\\C2\\15\\SudasariACD_C2_15_megadetector.json\n"
     ]
    },
    {
     "name": "stderr",
     "output_type": "stream",
     "text": [
      "100%|████████████████████████████████████████████████████████████████████████████████| 100/100 [30:23<00:00, 18.24s/it]\n"
     ]
    },
    {
     "name": "stdout",
     "output_type": "stream",
     "text": [
      "Bounding Boxes Created\n",
      "Megadetector model\n",
      "D:\\WII_BRP\\In_situ\\Camera_trapping\\BRP_AniPredictor\\cameratraps\\detection\\run_detector_batch.py D:\\WII_BRP\\In_situ\\Camera_trapping\\BRP_AniPredictor\\md_v5a.0.0.pt J:\\Camera_Trapping\\Guzzler_data\\2023\\CameraTrap\\SudasariACD\\C2\\17\\SudasariACD_C2_17_megadetector.json\n"
     ]
    },
    {
     "name": "stderr",
     "output_type": "stream",
     "text": [
      "100%|████████████████████████████████████████████████████████████████████████████████| 100/100 [30:25<00:00, 18.26s/it]\n"
     ]
    },
    {
     "name": "stdout",
     "output_type": "stream",
     "text": [
      "Bounding Boxes Created\n",
      "Megadetector model\n",
      "D:\\WII_BRP\\In_situ\\Camera_trapping\\BRP_AniPredictor\\cameratraps\\detection\\run_detector_batch.py D:\\WII_BRP\\In_situ\\Camera_trapping\\BRP_AniPredictor\\md_v5a.0.0.pt J:\\Camera_Trapping\\Guzzler_data\\2023\\CameraTrap\\SudasariACD\\C2\\31\\SudasariACD_C2_31_megadetector.json\n"
     ]
    },
    {
     "name": "stderr",
     "output_type": "stream",
     "text": [
      "100%|████████████████████████████████████████████████████████████████████████████████| 100/100 [27:47<00:00, 16.68s/it]\n"
     ]
    },
    {
     "name": "stdout",
     "output_type": "stream",
     "text": [
      "Bounding Boxes Created\n",
      "Megadetector model\n",
      "D:\\WII_BRP\\In_situ\\Camera_trapping\\BRP_AniPredictor\\cameratraps\\detection\\run_detector_batch.py D:\\WII_BRP\\In_situ\\Camera_trapping\\BRP_AniPredictor\\md_v5a.0.0.pt J:\\Camera_Trapping\\Guzzler_data\\2023\\CameraTrap\\SudasariACD\\C2\\8\\SudasariACD_C2_8_megadetector.json\n"
     ]
    },
    {
     "name": "stderr",
     "output_type": "stream",
     "text": [
      "100%|████████████████████████████████████████████████████████████████████████████████| 100/100 [30:00<00:00, 18.01s/it]\n"
     ]
    },
    {
     "name": "stdout",
     "output_type": "stream",
     "text": [
      "Bounding Boxes Created\n",
      "Megadetector model\n",
      "D:\\WII_BRP\\In_situ\\Camera_trapping\\BRP_AniPredictor\\cameratraps\\detection\\run_detector_batch.py D:\\WII_BRP\\In_situ\\Camera_trapping\\BRP_AniPredictor\\md_v5a.0.0.pt J:\\Camera_Trapping\\Guzzler_data\\2023\\CameraTrap\\SudasariACD\\C2\\32\\SudasariACD_C2_32_megadetector.json\n"
     ]
    },
    {
     "name": "stderr",
     "output_type": "stream",
     "text": [
      "100%|████████████████████████████████████████████████████████████████████████████████| 100/100 [20:34<00:00, 12.34s/it]\n"
     ]
    },
    {
     "name": "stdout",
     "output_type": "stream",
     "text": [
      "Bounding Boxes Created\n",
      "Megadetector model\n",
      "D:\\WII_BRP\\In_situ\\Camera_trapping\\BRP_AniPredictor\\cameratraps\\detection\\run_detector_batch.py D:\\WII_BRP\\In_situ\\Camera_trapping\\BRP_AniPredictor\\md_v5a.0.0.pt J:\\Camera_Trapping\\Guzzler_data\\2023\\CameraTrap\\SudasariACD\\C2\\19\\SudasariACD_C2_19_megadetector.json\n"
     ]
    },
    {
     "name": "stderr",
     "output_type": "stream",
     "text": [
      "100%|████████████████████████████████████████████████████████████████████████████████| 100/100 [30:30<00:00, 18.31s/it]\n"
     ]
    },
    {
     "name": "stdout",
     "output_type": "stream",
     "text": [
      "Bounding Boxes Created\n",
      "Megadetector model\n",
      "D:\\WII_BRP\\In_situ\\Camera_trapping\\BRP_AniPredictor\\cameratraps\\detection\\run_detector_batch.py D:\\WII_BRP\\In_situ\\Camera_trapping\\BRP_AniPredictor\\md_v5a.0.0.pt J:\\Camera_Trapping\\Guzzler_data\\2023\\CameraTrap\\SudasariACD\\C2\\18\\SudasariACD_C2_18_megadetector.json\n"
     ]
    },
    {
     "name": "stderr",
     "output_type": "stream",
     "text": [
      "100%|████████████████████████████████████████████████████████████████████████████████| 100/100 [30:29<00:00, 18.29s/it]\n"
     ]
    },
    {
     "name": "stdout",
     "output_type": "stream",
     "text": [
      "Bounding Boxes Created\n",
      "Megadetector model\n",
      "D:\\WII_BRP\\In_situ\\Camera_trapping\\BRP_AniPredictor\\cameratraps\\detection\\run_detector_batch.py D:\\WII_BRP\\In_situ\\Camera_trapping\\BRP_AniPredictor\\md_v5a.0.0.pt J:\\Camera_Trapping\\Guzzler_data\\2023\\CameraTrap\\SudasariACD\\C2\\26\\SudasariACD_C2_26_megadetector.json\n"
     ]
    },
    {
     "name": "stderr",
     "output_type": "stream",
     "text": [
      "100%|████████████████████████████████████████████████████████████████████████████████| 100/100 [29:26<00:00, 17.67s/it]\n"
     ]
    },
    {
     "name": "stdout",
     "output_type": "stream",
     "text": [
      "Bounding Boxes Created\n",
      "Megadetector model\n",
      "D:\\WII_BRP\\In_situ\\Camera_trapping\\BRP_AniPredictor\\cameratraps\\detection\\run_detector_batch.py D:\\WII_BRP\\In_situ\\Camera_trapping\\BRP_AniPredictor\\md_v5a.0.0.pt J:\\Camera_Trapping\\Guzzler_data\\2023\\CameraTrap\\SudasariACD\\C2\\12\\SudasariACD_C2_12_megadetector.json\n"
     ]
    },
    {
     "name": "stderr",
     "output_type": "stream",
     "text": [
      "100%|████████████████████████████████████████████████████████████████████████████████| 100/100 [30:10<00:00, 18.10s/it]\n"
     ]
    },
    {
     "name": "stdout",
     "output_type": "stream",
     "text": [
      "Bounding Boxes Created\n",
      "Megadetector model\n",
      "D:\\WII_BRP\\In_situ\\Camera_trapping\\BRP_AniPredictor\\cameratraps\\detection\\run_detector_batch.py D:\\WII_BRP\\In_situ\\Camera_trapping\\BRP_AniPredictor\\md_v5a.0.0.pt J:\\Camera_Trapping\\Guzzler_data\\2023\\CameraTrap\\SudasariACD\\C2\\1\\SudasariACD_C2_1_megadetector.json\n"
     ]
    },
    {
     "name": "stderr",
     "output_type": "stream",
     "text": [
      "100%|████████████████████████████████████████████████████████████████████████████████| 100/100 [30:39<00:00, 18.40s/it]\n"
     ]
    },
    {
     "name": "stdout",
     "output_type": "stream",
     "text": [
      "Bounding Boxes Created\n",
      "Megadetector model\n",
      "D:\\WII_BRP\\In_situ\\Camera_trapping\\BRP_AniPredictor\\cameratraps\\detection\\run_detector_batch.py D:\\WII_BRP\\In_situ\\Camera_trapping\\BRP_AniPredictor\\md_v5a.0.0.pt J:\\Camera_Trapping\\Guzzler_data\\2023\\CameraTrap\\SudasariACD\\C2\\6\\SudasariACD_C2_6_megadetector.json\n"
     ]
    },
    {
     "name": "stderr",
     "output_type": "stream",
     "text": [
      "100%|████████████████████████████████████████████████████████████████████████████████| 100/100 [31:39<00:00, 18.99s/it]\n"
     ]
    },
    {
     "name": "stdout",
     "output_type": "stream",
     "text": [
      "Bounding Boxes Created\n",
      "Megadetector model\n",
      "D:\\WII_BRP\\In_situ\\Camera_trapping\\BRP_AniPredictor\\cameratraps\\detection\\run_detector_batch.py D:\\WII_BRP\\In_situ\\Camera_trapping\\BRP_AniPredictor\\md_v5a.0.0.pt J:\\Camera_Trapping\\Guzzler_data\\2023\\CameraTrap\\SudasariACD\\C2\\5\\SudasariACD_C2_5_megadetector.json\n"
     ]
    },
    {
     "name": "stderr",
     "output_type": "stream",
     "text": [
      "100%|████████████████████████████████████████████████████████████████████████████████| 100/100 [30:54<00:00, 18.54s/it]\n"
     ]
    },
    {
     "name": "stdout",
     "output_type": "stream",
     "text": [
      "Bounding Boxes Created\n",
      "Megadetector model\n",
      "D:\\WII_BRP\\In_situ\\Camera_trapping\\BRP_AniPredictor\\cameratraps\\detection\\run_detector_batch.py D:\\WII_BRP\\In_situ\\Camera_trapping\\BRP_AniPredictor\\md_v5a.0.0.pt J:\\Camera_Trapping\\Guzzler_data\\2023\\CameraTrap\\SudasariACD\\C2\\11\\SudasariACD_C2_11_megadetector.json\n"
     ]
    },
    {
     "name": "stderr",
     "output_type": "stream",
     "text": [
      "100%|████████████████████████████████████████████████████████████████████████████████| 100/100 [30:08<00:00, 18.08s/it]\n"
     ]
    },
    {
     "name": "stdout",
     "output_type": "stream",
     "text": [
      "Bounding Boxes Created\n",
      "Megadetector model\n",
      "D:\\WII_BRP\\In_situ\\Camera_trapping\\BRP_AniPredictor\\cameratraps\\detection\\run_detector_batch.py D:\\WII_BRP\\In_situ\\Camera_trapping\\BRP_AniPredictor\\md_v5a.0.0.pt J:\\Camera_Trapping\\Guzzler_data\\2023\\CameraTrap\\SudasariACD\\C2\\7\\SudasariACD_C2_7_megadetector.json\n"
     ]
    },
    {
     "name": "stderr",
     "output_type": "stream",
     "text": [
      "100%|████████████████████████████████████████████████████████████████████████████████| 100/100 [29:36<00:00, 17.76s/it]"
     ]
    },
    {
     "name": "stdout",
     "output_type": "stream",
     "text": [
      "Bounding Boxes Created\n"
     ]
    },
    {
     "name": "stderr",
     "output_type": "stream",
     "text": [
      "\n"
     ]
    }
   ],
   "source": [
    "for d in sub_directories:\n",
    "    log = {}\n",
    "    num_images = os.listdir(d)\n",
    "    gpu = tf.config.experimental.list_physical_devices('GPU')\n",
    "    log.update({\"Run Timestamp \" : str(datetime.now())})\n",
    "    log.update({\"Number of Images\" : len(num_images)})\n",
    "    log.update({\"GPU Available\" : torch.cuda.get_device_name()})\n",
    "    \n",
    "    start_time = time.time()\n",
    "    json_dir = megadetector(d)\n",
    "    end_time = time.time()\n",
    "    megadetector_time = str(timedelta(seconds=round(end_time - start_time)))\n",
    "    \n",
    "    log.update({\"Megadetector Time\" : megadetector_time})\n",
    "    log.update({\"Megadetector Filename\" : os.path.basename(json_dir)})\n",
    "\n",
    "    log_file_name = \"_\".join(d.split(\"\\\\\")[-3:])\n",
    "    log_file_path = os.path.join(d, f\"{log_file_name}_log.json\")\n",
    "    with open(log_file_path, \"w\") as f:\n",
    "        json.dump(log, f, indent=2)"
   ]
  },
  {
   "cell_type": "code",
   "execution_count": 2,
   "id": "bb2d095e-bfa6-4cc5-86fe-3c7466aeaadd",
   "metadata": {},
   "outputs": [
    {
     "data": {
      "text/plain": [
       "['E:\\\\Camera_Trapping\\\\Guzzler_data\\\\2023\\\\CameraTrap\\\\Ganga\\\\Ganga2\\\\1',\n",
       " 'E:\\\\Camera_Trapping\\\\Guzzler_data\\\\2023\\\\CameraTrap\\\\Ganga\\\\Ganga2\\\\10',\n",
       " 'E:\\\\Camera_Trapping\\\\Guzzler_data\\\\2023\\\\CameraTrap\\\\Ganga\\\\Ganga2\\\\2',\n",
       " 'E:\\\\Camera_Trapping\\\\Guzzler_data\\\\2023\\\\CameraTrap\\\\Ganga\\\\Ganga2\\\\3',\n",
       " 'E:\\\\Camera_Trapping\\\\Guzzler_data\\\\2023\\\\CameraTrap\\\\Ganga\\\\Ganga2\\\\4',\n",
       " 'E:\\\\Camera_Trapping\\\\Guzzler_data\\\\2023\\\\CameraTrap\\\\Ganga\\\\Ganga2\\\\5',\n",
       " 'E:\\\\Camera_Trapping\\\\Guzzler_data\\\\2023\\\\CameraTrap\\\\Ganga\\\\Ganga2\\\\6',\n",
       " 'E:\\\\Camera_Trapping\\\\Guzzler_data\\\\2023\\\\CameraTrap\\\\Ganga\\\\Ganga2\\\\7',\n",
       " 'E:\\\\Camera_Trapping\\\\Guzzler_data\\\\2023\\\\CameraTrap\\\\Ganga\\\\Ganga2\\\\8',\n",
       " 'E:\\\\Camera_Trapping\\\\Guzzler_data\\\\2023\\\\CameraTrap\\\\Ganga\\\\Ganga2\\\\9']"
      ]
     },
     "execution_count": 2,
     "metadata": {},
     "output_type": "execute_result"
    }
   ],
   "source": [
    "data_dir=r\"E:\\Camera_Trapping\\Guzzler_data\\2023\\CameraTrap\\Ganga\\Ganga2\"\n",
    "import os\n",
    "sub_directories=[os.path.join(data_dir, d) for d in os.listdir(data_dir) if os.path.isdir(os.path.join(data_dir, d))]\n",
    "if not sub_directories:\n",
    "    sub_directories= [data_dir]\n",
    "sub_directories"
   ]
  },
  {
   "cell_type": "code",
   "execution_count": 4,
   "id": "e9203f90-b50b-4b2b-a777-f7e263987ac6",
   "metadata": {},
   "outputs": [
    {
     "name": "stdout",
     "output_type": "stream",
     "text": [
      "Megadetector model\n",
      "Megadetector output file already exists.. Going for species classification\n",
      "Megadetector model\n",
      "Megadetector output file already exists.. Going for species classification\n",
      "Megadetector model\n",
      "Megadetector output file already exists.. Going for species classification\n",
      "Megadetector model\n",
      "Megadetector output file already exists.. Going for species classification\n",
      "Megadetector model\n",
      "Megadetector output file already exists.. Going for species classification\n",
      "Megadetector model\n",
      "Megadetector output file already exists.. Going for species classification\n",
      "Megadetector model\n",
      "Megadetector output file already exists.. Going for species classification\n",
      "Megadetector model\n",
      "Megadetector output file already exists.. Going for species classification\n",
      "Megadetector model\n",
      "Megadetector output file already exists.. Going for species classification\n",
      "Megadetector model\n",
      "D:\\WII_BRP\\In_situ\\Camera_trapping\\BRP_AniPredictor\\cameratraps\\detection\\run_detector_batch.py D:\\WII_BRP\\In_situ\\Camera_trapping\\BRP_AniPredictor\\md_v5a.0.0.pt E:\\Camera_Trapping\\Guzzler_data\\2023\\CameraTrap\\Ganga\\Ganga2\\9\\Ganga_Ganga2_9_megadetector.json\n"
     ]
    },
    {
     "name": "stderr",
     "output_type": "stream",
     "text": [
      "100%|████████████████████████████████████████████████████████████████████████████████| 100/100 [27:31<00:00, 16.52s/it]"
     ]
    },
    {
     "name": "stdout",
     "output_type": "stream",
     "text": [
      "Bounding Boxes Created\n"
     ]
    },
    {
     "name": "stderr",
     "output_type": "stream",
     "text": [
      "\n"
     ]
    }
   ],
   "source": [
    "for d in sub_directories:\n",
    "    log = {}\n",
    "    num_images = os.listdir(d)\n",
    "    gpu = tf.config.experimental.list_physical_devices('GPU')\n",
    "    log.update({\"Run Timestamp \" : str(datetime.now())})\n",
    "    log.update({\"Number of Images\" : len(num_images)})\n",
    "    log.update({\"GPU Available\" : torch.cuda.get_device_name()})\n",
    "    \n",
    "    start_time = time.time()\n",
    "    json_dir = megadetector(d)\n",
    "    end_time = time.time()\n",
    "    megadetector_time = str(timedelta(seconds=round(end_time - start_time)))\n",
    "    \n",
    "    log.update({\"Megadetector Time\" : megadetector_time})\n",
    "    log.update({\"Megadetector Filename\" : os.path.basename(json_dir)})\n",
    "\n",
    "    log_file_name = \"_\".join(d.split(\"\\\\\")[-3:])\n",
    "    log_file_path = os.path.join(d, f\"{log_file_name}_log.json\")\n",
    "    with open(log_file_path, \"w\") as f:\n",
    "        json.dump(log, f, indent=2)"
   ]
  },
  {
   "cell_type": "code",
   "execution_count": 4,
   "id": "a508801d-061d-4313-a7fd-1d66201bf466",
   "metadata": {},
   "outputs": [
    {
     "data": {
      "text/plain": [
       "'NVIDIA GeForce RTX 3060'"
      ]
     },
     "execution_count": 4,
     "metadata": {},
     "output_type": "execute_result"
    }
   ],
   "source": []
  },
  {
   "cell_type": "code",
   "execution_count": null,
   "id": "b700b7b4-b264-46ed-9696-100a6c609481",
   "metadata": {},
   "outputs": [],
   "source": []
  }
 ],
 "metadata": {
  "kernelspec": {
   "display_name": "Python 3 (ipykernel)",
   "language": "python",
   "name": "python3"
  },
  "language_info": {
   "codemirror_mode": {
    "name": "ipython",
    "version": 3
   },
   "file_extension": ".py",
   "mimetype": "text/x-python",
   "name": "python",
   "nbconvert_exporter": "python",
   "pygments_lexer": "ipython3",
   "version": "3.8.15"
  }
 },
 "nbformat": 4,
 "nbformat_minor": 5
}
