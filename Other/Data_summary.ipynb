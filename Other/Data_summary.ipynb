{
 "cells": [
  {
   "cell_type": "code",
   "execution_count": 1,
   "id": "b3c54d90-9b61-4bff-b3e2-36121bc4410b",
   "metadata": {},
   "outputs": [],
   "source": [
    "import pandas as pd\n",
    "import datetime"
   ]
  },
  {
   "cell_type": "code",
   "execution_count": 2,
   "id": "b12fbb2b-5d2b-4bab-8e0e-defe7845e9ae",
   "metadata": {},
   "outputs": [],
   "source": [
    "data = pd.read_json(r\"C:\\Users\\Hp\\Desktop\\\\predictions_compiled.json\")"
   ]
  },
  {
   "cell_type": "code",
   "execution_count": 3,
   "id": "20ad9e4a-498c-4e3f-b8f7-3001d7038541",
   "metadata": {},
   "outputs": [
    {
     "data": {
      "text/plain": [
       "Filename                      SudasariACD_A_20200321_173500(1)\n",
       "Detection_number                                             5\n",
       "Category                                                Animal\n",
       "Detection_Confidence                                     0.231\n",
       "Detection_bbox              [0.4003, 0.2708, 0.09765, 0.09635]\n",
       "Cropped_image_name      SudasariACD_A_20200321_173500(1)_5.jpg\n",
       "Order_pred                                               Human\n",
       "Order_pred_prob                                       0.979841\n",
       "Species_pred                                              None\n",
       "Species_pred_prob                                          NaN\n",
       "timestamp_IST                              2020-03-21 17:35:00\n",
       "Name: 1, dtype: object"
      ]
     },
     "execution_count": 3,
     "metadata": {},
     "output_type": "execute_result"
    }
   ],
   "source": [
    "data.iloc[1]"
   ]
  },
  {
   "cell_type": "code",
   "execution_count": 4,
   "id": "24c2b143-7774-4ead-9a6e-0cf55aac4c7b",
   "metadata": {},
   "outputs": [],
   "source": [
    "data[\"Enclosure\"] = data[\"Filename\"].apply(lambda x: x.split(\"_\")[0])\n",
    "data[\"Guzzler\"] = data[\"Filename\"].apply(lambda x: x.split(\"_\")[1])\n",
    "data[\"Year\"] = data[\"timestamp_IST\"].apply(lambda x: x.year)\n",
    "data[\"Month\"] = data[\"timestamp_IST\"].apply(lambda x: x.month)"
   ]
  },
  {
   "cell_type": "code",
   "execution_count": 18,
   "id": "5df8f3f3-1aef-423e-8d08-1989263b09f9",
   "metadata": {},
   "outputs": [],
   "source": [
    "summary = data.groupby(['Enclosure', 'Guzzler','Year','Month','Order_pred']).Filename.count()"
   ]
  },
  {
   "cell_type": "code",
   "execution_count": 19,
   "id": "6bb5f720-44b8-4517-a225-8a116e370916",
   "metadata": {},
   "outputs": [
    {
     "data": {
      "text/plain": [
       "Enclosure    Guzzler  Year  Month  Order_pred     \n",
       "SudasariACD  A        2020  3      Hare                   3\n",
       "                                   Human                  4\n",
       "                                   Others               136\n",
       "                                   Raptor                94\n",
       "                                   Small Bird           174\n",
       "                                   Small Carnivore       74\n",
       "                                   Ungulate            1830\n",
       "                                   Vehicle                1\n",
       "                                   Wild Pig              34\n",
       "                            5      GIB                   14\n",
       "                                   Goat_Sheep             6\n",
       "                                   Hare                1151\n",
       "                                   Human                  2\n",
       "                                   Others              6080\n",
       "                                   Raptor             21250\n",
       "                                   Small Bird          8558\n",
       "                                   Small Carnivore     2282\n",
       "                                   Ungulate           15306\n",
       "                                   Vehicle             4405\n",
       "                                   Wild Pig            2384\n",
       "                            6      GIB                    1\n",
       "                                   Hare                 248\n",
       "                                   Others               328\n",
       "                                   Raptor               381\n",
       "                                   Small Bird          1510\n",
       "                                   Small Carnivore      394\n",
       "                                   Ungulate            1733\n",
       "                                   Vehicle                3\n",
       "                                   Wild Pig              88\n",
       "             C1       2020  5      GIB                  649\n",
       "                                   Goat_Sheep           276\n",
       "                                   Hare                  40\n",
       "                                   Human                332\n",
       "                                   Others              2163\n",
       "                                   Raptor              3534\n",
       "                                   Small Bird           759\n",
       "                                   Small Carnivore      357\n",
       "                                   Ungulate           17239\n",
       "                                   Vehicle               96\n",
       "                                   Wild Pig            1338\n",
       "                            6      GIB                  475\n",
       "                                   Goat_Sheep             3\n",
       "                                   Hare                  20\n",
       "                                   Human                227\n",
       "                                   Others               575\n",
       "                                   Raptor               301\n",
       "                                   Small Bird           301\n",
       "                                   Small Carnivore       60\n",
       "                                   Ungulate            5750\n",
       "                                   Wild Pig             147\n",
       "Name: Filename, dtype: int64"
      ]
     },
     "execution_count": 19,
     "metadata": {},
     "output_type": "execute_result"
    }
   ],
   "source": [
    "summary.head(50)"
   ]
  }
 ],
 "metadata": {
  "kernelspec": {
   "display_name": "Python 3 (ipykernel)",
   "language": "python",
   "name": "python3"
  },
  "language_info": {
   "codemirror_mode": {
    "name": "ipython",
    "version": 3
   },
   "file_extension": ".py",
   "mimetype": "text/x-python",
   "name": "python",
   "nbconvert_exporter": "python",
   "pygments_lexer": "ipython3",
   "version": "3.8.15"
  }
 },
 "nbformat": 4,
 "nbformat_minor": 5
}
