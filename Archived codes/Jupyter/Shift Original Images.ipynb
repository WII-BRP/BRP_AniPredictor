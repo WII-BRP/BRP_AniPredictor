{
 "cells": [
  {
   "cell_type": "code",
   "execution_count": 5,
   "id": "d2998bb3-66c7-4a26-b024-2cea987e4e90",
   "metadata": {},
   "outputs": [],
   "source": [
    "from functions import *\n",
    "import torch\n",
    "from tqdm.notebook import tqdm\n",
    "import gc\n",
    "\n",
    "camera_folder = r\"I:\\CameraTraps\\Guzzler_data\\2017\\SudasariB\\B1\"\n",
    "df_dirs = []\n",
    "sub_dirs = os.listdir(camera_folder)\n",
    "for dir in sub_dirs:\n",
    "    dir_path = os.path.join(camera_folder, dir)\n",
    "    df_dir = os.path.join(dir_path, \"predictions.csv\")\n",
    "    if os.path.exists(df_dir):\n",
    "        df_dirs.append(df_dir)\n",
    "        \n",
    "# df_dir = r\"E:\\Camera_trapping\\Guzzler_data\\2023\\CameraTrap\\Gajaimata\\Gajaimata1\\1\\predictions.csv\"\n",
    "# df = pd.read_csv(df_dir)\n",
    "# df.head()"
   ]
  },
  {
   "cell_type": "code",
   "execution_count": null,
   "id": "a5a625bc-d2f6-476f-bce6-bbdba4f7cccd",
   "metadata": {
    "scrolled": true
   },
   "outputs": [],
   "source": []
  },
  {
   "cell_type": "code",
   "execution_count": 6,
   "id": "2e724049-1869-47c5-afa7-3ef30c7f840e",
   "metadata": {},
   "outputs": [],
   "source": [
    "#New, working, rectified\n",
    "animal_list = [\"GIB\"]\n",
    "for df_dir in df_dirs:\n",
    "    # count = 0\n",
    "    parent_path = os.path.dirname(df_dir)\n",
    "    for animal in animal_list:\n",
    "        new_animal_folder = os.path.join(parent_path, animal)\n",
    "        if not os.path.exists(new_animal_folder):\n",
    "            os.makedirs(new_animal_folder)\n",
    "        cropped_animal_dir = os.path.join(parent_path, \"Cropped_images\", animal)\n",
    "        if os.path.exists(cropped_animal_dir):\n",
    "            images = os.listdir(cropped_animal_dir)\n",
    "            for image in images:\n",
    "                image_name = \"_\".join(image.split(\"_\")[:-1])\n",
    "                img_path = os.path.join(parent_path, f\"{image_name}.jpg\")\n",
    "                new_img_path = os.path.join(new_animal_folder, f\"{image_name}.jpg\")\n",
    "                # print(img_path, new_img_path)\n",
    "                if os.path.exists(img_path):\n",
    "                    print(img_path, new_img_path)\n",
    "                    # count += 1\n",
    "                    if not os.path.exists(new_img_path):\n",
    "                        shutil.copy(src=img_path,\n",
    "                                    dst=new_img_path)\n",
    "                    # print(img_path, new_img_path)\n",
    "                    continue\n",
    "                else:\n",
    "                    print(f\"IMG NOT FOUND - {img_path}\")"
   ]
  },
  {
   "cell_type": "code",
   "execution_count": null,
   "id": "f6b430ae-a897-4f7b-936e-50db9328025a",
   "metadata": {},
   "outputs": [],
   "source": []
  },
  {
   "cell_type": "code",
   "execution_count": null,
   "id": "85a04023-ade4-40c6-9c17-eadfff06399b",
   "metadata": {},
   "outputs": [],
   "source": []
  },
  {
   "cell_type": "code",
   "execution_count": null,
   "id": "4bd50fc2-bacc-4cf4-940b-47399c95890a",
   "metadata": {},
   "outputs": [],
   "source": []
  },
  {
   "cell_type": "code",
   "execution_count": 88,
   "id": "e6b8c501-8dff-4b20-90b8-e7b9561758e1",
   "metadata": {},
   "outputs": [
    {
     "name": "stdout",
     "output_type": "stream",
     "text": [
      "10597\n"
     ]
    }
   ],
   "source": [
    "#### Move cropped images\n",
    "\n",
    "from functions import *\n",
    "import torch\n",
    "from tqdm.notebook import tqdm\n",
    "import gc\n",
    "\n",
    "camera_folder = r\"G:\\Guzzler_data\\2023_sorted\\CameraTrap\\PPC\\PPC1\"\n",
    "dest_folder = r\"G:\\Raptor_photos\"\n",
    "sub_dirs = []\n",
    "for dirpath, dirnames, filenames in os.walk(camera_folder):\n",
    "    sub_dirs.append(dirpath)\n",
    "\n",
    "folders_to_copy =[]\n",
    "for f in sub_dirs:\n",
    "    if (\"\\\\\").join(f.split(\"\\\\\")[-2:]) == \"Cropped_images\\\\Raptor\":\n",
    "        folders_to_copy.append(f)\n",
    "files_to_copy = []\n",
    "for f in folders_to_copy:\n",
    "    file_names = os.listdir(f)\n",
    "    for fn in file_names:\n",
    "        file= os.path.join(f,fn)\n",
    "        files_to_copy.append(file)\n",
    "print(len(files_to_copy))\n",
    "\n",
    "for f in files_to_copy:\n",
    "    shutil.copy(f, dest_folder)"
   ]
  },
  {
   "cell_type": "code",
   "execution_count": 90,
   "id": "4f96cb68-1c5b-4924-8bbe-38ea8ff588d8",
   "metadata": {},
   "outputs": [
    {
     "name": "stdout",
     "output_type": "stream",
     "text": [
      "5545\n"
     ]
    }
   ],
   "source": [
    "#### Move cropped images\n",
    "\n",
    "from functions import *\n",
    "import torch\n",
    "from tqdm.notebook import tqdm\n",
    "import gc\n",
    "\n",
    "camera_folder = r\"G:\\Guzzler_data\\2023_sorted\\CameraTrap\\NewGajaimata\\NewGajaimata1\"\n",
    "dest_folder = r\"G:\\Raptor_photos\"\n",
    "sub_dirs = []\n",
    "for dirpath, dirnames, filenames in os.walk(camera_folder):\n",
    "    sub_dirs.append(dirpath)\n",
    "\n",
    "folders_to_copy =[]\n",
    "for f in sub_dirs:\n",
    "    if (\"\\\\\").join(f.split(\"\\\\\")[-2:]) == \"Cropped_images\\\\Raptor\":\n",
    "        folders_to_copy.append(f)\n",
    "files_to_copy = []\n",
    "for f in folders_to_copy:\n",
    "    file_names = os.listdir(f)\n",
    "    for fn in file_names:\n",
    "        file= os.path.join(f,fn)\n",
    "        files_to_copy.append(file)\n",
    "print(len(files_to_copy))\n",
    "\n",
    "for f in files_to_copy:\n",
    "    shutil.copy(f, dest_folder)"
   ]
  }
 ],
 "metadata": {
  "kernelspec": {
   "display_name": "Python [conda env:cameratraps-env] *",
   "language": "python",
   "name": "conda-env-cameratraps-env-py"
  },
  "language_info": {
   "codemirror_mode": {
    "name": "ipython",
    "version": 3
   },
   "file_extension": ".py",
   "mimetype": "text/x-python",
   "name": "python",
   "nbconvert_exporter": "python",
   "pygments_lexer": "ipython3",
   "version": "3.8.15"
  }
 },
 "nbformat": 4,
 "nbformat_minor": 5
}
