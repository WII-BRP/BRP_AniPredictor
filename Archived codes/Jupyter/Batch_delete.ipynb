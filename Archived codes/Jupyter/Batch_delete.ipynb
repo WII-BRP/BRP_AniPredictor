{
 "cells": [
  {
   "cell_type": "code",
   "execution_count": 1,
   "id": "94430655-300e-44bf-95a5-aa0743317884",
   "metadata": {},
   "outputs": [],
   "source": [
    "import datetime\n",
    "import pandas as pd\n",
    "import exifread\n",
    "import os\n",
    "from datetime import timedelta\n",
    "import shutil\n",
    "import concurrent\n",
    "import math\n",
    "import pyfastcopy\n",
    "import gc\n",
    "from tqdm import tqdm\n",
    "\n",
    "def list_files_in_directory(directory):\n",
    "    file_paths = []\n",
    "\n",
    "    for root, dirs, files in os.walk(directory):\n",
    "        for file in files:\n",
    "            if file.lower().endswith(('.jpg', '.jpeg','.csv','.json')):\n",
    "                file_path = os.path.join(root, file)\n",
    "                file_paths.append(file_path)\n",
    "            else:\n",
    "                continue\n",
    "    return file_paths\n",
    "\n",
    "def delete_images_batch(src_list, batch_size=512):\n",
    "    src_files = src_list\n",
    "    with concurrent.futures.ProcessPoolExecutor() as exe:\n",
    "        batch_tasks = []\n",
    "        for i in tqdm(range(0, len(src_files), batch_size)):\n",
    "            src_batch = src_files[i:i + batch_size]\n",
    "            batch_tasks.extend([exe.submit(os.remove, src) for src in src_batch])\n",
    "            # Wait for all tasks in the batch to complete\n",
    "            _ = [task.result() for task in batch_tasks]\n",
    "            gc.collect()\n",
    "    return"
   ]
  },
  {
   "cell_type": "code",
   "execution_count": 2,
   "id": "a75a2158-7c26-46db-9058-2f88d46e3e38",
   "metadata": {},
   "outputs": [],
   "source": [
    "files = list_files_in_directory(r\"G:\\Guzzler_data\\Guzzler data_copy\\Ganga\\ganga 1\")"
   ]
  },
  {
   "cell_type": "code",
   "execution_count": null,
   "id": "deb872c5-c265-4f8c-8fee-543b8fce8ee0",
   "metadata": {},
   "outputs": [
    {
     "name": "stderr",
     "output_type": "stream",
     "text": [
      " 21%|████████████████▉                                                                | 37/177 [06:02<23:28, 10.06s/it]"
     ]
    }
   ],
   "source": [
    "delete_images_batch(files)"
   ]
  }
 ],
 "metadata": {
  "kernelspec": {
   "display_name": "Python 3 (ipykernel)",
   "language": "python",
   "name": "python3"
  },
  "language_info": {
   "codemirror_mode": {
    "name": "ipython",
    "version": 3
   },
   "file_extension": ".py",
   "mimetype": "text/x-python",
   "name": "python",
   "nbconvert_exporter": "python",
   "pygments_lexer": "ipython3",
   "version": "3.8.15"
  }
 },
 "nbformat": 4,
 "nbformat_minor": 5
}
