{
 "cells": [
  {
   "cell_type": "code",
   "execution_count": 1,
   "id": "edfdc557-3352-4e01-a7bf-0f530ca108d3",
   "metadata": {},
   "outputs": [],
   "source": [
    "import pyfastcopy\n",
    "import os\n",
    "import shutil\n",
    "import gc\n",
    "import pandas as pd\n",
    "import concurrent.futures\n",
    "from tqdm import tqdm\n",
    "\n",
    "def copy_images_batch(src_list, dest_list, batch_size=512):\n",
    "    src_files=src_list\n",
    "    dest_files=dest_list    \n",
    "    with concurrent.futures.ThreadPoolExecutor() as exe:\n",
    "        batch_tasks = []\n",
    "        for i in tqdm(range(0, len(src_files), batch_size)):\n",
    "            src_batch = src_files[i:i + batch_size]\n",
    "            dest_batch = dest_files[i:i + batch_size]\n",
    "            batch_tasks.extend([exe.submit(shutil.copy, src, dest) for src, dest in zip(src_batch, dest_batch)])\n",
    "            # Wait for all tasks in the batch to complete before proceeding to the next batch\n",
    "            _ = [task.result() for task in batch_tasks]\n",
    "    return\n",
    "\n",
    "def list_files_in_directory(directory):\n",
    "    file_paths = []\n",
    "    for root, dirs, files in os.walk(directory):\n",
    "        for file in files:\n",
    "            if file.lower().endswith(('.jpg', '.jpeg','.json','.csv')):\n",
    "                file_path = os.path.join(root, file)\n",
    "                file_paths.append(file_path)\n",
    "            else:\n",
    "                continue\n",
    "    return file_paths"
   ]
  },
  {
   "cell_type": "code",
   "execution_count": 2,
   "id": "9d2f8f93-44e1-48f7-af02-d94bf41e9cf3",
   "metadata": {},
   "outputs": [],
   "source": [
    "source_dir = r\"D:\\Camera_trapping\\Guzzler_data\\2023\\CameraTrap\\Ganga\\Ganga1\"\n",
    "dest_dir = r\"G:\\Guzzler_data\\2023\\Segregated_guzzler_data2023\\Ganga\\Ganga1\""
   ]
  },
  {
   "cell_type": "code",
   "execution_count": 3,
   "id": "440c2c3b-8f18-4976-b2df-a9f8fa82239a",
   "metadata": {},
   "outputs": [
    {
     "data": {
      "text/plain": [
       "['D:\\\\Camera_trapping\\\\Guzzler_data\\\\2023\\\\CameraTrap\\\\Ganga\\\\Ganga1\\\\1',\n",
       " 'D:\\\\Camera_trapping\\\\Guzzler_data\\\\2023\\\\CameraTrap\\\\Ganga\\\\Ganga1\\\\2',\n",
       " 'D:\\\\Camera_trapping\\\\Guzzler_data\\\\2023\\\\CameraTrap\\\\Ganga\\\\Ganga1\\\\3',\n",
       " 'D:\\\\Camera_trapping\\\\Guzzler_data\\\\2023\\\\CameraTrap\\\\Ganga\\\\Ganga1\\\\4',\n",
       " 'D:\\\\Camera_trapping\\\\Guzzler_data\\\\2023\\\\CameraTrap\\\\Ganga\\\\Ganga1\\\\5',\n",
       " 'D:\\\\Camera_trapping\\\\Guzzler_data\\\\2023\\\\CameraTrap\\\\Ganga\\\\Ganga1\\\\6',\n",
       " 'D:\\\\Camera_trapping\\\\Guzzler_data\\\\2023\\\\CameraTrap\\\\Ganga\\\\Ganga1\\\\7',\n",
       " 'D:\\\\Camera_trapping\\\\Guzzler_data\\\\2023\\\\CameraTrap\\\\Ganga\\\\Ganga1\\\\8',\n",
       " 'D:\\\\Camera_trapping\\\\Guzzler_data\\\\2023\\\\CameraTrap\\\\Ganga\\\\Ganga1\\\\9']"
      ]
     },
     "execution_count": 3,
     "metadata": {},
     "output_type": "execute_result"
    }
   ],
   "source": [
    "sub_directories=[os.path.join(source_dir, d) for d in os.listdir(source_dir) if os.path.isdir(os.path.join(source_dir, d))]\n",
    "if not sub_directories:\n",
    "    sub_directories= [source_dir]\n",
    "sub_directories"
   ]
  },
  {
   "cell_type": "code",
   "execution_count": 4,
   "id": "21e0e2ef-a8f6-42d0-a51b-71cf79d4d0d3",
   "metadata": {},
   "outputs": [
    {
     "ename": "FileNotFoundError",
     "evalue": "[WinError 3] The system cannot find the path specified: 'J:\\\\Camera_Trapping\\\\Guzzler_data\\\\2023\\\\CameraTrap\\\\SudasariACD\\\\C2'",
     "output_type": "error",
     "traceback": [
      "\u001b[1;31m---------------------------------------------------------------------------\u001b[0m",
      "\u001b[1;31mFileNotFoundError\u001b[0m                         Traceback (most recent call last)",
      "Cell \u001b[1;32mIn[4], line 3\u001b[0m\n\u001b[0;32m      1\u001b[0m \u001b[38;5;66;03m### New\u001b[39;00m\n\u001b[0;32m      2\u001b[0m source_dir \u001b[38;5;241m=\u001b[39m \u001b[38;5;124mr\u001b[39m\u001b[38;5;124m\"\u001b[39m\u001b[38;5;124mJ:\u001b[39m\u001b[38;5;124m\\\u001b[39m\u001b[38;5;124mCamera_Trapping\u001b[39m\u001b[38;5;124m\\\u001b[39m\u001b[38;5;124mGuzzler_data\u001b[39m\u001b[38;5;124m\\\u001b[39m\u001b[38;5;124m2023\u001b[39m\u001b[38;5;124m\\\u001b[39m\u001b[38;5;124mCameraTrap\u001b[39m\u001b[38;5;124m\\\u001b[39m\u001b[38;5;124mSudasariACD\u001b[39m\u001b[38;5;124m\\\u001b[39m\u001b[38;5;124mC2\u001b[39m\u001b[38;5;124m\"\u001b[39m\n\u001b[1;32m----> 3\u001b[0m sub_directories\u001b[38;5;241m=\u001b[39m[os\u001b[38;5;241m.\u001b[39mpath\u001b[38;5;241m.\u001b[39mjoin(source_dir, d) \u001b[38;5;28;01mfor\u001b[39;00m d \u001b[38;5;129;01min\u001b[39;00m \u001b[43mos\u001b[49m\u001b[38;5;241;43m.\u001b[39;49m\u001b[43mlistdir\u001b[49m\u001b[43m(\u001b[49m\u001b[43msource_dir\u001b[49m\u001b[43m)\u001b[49m \u001b[38;5;28;01mif\u001b[39;00m os\u001b[38;5;241m.\u001b[39mpath\u001b[38;5;241m.\u001b[39misdir(os\u001b[38;5;241m.\u001b[39mpath\u001b[38;5;241m.\u001b[39mjoin(source_dir, d))]\n\u001b[0;32m      4\u001b[0m \u001b[38;5;28;01mif\u001b[39;00m \u001b[38;5;129;01mnot\u001b[39;00m sub_directories:\n\u001b[0;32m      5\u001b[0m     sub_directories\u001b[38;5;241m=\u001b[39m [source_dir]\n",
      "\u001b[1;31mFileNotFoundError\u001b[0m: [WinError 3] The system cannot find the path specified: 'J:\\\\Camera_Trapping\\\\Guzzler_data\\\\2023\\\\CameraTrap\\\\SudasariACD\\\\C2'"
     ]
    }
   ],
   "source": [
    "### New\n",
    "source_dir = r\"J:\\Camera_Trapping\\Guzzler_data\\2023\\CameraTrap\\SudasariACD\\C2\"\n",
    "sub_directories=[os.path.join(source_dir, d) for d in os.listdir(source_dir) if os.path.isdir(os.path.join(source_dir, d))]\n",
    "if not sub_directories:\n",
    "    sub_directories= [source_dir]\n",
    "print(sub_directories)\n",
    "\n",
    "for dir in sub_directories:\n",
    "    dest_folder = os.path.join(dest_dir,\"\\\\\".join(dir.split(\"\\\\\")[-3:]))\n",
    "    if not os.path.isdir(dest_folder):\n",
    "        os.makedirs(dest_folder, exist_ok = True)\n",
    "        df=pd.DataFrame({\"src_list\" : list_files_in_directory(dir)})\n",
    "        df[\"dest_list\"] = dest_dir + \"\\\\\" + df[\"src_list\"].apply(lambda x: \"\\\\\".join(x.split(\"\\\\\")[-4: ]))\n",
    "        copy_images_batch(df['src_list'],df['dest_list'], batch_size=512)\n",
    "        gc.collect()\n",
    "    elif len(os.listdir(dest_folder)) < len(os.listdir(dir)):\n",
    "        df=pd.DataFrame({\"src_list\" : list_files_in_directory(dir)})\n",
    "        df[\"dest_list\"] = dest_dir + \"\\\\\" + df[\"src_list\"].apply(lambda x: \"\\\\\".join(x.split(\"\\\\\")[-4: ]))\n",
    "        copy_images_batch(df['src_list'],df['dest_list'], batch_size=512)\n",
    "        gc.collect()\n",
    "    else:\n",
    "        print(f\"{dest_folder} already exists and is not being copied\")"
   ]
  }
 ],
 "metadata": {
  "kernelspec": {
   "display_name": "Python 3 (ipykernel)",
   "language": "python",
   "name": "python3"
  },
  "language_info": {
   "codemirror_mode": {
    "name": "ipython",
    "version": 3
   },
   "file_extension": ".py",
   "mimetype": "text/x-python",
   "name": "python",
   "nbconvert_exporter": "python",
   "pygments_lexer": "ipython3",
   "version": "3.8.15"
  }
 },
 "nbformat": 4,
 "nbformat_minor": 5
}
